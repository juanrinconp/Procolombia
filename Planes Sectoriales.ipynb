{
 "cells": [
  {
   "cell_type": "markdown",
   "id": "e597cdbd",
   "metadata": {},
   "source": [
    "# Planes Sectoriales"
   ]
  },
  {
   "cell_type": "code",
   "execution_count": 312,
   "id": "c70768be",
   "metadata": {},
   "outputs": [],
   "source": [
    "import pandas as pd \n",
    "import numpy as np \n",
    "import os \n",
    "\n",
    "pathout = './data/'\n",
    "if not os.path.exists(pathout):\n",
    "    os.mkdir(pathout) \n",
    " "
   ]
  },
  {
   "cell_type": "code",
   "execution_count": 313,
   "id": "43d89ebc",
   "metadata": {},
   "outputs": [],
   "source": [
    "base_dane = pd.read_excel(pathout + 'base_dane_2.xlsx')\n"
   ]
  },
  {
   "cell_type": "code",
   "execution_count": 314,
   "id": "20494c55",
   "metadata": {},
   "outputs": [],
   "source": [
    "planes_sectoriales = pd.read_excel(pathout + 'Planes_Sectoriales_2.xlsx')\n"
   ]
  },
  {
   "cell_type": "code",
   "execution_count": 315,
   "id": "bda5fdb5",
   "metadata": {},
   "outputs": [],
   "source": [
    "Negocios = pd.read_excel(pathout + 'Negocios.xlsx')"
   ]
  },
  {
   "cell_type": "code",
   "execution_count": 316,
   "id": "2a1a93c3",
   "metadata": {},
   "outputs": [],
   "source": [
    "Quienes = pd.read_excel(pathout + 'Quienes.xlsx')"
   ]
  },
  {
   "cell_type": "code",
   "execution_count": 317,
   "id": "ce324409",
   "metadata": {},
   "outputs": [],
   "source": [
    "#list(planes_sectoriales)\n",
    "##list(dict.fromkeys(Negocios['Logro: Oficina Comercial']))\n"
   ]
  },
  {
   "cell_type": "code",
   "execution_count": 318,
   "id": "e8001b6d",
   "metadata": {},
   "outputs": [],
   "source": [
    "\n",
    "base_dane.loc[base_dane['Zona Geografica'] == 'Zonas Francas Colombia', 'País'] = 'Zona Franca'\n"
   ]
  },
  {
   "cell_type": "code",
   "execution_count": 319,
   "id": "0a786a76",
   "metadata": {},
   "outputs": [],
   "source": [
    "Quienes.loc[Quienes['País'] == 'Corea (Sur) Rep de', 'País'] = 'Corea (Norte) Reppopdem de'\n",
    "\n",
    "Negocios.loc[Negocios['Logro: Mercado'] == 'Corea (Norte) Reppopdem de', 'Logro: Mercado'] = 'Corea (Norte) Reppopdem de'\n",
    "Negocios.loc[Negocios['Logro: Mercado'] == 'Laos Rep Pop Democrática de', 'Logro: Mercado'] = 'Laos Rep Pop Democrática de'\n",
    "Negocios.loc[Negocios['Logro: Mercado'] == 'Malasia', 'Logro: Mercado'] = 'Malaysia'\n",
    "Negocios.loc[Negocios['Logro: Mercado'] == 'República del Congo', 'Logro: Mercado'] = 'República del Congo'\n",
    "\n",
    "planes_sectoriales.loc[planes_sectoriales['Mercado'] == 'Corea (Norte) Reppopm ', 'Mercado'] = 'Corea (Norte) Reppopdem de'\n",
    "planes_sectoriales.loc[planes_sectoriales['Mercado'] == 'Laos Rep Pop democrática de', 'Mercado'] = 'Laos Rep Pop Democrática de'\n",
    "planes_sectoriales.loc[planes_sectoriales['Mercado'] == 'Malasia', 'Mercado'] = 'Malaysia'\n",
    "planes_sectoriales.loc[planes_sectoriales['Mercado'] == 'República del Congo', 'Mercado'] = 'República del Congo'\n",
    "planes_sectoriales.loc[planes_sectoriales['Mercado'] == 'República democratica del Congo', 'Mercado'] = 'República del Congo'"
   ]
  },
  {
   "cell_type": "code",
   "execution_count": 320,
   "id": "e15e8d07",
   "metadata": {},
   "outputs": [],
   "source": [
    "var1 = '2020 USD'\n",
    "var2 = '2020 USD (Ene-Dic)'\n",
    "var3 = '2021 USD'\n",
    "\n",
    "fecha2 ='2020-12-31'\n",
    "fecha3 ='2021-12-31'\n",
    "\n",
    "monto1 = 'Monto ' + var1 \n",
    "monto2 = 'Monto ' + var2 \n",
    "monto3 = 'Monto ' + var3 \n",
    "\n",
    "numero1 = 'Numero de Empresas ' + var1 \n",
    "numero2 = 'Numero de Empresas ' + var2 \n",
    "numero3 = 'Numero de Empresas ' + var3 \n",
    "\n",
    "eind1 = 'Exportaciónes Indirectas ' + var1 \n",
    "eind2 = 'Exportaciónes Indirectas ' + var2 \n",
    "eind3 = 'Exportaciónes Indirectas ' + var3\n",
    "\n",
    "Q1 = 'Exportaciónes Quienes ' + var1 \n",
    "Q2 = 'Exportaciónes Quienes ' + var2 \n",
    "Q3 = 'Exportaciónes Quienes ' + var3\n",
    "\n",
    "QP1 ='Exportaciónes Quienes Procolombia ' + var1 \n",
    "QP2 ='Exportaciónes Quienes Procolombia ' + var2 \n",
    "QP3 ='Exportaciónes Quienes Procolombia ' + var3"
   ]
  },
  {
   "cell_type": "code",
   "execution_count": 321,
   "id": "eb77f6c7",
   "metadata": {},
   "outputs": [],
   "source": [
    "base_dane.loc[base_dane['Zona Geografica'] == 'Caribe', 'Pais Destino'] = 'Caribe'\n",
    "base_dane.loc[base_dane['Pais Destino'] == 'Dinamarca', 'Pais Destino'] = 'Nórdicos'\n",
    "base_dane.loc[base_dane['Pais Destino'] == 'Noruega', 'Pais Destino'] = 'Nórdicos'\n",
    "base_dane.loc[base_dane['Pais Destino'] == 'Finlandia', 'Pais Destino'] = 'Nórdicos'\n",
    "base_dane.loc[base_dane['Pais Destino'] == 'Islandia', 'Pais Destino'] = 'Nórdicos'\n",
    "base_dane.loc[base_dane['Pais Destino'] == 'Suecia', 'Pais Destino'] = 'Nórdicos'\n",
    "base_dane['Nit9'] = base_dane['Nit Exportador'].str[:9]\n",
    "\n",
    "\n",
    "Negocios.loc[Negocios['Logro: Oficina Comercial'] == 'Caribe', 'Logro: Mercado'] = 'Caribe'\n",
    "Negocios.loc[Negocios['Logro: Mercado'] == 'Dinamarca', 'Logro: Mercado'] = 'Nórdicos'\n",
    "Negocios.loc[Negocios['Logro: Mercado'] == 'Noruega', 'Logro: Mercado'] = 'Nórdicos'\n",
    "Negocios.loc[Negocios['Logro: Mercado'] == 'Finlandia', 'Logro: Mercado'] = 'Nórdicos'\n",
    "Negocios.loc[Negocios['Logro: Mercado'] == 'Islandia', 'Logro: Mercado'] = 'Nórdicos'\n",
    "Negocios.loc[Negocios['Logro: Mercado'] == 'Suecia', 'Logro: Mercado'] = 'Nórdicos'\n",
    "\n",
    "Negocios.loc[Negocios['Logro: Sector'] == 'Dotación hospitalaria', 'Logro: Sector'] = 'Dotación Hospitalaria'\n",
    "Negocios.loc[Negocios['Logro: Sector'] == 'Envases/empaques', 'Logro: Sector'] = 'Envases/Empaques'\n",
    "Negocios.loc[Negocios['Logro: Sector'] == 'Textiles y Confecciones', 'Logro: Sector'] = 'Textiles y confecciones'\n",
    "Negocios.loc[Negocios['Logro: Sector'] == 'Joyeria y Bisuteria', 'Logro: Sector'] = 'Joyería y bisutería'\n"
   ]
  },
  {
   "cell_type": "code",
   "execution_count": 322,
   "id": "59b8d9f9",
   "metadata": {},
   "outputs": [],
   "source": [
    "expdane0 =base_dane.groupby(['Pais Destino' , 'Subsector'])[var1].sum().reset_index()\n",
    "expdane1 =base_dane.groupby(['Pais Destino' , 'Subsector'])[var2].sum().reset_index()\n",
    "expdane2 =base_dane.groupby(['Pais Destino' , 'Subsector'])[var3].sum().reset_index()\n"
   ]
  },
  {
   "cell_type": "markdown",
   "id": "9ab7fb80",
   "metadata": {},
   "source": [
    "## Monto de exportación"
   ]
  },
  {
   "cell_type": "code",
   "execution_count": 323,
   "id": "5841fd9c",
   "metadata": {
    "scrolled": true
   },
   "outputs": [],
   "source": [
    "df = planes_sectoriales.merge(expdane0, how='left', left_on=['Mercado' , 'Subsector '],\n",
    "                      right_on=['Pais Destino' , 'Subsector']).fillna(0)\n",
    "df = df.drop(columns=['Pais Destino' , 'Subsector'])\n",
    "\n",
    "df = df.merge(expdane1, how='left', left_on=['Mercado' , 'Subsector '],\n",
    "                      right_on=['Pais Destino' , 'Subsector']).fillna(0)\n",
    "df = df.drop(columns=['Pais Destino' , 'Subsector'])\n",
    "\n",
    "df = df.merge(expdane2, how='left', left_on=['Mercado' , 'Subsector '],\n",
    "                      right_on=['Pais Destino' , 'Subsector']).fillna(0)\n",
    "df = df.drop(columns=['Pais Destino' , 'Subsector'])\n",
    "\n",
    "df.rename(columns={var1: monto1 , var2: monto2 ,\n",
    "                   var3:monto3}, inplace=True)\n",
    "\n"
   ]
  },
  {
   "cell_type": "markdown",
   "id": "186688fd",
   "metadata": {},
   "source": [
    "## Número de empresas"
   ]
  },
  {
   "cell_type": "code",
   "execution_count": 324,
   "id": "8f398540",
   "metadata": {},
   "outputs": [],
   "source": [
    "base_dane0 = base_dane.drop(base_dane[base_dane[var1] < 1].index)\n",
    "numdane0 =base_dane0.groupby(['Nit Exportador','Pais Destino' , 'Subsector'])[var1].count().reset_index()\n",
    "numdane00 =numdane0.groupby(['Pais Destino' , 'Subsector'])[var1].count().reset_index()\n",
    "\n",
    "base_dane1 = base_dane.drop(base_dane[base_dane[var2] < 1].index)\n",
    "numdane1 =base_dane1.groupby(['Nit Exportador','Pais Destino' , 'Subsector'])[var2].count().reset_index()\n",
    "numdane11 =numdane1.groupby(['Pais Destino' , 'Subsector'])[var2].count().reset_index()\n",
    "\n",
    "base_dane2 = base_dane.drop(base_dane[base_dane[var3] < 1].index)\n",
    "numdane2 =base_dane2.groupby(['Nit Exportador','Pais Destino' , 'Subsector'])[var3].count().reset_index()\n",
    "numdane22 =numdane2.groupby(['Pais Destino' , 'Subsector'])[var3].count().reset_index()\n"
   ]
  },
  {
   "cell_type": "code",
   "execution_count": 325,
   "id": "d1385e85",
   "metadata": {},
   "outputs": [],
   "source": [
    "df = df.merge(numdane00, how='left', left_on=['Mercado' , 'Subsector '],\n",
    "                      right_on=['Pais Destino' , 'Subsector']).fillna(0)\n",
    "df = df.drop(columns=['Pais Destino' , 'Subsector'])\n",
    "\n",
    "df = df.merge(numdane11, how='left', left_on=['Mercado' , 'Subsector '],\n",
    "                      right_on=['Pais Destino' , 'Subsector']).fillna(0)\n",
    "df = df.drop(columns=['Pais Destino' , 'Subsector'])\n",
    "\n",
    "df = df.merge(numdane22, how='left', left_on=['Mercado' , 'Subsector '],\n",
    "                      right_on=['Pais Destino' , 'Subsector']).fillna(0)\n",
    "df = df.drop(columns=['Pais Destino' , 'Subsector'])\n",
    "\n",
    "df.rename(columns={var1: numero1 , var2: numero2 ,\n",
    "                   var3:numero3}, inplace=True)"
   ]
  },
  {
   "cell_type": "code",
   "execution_count": 326,
   "id": "2ddb2ab3",
   "metadata": {},
   "outputs": [],
   "source": [
    "#df.sort_values(by=['Subsector '])"
   ]
  },
  {
   "cell_type": "markdown",
   "id": "c8a995f4",
   "metadata": {},
   "source": [
    "## Exportaciones Indirectas"
   ]
  },
  {
   "cell_type": "markdown",
   "id": "eeec470f",
   "metadata": {},
   "source": [
    "### 2020"
   ]
  },
  {
   "cell_type": "code",
   "execution_count": 327,
   "id": "ba1f0d4b",
   "metadata": {},
   "outputs": [],
   "source": [
    "Negocios1 = Negocios.drop(Negocios[Negocios['E_Bienes'] != 1].index)\n",
    "Negocios1 = Negocios1.drop(Negocios1[Negocios1['Meta 1 responsable Colombia: Año'] != 2020].index)\n",
    "Negocios1 = Negocios1.drop(Negocios1[Negocios1['Logro: Eje'] != 'Exportaciones'].index)\n",
    "Negocios1 = Negocios1.drop(Negocios1[Negocios1['Logro: Tipo de registro'] != 'Monto de Exportación'].index)\n"
   ]
  },
  {
   "cell_type": "code",
   "execution_count": 328,
   "id": "718411ef",
   "metadata": {},
   "outputs": [],
   "source": [
    "indNeg2020 =Negocios1.groupby(['C_Nal_Nit9','Logro: Sector'])['Logro: Valor'].sum().reset_index()\n",
    "indNeg2020['Negocios'] = 1\n",
    "indNeg2020['C_Nal_Nit9']=indNeg2020['C_Nal_Nit9'].astype(str)\n",
    "indNeg2020['Nit9'] = indNeg2020['C_Nal_Nit9'].str[:9]\n"
   ]
  },
  {
   "cell_type": "code",
   "execution_count": 329,
   "id": "3bfd5c98",
   "metadata": {},
   "outputs": [
    {
     "name": "stderr",
     "output_type": "stream",
     "text": [
      "E:\\Usuario\\pplaneacion\\AppData\\Local\\Temp/ipykernel_10124/1136066773.py:3: FutureWarning: Indexing with multiple keys (implicitly converted to a tuple of keys) will be deprecated, use a list instead.\n",
      "  indane =indane.groupby(['Nit9' , 'Pais Destino' , 'Sector' , 'Subsector'])[var1,var2,var3].sum().reset_index()\n"
     ]
    }
   ],
   "source": [
    "indane = base_dane.drop(base_dane[base_dane['Tipo'] != 'No Mineras'].index)\n",
    "\n",
    "indane =indane.groupby(['Nit9' , 'Pais Destino' , 'Sector' , 'Subsector'])[var1,var2,var3].sum().reset_index()\n"
   ]
  },
  {
   "cell_type": "code",
   "execution_count": 330,
   "id": "96ecb351",
   "metadata": {},
   "outputs": [],
   "source": [
    "indane2 = indane.merge(indNeg2020, how='inner', left_on=['Nit9' , 'Sector'],\n",
    "                      right_on=['Nit9' , 'Logro: Sector']).fillna(0)\n",
    "indane2 = indane2.drop(indane2[indane2['Negocios'] != 1].index)\n"
   ]
  },
  {
   "cell_type": "code",
   "execution_count": 331,
   "id": "0a955497",
   "metadata": {},
   "outputs": [],
   "source": [
    "danenegocios1 =indane2.groupby(['Pais Destino' , 'Subsector'])[var1].sum().reset_index()\n",
    "danenegocios1.rename(columns={var1: eind1}, inplace=True)\n"
   ]
  },
  {
   "cell_type": "code",
   "execution_count": 332,
   "id": "a303768d",
   "metadata": {},
   "outputs": [],
   "source": [
    "df = df.merge(danenegocios1, how='left', left_on=['Mercado' , 'Subsector '],\n",
    "                      right_on=['Pais Destino' , 'Subsector']).fillna(0)\n",
    "df = df.drop(columns=['Pais Destino' , 'Subsector'])\n"
   ]
  },
  {
   "cell_type": "markdown",
   "id": "fa5903c1",
   "metadata": {},
   "source": [
    "### 2020 - 2"
   ]
  },
  {
   "cell_type": "code",
   "execution_count": 333,
   "id": "54433b12",
   "metadata": {},
   "outputs": [],
   "source": [
    "Negocios2 = Negocios.drop(Negocios[Negocios['E_Bienes'] != 1].index)\n",
    "Negocios2 = Negocios2.drop(Negocios2[Negocios2['Meta 1 responsable Colombia: Año'] != 2020].index)\n",
    "Negocios2 = Negocios2.drop(Negocios2[Negocios2['Logro: Fecha de Certificación'] > fecha2].index)\n",
    "Negocios2 = Negocios2.drop(Negocios2[Negocios2['Logro: Eje'] != 'Exportaciones'].index)\n",
    "Negocios2 = Negocios2.drop(Negocios2[Negocios2['Logro: Tipo de registro'] != 'Monto de Exportación'].index)"
   ]
  },
  {
   "cell_type": "code",
   "execution_count": 334,
   "id": "d2c0e326",
   "metadata": {},
   "outputs": [
    {
     "name": "stderr",
     "output_type": "stream",
     "text": [
      "E:\\Usuario\\pplaneacion\\AppData\\Local\\Temp/ipykernel_10124/1993384365.py:7: FutureWarning: Indexing with multiple keys (implicitly converted to a tuple of keys) will be deprecated, use a list instead.\n",
      "  indane =indane.groupby(['Nit9' , 'Pais Destino' , 'Sector' , 'Subsector'])[var1,var2,var3].sum().reset_index()\n"
     ]
    }
   ],
   "source": [
    "indNeg =Negocios2.groupby(['C_Nal_Nit9','Logro: Sector'])['Logro: Valor'].sum().reset_index()\n",
    "indNeg['Negocios'] = 1\n",
    "indNeg['C_Nal_Nit9']=indNeg['C_Nal_Nit9'].astype(str)\n",
    "indNeg['Nit9'] = indNeg['C_Nal_Nit9'].str[:9]\n",
    "\n",
    "indane = base_dane.drop(base_dane[base_dane['Tipo'] != 'No Mineras'].index)\n",
    "indane =indane.groupby(['Nit9' , 'Pais Destino' , 'Sector' , 'Subsector'])[var1,var2,var3].sum().reset_index()\n",
    "\n",
    "indane2 = indane.merge(indNeg, how='inner', left_on=['Nit9' , 'Sector'],\n",
    "                      right_on=['Nit9' , 'Logro: Sector']).fillna(0)\n",
    "indane2 = indane2.drop(indane2[indane2['Negocios'] != 1].index)\n"
   ]
  },
  {
   "cell_type": "code",
   "execution_count": 335,
   "id": "c1542d68",
   "metadata": {},
   "outputs": [],
   "source": [
    "danenegocios2 =indane2.groupby(['Pais Destino' , 'Subsector'])[var2].sum().reset_index()\n",
    "danenegocios2.rename(columns={var2:eind2}, inplace=True)"
   ]
  },
  {
   "cell_type": "code",
   "execution_count": 336,
   "id": "45b0208c",
   "metadata": {},
   "outputs": [],
   "source": [
    "df = df.merge(danenegocios2, how='left', left_on=['Mercado' , 'Subsector '],\n",
    "                      right_on=['Pais Destino' , 'Subsector']).fillna(0)\n",
    "df = df.drop(columns=['Pais Destino' , 'Subsector'])"
   ]
  },
  {
   "cell_type": "markdown",
   "id": "c064aec1",
   "metadata": {},
   "source": [
    "### 2021"
   ]
  },
  {
   "cell_type": "code",
   "execution_count": 337,
   "id": "742bc2d5",
   "metadata": {},
   "outputs": [],
   "source": [
    " Negocios['C_Nal_Nit9'] = Negocios['C_Nal_Nit9'].fillna(0)\n",
    "Negocios['C_Nal_Nit9'] = Negocios['C_Nal_Nit9'].astype(int)\n",
    "Negocios3 = Negocios.drop(Negocios[Negocios['E_Bienes'] != 1].index)\n",
    "Negocios3 = Negocios3.drop(Negocios3[Negocios3['Meta 1 responsable Colombia: Año'] != 2021].index)\n",
    "Negocios3 = Negocios3.drop(Negocios3[Negocios3['Logro: Fecha de Certificación'] > fecha3].index)\n",
    "Negocios3 = Negocios3.drop(Negocios3[Negocios3['Logro: Eje'] != 'Exportaciones'].index)\n",
    "Negocios3 = Negocios3.drop(Negocios3[Negocios3['Logro: Tipo de registro'] != 'Monto de Exportación'].index)\n"
   ]
  },
  {
   "cell_type": "code",
   "execution_count": 338,
   "id": "e4cf3bec",
   "metadata": {},
   "outputs": [
    {
     "name": "stderr",
     "output_type": "stream",
     "text": [
      "E:\\Usuario\\pplaneacion\\AppData\\Local\\Temp/ipykernel_10124/2105138763.py:7: FutureWarning: Indexing with multiple keys (implicitly converted to a tuple of keys) will be deprecated, use a list instead.\n",
      "  indane =indane.groupby(['Nit9' , 'Pais Destino' , 'Sector' , 'Subsector'])[var1,var2,var3].sum().reset_index()\n"
     ]
    }
   ],
   "source": [
    "indNeg =Negocios3.groupby(['C_Nal_Nit9','Logro: Sector'])['Logro: Valor'].sum().reset_index()\n",
    "indNeg['Negocios'] = 1\n",
    "indNeg['C_Nal_Nit9']=indNeg['C_Nal_Nit9'].astype(str)\n",
    "indNeg['Nit9'] = indNeg['C_Nal_Nit9'].str[:9]\n",
    "\n",
    "indane = base_dane.drop(base_dane[base_dane['Tipo'] != 'No Mineras'].index)\n",
    "indane =indane.groupby(['Nit9' , 'Pais Destino' , 'Sector' , 'Subsector'])[var1,var2,var3].sum().reset_index()\n",
    "\n",
    "indane2 = indane.merge(indNeg, how='inner', left_on=['Nit9' , 'Sector'],\n",
    "                      right_on=['Nit9' , 'Logro: Sector']).fillna(0)\n",
    "indane2 = indane2.drop(indane2[indane2['Negocios'] != 1].index)\n"
   ]
  },
  {
   "cell_type": "code",
   "execution_count": 339,
   "id": "a4b266f4",
   "metadata": {},
   "outputs": [
    {
     "data": {
      "text/plain": [
       "['C_Nal_Nit9', 'Logro: Sector', 'Logro: Valor', 'Negocios', 'Nit9']"
      ]
     },
     "execution_count": 339,
     "metadata": {},
     "output_type": "execute_result"
    }
   ],
   "source": [
    "list(indNeg)"
   ]
  },
  {
   "cell_type": "code",
   "execution_count": 340,
   "id": "3fb6323f",
   "metadata": {},
   "outputs": [],
   "source": [
    "\n",
    "\n",
    "#indane.loc[indane['Sector'] == 'Dotación Hospitalaria']\n",
    "#indNeg.loc[indNeg['Logro: Sector'] == 'Dotación Hospitalaria']\n",
    "#indane2.loc[indane2['Sector'] == 'Dotación Hospitalaria']\n",
    "#writer = pd.ExcelWriter('test.xlsx')\n",
    "#dh.to_excel(writer)\n",
    "#writer.save()\n",
    "#from IPython.display import FileLink\n",
    "#FileLink('test.xlsx')\n",
    "\n",
    "#list(dict.fromkeys(indNeg['Nit9']))\n",
    "#list(dict.fromkeys(indNeg['Logro: Sector']))"
   ]
  },
  {
   "cell_type": "code",
   "execution_count": 341,
   "id": "ab7c99d6",
   "metadata": {},
   "outputs": [],
   "source": [
    "danenegocios3 =indane2.groupby(['Pais Destino' , 'Subsector'])[var3].sum().reset_index()\n",
    "danenegocios3.rename(columns={var3:eind3}, inplace=True)"
   ]
  },
  {
   "cell_type": "code",
   "execution_count": 342,
   "id": "140948b1",
   "metadata": {},
   "outputs": [],
   "source": [
    "df = df.merge(danenegocios3, how='left', left_on=['Mercado' , 'Subsector '],\n",
    "                      right_on=['Pais Destino' , 'Subsector']).fillna(0)\n",
    "df = df.drop(columns=['Pais Destino' , 'Subsector'])"
   ]
  },
  {
   "cell_type": "markdown",
   "id": "33061b4a",
   "metadata": {},
   "source": [
    "## Quienes"
   ]
  },
  {
   "cell_type": "code",
   "execution_count": 343,
   "id": "a0d385b3",
   "metadata": {},
   "outputs": [],
   "source": [
    "Quienes1 = Quienes.merge(base_dane, how='inner', left_on=['Nit9' , 'País','Subsector'],\n",
    "                      right_on=['Nit9' ,'Pais Destino' , 'Subsector']).fillna(0)\n"
   ]
  },
  {
   "cell_type": "code",
   "execution_count": 344,
   "id": "36c32539",
   "metadata": {
    "scrolled": true
   },
   "outputs": [],
   "source": [
    "#Quienes['Nit9'] = Quienes['Nit'].str[:9]\n",
    "#Quienes1"
   ]
  },
  {
   "cell_type": "code",
   "execution_count": 345,
   "id": "f1a9980f",
   "metadata": {},
   "outputs": [],
   "source": [
    "Quienes_Dane1 =Quienes1.groupby(['País_x' , 'Subsector'])[var1].sum().reset_index()\n",
    "Quienes_Dane2 =Quienes1.groupby(['País_x' , 'Subsector'])[var2].sum().reset_index()\n",
    "Quienes_Dane3 =Quienes1.groupby(['País_x' , 'Subsector'])[var3].sum().reset_index()\n",
    "\n",
    "Quienes_Dane1.rename(columns={'País_x':'País'}, inplace=True)\n",
    "Quienes_Dane2.rename(columns={'País_x':'País'}, inplace=True)\n",
    "Quienes_Dane3.rename(columns={'País_x':'País'}, inplace=True)"
   ]
  },
  {
   "cell_type": "code",
   "execution_count": 346,
   "id": "d512dc8c",
   "metadata": {},
   "outputs": [],
   "source": [
    "df = df.merge(Quienes_Dane1, how='left', left_on=['Mercado' , 'Subsector '],\n",
    "                      right_on=['País' , 'Subsector']).fillna(0)\n",
    "df = df.drop(columns=['País' , 'Subsector'])\n",
    "\n",
    "df = df.merge(Quienes_Dane2, how='left', left_on=['Mercado' , 'Subsector '],\n",
    "                      right_on=['País' , 'Subsector']).fillna(0)\n",
    "df = df.drop(columns=['País' , 'Subsector'])\n",
    "\n",
    "df = df.merge(Quienes_Dane3, how='left', left_on=['Mercado' , 'Subsector '],\n",
    "                      right_on=['País' , 'Subsector']).fillna(0)\n",
    "df = df.drop(columns=['País' , 'Subsector'])\n",
    "\n",
    "df.rename(columns={var1: Q1 , var2: Q2 ,\n",
    "                   var3:Q3}, inplace=True)"
   ]
  },
  {
   "cell_type": "markdown",
   "id": "80440cff",
   "metadata": {},
   "source": [
    "## Negocios Procolombia-Quienes"
   ]
  },
  {
   "cell_type": "markdown",
   "id": "254b3af7",
   "metadata": {},
   "source": [
    "### 2020"
   ]
  },
  {
   "cell_type": "code",
   "execution_count": 347,
   "id": "b9672d4c",
   "metadata": {},
   "outputs": [],
   "source": [
    "indNeg2020 =Negocios1.groupby(['C_Nal_Nit9','Logro: Mercado','Logro: Sector'])['Logro: Valor'].sum().reset_index()\n",
    "indNeg2020['Negocios'] = 1\n",
    "indNeg2020['C_Nal_Nit9']=indNeg2020['C_Nal_Nit9'].astype(str)\n",
    "indNeg2020['Nit9'] = indNeg2020['C_Nal_Nit9'].str[:9]"
   ]
  },
  {
   "cell_type": "code",
   "execution_count": 348,
   "id": "bf13b763",
   "metadata": {},
   "outputs": [],
   "source": [
    "Quienes2 = Quienes.merge(indNeg2020, how='inner', left_on=['Nit9' , 'País','Sector'],\n",
    "                      right_on=['Nit9' ,'Logro: Mercado' , 'Logro: Sector']).fillna(0)"
   ]
  },
  {
   "cell_type": "code",
   "execution_count": 349,
   "id": "ec95a516",
   "metadata": {},
   "outputs": [],
   "source": [
    "Quienes_Procol1 =Quienes2.groupby(['Logro: Mercado' , 'Subsector'])['Logro: Valor'].sum().reset_index()\n",
    "Quienes_Procol1.rename(columns={'Logro: Valor': QP1}, inplace=True)"
   ]
  },
  {
   "cell_type": "markdown",
   "id": "f4a25f5b",
   "metadata": {},
   "source": [
    "### 2020 - 2"
   ]
  },
  {
   "cell_type": "code",
   "execution_count": 350,
   "id": "5a22253a",
   "metadata": {},
   "outputs": [],
   "source": [
    "indNeg2020_2 =Negocios2.groupby(['C_Nal_Nit9','Logro: Mercado','Logro: Sector'])['Logro: Valor'].sum().reset_index()\n",
    "indNeg2020_2['Negocios'] = 1\n",
    "indNeg2020_2['C_Nal_Nit9']=indNeg2020_2['C_Nal_Nit9'].astype(str)\n",
    "indNeg2020_2['Nit9'] = indNeg2020_2['C_Nal_Nit9'].str[:9]"
   ]
  },
  {
   "cell_type": "code",
   "execution_count": 351,
   "id": "4539a17e",
   "metadata": {},
   "outputs": [],
   "source": [
    "Quienes3 = Quienes.merge(indNeg2020_2, how='inner', left_on=['Nit9' , 'País','Sector'],\n",
    "                      right_on=['Nit9' ,'Logro: Mercado' , 'Logro: Sector']).fillna(0)"
   ]
  },
  {
   "cell_type": "code",
   "execution_count": 352,
   "id": "1a0423c1",
   "metadata": {},
   "outputs": [],
   "source": [
    "Quienes_Procol2 =Quienes3.groupby(['Logro: Mercado' , 'Subsector'])['Logro: Valor'].sum().reset_index()\n",
    "Quienes_Procol2.rename(columns={'Logro: Valor': QP2}, inplace=True)"
   ]
  },
  {
   "cell_type": "markdown",
   "id": "0e1520e1",
   "metadata": {},
   "source": [
    "### 2021"
   ]
  },
  {
   "cell_type": "code",
   "execution_count": 353,
   "id": "70bec870",
   "metadata": {},
   "outputs": [],
   "source": [
    "indNeg2021 =Negocios3.groupby(['C_Nal_Nit9','Logro: Mercado','Logro: Sector'])['Logro: Valor'].sum().reset_index()\n",
    "indNeg2021['Negocios'] = 1\n",
    "indNeg2021['C_Nal_Nit9']=indNeg2021['C_Nal_Nit9'].astype(str)\n",
    "indNeg2021['Nit9'] = indNeg2021['C_Nal_Nit9'].str[:9]\n",
    "\n",
    "Quienes4 = Quienes.merge(indNeg2021, how='inner', left_on=['Nit9' , 'País','Sector'],\n",
    "                      right_on=['Nit9' ,'Logro: Mercado' , 'Logro: Sector']).fillna(0)\n",
    "Quienes_Procol3 =Quienes4.groupby(['Logro: Mercado' , 'Subsector'])['Logro: Valor'].sum().reset_index()\n",
    "\n",
    "Quienes_Procol3.rename(columns={'Logro: Valor': QP3}, inplace=True)"
   ]
  },
  {
   "cell_type": "code",
   "execution_count": 354,
   "id": "478bdc0d",
   "metadata": {},
   "outputs": [],
   "source": [
    "df = df.merge(Quienes_Procol1, how='left', left_on=['Mercado' , 'Subsector '],\n",
    "                      right_on=['Logro: Mercado' , 'Subsector']).fillna(0)\n",
    "df = df.drop(columns=['Logro: Mercado' , 'Subsector'])\n",
    "\n",
    "df = df.merge(Quienes_Procol2, how='left', left_on=['Mercado' , 'Subsector '],\n",
    "                      right_on=['Logro: Mercado' , 'Subsector']).fillna(0)\n",
    "df = df.drop(columns=['Logro: Mercado' , 'Subsector'])\n",
    "\n",
    "df = df.merge(Quienes_Procol3, how='left', left_on=['Mercado' , 'Subsector '],\n",
    "                      right_on=['Logro: Mercado' , 'Subsector']).fillna(0)\n",
    "df = df.drop(columns=['Logro: Mercado' , 'Subsector'])\n"
   ]
  },
  {
   "cell_type": "code",
   "execution_count": 355,
   "id": "fb49d13f",
   "metadata": {},
   "outputs": [
    {
     "data": {
      "text/html": [
       "<a href='Planes_Sectoriales_Python.xlsx' target='_blank'>Planes_Sectoriales_Python.xlsx</a><br>"
      ],
      "text/plain": [
       "E:\\Usuario\\pplaneacion\\Documents\\Códigos Python\\Planes_Sectoriales_Python.xlsx"
      ]
     },
     "execution_count": 355,
     "metadata": {},
     "output_type": "execute_result"
    }
   ],
   "source": [
    "writer = pd.ExcelWriter('Planes_Sectoriales_Python.xlsx')\n",
    "df.to_excel(writer)\n",
    "writer.save()\n",
    "from IPython.display import FileLink\n",
    "FileLink('Planes_Sectoriales_Python.xlsx')"
   ]
  }
 ],
 "metadata": {
  "kernelspec": {
   "display_name": "Python 3 (ipykernel)",
   "language": "python",
   "name": "python3"
  },
  "language_info": {
   "codemirror_mode": {
    "name": "ipython",
    "version": 3
   },
   "file_extension": ".py",
   "mimetype": "text/x-python",
   "name": "python",
   "nbconvert_exporter": "python",
   "pygments_lexer": "ipython3",
   "version": "3.9.7"
  }
 },
 "nbformat": 4,
 "nbformat_minor": 5
}

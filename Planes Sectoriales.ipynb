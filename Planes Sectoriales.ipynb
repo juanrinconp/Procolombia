{
 "cells": [
  {
   "cell_type": "markdown",
   "id": "e597cdbd",
   "metadata": {},
   "source": [
    "# Planes Sectoriales"
   ]
  },
  {
   "cell_type": "code",
   "execution_count": 333,
   "id": "c70768be",
   "metadata": {},
   "outputs": [],
   "source": [
    "import pandas as pd \n",
    "import numpy as np \n",
    "import os \n",
    "import matplotlib.pyplot as plt \n",
    "import matplotlib as mpl \n",
    "import six\n",
    "import requests\n",
    "from tableau_api_lib import TableauServerConnection\n",
    "from tableau_api_lib.utils.querying import get_views_dataframe\n",
    "\n",
    "pathout = './data/'\n",
    "if not os.path.exists(pathout):\n",
    "    os.mkdir(pathout) \n",
    " "
   ]
  },
  {
   "cell_type": "code",
   "execution_count": 334,
   "id": "43d89ebc",
   "metadata": {},
   "outputs": [],
   "source": [
    "base_dane = pd.read_excel(pathout + 'base_dane_2.xlsx')\n"
   ]
  },
  {
   "cell_type": "code",
   "execution_count": 335,
   "id": "20494c55",
   "metadata": {},
   "outputs": [],
   "source": [
    "planes_sectoriales = pd.read_excel(pathout + 'Planes_Sectoriales_2.xlsx')\n"
   ]
  },
  {
   "cell_type": "code",
   "execution_count": 336,
   "id": "bda5fdb5",
   "metadata": {},
   "outputs": [],
   "source": [
    "Negocios = pd.read_excel(pathout + 'Negocios.xlsx')"
   ]
  },
  {
   "cell_type": "code",
   "execution_count": 508,
   "id": "a6102e9a",
   "metadata": {},
   "outputs": [],
   "source": [
    "Quienes = pd.read_excel(pathout + 'Quienes.xlsx')"
   ]
  },
  {
   "cell_type": "code",
   "execution_count": 509,
   "id": "e15e8d07",
   "metadata": {},
   "outputs": [],
   "source": [
    "var1 = '2020 USD'\n",
    "var2 = '2020 USD (Ene-Nov)'\n",
    "var3 = '2021 USD (Ene-Nov)'\n",
    "\n",
    "fecha2 ='2020-11-30'\n",
    "fecha3 ='2021-11-30'\n",
    "\n",
    "monto1 = 'Monto ' + var1 \n",
    "monto2 = 'Monto ' + var2 \n",
    "monto3 = 'Monto ' + var3 \n",
    "\n",
    "numero1 = 'Numero de Empresas ' + var1 \n",
    "numero2 = 'Numero de Empresas ' + var2 \n",
    "numero3 = 'Numero de Empresas ' + var3 \n",
    "\n",
    "eind1 = 'Exportaciónes Indirectas ' + var1 \n",
    "eind2 = 'Exportaciónes Indirectas ' + var2 \n",
    "eind3 = 'Exportaciónes Indirectas ' + var3\n",
    "\n",
    "Q1 = 'Exportaciónes Quienes ' + var1 \n",
    "Q2 = 'Exportaciónes Quienes ' + var2 \n",
    "Q3 = 'Exportaciónes Quienes ' + var3\n",
    "\n",
    "QP1 ='Exportaciónes Quienes Procolombia ' + var1 \n",
    "QP2 ='Exportaciónes Quienes Procolombia ' + var2 \n",
    "QP3 ='Exportaciónes Quienes Procolombia ' + var3"
   ]
  },
  {
   "cell_type": "code",
   "execution_count": 510,
   "id": "df1b8ede",
   "metadata": {},
   "outputs": [],
   "source": [
    "base_dane.loc[base_dane['Zona Geografica'] == 'Caribe', 'Pais Destino'] = 'Caribe'\n",
    "base_dane.loc[base_dane['Pais Destino'] == 'Dinamarca', 'Pais Destino'] = 'Nórdicos'\n",
    "base_dane.loc[base_dane['Pais Destino'] == 'Noruega', 'Pais Destino'] = 'Nórdicos'\n",
    "base_dane.loc[base_dane['Pais Destino'] == 'Finlandia', 'Pais Destino'] = 'Nórdicos'\n",
    "base_dane.loc[base_dane['Pais Destino'] == 'Islandia', 'Pais Destino'] = 'Nórdicos'\n",
    "base_dane.loc[base_dane['Pais Destino'] == 'Suecia', 'Pais Destino'] = 'Nórdicos'\n",
    "base_dane['Nit9'] = base_dane['Nit Exportador'].str[:9]\n",
    "\n",
    "\n",
    "Negocios.loc[Negocios['Logro: Oficina Comercial'] == 'Caribe', 'Logro: Mercado'] = 'Caribe'\n",
    "Negocios.loc[Negocios['Logro: Mercado'] == 'Dinamarca', 'Logro: Mercado'] = 'Nórdicos'\n",
    "Negocios.loc[Negocios['Logro: Mercado'] == 'Noruega', 'Logro: Mercado'] = 'Nórdicos'\n",
    "Negocios.loc[Negocios['Logro: Mercado'] == 'Finlandia', 'Logro: Mercado'] = 'Nórdicos'\n",
    "Negocios.loc[Negocios['Logro: Mercado'] == 'Islandia', 'Logro: Mercado'] = 'Nórdicos'\n",
    "Negocios.loc[Negocios['Logro: Mercado'] == 'Suecia', 'Logro: Mercado'] = 'Nórdicos'\n",
    "\n",
    "\n"
   ]
  },
  {
   "cell_type": "code",
   "execution_count": 511,
   "id": "59b8d9f9",
   "metadata": {},
   "outputs": [],
   "source": [
    "expdane0 =base_dane.groupby(['Pais Destino' , 'Subsector'])[var1].sum().reset_index()\n",
    "expdane1 =base_dane.groupby(['Pais Destino' , 'Subsector'])[var2].sum().reset_index()\n",
    "expdane2 =base_dane.groupby(['Pais Destino' , 'Subsector'])[var3].sum().reset_index()\n"
   ]
  },
  {
   "cell_type": "markdown",
   "id": "9ab7fb80",
   "metadata": {},
   "source": [
    "## Monto de exportación"
   ]
  },
  {
   "cell_type": "code",
   "execution_count": 512,
   "id": "5841fd9c",
   "metadata": {},
   "outputs": [],
   "source": [
    "df = planes_sectoriales.merge(expdane0, how='left', left_on=['Mercado' , 'Subsector '],\n",
    "                      right_on=['Pais Destino' , 'Subsector']).fillna(0)\n",
    "df = df.drop(columns=['Pais Destino' , 'Subsector'])\n",
    "\n",
    "df = df.merge(expdane1, how='left', left_on=['Mercado' , 'Subsector '],\n",
    "                      right_on=['Pais Destino' , 'Subsector']).fillna(0)\n",
    "df = df.drop(columns=['Pais Destino' , 'Subsector'])\n",
    "\n",
    "df = df.merge(expdane2, how='left', left_on=['Mercado' , 'Subsector '],\n",
    "                      right_on=['Pais Destino' , 'Subsector']).fillna(0)\n",
    "df = df.drop(columns=['Pais Destino' , 'Subsector'])\n",
    "\n",
    "df.rename(columns={var1: monto1 , var2: monto2 ,\n",
    "                   var3:monto3}, inplace=True)\n",
    "\n"
   ]
  },
  {
   "cell_type": "markdown",
   "id": "186688fd",
   "metadata": {},
   "source": [
    "## Número de empresas"
   ]
  },
  {
   "cell_type": "code",
   "execution_count": 513,
   "id": "8f398540",
   "metadata": {},
   "outputs": [],
   "source": [
    "base_dane0 = base_dane.drop(base_dane[base_dane[var1] == 0].index)\n",
    "numdane0 =base_dane0.groupby(['Nit Exportador','Pais Destino' , 'Subsector'])[var1].count().reset_index()\n",
    "numdane00 =numdane0.groupby(['Pais Destino' , 'Subsector'])[var1].count().reset_index()\n",
    "\n",
    "base_dane1 = base_dane.drop(base_dane[base_dane[var2] == 0].index)\n",
    "numdane1 =base_dane1.groupby(['Nit Exportador','Pais Destino' , 'Subsector'])[var2].count().reset_index()\n",
    "numdane11 =numdane1.groupby(['Pais Destino' , 'Subsector'])[var2].count().reset_index()\n",
    "\n",
    "base_dane2 = base_dane.drop(base_dane[base_dane[var3] == 0].index)\n",
    "numdane2 =base_dane2.groupby(['Nit Exportador','Pais Destino' , 'Subsector'])[var3].count().reset_index()\n",
    "numdane22 =numdane2.groupby(['Pais Destino' , 'Subsector'])[var3].count().reset_index()\n"
   ]
  },
  {
   "cell_type": "code",
   "execution_count": 514,
   "id": "d1385e85",
   "metadata": {},
   "outputs": [],
   "source": [
    "df = df.merge(numdane00, how='left', left_on=['Mercado' , 'Subsector '],\n",
    "                      right_on=['Pais Destino' , 'Subsector']).fillna(0)\n",
    "df = df.drop(columns=['Pais Destino' , 'Subsector'])\n",
    "\n",
    "df = df.merge(numdane11, how='left', left_on=['Mercado' , 'Subsector '],\n",
    "                      right_on=['Pais Destino' , 'Subsector']).fillna(0)\n",
    "df = df.drop(columns=['Pais Destino' , 'Subsector'])\n",
    "\n",
    "df = df.merge(numdane22, how='left', left_on=['Mercado' , 'Subsector '],\n",
    "                      right_on=['Pais Destino' , 'Subsector']).fillna(0)\n",
    "df = df.drop(columns=['Pais Destino' , 'Subsector'])\n",
    "\n",
    "df.rename(columns={var1: numero1 , var2: numero2 ,\n",
    "                   var3:numero3}, inplace=True)"
   ]
  },
  {
   "cell_type": "code",
   "execution_count": 515,
   "id": "2ddb2ab3",
   "metadata": {},
   "outputs": [],
   "source": [
    "#df.sort_values(by=['Subsector '])"
   ]
  },
  {
   "cell_type": "markdown",
   "id": "c8a995f4",
   "metadata": {},
   "source": [
    "## Exportaciones Indirectas"
   ]
  },
  {
   "cell_type": "markdown",
   "id": "b5bd56c3",
   "metadata": {},
   "source": [
    "### 2020"
   ]
  },
  {
   "cell_type": "code",
   "execution_count": 516,
   "id": "ba1f0d4b",
   "metadata": {},
   "outputs": [],
   "source": [
    "Negocios1 = Negocios.drop(Negocios[Negocios['E_Bienes'] != 1].index)\n",
    "Negocios1 = Negocios1.drop(Negocios1[Negocios1['Meta 1 responsable Colombia: Año'] != 2020].index)\n",
    "Negocios1 = Negocios1.drop(Negocios1[Negocios1['Logro: Eje'] != 'Exportaciones'].index)\n",
    "Negocios1 = Negocios1.drop(Negocios1[Negocios1['Logro: Tipo de registro'] != 'Monto de Exportación'].index)\n"
   ]
  },
  {
   "cell_type": "code",
   "execution_count": 517,
   "id": "718411ef",
   "metadata": {},
   "outputs": [],
   "source": [
    "indNeg2020 =Negocios1.groupby(['C_Nal_Nit9','Logro: Sector'])['Logro: Valor'].sum().reset_index()\n",
    "indNeg2020['Negocios'] = 1\n",
    "indNeg2020['C_Nal_Nit9']=indNeg2020['C_Nal_Nit9'].astype(str)\n",
    "indNeg2020['Nit9'] = indNeg2020['C_Nal_Nit9'].str[:9]\n"
   ]
  },
  {
   "cell_type": "code",
   "execution_count": 518,
   "id": "3bfd5c98",
   "metadata": {},
   "outputs": [
    {
     "name": "stderr",
     "output_type": "stream",
     "text": [
      "<ipython-input-518-c9dd35df7828>:3: FutureWarning: Indexing with multiple keys (implicitly converted to a tuple of keys) will be deprecated, use a list instead.\n",
      "  indane =indane.groupby(['Nit9' , 'Pais Destino' , 'Sector' , 'Subsector'])[var1,var2,var3].sum().reset_index()\n"
     ]
    }
   ],
   "source": [
    "indane = base_dane.drop(base_dane[base_dane['Tipo'] != 'No Mineras'].index)\n",
    "\n",
    "indane =indane.groupby(['Nit9' , 'Pais Destino' , 'Sector' , 'Subsector'])[var1,var2,var3].sum().reset_index()\n"
   ]
  },
  {
   "cell_type": "code",
   "execution_count": 519,
   "id": "96ecb351",
   "metadata": {},
   "outputs": [],
   "source": [
    "indane2 = indane.merge(indNeg2020, how='inner', left_on=['Nit9' , 'Sector'],\n",
    "                      right_on=['Nit9' , 'Logro: Sector']).fillna(0)\n",
    "indane2 = indane2.drop(indane2[indane2['Negocios'] != 1].index)\n"
   ]
  },
  {
   "cell_type": "code",
   "execution_count": 520,
   "id": "0a955497",
   "metadata": {},
   "outputs": [],
   "source": [
    "danenegocios1 =indane2.groupby(['Pais Destino' , 'Subsector'])[var1].sum().reset_index()\n",
    "danenegocios1.rename(columns={var1: eind1}, inplace=True)\n"
   ]
  },
  {
   "cell_type": "code",
   "execution_count": 521,
   "id": "a303768d",
   "metadata": {},
   "outputs": [],
   "source": [
    "df = df.merge(danenegocios1, how='left', left_on=['Mercado' , 'Subsector '],\n",
    "                      right_on=['Pais Destino' , 'Subsector']).fillna(0)\n",
    "df = df.drop(columns=['Pais Destino' , 'Subsector'])\n"
   ]
  },
  {
   "cell_type": "markdown",
   "id": "f582c4c7",
   "metadata": {},
   "source": [
    "### 2020 - 2"
   ]
  },
  {
   "cell_type": "code",
   "execution_count": 522,
   "id": "d8ba85e8",
   "metadata": {},
   "outputs": [],
   "source": [
    "Negocios2 = Negocios.drop(Negocios[Negocios['E_Bienes'] != 1].index)\n",
    "Negocios2 = Negocios2.drop(Negocios2[Negocios2['Meta 1 responsable Colombia: Año'] != 2020].index)\n",
    "Negocios2 = Negocios2.drop(Negocios2[Negocios2['Logro: Fecha de Certificación'] > fecha2].index)\n",
    "Negocios2 = Negocios2.drop(Negocios2[Negocios2['Logro: Eje'] != 'Exportaciones'].index)\n",
    "Negocios2 = Negocios2.drop(Negocios2[Negocios2['Logro: Tipo de registro'] != 'Monto de Exportación'].index)"
   ]
  },
  {
   "cell_type": "code",
   "execution_count": 523,
   "id": "727950a8",
   "metadata": {},
   "outputs": [
    {
     "name": "stderr",
     "output_type": "stream",
     "text": [
      "<ipython-input-523-e59b08f75b47>:7: FutureWarning: Indexing with multiple keys (implicitly converted to a tuple of keys) will be deprecated, use a list instead.\n",
      "  indane =indane.groupby(['Nit9' , 'Pais Destino' , 'Sector' , 'Subsector'])[var1,var2,var3].sum().reset_index()\n"
     ]
    }
   ],
   "source": [
    "indNeg =Negocios2.groupby(['C_Nal_Nit9','Logro: Sector'])['Logro: Valor'].sum().reset_index()\n",
    "indNeg['Negocios'] = 1\n",
    "indNeg['C_Nal_Nit9']=indNeg['C_Nal_Nit9'].astype(str)\n",
    "indNeg['Nit9'] = indNeg['C_Nal_Nit9'].str[:9]\n",
    "\n",
    "indane = base_dane.drop(base_dane[base_dane['Tipo'] != 'No Mineras'].index)\n",
    "indane =indane.groupby(['Nit9' , 'Pais Destino' , 'Sector' , 'Subsector'])[var1,var2,var3].sum().reset_index()\n",
    "\n",
    "indane2 = indane.merge(indNeg, how='inner', left_on=['Nit9' , 'Sector'],\n",
    "                      right_on=['Nit9' , 'Logro: Sector']).fillna(0)\n",
    "indane2 = indane2.drop(indane2[indane2['Negocios'] != 1].index)\n"
   ]
  },
  {
   "cell_type": "code",
   "execution_count": 524,
   "id": "e896fd91",
   "metadata": {},
   "outputs": [],
   "source": [
    "danenegocios2 =indane2.groupby(['Pais Destino' , 'Subsector'])[var2].sum().reset_index()\n",
    "danenegocios2.rename(columns={var2:eind2}, inplace=True)"
   ]
  },
  {
   "cell_type": "code",
   "execution_count": 525,
   "id": "038e4a49",
   "metadata": {},
   "outputs": [],
   "source": [
    "df = df.merge(danenegocios2, how='left', left_on=['Mercado' , 'Subsector '],\n",
    "                      right_on=['Pais Destino' , 'Subsector']).fillna(0)\n",
    "df = df.drop(columns=['Pais Destino' , 'Subsector'])"
   ]
  },
  {
   "cell_type": "markdown",
   "id": "f1971788",
   "metadata": {},
   "source": [
    "### 2021"
   ]
  },
  {
   "cell_type": "code",
   "execution_count": 526,
   "id": "4ad0725d",
   "metadata": {},
   "outputs": [],
   "source": [
    "Negocios3 = Negocios.drop(Negocios[Negocios['E_Bienes'] != 1].index)\n",
    "Negocios3 = Negocios3.drop(Negocios3[Negocios3['Meta 1 responsable Colombia: Año'] != 2021].index)\n",
    "Negocios3 = Negocios3.drop(Negocios3[Negocios3['Logro: Fecha de Certificación'] > fecha3].index)\n",
    "Negocios3 = Negocios3.drop(Negocios3[Negocios3['Logro: Eje'] != 'Exportaciones'].index)\n",
    "Negocios3 = Negocios3.drop(Negocios3[Negocios3['Logro: Tipo de registro'] != 'Monto de Exportación'].index)\n"
   ]
  },
  {
   "cell_type": "code",
   "execution_count": 527,
   "id": "9175e6bd",
   "metadata": {},
   "outputs": [
    {
     "name": "stderr",
     "output_type": "stream",
     "text": [
      "<ipython-input-527-e9a0ee811e7d>:7: FutureWarning: Indexing with multiple keys (implicitly converted to a tuple of keys) will be deprecated, use a list instead.\n",
      "  indane =indane.groupby(['Nit9' , 'Pais Destino' , 'Sector' , 'Subsector'])[var1,var2,var3].sum().reset_index()\n"
     ]
    }
   ],
   "source": [
    "indNeg =Negocios3.groupby(['C_Nal_Nit9','Logro: Sector'])['Logro: Valor'].sum().reset_index()\n",
    "indNeg['Negocios'] = 1\n",
    "indNeg['C_Nal_Nit9']=indNeg['C_Nal_Nit9'].astype(str)\n",
    "indNeg['Nit9'] = indNeg['C_Nal_Nit9'].str[:9]\n",
    "\n",
    "indane = base_dane.drop(base_dane[base_dane['Tipo'] != 'No Mineras'].index)\n",
    "indane =indane.groupby(['Nit9' , 'Pais Destino' , 'Sector' , 'Subsector'])[var1,var2,var3].sum().reset_index()\n",
    "\n",
    "indane2 = indane.merge(indNeg, how='inner', left_on=['Nit9' , 'Sector'],\n",
    "                      right_on=['Nit9' , 'Logro: Sector']).fillna(0)\n",
    "indane2 = indane2.drop(indane2[indane2['Negocios'] != 1].index)\n"
   ]
  },
  {
   "cell_type": "code",
   "execution_count": 528,
   "id": "955546a2",
   "metadata": {},
   "outputs": [],
   "source": [
    "danenegocios3 =indane2.groupby(['Pais Destino' , 'Subsector'])[var3].sum().reset_index()\n",
    "danenegocios3.rename(columns={var3:eind3}, inplace=True)"
   ]
  },
  {
   "cell_type": "code",
   "execution_count": 529,
   "id": "35b323df",
   "metadata": {},
   "outputs": [],
   "source": [
    "df = df.merge(danenegocios3, how='left', left_on=['Mercado' , 'Subsector '],\n",
    "                      right_on=['Pais Destino' , 'Subsector']).fillna(0)\n",
    "df = df.drop(columns=['Pais Destino' , 'Subsector'])"
   ]
  },
  {
   "cell_type": "markdown",
   "id": "95600a82",
   "metadata": {},
   "source": [
    "## Quienes"
   ]
  },
  {
   "cell_type": "code",
   "execution_count": 530,
   "id": "ee64c8e6",
   "metadata": {},
   "outputs": [],
   "source": [
    "Quienes1 = Quienes.merge(base_dane, how='inner', left_on=['Nit9' , 'País','Subsector'],\n",
    "                      right_on=['Nit9' ,'Pais Destino' , 'Subsector']).fillna(0)\n"
   ]
  },
  {
   "cell_type": "code",
   "execution_count": 531,
   "id": "4401c3cc",
   "metadata": {
    "scrolled": true
   },
   "outputs": [],
   "source": [
    "#Quienes['Nit9'] = Quienes['Nit'].str[:9]\n",
    "#Quienes1"
   ]
  },
  {
   "cell_type": "code",
   "execution_count": 532,
   "id": "eec20375",
   "metadata": {},
   "outputs": [],
   "source": [
    "Quienes_Dane1 =Quienes1.groupby(['País' , 'Subsector'])[var1].sum().reset_index()\n",
    "Quienes_Dane2 =Quienes1.groupby(['País' , 'Subsector'])[var2].sum().reset_index()\n",
    "Quienes_Dane3 =Quienes1.groupby(['País' , 'Subsector'])[var3].sum().reset_index()\n"
   ]
  },
  {
   "cell_type": "code",
   "execution_count": 533,
   "id": "acb6bf1e",
   "metadata": {},
   "outputs": [],
   "source": [
    "df = df.merge(Quienes_Dane1, how='left', left_on=['Mercado' , 'Subsector '],\n",
    "                      right_on=['País' , 'Subsector']).fillna(0)\n",
    "df = df.drop(columns=['País' , 'Subsector'])\n",
    "\n",
    "df = df.merge(Quienes_Dane2, how='left', left_on=['Mercado' , 'Subsector '],\n",
    "                      right_on=['País' , 'Subsector']).fillna(0)\n",
    "df = df.drop(columns=['País' , 'Subsector'])\n",
    "\n",
    "df = df.merge(Quienes_Dane3, how='left', left_on=['Mercado' , 'Subsector '],\n",
    "                      right_on=['País' , 'Subsector']).fillna(0)\n",
    "df = df.drop(columns=['País' , 'Subsector'])\n",
    "\n",
    "df.rename(columns={var1: Q1 , var2: Q2 ,\n",
    "                   var3:Q3}, inplace=True)"
   ]
  },
  {
   "cell_type": "markdown",
   "id": "dc0957d4",
   "metadata": {},
   "source": [
    "## Negocios Procolombia-Quienes"
   ]
  },
  {
   "cell_type": "markdown",
   "id": "c7c2b92f",
   "metadata": {},
   "source": [
    "### 2020"
   ]
  },
  {
   "cell_type": "code",
   "execution_count": 534,
   "id": "bd1448b9",
   "metadata": {},
   "outputs": [],
   "source": [
    "indNeg2020 =Negocios1.groupby(['C_Nal_Nit9','Logro: Mercado','Logro: Sector'])['Logro: Valor'].sum().reset_index()\n",
    "indNeg2020['Negocios'] = 1\n",
    "indNeg2020['C_Nal_Nit9']=indNeg2020['C_Nal_Nit9'].astype(str)\n",
    "indNeg2020['Nit9'] = indNeg2020['C_Nal_Nit9'].str[:9]"
   ]
  },
  {
   "cell_type": "code",
   "execution_count": 535,
   "id": "992a4b0a",
   "metadata": {},
   "outputs": [],
   "source": [
    "Quienes2 = Quienes.merge(indNeg2020, how='inner', left_on=['Nit9' , 'País','Sector'],\n",
    "                      right_on=['Nit9' ,'Logro: Mercado' , 'Logro: Sector']).fillna(0)"
   ]
  },
  {
   "cell_type": "code",
   "execution_count": 536,
   "id": "27a87efb",
   "metadata": {},
   "outputs": [],
   "source": [
    "Quienes_Procol1 =Quienes2.groupby(['Logro: Mercado' , 'Subsector'])['Logro: Valor'].sum().reset_index()\n",
    "Quienes_Procol1.rename(columns={'Logro: Valor': QP1}, inplace=True)"
   ]
  },
  {
   "cell_type": "markdown",
   "id": "7a80c705",
   "metadata": {},
   "source": [
    "### 2020 - 2"
   ]
  },
  {
   "cell_type": "code",
   "execution_count": 537,
   "id": "a22bdf64",
   "metadata": {},
   "outputs": [],
   "source": [
    "indNeg2020_2 =Negocios2.groupby(['C_Nal_Nit9','Logro: Mercado','Logro: Sector'])['Logro: Valor'].sum().reset_index()\n",
    "indNeg2020_2['Negocios'] = 1\n",
    "indNeg2020_2['C_Nal_Nit9']=indNeg2020_2['C_Nal_Nit9'].astype(str)\n",
    "indNeg2020_2['Nit9'] = indNeg2020_2['C_Nal_Nit9'].str[:9]"
   ]
  },
  {
   "cell_type": "code",
   "execution_count": 538,
   "id": "c00806e3",
   "metadata": {},
   "outputs": [],
   "source": [
    "Quienes3 = Quienes.merge(indNeg2020_2, how='inner', left_on=['Nit9' , 'País','Sector'],\n",
    "                      right_on=['Nit9' ,'Logro: Mercado' , 'Logro: Sector']).fillna(0)"
   ]
  },
  {
   "cell_type": "code",
   "execution_count": 539,
   "id": "08f30afc",
   "metadata": {},
   "outputs": [],
   "source": [
    "Quienes_Procol2 =Quienes3.groupby(['Logro: Mercado' , 'Subsector'])['Logro: Valor'].sum().reset_index()\n",
    "Quienes_Procol2.rename(columns={'Logro: Valor': QP2}, inplace=True)"
   ]
  },
  {
   "cell_type": "markdown",
   "id": "5c401c87",
   "metadata": {},
   "source": [
    "### 2021"
   ]
  },
  {
   "cell_type": "code",
   "execution_count": 540,
   "id": "49c32dd3",
   "metadata": {},
   "outputs": [],
   "source": [
    "indNeg2021 =Negocios3.groupby(['C_Nal_Nit9','Logro: Mercado','Logro: Sector'])['Logro: Valor'].sum().reset_index()\n",
    "indNeg2021['Negocios'] = 1\n",
    "indNeg2021['C_Nal_Nit9']=indNeg2021['C_Nal_Nit9'].astype(str)\n",
    "indNeg2021['Nit9'] = indNeg2021['C_Nal_Nit9'].str[:9]\n",
    "\n",
    "Quienes4 = Quienes.merge(indNeg2021, how='inner', left_on=['Nit9' , 'País','Sector'],\n",
    "                      right_on=['Nit9' ,'Logro: Mercado' , 'Logro: Sector']).fillna(0)\n",
    "Quienes_Procol3 =Quienes4.groupby(['Logro: Mercado' , 'Subsector'])['Logro: Valor'].sum().reset_index()\n",
    "\n",
    "Quienes_Procol3.rename(columns={'Logro: Valor': QP3}, inplace=True)"
   ]
  },
  {
   "cell_type": "code",
   "execution_count": 541,
   "id": "10f9eaeb",
   "metadata": {},
   "outputs": [],
   "source": [
    "df = df.merge(Quienes_Procol1, how='left', left_on=['Mercado' , 'Subsector '],\n",
    "                      right_on=['Logro: Mercado' , 'Subsector']).fillna(0)\n",
    "df = df.drop(columns=['Logro: Mercado' , 'Subsector'])\n",
    "\n",
    "df = df.merge(Quienes_Procol2, how='left', left_on=['Mercado' , 'Subsector '],\n",
    "                      right_on=['Logro: Mercado' , 'Subsector']).fillna(0)\n",
    "df = df.drop(columns=['Logro: Mercado' , 'Subsector'])\n",
    "\n",
    "df = df.merge(Quienes_Procol3, how='left', left_on=['Mercado' , 'Subsector '],\n",
    "                      right_on=['Logro: Mercado' , 'Subsector']).fillna(0)\n",
    "df = df.drop(columns=['Logro: Mercado' , 'Subsector'])\n"
   ]
  },
  {
   "cell_type": "code",
   "execution_count": 542,
   "id": "159fd02a",
   "metadata": {},
   "outputs": [
    {
     "data": {
      "text/html": [
       "<div>\n",
       "<style scoped>\n",
       "    .dataframe tbody tr th:only-of-type {\n",
       "        vertical-align: middle;\n",
       "    }\n",
       "\n",
       "    .dataframe tbody tr th {\n",
       "        vertical-align: top;\n",
       "    }\n",
       "\n",
       "    .dataframe thead th {\n",
       "        text-align: right;\n",
       "    }\n",
       "</style>\n",
       "<table border=\"1\" class=\"dataframe\">\n",
       "  <thead>\n",
       "    <tr style=\"text-align: right;\">\n",
       "      <th></th>\n",
       "      <th>Subsector</th>\n",
       "      <th>Mercado</th>\n",
       "      <th>Monto 2020 USD</th>\n",
       "      <th>Monto 2020 USD (Ene-Nov)</th>\n",
       "      <th>Monto 2021 USD (Ene-Nov)</th>\n",
       "      <th>Numero de Empresas 2020 USD</th>\n",
       "      <th>Numero de Empresas 2020 USD (Ene-Nov)</th>\n",
       "      <th>Numero de Empresas 2021 USD (Ene-Nov)</th>\n",
       "      <th>Exportaciónes Indirectas 2020 USD</th>\n",
       "      <th>Exportaciónes Indirectas 2020 USD (Ene-Nov)</th>\n",
       "      <th>Exportaciónes Indirectas 2021 USD (Ene-Nov)</th>\n",
       "      <th>Exportaciónes Quienes 2020 USD</th>\n",
       "      <th>Exportaciónes Quienes 2020 USD (Ene-Nov)</th>\n",
       "      <th>Exportaciónes Quienes 2021 USD (Ene-Nov)</th>\n",
       "      <th>Exportaciónes Quienes Procolombia 2020 USD</th>\n",
       "      <th>Exportaciónes Quienes Procolombia 2020 USD (Ene-Nov)</th>\n",
       "      <th>Exportaciónes Quienes Procolombia 2021 USD (Ene-Nov)</th>\n",
       "    </tr>\n",
       "  </thead>\n",
       "  <tbody>\n",
       "    <tr>\n",
       "      <th>0</th>\n",
       "      <td>Acabados para la construcción</td>\n",
       "      <td>Chile</td>\n",
       "      <td>0.00</td>\n",
       "      <td>0.00</td>\n",
       "      <td>0.0</td>\n",
       "      <td>0.0</td>\n",
       "      <td>0.0</td>\n",
       "      <td>0.0</td>\n",
       "      <td>0.00</td>\n",
       "      <td>0.00</td>\n",
       "      <td>0.0</td>\n",
       "      <td>0.00</td>\n",
       "      <td>0.00</td>\n",
       "      <td>0.0</td>\n",
       "      <td>4952.16</td>\n",
       "      <td>4952.16</td>\n",
       "      <td>39194.08</td>\n",
       "    </tr>\n",
       "    <tr>\n",
       "      <th>1</th>\n",
       "      <td>Acabados para la construcción</td>\n",
       "      <td>Costa Rica</td>\n",
       "      <td>0.00</td>\n",
       "      <td>0.00</td>\n",
       "      <td>0.0</td>\n",
       "      <td>0.0</td>\n",
       "      <td>0.0</td>\n",
       "      <td>0.0</td>\n",
       "      <td>0.00</td>\n",
       "      <td>0.00</td>\n",
       "      <td>0.0</td>\n",
       "      <td>0.00</td>\n",
       "      <td>0.00</td>\n",
       "      <td>0.0</td>\n",
       "      <td>518350.78</td>\n",
       "      <td>439976.84</td>\n",
       "      <td>702109.14</td>\n",
       "    </tr>\n",
       "    <tr>\n",
       "      <th>2</th>\n",
       "      <td>Acabados para la construcción</td>\n",
       "      <td>Ecuador</td>\n",
       "      <td>0.00</td>\n",
       "      <td>0.00</td>\n",
       "      <td>0.0</td>\n",
       "      <td>0.0</td>\n",
       "      <td>0.0</td>\n",
       "      <td>0.0</td>\n",
       "      <td>0.00</td>\n",
       "      <td>0.00</td>\n",
       "      <td>0.0</td>\n",
       "      <td>0.00</td>\n",
       "      <td>0.00</td>\n",
       "      <td>0.0</td>\n",
       "      <td>3626532.27</td>\n",
       "      <td>2918728.95</td>\n",
       "      <td>2734792.83</td>\n",
       "    </tr>\n",
       "    <tr>\n",
       "      <th>3</th>\n",
       "      <td>Acabados para la construcción</td>\n",
       "      <td>Honduras</td>\n",
       "      <td>0.00</td>\n",
       "      <td>0.00</td>\n",
       "      <td>0.0</td>\n",
       "      <td>0.0</td>\n",
       "      <td>0.0</td>\n",
       "      <td>0.0</td>\n",
       "      <td>0.00</td>\n",
       "      <td>0.00</td>\n",
       "      <td>0.0</td>\n",
       "      <td>0.00</td>\n",
       "      <td>0.00</td>\n",
       "      <td>0.0</td>\n",
       "      <td>0.00</td>\n",
       "      <td>0.00</td>\n",
       "      <td>0.00</td>\n",
       "    </tr>\n",
       "    <tr>\n",
       "      <th>4</th>\n",
       "      <td>Acabados para la construcción</td>\n",
       "      <td>México</td>\n",
       "      <td>0.00</td>\n",
       "      <td>0.00</td>\n",
       "      <td>0.0</td>\n",
       "      <td>0.0</td>\n",
       "      <td>0.0</td>\n",
       "      <td>0.0</td>\n",
       "      <td>0.00</td>\n",
       "      <td>0.00</td>\n",
       "      <td>0.0</td>\n",
       "      <td>0.00</td>\n",
       "      <td>0.00</td>\n",
       "      <td>0.0</td>\n",
       "      <td>304120.87</td>\n",
       "      <td>304120.87</td>\n",
       "      <td>105904.48</td>\n",
       "    </tr>\n",
       "    <tr>\n",
       "      <th>...</th>\n",
       "      <td>...</td>\n",
       "      <td>...</td>\n",
       "      <td>...</td>\n",
       "      <td>...</td>\n",
       "      <td>...</td>\n",
       "      <td>...</td>\n",
       "      <td>...</td>\n",
       "      <td>...</td>\n",
       "      <td>...</td>\n",
       "      <td>...</td>\n",
       "      <td>...</td>\n",
       "      <td>...</td>\n",
       "      <td>...</td>\n",
       "      <td>...</td>\n",
       "      <td>...</td>\n",
       "      <td>...</td>\n",
       "      <td>...</td>\n",
       "    </tr>\n",
       "    <tr>\n",
       "      <th>186</th>\n",
       "      <td>Textiles</td>\n",
       "      <td>Paraguay</td>\n",
       "      <td>107066.26</td>\n",
       "      <td>68765.77</td>\n",
       "      <td>210632.7</td>\n",
       "      <td>4.0</td>\n",
       "      <td>3.0</td>\n",
       "      <td>4.0</td>\n",
       "      <td>77002.37</td>\n",
       "      <td>38701.88</td>\n",
       "      <td>209432.7</td>\n",
       "      <td>77002.37</td>\n",
       "      <td>38701.88</td>\n",
       "      <td>191341.7</td>\n",
       "      <td>0.00</td>\n",
       "      <td>0.00</td>\n",
       "      <td>0.00</td>\n",
       "    </tr>\n",
       "    <tr>\n",
       "      <th>187</th>\n",
       "      <td>Uniformes</td>\n",
       "      <td>Estados Unidos</td>\n",
       "      <td>0.00</td>\n",
       "      <td>0.00</td>\n",
       "      <td>0.0</td>\n",
       "      <td>0.0</td>\n",
       "      <td>0.0</td>\n",
       "      <td>0.0</td>\n",
       "      <td>0.00</td>\n",
       "      <td>0.00</td>\n",
       "      <td>0.0</td>\n",
       "      <td>0.00</td>\n",
       "      <td>0.00</td>\n",
       "      <td>0.0</td>\n",
       "      <td>0.00</td>\n",
       "      <td>0.00</td>\n",
       "      <td>0.00</td>\n",
       "    </tr>\n",
       "    <tr>\n",
       "      <th>188</th>\n",
       "      <td>Vestidos de baño y ropa de playa</td>\n",
       "      <td>Emiratos Árabes Unidos</td>\n",
       "      <td>0.00</td>\n",
       "      <td>0.00</td>\n",
       "      <td>0.0</td>\n",
       "      <td>0.0</td>\n",
       "      <td>0.0</td>\n",
       "      <td>0.0</td>\n",
       "      <td>0.00</td>\n",
       "      <td>0.00</td>\n",
       "      <td>0.0</td>\n",
       "      <td>0.00</td>\n",
       "      <td>0.00</td>\n",
       "      <td>0.0</td>\n",
       "      <td>0.00</td>\n",
       "      <td>0.00</td>\n",
       "      <td>0.00</td>\n",
       "    </tr>\n",
       "    <tr>\n",
       "      <th>189</th>\n",
       "      <td>Vestidos de baño y ropa de playa</td>\n",
       "      <td>Estados Unidos</td>\n",
       "      <td>0.00</td>\n",
       "      <td>0.00</td>\n",
       "      <td>0.0</td>\n",
       "      <td>0.0</td>\n",
       "      <td>0.0</td>\n",
       "      <td>0.0</td>\n",
       "      <td>0.00</td>\n",
       "      <td>0.00</td>\n",
       "      <td>0.0</td>\n",
       "      <td>0.00</td>\n",
       "      <td>0.00</td>\n",
       "      <td>0.0</td>\n",
       "      <td>0.00</td>\n",
       "      <td>0.00</td>\n",
       "      <td>0.00</td>\n",
       "    </tr>\n",
       "    <tr>\n",
       "      <th>190</th>\n",
       "      <td>Vestidos de baño y ropa de playa</td>\n",
       "      <td>Turquía</td>\n",
       "      <td>0.00</td>\n",
       "      <td>0.00</td>\n",
       "      <td>0.0</td>\n",
       "      <td>0.0</td>\n",
       "      <td>0.0</td>\n",
       "      <td>0.0</td>\n",
       "      <td>0.00</td>\n",
       "      <td>0.00</td>\n",
       "      <td>0.0</td>\n",
       "      <td>0.00</td>\n",
       "      <td>0.00</td>\n",
       "      <td>0.0</td>\n",
       "      <td>0.00</td>\n",
       "      <td>0.00</td>\n",
       "      <td>0.00</td>\n",
       "    </tr>\n",
       "  </tbody>\n",
       "</table>\n",
       "<p>191 rows × 17 columns</p>\n",
       "</div>"
      ],
      "text/plain": [
       "                           Subsector                  Mercado  Monto 2020 USD  \\\n",
       "0       Acabados para la construcción                   Chile            0.00   \n",
       "1       Acabados para la construcción              Costa Rica            0.00   \n",
       "2       Acabados para la construcción                 Ecuador            0.00   \n",
       "3       Acabados para la construcción                Honduras            0.00   \n",
       "4       Acabados para la construcción                  México            0.00   \n",
       "..                                ...                     ...             ...   \n",
       "186                          Textiles                Paraguay       107066.26   \n",
       "187                         Uniformes          Estados Unidos            0.00   \n",
       "188  Vestidos de baño y ropa de playa  Emiratos Árabes Unidos            0.00   \n",
       "189  Vestidos de baño y ropa de playa          Estados Unidos            0.00   \n",
       "190  Vestidos de baño y ropa de playa                 Turquía            0.00   \n",
       "\n",
       "     Monto 2020 USD (Ene-Nov)  Monto 2021 USD (Ene-Nov)  \\\n",
       "0                        0.00                       0.0   \n",
       "1                        0.00                       0.0   \n",
       "2                        0.00                       0.0   \n",
       "3                        0.00                       0.0   \n",
       "4                        0.00                       0.0   \n",
       "..                        ...                       ...   \n",
       "186                  68765.77                  210632.7   \n",
       "187                      0.00                       0.0   \n",
       "188                      0.00                       0.0   \n",
       "189                      0.00                       0.0   \n",
       "190                      0.00                       0.0   \n",
       "\n",
       "     Numero de Empresas 2020 USD  Numero de Empresas 2020 USD (Ene-Nov)  \\\n",
       "0                            0.0                                    0.0   \n",
       "1                            0.0                                    0.0   \n",
       "2                            0.0                                    0.0   \n",
       "3                            0.0                                    0.0   \n",
       "4                            0.0                                    0.0   \n",
       "..                           ...                                    ...   \n",
       "186                          4.0                                    3.0   \n",
       "187                          0.0                                    0.0   \n",
       "188                          0.0                                    0.0   \n",
       "189                          0.0                                    0.0   \n",
       "190                          0.0                                    0.0   \n",
       "\n",
       "     Numero de Empresas 2021 USD (Ene-Nov)  Exportaciónes Indirectas 2020 USD  \\\n",
       "0                                      0.0                               0.00   \n",
       "1                                      0.0                               0.00   \n",
       "2                                      0.0                               0.00   \n",
       "3                                      0.0                               0.00   \n",
       "4                                      0.0                               0.00   \n",
       "..                                     ...                                ...   \n",
       "186                                    4.0                           77002.37   \n",
       "187                                    0.0                               0.00   \n",
       "188                                    0.0                               0.00   \n",
       "189                                    0.0                               0.00   \n",
       "190                                    0.0                               0.00   \n",
       "\n",
       "     Exportaciónes Indirectas 2020 USD (Ene-Nov)  \\\n",
       "0                                           0.00   \n",
       "1                                           0.00   \n",
       "2                                           0.00   \n",
       "3                                           0.00   \n",
       "4                                           0.00   \n",
       "..                                           ...   \n",
       "186                                     38701.88   \n",
       "187                                         0.00   \n",
       "188                                         0.00   \n",
       "189                                         0.00   \n",
       "190                                         0.00   \n",
       "\n",
       "     Exportaciónes Indirectas 2021 USD (Ene-Nov)  \\\n",
       "0                                            0.0   \n",
       "1                                            0.0   \n",
       "2                                            0.0   \n",
       "3                                            0.0   \n",
       "4                                            0.0   \n",
       "..                                           ...   \n",
       "186                                     209432.7   \n",
       "187                                          0.0   \n",
       "188                                          0.0   \n",
       "189                                          0.0   \n",
       "190                                          0.0   \n",
       "\n",
       "     Exportaciónes Quienes 2020 USD  Exportaciónes Quienes 2020 USD (Ene-Nov)  \\\n",
       "0                              0.00                                      0.00   \n",
       "1                              0.00                                      0.00   \n",
       "2                              0.00                                      0.00   \n",
       "3                              0.00                                      0.00   \n",
       "4                              0.00                                      0.00   \n",
       "..                              ...                                       ...   \n",
       "186                        77002.37                                  38701.88   \n",
       "187                            0.00                                      0.00   \n",
       "188                            0.00                                      0.00   \n",
       "189                            0.00                                      0.00   \n",
       "190                            0.00                                      0.00   \n",
       "\n",
       "     Exportaciónes Quienes 2021 USD (Ene-Nov)  \\\n",
       "0                                         0.0   \n",
       "1                                         0.0   \n",
       "2                                         0.0   \n",
       "3                                         0.0   \n",
       "4                                         0.0   \n",
       "..                                        ...   \n",
       "186                                  191341.7   \n",
       "187                                       0.0   \n",
       "188                                       0.0   \n",
       "189                                       0.0   \n",
       "190                                       0.0   \n",
       "\n",
       "     Exportaciónes Quienes Procolombia 2020 USD  \\\n",
       "0                                       4952.16   \n",
       "1                                     518350.78   \n",
       "2                                    3626532.27   \n",
       "3                                          0.00   \n",
       "4                                     304120.87   \n",
       "..                                          ...   \n",
       "186                                        0.00   \n",
       "187                                        0.00   \n",
       "188                                        0.00   \n",
       "189                                        0.00   \n",
       "190                                        0.00   \n",
       "\n",
       "     Exportaciónes Quienes Procolombia 2020 USD (Ene-Nov)  \\\n",
       "0                                              4952.16      \n",
       "1                                            439976.84      \n",
       "2                                           2918728.95      \n",
       "3                                                 0.00      \n",
       "4                                            304120.87      \n",
       "..                                                 ...      \n",
       "186                                               0.00      \n",
       "187                                               0.00      \n",
       "188                                               0.00      \n",
       "189                                               0.00      \n",
       "190                                               0.00      \n",
       "\n",
       "     Exportaciónes Quienes Procolombia 2021 USD (Ene-Nov)  \n",
       "0                                             39194.08     \n",
       "1                                            702109.14     \n",
       "2                                           2734792.83     \n",
       "3                                                 0.00     \n",
       "4                                            105904.48     \n",
       "..                                                 ...     \n",
       "186                                               0.00     \n",
       "187                                               0.00     \n",
       "188                                               0.00     \n",
       "189                                               0.00     \n",
       "190                                               0.00     \n",
       "\n",
       "[191 rows x 17 columns]"
      ]
     },
     "execution_count": 542,
     "metadata": {},
     "output_type": "execute_result"
    }
   ],
   "source": [
    "df"
   ]
  },
  {
   "cell_type": "code",
   "execution_count": 543,
   "id": "e4e53d06",
   "metadata": {},
   "outputs": [
    {
     "data": {
      "text/html": [
       "<a href='Planes_Sectoriales_Python.xlsx' target='_blank'>Planes_Sectoriales_Python.xlsx</a><br>"
      ],
      "text/plain": [
       "C:\\Users\\user\\Documents\\Codigos Python\\Planes Sectoriales\\Planes_Sectoriales_Python.xlsx"
      ]
     },
     "execution_count": 543,
     "metadata": {},
     "output_type": "execute_result"
    }
   ],
   "source": [
    "writer = pd.ExcelWriter('Planes_Sectoriales_Python.xlsx')\n",
    "df.to_excel(writer)\n",
    "writer.save()\n",
    "from IPython.display import FileLink\n",
    "FileLink('Planes_Sectoriales_Python.xlsx')"
   ]
  },
  {
   "cell_type": "code",
   "execution_count": null,
   "id": "2ed8dacb",
   "metadata": {},
   "outputs": [],
   "source": []
  }
 ],
 "metadata": {
  "kernelspec": {
   "display_name": "Python 3",
   "language": "python",
   "name": "python3"
  },
  "language_info": {
   "codemirror_mode": {
    "name": "ipython",
    "version": 3
   },
   "file_extension": ".py",
   "mimetype": "text/x-python",
   "name": "python",
   "nbconvert_exporter": "python",
   "pygments_lexer": "ipython3",
   "version": "3.8.8"
  }
 },
 "nbformat": 4,
 "nbformat_minor": 5
}

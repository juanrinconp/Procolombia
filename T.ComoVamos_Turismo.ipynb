{
 "cells": [
  {
   "cell_type": "markdown",
   "id": "aac879d5",
   "metadata": {},
   "source": [
    "# Tablero Como vamos\n",
    "## Vicepresidencia de Planeación - Turismo"
   ]
  },
  {
   "cell_type": "code",
   "execution_count": 1,
   "id": "ef33cf0f",
   "metadata": {},
   "outputs": [],
   "source": [
    "import pandas as pd \n",
    "import numpy as np \n",
    "import matplotlib.pyplot as plt \n",
    "import matplotlib as mpl \n",
    "import six\n",
    "import os \n",
    "\n",
    "pathout = './data/'\n",
    "if not os.path.exists(pathout):\n",
    "    os.mkdir(pathout) \n",
    "    pathgraphs = './graphs/'\n",
    "    if not os.path.exists(pathgraphs): \n",
    "        os.mkdir(pathgraphs)"
   ]
  },
  {
   "cell_type": "code",
   "execution_count": 2,
   "id": "7d4025a8",
   "metadata": {},
   "outputs": [],
   "source": [
    "Metas = pd.read_excel(pathout + 'Metas.xlsx')"
   ]
  },
  {
   "cell_type": "code",
   "execution_count": 3,
   "id": "a8b48f0c",
   "metadata": {},
   "outputs": [],
   "source": [
    "Negocios = pd.read_excel(pathout + 'Negocios.xlsx')"
   ]
  },
  {
   "cell_type": "code",
   "execution_count": 4,
   "id": "82605f22",
   "metadata": {},
   "outputs": [],
   "source": [
    "Oportunidades = pd.read_excel(pathout + 'Oportunidades.xlsx')"
   ]
  },
  {
   "cell_type": "code",
   "execution_count": 5,
   "id": "ccc69bb0",
   "metadata": {},
   "outputs": [],
   "source": [
    "ENacionales = pd.read_excel(pathout + 'Empresas_nacionales.xlsx')"
   ]
  },
  {
   "cell_type": "code",
   "execution_count": 6,
   "id": "35c00785",
   "metadata": {},
   "outputs": [],
   "source": [
    "Frecuencias = pd.read_excel(pathout + 'Frecuencias.xlsx')"
   ]
  },
  {
   "cell_type": "code",
   "execution_count": 63,
   "id": "5c09e782",
   "metadata": {},
   "outputs": [],
   "source": [
    "#ProyectoseHitos = pd.read_excel(pathout + 'ProyectoseHitos.xlsx')"
   ]
  },
  {
   "cell_type": "code",
   "execution_count": 129,
   "id": "8ffabcca",
   "metadata": {},
   "outputs": [],
   "source": [
    "ProyectoseHitos = pd.read_csv(pathout + 'ProyectoseHitos.csv' , delimiter = ';' ,  encoding = 'iso-8859-1')"
   ]
  },
  {
   "cell_type": "code",
   "execution_count": 9,
   "id": "bb491fe9",
   "metadata": {},
   "outputs": [],
   "source": [
    "AsistentesPFE =  pd.read_excel(pathout + 'asistentesPFE.xlsx')"
   ]
  },
  {
   "cell_type": "code",
   "execution_count": 228,
   "id": "ded1abc3",
   "metadata": {},
   "outputs": [],
   "source": [
    "añoactual = 2021\n",
    "añoanterior = 2020\n",
    "trimestre = 4\n",
    "\n",
    "#Fecha en Formato aaaa/mm/dd para la base de Tableau 12a\n",
    "negociosañoactual = '2021-01-01'\n",
    "fechaactual  = '2021-11-01'\n",
    "fechaactual2  = '1/01/2021'\n",
    "fechaanterior2 = '1/01/2020'\n",
    "eneroañoanterior = '2020-01-01'\n",
    "fechaactual_añoanterior = '2020-11-01'\n",
    "diciembreañoanterior = '2020-12-31'"
   ]
  },
  {
   "cell_type": "code",
   "execution_count": 229,
   "id": "826f48e6",
   "metadata": {},
   "outputs": [],
   "source": [
    "MetasT =  Metas.drop(Metas[Metas['Meta: Eje'] != 'Turismo'].index)\n",
    "MetasT = MetasT.drop(MetasT[MetasT['Meta: Año'] !=  añoactual].index)\n",
    "MetasTQ = MetasT.drop(MetasT[MetasT['Meta: Período'] > trimestre].index)\n",
    "\n",
    "MetasT_Anterior =  Metas.drop(Metas[Metas['Meta: Eje'] != 'Turismo'].index)\n",
    "MetasT_Anterior = MetasT_Anterior.drop(MetasT_Anterior[MetasT_Anterior['Meta: Año'] !=  añoanterior].index)\n",
    "MetasTQ_Anterior = MetasT_Anterior.drop(MetasT_Anterior[MetasT_Anterior['Meta: Período'] > trimestre].index)\n"
   ]
  },
  {
   "cell_type": "code",
   "execution_count": 230,
   "id": "8861bb6a",
   "metadata": {},
   "outputs": [],
   "source": [
    "NegociosT = Negocios.drop(Negocios[Negocios['Logro: Eje'] != 'Turismo'].index)\n",
    "NegociosT = NegociosT.drop(NegociosT[NegociosT['Meta 1 responsable Colombia: Año'] !=  añoactual].index)\n",
    "\n",
    "NegociosTA = Negocios.drop(Negocios[Negocios['Logro: Eje'] != 'Turismo'].index)\n",
    "NegociosTA = NegociosTA.drop(NegociosTA[NegociosTA['Meta 1 responsable Colombia: Año'] !=  añoanterior].index)\n"
   ]
  },
  {
   "cell_type": "markdown",
   "id": "e59a4da8",
   "metadata": {},
   "source": [
    "### Metas y Metas Q"
   ]
  },
  {
   "cell_type": "markdown",
   "id": "71657569",
   "metadata": {},
   "source": [
    "#### 2021"
   ]
  },
  {
   "cell_type": "code",
   "execution_count": 231,
   "id": "7f52eb06",
   "metadata": {},
   "outputs": [],
   "source": [
    "MetasT = MetasT.groupby(['Meta: Tipo meta funcionario' , 'E_HUB2019' , \n",
    "                   'E_Localización' , 'E_Clasificación' , \n",
    "                   'Meta: Nombre del propietario' , 'E_Rol',\n",
    "                  'Tipo de Indicador' , 'Meta: Tipo de meta'])['Meta: Valor meta'].sum().reset_index()\n",
    "\n",
    "MetasTQ = MetasTQ.groupby(['Meta: Tipo meta funcionario' , 'E_HUB2019' , \n",
    "                   'E_Localización' , 'E_Clasificación' , \n",
    "                   'Meta: Nombre del propietario' , 'E_Rol',\n",
    "                  'Tipo de Indicador' , 'Meta: Tipo de meta'])['Meta: Valor meta'].sum().reset_index()"
   ]
  },
  {
   "cell_type": "code",
   "execution_count": 232,
   "id": "09cc238a",
   "metadata": {},
   "outputs": [],
   "source": [
    "\n",
    "TFinal = MetasT.merge(MetasTQ, how='outer', left_on=['Meta: Tipo meta funcionario' , 'E_HUB2019' , \n",
    "                   'E_Localización' , 'E_Clasificación' , \n",
    "                   'Meta: Nombre del propietario' , 'E_Rol',\n",
    "                  'Tipo de Indicador' , 'Meta: Tipo de meta'], right_on=['Meta: Tipo meta funcionario' , 'E_HUB2019' , \n",
    "                   'E_Localización' , 'E_Clasificación' , \n",
    "                   'Meta: Nombre del propietario' , 'E_Rol',\n",
    "                  'Tipo de Indicador' , 'Meta: Tipo de meta']).fillna(0)\n",
    "\n",
    "TFinal.rename(columns={'Meta: Valor meta_x': 'Meta Total' , 'Meta: Valor meta_y': 'Meta Q'}, inplace=True)\n",
    "\n",
    "\n"
   ]
  },
  {
   "cell_type": "markdown",
   "id": "1ea63de3",
   "metadata": {},
   "source": [
    "### Captación de Congresos y Eventos"
   ]
  },
  {
   "cell_type": "markdown",
   "id": "1757c760",
   "metadata": {},
   "source": [
    "#### 2021"
   ]
  },
  {
   "cell_type": "code",
   "execution_count": 233,
   "id": "6697e0d1",
   "metadata": {},
   "outputs": [],
   "source": [
    "Negocios_Captacion_2021 = NegociosT.drop(NegociosT[NegociosT['Logro: Tipo de registro'] !=  'Captación de Eventos'].index)\n",
    "\n",
    "Negocios_Captacion_Col_2021 = Negocios_Captacion_2021.groupby(['Logro: Responsable Colombia' , 'Logro: Tipo de registro' \n",
    "                                                          ])['Logro: Valor'].sum().reset_index()\n",
    "\n",
    "Negocios_Captacion_Ext_2021 = Negocios_Captacion_2021.groupby(['Logro: Responsable en el Exterior 1' , 'Logro: Tipo de registro' \n",
    "                                                          ])['Logro: Valor'].sum().reset_index()\n",
    "\n",
    "\n",
    "Negocios_Captacion_Col_2021.rename(columns={'Logro: Responsable Colombia': 'Meta: Nombre del propietario'}, inplace=True)\n",
    "Negocios_Captacion_Ext_2021.rename(columns={'Logro: Responsable en el Exterior 1': 'Meta: Nombre del propietario'}, inplace=True)\n",
    "\n",
    "Negocios_Captacion_2021 = Negocios_Captacion_Col_2021.append(Negocios_Captacion_Ext_2021)\n",
    "Negocios_Captacion_2021.rename(columns={'Logro: Tipo de registro': 'Meta: Tipo de meta'}, inplace=True)\n",
    "\n",
    "#Falta captacion de Congresos\n",
    "\n",
    "Negocios_CaptacionCyE_2021 = Negocios_Captacion_2021\n",
    "\n",
    "Negocios_CaptacionCyE_2021 = (Negocios_CaptacionCyE_2021.replace('Captación de Eventos', 'Captación de Congresos y Eventos'))"
   ]
  },
  {
   "cell_type": "code",
   "execution_count": 234,
   "id": "50c08133",
   "metadata": {},
   "outputs": [],
   "source": [
    "TFinal = TFinal.merge(Negocios_CaptacionCyE_2021, how='outer', left_on=['Meta: Nombre del propietario' , 'Meta: Tipo de meta'], \n",
    "                      right_on=['Meta: Nombre del propietario' , 'Meta: Tipo de meta']).fillna(0)"
   ]
  },
  {
   "cell_type": "markdown",
   "id": "c7fcdd67",
   "metadata": {},
   "source": [
    "#### 2020"
   ]
  },
  {
   "cell_type": "code",
   "execution_count": 235,
   "id": "8438390a",
   "metadata": {},
   "outputs": [],
   "source": [
    "Negocios_Captacion_2020 = NegociosTA.drop(NegociosTA[NegociosTA['Logro: Tipo de registro'] !=  'Captación de Eventos'].index)\n",
    "\n",
    "Negocios_Captacion_Col_2020 = Negocios_Captacion_2020.groupby(['Logro: Responsable Colombia' , 'Logro: Tipo de registro' \n",
    "                                                          ])['Logro: Valor'].sum().reset_index()\n",
    "\n",
    "Negocios_Captacion_Ext_2020 = Negocios_Captacion_2020.groupby(['Logro: Responsable en el Exterior 1' , 'Logro: Tipo de registro' \n",
    "                                                          ])['Logro: Valor'].sum().reset_index()\n",
    "\n",
    "\n",
    "Negocios_Captacion_Col_2020.rename(columns={'Logro: Responsable Colombia': 'Meta: Nombre del propietario'}, inplace=True)\n",
    "Negocios_Captacion_Ext_2020.rename(columns={'Logro: Responsable en el Exterior 1': 'Meta: Nombre del propietario'}, inplace=True)\n",
    "\n",
    "Negocios_Captacion_2020 = Negocios_Captacion_Col_2020.append(Negocios_Captacion_Ext_2020)\n",
    "Negocios_Captacion_2020.rename(columns={'Logro: Tipo de registro': 'Meta: Tipo de meta'}, inplace=True)\n",
    "\n",
    "#Falta captacion de Congresos\n",
    "\n",
    "Negocios_CaptacionCyE_2020 = Negocios_Captacion_2020\n",
    "\n",
    "Negocios_CaptacionCyE_2020 = (Negocios_CaptacionCyE_2020.replace('Captación de Eventos', 'Captación de Congresos y Eventos'))\n",
    "Negocios_CaptacionCyE_2020.rename(columns={'Logro: Valor': 'Valor 2020'}, inplace=True)"
   ]
  },
  {
   "cell_type": "code",
   "execution_count": 236,
   "id": "71fdfb44",
   "metadata": {},
   "outputs": [],
   "source": [
    "TFinal = TFinal.merge(Negocios_CaptacionCyE_2020, how='outer', left_on=['Meta: Nombre del propietario' , 'Meta: Tipo de meta'], \n",
    "                      right_on=['Meta: Nombre del propietario' , 'Meta: Tipo de meta']).fillna(0)"
   ]
  },
  {
   "cell_type": "markdown",
   "id": "93c5aa2e",
   "metadata": {},
   "source": [
    "### Oportunidades en Etapa 0 y 1"
   ]
  },
  {
   "cell_type": "markdown",
   "id": "e9228330",
   "metadata": {},
   "source": [
    "#### 2021"
   ]
  },
  {
   "cell_type": "code",
   "execution_count": 237,
   "id": "d823b13f",
   "metadata": {},
   "outputs": [],
   "source": [
    "OportT = Oportunidades.drop(Oportunidades[Oportunidades['E_Año'] != añoactual].index)\n",
    "OportT = OportT.drop(OportT[OportT['Oportunidad: Tipo de registro'] != 'Conectividad aérea'].index)\n",
    "OportT_0y1 = OportT.drop(OportT[OportT['Oportunidad: Etapa'] == 5].index)\n",
    "OportT_0y1 = OportT_0y1.drop(OportT_0y1[OportT_0y1['Oportunidad: Etapa'] == 2].index)\n",
    "OportT_0y1 = OportT_0y1.drop(OportT_0y1[OportT_0y1['Oportunidad: Etapa'] == 3].index)\n",
    "OportT_0y1 = OportT_0y1.drop(OportT_0y1[OportT_0y1['Oportunidad: Etapa'] == 4].index)\n",
    "OportT_0y1 = OportT_0y1.groupby(['Oportunidad: Responsable en Colombia'])['Oportunidad: Consecutivo'].count().reset_index()\n",
    "\n",
    "OportT_0y1.rename(columns={'Oportunidad: Consecutivo': 'Logro: Valor' , \n",
    "                       'Oportunidad: Responsable en Colombia': 'Meta: Nombre del propietario'}, inplace=True)\n",
    "\n",
    "OportT_0y1['Meta: Tipo de meta'] = 'Número de oportunidades en etapa 0 y 1'\n",
    "\n"
   ]
  },
  {
   "cell_type": "code",
   "execution_count": 238,
   "id": "22295be3",
   "metadata": {},
   "outputs": [],
   "source": [
    "TFinal = TFinal.merge(OportT_0y1, how='outer', left_on=['Meta: Nombre del propietario' , 'Meta: Tipo de meta'], \n",
    "                      right_on=['Meta: Nombre del propietario' , 'Meta: Tipo de meta']).fillna(0)"
   ]
  },
  {
   "cell_type": "code",
   "execution_count": 239,
   "id": "0a4e7b80",
   "metadata": {},
   "outputs": [],
   "source": [
    "TFinal['Valor'] = TFinal['Logro: Valor_x'] + TFinal['Logro: Valor_y']\n",
    "TFinal = TFinal.drop(columns=['Logro: Valor_x', 'Logro: Valor_y'])\n"
   ]
  },
  {
   "cell_type": "markdown",
   "id": "7bccba80",
   "metadata": {},
   "source": [
    "#### 2020"
   ]
  },
  {
   "cell_type": "code",
   "execution_count": 240,
   "id": "b44722f0",
   "metadata": {},
   "outputs": [],
   "source": [
    "OportTA = Oportunidades.drop(Oportunidades[Oportunidades['E_Año'] != añoactual].index)\n",
    "OportTA = OportT.drop(OportT[OportT['Oportunidad: Tipo de registro'] != 'Conectividad aérea'].index)\n",
    "OportTA_0y1 = OportTA.drop(OportTA[OportTA['Oportunidad: Etapa'] == 5].index)\n",
    "OportTA_0y1 = OportTA_0y1.drop(OportTA_0y1[OportTA_0y1['Oportunidad: Etapa'] == 2].index)\n",
    "OportTA_0y1 = OportTA_0y1.drop(OportTA_0y1[OportTA_0y1['Oportunidad: Etapa'] == 3].index)\n",
    "OportTA_0y1 = OportTA_0y1.drop(OportTA_0y1[OportTA_0y1['Oportunidad: Etapa'] == 4].index)\n",
    "OportTA_0y1 = OportTA_0y1.groupby(['Oportunidad: Responsable en Colombia'])['Oportunidad: Consecutivo'].count().reset_index()\n",
    "\n",
    "OportTA_0y1.rename(columns={'Oportunidad: Consecutivo': 'Valor 2020' , \n",
    "                       'Oportunidad: Responsable en Colombia': 'Meta: Nombre del propietario'}, inplace=True)\n",
    "\n",
    "OportTA_0y1['Meta: Tipo de meta'] = 'Número de oportunidades en etapa 0 y 1'\n",
    "\n"
   ]
  },
  {
   "cell_type": "code",
   "execution_count": 241,
   "id": "71bd7ce0",
   "metadata": {},
   "outputs": [],
   "source": [
    "TFinal = TFinal.merge(OportTA_0y1, how='outer', left_on=['Meta: Nombre del propietario' , 'Meta: Tipo de meta'], \n",
    "                      right_on=['Meta: Nombre del propietario' , 'Meta: Tipo de meta']).fillna(0)"
   ]
  },
  {
   "cell_type": "code",
   "execution_count": 242,
   "id": "5dab21d6",
   "metadata": {},
   "outputs": [],
   "source": [
    "TFinal['Valor 2020'] = TFinal['Valor 2020_x'] + TFinal['Valor 2020_y']\n",
    "TFinal = TFinal.drop(columns=['Valor 2020_x', 'Valor 2020_y'])"
   ]
  },
  {
   "cell_type": "markdown",
   "id": "7eddfe5e",
   "metadata": {},
   "source": [
    "### Oportunidades en Etapa 2 y 3"
   ]
  },
  {
   "cell_type": "markdown",
   "id": "a6fe4cfe",
   "metadata": {},
   "source": [
    "#### 2021"
   ]
  },
  {
   "cell_type": "code",
   "execution_count": 243,
   "id": "fd979e8d",
   "metadata": {},
   "outputs": [],
   "source": [
    "OportT = Oportunidades.drop(Oportunidades[Oportunidades['E_Año'] != añoactual].index)\n",
    "OportT = OportT.drop(OportT[OportT['Oportunidad: Tipo de registro'] != 'Conectividad aérea'].index)\n",
    "OportT_2y3 = OportT.drop(OportT[OportT['Oportunidad: Etapa'] == 5].index)\n",
    "OportT_2y3 = OportT_2y3.drop(OportT_2y3[OportT_2y3['Oportunidad: Etapa'] == 0].index)\n",
    "OportT_2y3 = OportT_2y3.drop(OportT_2y3[OportT_2y3['Oportunidad: Etapa'] == 1].index)\n",
    "OportT_2y3 = OportT_2y3.drop(OportT_2y3[OportT_2y3['Oportunidad: Etapa'] == 4].index)\n",
    "OportT_2y3 = OportT_2y3.groupby(['Oportunidad: Responsable en Colombia'])['Oportunidad: Consecutivo'].count().reset_index()\n",
    "\n",
    "OportT_2y3.rename(columns={'Oportunidad: Consecutivo': 'Logro: Valor' , \n",
    "                       'Oportunidad: Responsable en Colombia': 'Meta: Nombre del propietario'}, inplace=True)\n",
    "\n",
    "OportT_2y3['Meta: Tipo de meta'] = 'Número de oportunidades en etapa 2 y 3'\n"
   ]
  },
  {
   "cell_type": "code",
   "execution_count": 244,
   "id": "fb92bca4",
   "metadata": {},
   "outputs": [],
   "source": [
    "TFinal = TFinal.merge(OportT_2y3, how='outer', left_on=['Meta: Nombre del propietario' , 'Meta: Tipo de meta'], \n",
    "                      right_on=['Meta: Nombre del propietario' , 'Meta: Tipo de meta']).fillna(0)"
   ]
  },
  {
   "cell_type": "code",
   "execution_count": 245,
   "id": "041fd713",
   "metadata": {},
   "outputs": [],
   "source": [
    "\n",
    "TFinal['Valor'] = TFinal['Valor'] + TFinal['Logro: Valor']\n",
    "TFinal = TFinal.drop(columns=['Logro: Valor'])\n"
   ]
  },
  {
   "cell_type": "markdown",
   "id": "dbadbf90",
   "metadata": {},
   "source": [
    "#### 2020"
   ]
  },
  {
   "cell_type": "code",
   "execution_count": 246,
   "id": "8bacb254",
   "metadata": {},
   "outputs": [],
   "source": [
    "OportTA = Oportunidades.drop(Oportunidades[Oportunidades['E_Año'] != añoanterior].index)\n",
    "OportTA = OportTA.drop(OportTA[OportTA['Oportunidad: Tipo de registro'] != 'Conectividad aérea'].index)\n",
    "OportTA_2y3 = OportTA.drop(OportTA[OportTA['Oportunidad: Etapa'] == 5].index)\n",
    "OportTA_2y3 = OportTA_2y3.drop(OportTA_2y3[OportTA_2y3['Oportunidad: Etapa'] == 0].index)\n",
    "OportTA_2y3 = OportTA_2y3.drop(OportTA_2y3[OportTA_2y3['Oportunidad: Etapa'] == 1].index)\n",
    "OportTA_2y3 = OportTA_2y3.drop(OportTA_2y3[OportTA_2y3['Oportunidad: Etapa'] == 4].index)\n",
    "OportTA_2y3 = OportTA_2y3.groupby(['Oportunidad: Responsable en Colombia'])['Oportunidad: Consecutivo'].count().reset_index()\n",
    "\n",
    "OportTA_2y3.rename(columns={'Oportunidad: Consecutivo': 'Valor 2020' , \n",
    "                       'Oportunidad: Responsable en Colombia': 'Meta: Nombre del propietario'}, inplace=True)\n",
    "\n",
    "OportTA_2y3['Meta: Tipo de meta'] = 'Número de oportunidades en etapa 2 y 3'"
   ]
  },
  {
   "cell_type": "code",
   "execution_count": 247,
   "id": "fa6a83d3",
   "metadata": {},
   "outputs": [],
   "source": [
    "TFinal = TFinal.merge(OportTA_2y3, how='outer', left_on=['Meta: Nombre del propietario' , 'Meta: Tipo de meta'], \n",
    "                      right_on=['Meta: Nombre del propietario' , 'Meta: Tipo de meta']).fillna(0)"
   ]
  },
  {
   "cell_type": "code",
   "execution_count": 248,
   "id": "ae70ad74",
   "metadata": {},
   "outputs": [],
   "source": [
    "TFinal['Valor 2020'] = TFinal['Valor 2020_x'] + TFinal['Valor 2020_y']\n",
    "TFinal = TFinal.drop(columns=['Valor 2020_x', 'Valor 2020_y'])"
   ]
  },
  {
   "cell_type": "markdown",
   "id": "16b4c930",
   "metadata": {},
   "source": [
    "### Monto de Gasto de Noches"
   ]
  },
  {
   "cell_type": "markdown",
   "id": "dbbde994",
   "metadata": {},
   "source": [
    "#### 2021"
   ]
  },
  {
   "cell_type": "code",
   "execution_count": 249,
   "id": "5a735a96",
   "metadata": {},
   "outputs": [],
   "source": [
    "MontoGastoNoches = NegociosT.drop(NegociosT[NegociosT['Logro: Tipo de registro'] !=  'Turismo Noches'].index)\n",
    "\n",
    "MontoGastoNoches = MontoGastoNoches.groupby(['Logro: Responsable Colombia' , 'Logro: Tipo de registro' \n",
    "                                                          ])['Logro: Valor'].sum().reset_index()\n",
    "\n",
    "MontoGastoNoches.rename(columns={'Logro: Responsable Colombia': 'Meta: Nombre del propietario'}, inplace=True)\n",
    "MontoGastoNoches.rename(columns={'Logro: Tipo de registro': 'Meta: Tipo de meta'}, inplace=True)\n",
    "\n",
    "\n",
    "MontoGastoNoches = (MontoGastoNoches.replace('Turismo Noches', 'Monto de gasto de noches'))\n",
    "\n"
   ]
  },
  {
   "cell_type": "code",
   "execution_count": 250,
   "id": "87330830",
   "metadata": {},
   "outputs": [],
   "source": [
    "TFinal = TFinal.merge(MontoGastoNoches, how='outer', left_on=['Meta: Nombre del propietario' , 'Meta: Tipo de meta'], \n",
    "                      right_on=['Meta: Nombre del propietario' , 'Meta: Tipo de meta']).fillna(0)\n",
    "\n",
    "\n",
    "TFinal['Valor'] = TFinal['Valor'] + TFinal['Logro: Valor']\n",
    "TFinal = TFinal.drop(columns=['Logro: Valor'])\n"
   ]
  },
  {
   "cell_type": "markdown",
   "id": "14aff8cf",
   "metadata": {},
   "source": [
    "#### 2020"
   ]
  },
  {
   "cell_type": "code",
   "execution_count": 251,
   "id": "e059cd71",
   "metadata": {},
   "outputs": [],
   "source": [
    "MontoGastoNochesA = NegociosTA.drop(NegociosTA[NegociosTA['Logro: Tipo de registro'] !=  'Turismo Noches'].index)\n",
    "\n",
    "MontoGastoNochesA = MontoGastoNochesA.groupby(['Logro: Responsable Colombia' , 'Logro: Tipo de registro' \n",
    "                                                          ])['Logro: Valor'].sum().reset_index()\n",
    "\n",
    "MontoGastoNochesA.rename(columns={'Logro: Responsable Colombia': 'Meta: Nombre del propietario'}, inplace=True)\n",
    "MontoGastoNochesA.rename(columns={'Logro: Tipo de registro': 'Meta: Tipo de meta'}, inplace=True)\n",
    "\n",
    "\n",
    "MontoGastoNochesA = (MontoGastoNochesA.replace('Turismo Noches', 'Monto de gasto de noches'))"
   ]
  },
  {
   "cell_type": "code",
   "execution_count": 252,
   "id": "fee7b454",
   "metadata": {},
   "outputs": [],
   "source": [
    "TFinal = TFinal.merge(MontoGastoNochesA, how='outer', left_on=['Meta: Nombre del propietario' , 'Meta: Tipo de meta'], \n",
    "                      right_on=['Meta: Nombre del propietario' , 'Meta: Tipo de meta']).fillna(0)\n",
    "\n",
    "\n",
    "TFinal['Valor 2020'] = TFinal['Valor 2020'] + TFinal['Logro: Valor']\n",
    "TFinal = TFinal.drop(columns=['Logro: Valor'])\n"
   ]
  },
  {
   "cell_type": "markdown",
   "id": "d6a11caf",
   "metadata": {},
   "source": [
    "### Monto de Gasto de Paquetes"
   ]
  },
  {
   "cell_type": "markdown",
   "id": "73f9d7f9",
   "metadata": {},
   "source": [
    "#### 2021"
   ]
  },
  {
   "cell_type": "code",
   "execution_count": 253,
   "id": "bf015316",
   "metadata": {},
   "outputs": [],
   "source": [
    "MontoPaquetes = NegociosT.drop(NegociosT[NegociosT['Logro: Tipo de registro'] !=  'Paquetes Turismo'].index)\n",
    "\n",
    "MontoPaquetes = MontoPaquetes.groupby(['Logro: Responsable Colombia' , 'Logro: Tipo de registro' \n",
    "                                                          ])['Logro: Valor'].sum().reset_index()\n",
    "\n",
    "MontoPaquetes.rename(columns={'Logro: Responsable Colombia': 'Meta: Nombre del propietario'}, inplace=True)\n",
    "MontoPaquetes.rename(columns={'Logro: Tipo de registro': 'Meta: Tipo de meta'}, inplace=True)\n",
    "\n",
    "\n",
    "MontoPaquetes = (MontoPaquetes.replace('Paquetes Turismo', 'Monto de gasto paquetes'))"
   ]
  },
  {
   "cell_type": "code",
   "execution_count": 254,
   "id": "b3391ded",
   "metadata": {},
   "outputs": [],
   "source": [
    "TFinal = TFinal.merge(MontoPaquetes, how='outer', left_on=['Meta: Nombre del propietario' , 'Meta: Tipo de meta'], \n",
    "                      right_on=['Meta: Nombre del propietario' , 'Meta: Tipo de meta']).fillna(0)\n",
    "\n",
    "\n",
    "TFinal['Valor'] = TFinal['Valor'] + TFinal['Logro: Valor']\n",
    "TFinal = TFinal.drop(columns=['Logro: Valor'])\n"
   ]
  },
  {
   "cell_type": "markdown",
   "id": "62692244",
   "metadata": {},
   "source": [
    "#### 2020"
   ]
  },
  {
   "cell_type": "code",
   "execution_count": 255,
   "id": "fcc1e2c9",
   "metadata": {},
   "outputs": [],
   "source": [
    "MontoPaquetesA = NegociosTA.drop(NegociosTA[NegociosTA['Logro: Tipo de registro'] !=  'Paquetes Turismo'].index)\n",
    "\n",
    "MontoPaquetesA = MontoPaquetesA.groupby(['Logro: Responsable Colombia' , 'Logro: Tipo de registro' \n",
    "                                                          ])['Logro: Valor'].sum().reset_index()\n",
    "\n",
    "MontoPaquetesA.rename(columns={'Logro: Responsable Colombia': 'Meta: Nombre del propietario'}, inplace=True)\n",
    "MontoPaquetesA.rename(columns={'Logro: Tipo de registro': 'Meta: Tipo de meta'}, inplace=True)\n",
    "\n",
    "\n",
    "MontoPaquetesA = (MontoPaquetesA.replace('Paquetes Turismo', 'Monto de gasto paquetes'))"
   ]
  },
  {
   "cell_type": "code",
   "execution_count": 256,
   "id": "255c9f51",
   "metadata": {},
   "outputs": [],
   "source": [
    "TFinal = TFinal.merge(MontoPaquetesA, how='outer', left_on=['Meta: Nombre del propietario' , 'Meta: Tipo de meta'], \n",
    "                      right_on=['Meta: Nombre del propietario' , 'Meta: Tipo de meta']).fillna(0)\n",
    "\n",
    "\n",
    "TFinal['Valor 2020'] = TFinal['Valor 2020'] + TFinal['Logro: Valor']\n",
    "TFinal = TFinal.drop(columns=['Logro: Valor'])\n"
   ]
  },
  {
   "cell_type": "markdown",
   "id": "99f95591",
   "metadata": {},
   "source": [
    "### Número de empresas con servicios en turismo"
   ]
  },
  {
   "cell_type": "code",
   "execution_count": 257,
   "id": "e09b3fd3",
   "metadata": {},
   "outputs": [],
   "source": [
    "#ENacionales2 = ENacionales.drop(ENacionales[ENacionales['Año de Fecha creación'] != añoactual].index)\n",
    "ENacionales2 = ENacionales.drop(ENacionales[ENacionales['Eje'] !=  'Turismo'].index)\n",
    "\n",
    "\n",
    "ENacionales2 = ENacionales2.drop(ENacionales2[(ENacionales2['Tipo registro'] !=  'MISIONES') & \n",
    "                                    (ENacionales2['Tipo registro'] !=  'AGENDA COMERCIAL DE TURISMO') & \n",
    "                                   (ENacionales2['Tipo registro'] !=  'BUSQUEDA Y APERTURA DE OPORTUNIDADES') & \n",
    "                                    (ENacionales2['Tipo registro'] !=  'CONTACTO COMPRADOR EN FERIA') & \n",
    "                                              (ENacionales2['Tipo registro'] !=  'ENTREGA INFORMACION VALOR AGREGADO') & \n",
    "                                              (ENacionales2['Tipo registro'] !=  'EVENTOS ACADÉMICOS') & \n",
    "                                              (ENacionales2['Tipo registro'] !=  'EVENTOS ORGANIZACIONALES') & \n",
    "                                              (ENacionales2['Tipo registro'] !=  'FAM - PRESS TRIPS') & \n",
    "                                              (ENacionales2['Tipo registro'] !=  'FERIA INTERNACIONAL DE TURISMO') & \n",
    "                                              (ENacionales2['Tipo registro'] !=  'MACRORRUEDAS Y ENCUENTROS COMERCIALES') & \n",
    "                                              (ENacionales2['Tipo registro'] !=  'PRESENTACIÓN DE DESTINO') & \n",
    "                                              (ENacionales2['Tipo registro'] !=  'PRIMERA VISITA')].index)\n",
    "\n",
    "ENacionales2 = ENacionales2.drop(ENacionales2[(ENacionales2['Estado'] !=  'Realizada') & \n",
    "                                     (ENacionales2['Estado'] !=  'Entregado') & \n",
    "                                     (ENacionales2['Estado'] !=  'Finalizado') & \n",
    "                                     (ENacionales2['Estado'] !=  'Participó') & \n",
    "                                     (ENacionales2['Estado'] !=  'Evaluación del evento recibida')].index)\n",
    "\n",
    "\n",
    "ENacionales2['Empresa'] = ENacionales2['Empresa'].str.lower()\n",
    "\n",
    "ENacionales3 = ENacionales2.drop(ENacionales2[ENacionales2['Fecha'] < eneroañoanterior].index)\n",
    "ENacionales3 = ENacionales3.drop(ENacionales3[ENacionales3['Fecha'] > fechaactual_añoanterior].index)\n",
    "\n",
    "Enacionales4 = ENacionales2.drop(ENacionales2[ENacionales2['Año de Fecha creación'] != añoanterior].index)\n",
    "\n",
    "ENacionales2 = ENacionales2.drop(ENacionales2[ENacionales2['Fecha'] < negociosañoactual].index)\n",
    "ENacionales2 = ENacionales2.drop(ENacionales2[ENacionales2['Fecha'] > fechaactual].index)\n",
    "\n",
    "ENacionales_Nacional = ENacionales2.drop(ENacionales2[ENacionales2['Tipo empresa'] !=  'Nacional'].index)\n",
    "ENacionales_Exterior = ENacionales2.drop(ENacionales2[ENacionales2['Tipo empresa'] !=  'Exterior'].index)\n",
    "\n",
    "ENacionales_NacionalA = ENacionales3.drop(ENacionales3[ENacionales3['Tipo empresa'] !=  'Nacional'].index)\n",
    "ENacionales_ExteriorA = ENacionales3.drop(ENacionales3[ENacionales3['Tipo empresa'] !=  'Exterior'].index)\n",
    "\n"
   ]
  },
  {
   "cell_type": "markdown",
   "id": "fcd7afdc",
   "metadata": {},
   "source": [
    "#### 2021"
   ]
  },
  {
   "cell_type": "code",
   "execution_count": 258,
   "id": "d12ff092",
   "metadata": {},
   "outputs": [],
   "source": [
    "ENTuris_Nal = ENacionales_Nacional.groupby(['Responsable nacional'])['Empresa'].nunique().reset_index()\n",
    "ENTuris_Ext = ENacionales_Exterior.groupby(['Responsable exterior'])['Empresa'].nunique().reset_index()\n",
    "\n",
    "ENTuris_Nal.rename(columns={'Responsable nacional': 'Meta: Nombre del propietario'}, inplace=True)\n",
    "ENTuris_Ext.rename(columns={'Responsable exterior': 'Meta: Nombre del propietario'}, inplace=True)\n",
    "\n",
    "ENTuris = ENTuris_Nal.append(ENTuris_Ext)\n",
    "ENTuris['Meta: Tipo de meta'] = 'Número de empresas con servicios en turismo'"
   ]
  },
  {
   "cell_type": "code",
   "execution_count": 259,
   "id": "7c7b3e68",
   "metadata": {},
   "outputs": [],
   "source": [
    "TFinal = TFinal.merge(ENTuris, how='left', left_on=['Meta: Nombre del propietario' , 'Meta: Tipo de meta'], \n",
    "                      right_on=['Meta: Nombre del propietario' , 'Meta: Tipo de meta']).fillna(0)\n",
    "\n",
    "\n",
    "TFinal['Valor'] = TFinal['Valor'] + TFinal['Empresa']\n",
    "TFinal = TFinal.drop(columns=['Empresa'])\n"
   ]
  },
  {
   "cell_type": "markdown",
   "id": "c6afeaad",
   "metadata": {},
   "source": [
    "#### 2020"
   ]
  },
  {
   "cell_type": "code",
   "execution_count": 260,
   "id": "b0e18242",
   "metadata": {},
   "outputs": [],
   "source": [
    "ENTuris_NalA = ENacionales_NacionalA.groupby(['Responsable nacional'])['Empresa'].nunique().reset_index()\n",
    "ENTuris_ExtA = ENacionales_ExteriorA.groupby(['Responsable exterior'])['Empresa'].nunique().reset_index()\n",
    "\n",
    "ENTuris_NalA.rename(columns={'Responsable nacional': 'Meta: Nombre del propietario'}, inplace=True)\n",
    "ENTuris_ExtA.rename(columns={'Responsable exterior': 'Meta: Nombre del propietario'}, inplace=True)\n",
    "\n",
    "ENTurisA = ENTuris_NalA.append(ENTuris_ExtA)\n",
    "ENTurisA['Meta: Tipo de meta'] = 'Número de empresas con servicios en turismo'\n"
   ]
  },
  {
   "cell_type": "code",
   "execution_count": 261,
   "id": "8831c9c7",
   "metadata": {},
   "outputs": [],
   "source": [
    "TFinal = TFinal.merge(ENTurisA, how='left', left_on=['Meta: Nombre del propietario' , 'Meta: Tipo de meta'], \n",
    "                      right_on=['Meta: Nombre del propietario' , 'Meta: Tipo de meta']).fillna(0)\n",
    "\n",
    "\n",
    "TFinal['Valor 2020'] = TFinal['Valor 2020'] + TFinal['Empresa']\n",
    "TFinal = TFinal.drop(columns=['Empresa'])\n"
   ]
  },
  {
   "cell_type": "markdown",
   "id": "63885e8d",
   "metadata": {},
   "source": [
    "##### Eliminando los que tienen resultados pero no metas --> how ='left'"
   ]
  },
  {
   "cell_type": "markdown",
   "id": "9ea16308",
   "metadata": {},
   "source": [
    "### Número de empresas PyA con primer acercamiento comercial "
   ]
  },
  {
   "cell_type": "code",
   "execution_count": 262,
   "id": "71b46151",
   "metadata": {},
   "outputs": [],
   "source": [
    "Enacionales2020 = Enacionales4.drop(Enacionales4[Enacionales4['Tipo empresa'] !=  'Nacional'].index)\n",
    "Enacionales2020 = Enacionales2020.drop(Enacionales2020[Enacionales2020['Tipo registro'] !=  'MACRORRUEDAS Y ENCUENTROS COMERCIALES'].index)\n",
    "Enacionales2020 = Enacionales2020[['Responsable nacional','Empresa']]\n",
    "#Enacionales2020 = Enacionales2020.drop_duplicates()\n",
    "Enacionales2020['Acercamiento en 2020'] = 1\n",
    "\n",
    "#EmpresasAcercamiento = Enacionales4.groupby(['Responsable nacional' , 'Empresa'])['Pais cuenta Principal'].count().reset_index()\n",
    "\n",
    "Enacionales2021 = ENacionales2.drop(ENacionales2[ENacionales2['Tipo empresa'] !=  'Nacional'].index)\n",
    "Enacionales2021 = Enacionales2021.drop(Enacionales2021[Enacionales2021['Tipo registro'] !=  'MACRORRUEDAS Y ENCUENTROS COMERCIALES'].index)\n",
    "Enacionales2021 = Enacionales2021[['Responsable nacional','Empresa']]\n",
    "#Enacionales2021 = Enacionales2021.drop_duplicates()\n",
    "\n",
    "\n",
    "EmpresasPrimerAcercamiento = Enacionales2021.merge(Enacionales2020, how='left', left_on=['Responsable nacional','Empresa'], \n",
    "                      right_on=['Responsable nacional','Empresa']).fillna(0)\n",
    "\n",
    "EmpresasPrimerAcercamiento = EmpresasPrimerAcercamiento.drop_duplicates(subset=['Empresa'])\n",
    "\n",
    "EmpresasPrimerAcercamiento = EmpresasPrimerAcercamiento.drop(EmpresasPrimerAcercamiento[EmpresasPrimerAcercamiento['Acercamiento en 2020'] == 1].index)\n",
    "EmpresasPrimerAcercamiento = EmpresasPrimerAcercamiento.groupby(['Responsable nacional'])['Empresa'].nunique().reset_index()\n",
    "\n",
    "EmpresasPrimerAcercamiento['Meta: Tipo de meta'] = 'Número de empresas PyA con primer acercamiento comercial'\n",
    "\n",
    "EmpresasPrimerAcercamiento.rename(columns={'Responsable nacional': 'Meta: Nombre del propietario'}, inplace=True)\n",
    "\n",
    "EmpresasPrimerAcercamiento = EmpresasPrimerAcercamiento.drop_duplicates(subset=['Empresa'])\n",
    "\n",
    "TFinal = TFinal.merge(EmpresasPrimerAcercamiento, how='left', left_on=['Meta: Nombre del propietario' , 'Meta: Tipo de meta'], \n",
    "                      right_on=['Meta: Nombre del propietario' , 'Meta: Tipo de meta']).fillna(0)\n",
    "\n",
    "\n",
    "TFinal['Valor'] = TFinal['Valor'] + TFinal['Empresa']\n",
    "TFinal = TFinal.drop(columns=['Empresa'])\n"
   ]
  },
  {
   "cell_type": "code",
   "execution_count": 263,
   "id": "ae880364",
   "metadata": {},
   "outputs": [],
   "source": [
    "EmpresasPrimerAcercamiento = Enacionales2021.merge(Enacionales2020, how='left', left_on=['Responsable nacional','Empresa'], \n",
    "                      right_on=['Responsable nacional','Empresa']).fillna(0)\n",
    "\n",
    "EmpresasPrimerAcercamiento = EmpresasPrimerAcercamiento.drop_duplicates(subset=['Empresa'])\n",
    "\n",
    "EmpresasPrimerAcercamiento = EmpresasPrimerAcercamiento.drop(EmpresasPrimerAcercamiento[EmpresasPrimerAcercamiento['Acercamiento en 2020'] == 1].index)"
   ]
  },
  {
   "cell_type": "markdown",
   "id": "05a5a68b",
   "metadata": {},
   "source": [
    "### Número de frecuencias"
   ]
  },
  {
   "cell_type": "markdown",
   "id": "7e3aad39",
   "metadata": {},
   "source": [
    "#### 2021"
   ]
  },
  {
   "cell_type": "code",
   "execution_count": 264,
   "id": "07686d64",
   "metadata": {},
   "outputs": [],
   "source": [
    "Frecuencias['Meta: Tipo de meta'] = 'Número de frecuencias'"
   ]
  },
  {
   "cell_type": "code",
   "execution_count": 265,
   "id": "0da511b6",
   "metadata": {},
   "outputs": [],
   "source": [
    "FrecT = Frecuencias.groupby(['Meta: Tipo de meta'])['Frecuencias'].sum().reset_index()\n",
    "\n",
    "TFinal = TFinal.merge(FrecT, how='left', left_on=[ 'Meta: Tipo de meta'], \n",
    "                      right_on=['Meta: Tipo de meta']).fillna(0)\n",
    "\n",
    "\n",
    "TFinal['Valor'] = TFinal['Valor'] + TFinal['Frecuencias']\n",
    "TFinal = TFinal.drop(columns=['Frecuencias'])\n"
   ]
  },
  {
   "cell_type": "markdown",
   "id": "54374892",
   "metadata": {},
   "source": [
    "### Número de sillas"
   ]
  },
  {
   "cell_type": "markdown",
   "id": "d6740b21",
   "metadata": {},
   "source": [
    "#### 2021"
   ]
  },
  {
   "cell_type": "code",
   "execution_count": 266,
   "id": "20be28a4",
   "metadata": {},
   "outputs": [],
   "source": [
    "Frecuencias['Meta: Tipo de meta'] = 'Número de sillas'"
   ]
  },
  {
   "cell_type": "code",
   "execution_count": 267,
   "id": "046f8c25",
   "metadata": {},
   "outputs": [],
   "source": [
    "FrecT2 = Frecuencias.groupby(['Meta: Tipo de meta'])['Sillas'].sum().reset_index()\n",
    "\n",
    "TFinal = TFinal.merge(FrecT2, how='left', left_on=[ 'Meta: Tipo de meta'], \n",
    "                      right_on=['Meta: Tipo de meta']).fillna(0)\n",
    "\n",
    "\n",
    "TFinal['Valor'] = TFinal['Valor'] + TFinal['Sillas']\n",
    "TFinal = TFinal.drop(columns=['Sillas'])\n"
   ]
  },
  {
   "cell_type": "code",
   "execution_count": 268,
   "id": "e63e7903",
   "metadata": {},
   "outputs": [],
   "source": [
    "TFinal = TFinal.drop(TFinal[TFinal['Meta Total'] ==  0].index)\n",
    "\n",
    "TFinalEXT = TFinal.drop(TFinal[TFinal['Meta: Tipo meta funcionario'] !=  'EXTERIOR'].index)"
   ]
  },
  {
   "cell_type": "markdown",
   "id": "b20169c7",
   "metadata": {},
   "source": [
    "### Proyecto de gestión"
   ]
  },
  {
   "cell_type": "markdown",
   "id": "2b8fe40e",
   "metadata": {},
   "source": [
    "### 2021"
   ]
  },
  {
   "cell_type": "code",
   "execution_count": 269,
   "id": "0feb22a0",
   "metadata": {},
   "outputs": [],
   "source": [
    "ProyectoseHitos['Hito: Fecha Inicio'] = pd.to_datetime(ProyectoseHitos['Hito: Fecha Inicio'], format='%d/%m/%Y')\n",
    "ProyectoseHitos1 =  ProyectoseHitos.drop(ProyectoseHitos[ProyectoseHitos['Proyecto: Nombre'] == 'Caja de Herramientas de Innovación para el Turismo'].index)\n",
    "ProyectoseHitos1 =  ProyectoseHitos1.drop(ProyectoseHitos1[ProyectoseHitos1['Proyecto: Nombre'] == 'Colombianos en el exterior 2020'].index)\n",
    "ProyectoseHitos1 =  ProyectoseHitos1.drop(ProyectoseHitos1[ProyectoseHitos1['Proyecto: Nombre'] == 'Meaningful Map'].index)\n",
    "ProyectoseHitos1 =  ProyectoseHitos1.drop(ProyectoseHitos1[ProyectoseHitos1['Proyecto: Nombre'] == 'Meeting plannner 2.0'].index)\n",
    "ProyectoseHitos1 =  ProyectoseHitos1.drop(ProyectoseHitos1[ProyectoseHitos1['Proyecto: Nombre'] == 'Planes regionales vicepresidencia de turismo'].index)\n",
    "ProyectoseHitos1 =  ProyectoseHitos1.drop(ProyectoseHitos1[ProyectoseHitos1['Proyecto: Nombre'] == 'Programa de formación exportadora en turismo – versión hibrida'].index)\n",
    "ProyectoseHitos1 =  ProyectoseHitos1.drop(ProyectoseHitos1[ProyectoseHitos1['Hito: Fecha Inicio'] < fechaactual2].index)\n",
    "ProyectoseHitos_Anterior = ProyectoseHitos.drop(ProyectoseHitos[ProyectoseHitos['Hito: Fecha Inicio'] < fechaanterior2].index)\n",
    "ProyectoseHitos_Anterior = ProyectoseHitos_Anterior.drop(ProyectoseHitos_Anterior[ProyectoseHitos_Anterior['Hito: Fecha Inicio'] >= fechaactual2].index)\n",
    "\n",
    "\n",
    "ProyectoseHitos_Anterior = ProyectoseHitos_Anterior.dropna(subset=['Hito: Fecha Inicio'])\n",
    "#ProyectoseHitos1 = ProyectoseHitos"
   ]
  },
  {
   "cell_type": "code",
   "execution_count": 270,
   "id": "329a90a4",
   "metadata": {},
   "outputs": [],
   "source": [
    "#ProyectoseHitos1[ProyectoseHitos1['Proyecto: Propietario'] == 'María Muñoz Rey']\n"
   ]
  },
  {
   "cell_type": "code",
   "execution_count": 271,
   "id": "308c46ea",
   "metadata": {},
   "outputs": [],
   "source": [
    "PG = ProyectoseHitos1.groupby(['Proyecto: Propietario' , 'Proyecto: Nombre' , \n",
    "                   'Hito: Nombre'])['Hito: Peso'].sum().reset_index()\n",
    "PG2 = ProyectoseHitos1.groupby(['Proyecto: Propietario' , 'Proyecto: Nombre' , \n",
    "                   'Hito: Nombre'])['Hito: Avance'].sum().reset_index()\n"
   ]
  },
  {
   "cell_type": "code",
   "execution_count": 272,
   "id": "9849d83c",
   "metadata": {},
   "outputs": [],
   "source": [
    "PGF = PG.merge(PG2, how='outer', left_on=['Proyecto: Propietario' , 'Proyecto: Nombre' , \n",
    "                   'Hito: Nombre'], right_on=['Proyecto: Propietario' , 'Proyecto: Nombre' , \n",
    "                   'Hito: Nombre']).fillna(0)\n",
    "PGF['Avance Ponderado'] = (PGF['Hito: Peso']*0.1) * (PGF['Hito: Avance']*0.1)\n",
    "\n",
    "PGFF = PGF.groupby(['Proyecto: Propietario'])['Avance Ponderado'].sum().reset_index()\n",
    "PGFF['Meta: Tipo de meta'] = 'Proyecto de gestión'\n",
    "PGFF.rename(columns={'Oportunidad: Consecutivo': 'Valor Real'}, inplace=True)\n",
    "\n"
   ]
  },
  {
   "cell_type": "code",
   "execution_count": 273,
   "id": "191d4e00",
   "metadata": {},
   "outputs": [],
   "source": [
    "PGFF.rename(columns={'Proyecto: Propietario': 'Meta: Nombre del propietario'}, inplace=True)\n"
   ]
  },
  {
   "cell_type": "code",
   "execution_count": 274,
   "id": "b9b05e66",
   "metadata": {},
   "outputs": [],
   "source": [
    "TFinal = TFinal.merge(PGFF, how='outer', left_on=['Meta: Nombre del propietario', 'Meta: Tipo de meta'], \n",
    "                      right_on=['Meta: Nombre del propietario', 'Meta: Tipo de meta']).fillna(0)"
   ]
  },
  {
   "cell_type": "code",
   "execution_count": 275,
   "id": "c4d185c2",
   "metadata": {
    "scrolled": true
   },
   "outputs": [],
   "source": [
    "TFinal =  TFinal.drop(TFinal[TFinal['Meta Total'] == 0].index).reset_index()\n",
    "\n",
    "#TFinal[TFinal['Meta: Tipo de meta'] == 'Proyecto de gestión']\n"
   ]
  },
  {
   "cell_type": "code",
   "execution_count": 276,
   "id": "acdaa0fe",
   "metadata": {},
   "outputs": [],
   "source": [
    "TFinal['Valor'] = TFinal['Valor'] + TFinal['Avance Ponderado']\n",
    "TFinal = TFinal.drop(columns=['Avance Ponderado' , 'index'])\n"
   ]
  },
  {
   "cell_type": "markdown",
   "id": "e40241f2",
   "metadata": {},
   "source": [
    "### 2020"
   ]
  },
  {
   "cell_type": "code",
   "execution_count": 277,
   "id": "13622528",
   "metadata": {},
   "outputs": [],
   "source": [
    "PGA = ProyectoseHitos_Anterior.groupby(['Proyecto: Propietario' , 'Proyecto: Nombre' , \n",
    "                   'Hito: Nombre'])['Hito: Peso'].sum().reset_index()\n",
    "PG2A = ProyectoseHitos_Anterior.groupby(['Proyecto: Propietario' , 'Proyecto: Nombre' , \n",
    "                   'Hito: Nombre'])['Hito: Avance'].sum().reset_index()\n",
    "PGFA = PGA.merge(PG2A, how='outer', left_on=['Proyecto: Propietario' , 'Proyecto: Nombre' , \n",
    "                   'Hito: Nombre'], right_on=['Proyecto: Propietario' , 'Proyecto: Nombre' , \n",
    "                   'Hito: Nombre']).fillna(0)\n",
    "PGFA['Avance Ponderado'] = (PGFA['Hito: Peso']*0.1) * (PGFA['Hito: Avance']*0.1)\n",
    "\n",
    "PGFFA = PGFA.groupby(['Proyecto: Propietario'])['Avance Ponderado'].sum().reset_index()\n",
    "PGFFA['Meta: Tipo de meta'] = 'Proyecto de gestión'\n",
    "PGFFA.rename(columns={'Oportunidad: Consecutivo': 'Valor Real'}, inplace=True)\n",
    "PGFFA.rename(columns={'Proyecto: Propietario': 'Meta: Nombre del propietario'}, inplace=True)\n",
    "TFinal = TFinal.merge(PGFFA, how='outer', left_on=['Meta: Nombre del propietario', 'Meta: Tipo de meta'], \n",
    "                      right_on=['Meta: Nombre del propietario', 'Meta: Tipo de meta']).fillna(0)\n",
    "\n",
    "TFinal =  TFinal.drop(TFinal[TFinal['Meta Total'] == 0].index).reset_index()\n",
    "TFinal['Valor 2020'] = TFinal['Valor 2020'] + TFinal['Avance Ponderado']\n",
    "TFinal = TFinal.drop(columns=['Avance Ponderado' , 'index'])"
   ]
  },
  {
   "cell_type": "markdown",
   "id": "40b20ca4",
   "metadata": {},
   "source": [
    "## Número asistentes PFE turismo"
   ]
  },
  {
   "cell_type": "code",
   "execution_count": 279,
   "id": "d299c330",
   "metadata": {},
   "outputs": [],
   "source": [
    "AsistentesPFE['Meta: Tipo de meta'] = 'Número asistentes PFE turismo'\n",
    "AsistentesPFE.rename(columns={'Asesor': 'Meta: Nombre del propietario',\n",
    "                             'Resultados': 'ValorPFE'}, inplace=True)\n",
    "AsistentesPFE = AsistentesPFE.drop(columns=['Oficina' , 'Meta Año' , 'Avance' , 'Mera  Q'])\n"
   ]
  },
  {
   "cell_type": "code",
   "execution_count": 280,
   "id": "1c1d824d",
   "metadata": {},
   "outputs": [],
   "source": [
    "TFinal = TFinal.merge(AsistentesPFE, how='outer', left_on=['Meta: Nombre del propietario', 'Meta: Tipo de meta'], \n",
    "                      right_on=['Meta: Nombre del propietario', 'Meta: Tipo de meta']).fillna(0)\n",
    "TFinal['Valor'] = TFinal['Valor'] + TFinal['ValorPFE']\n",
    "TFinal = TFinal.drop(columns=['ValorPFE'])\n"
   ]
  },
  {
   "cell_type": "markdown",
   "id": "eb60b39c",
   "metadata": {},
   "source": [
    "### VPT Visitantes no residentes"
   ]
  },
  {
   "cell_type": "code",
   "execution_count": 281,
   "id": "22797fc5",
   "metadata": {},
   "outputs": [],
   "source": [
    "InfoResponsanles = TFinalEXT[['Meta: Tipo meta funcionario', 'E_HUB2019', 'E_Localización' , 'E_Clasificación',\n",
    "                        'Meta: Nombre del propietario' , 'E_Rol' , 'Tipo de Indicador' ]]\n",
    "\n",
    "Responsables=TFinalEXT[['Meta: Nombre del propietario']]\n",
    "Responsables = Responsables.drop_duplicates(subset = ['Meta: Nombre del propietario'])\n",
    "Responsables = Responsables.reset_index()\n",
    "Responsables['Meta: Tipo de meta'] = 'VPT Visitantes no residentes'\n",
    "\n",
    "Responsables = Responsables.merge(InfoResponsanles, how='left', left_on=['Meta: Nombre del propietario'], \n",
    "                      right_on=['Meta: Nombre del propietario']).fillna(0)\n",
    "Responsables = Responsables.drop_duplicates(subset = ['Meta: Nombre del propietario'])\n",
    "Responsables = Responsables.reset_index()\n",
    "\n",
    "TFinal = TFinal.append(Responsables)\n",
    "TFinal.loc[TFinal['Meta: Tipo de meta'] == 'VPT Visitantes no residentes', 'Valor 2020'] =  1393827 \n",
    "TFinal.loc[TFinal['Meta: Tipo de meta'] == 'VPT Visitantes no residentes', 'Meta Total'] =  1150000\n",
    "TFinal.loc[TFinal['Meta: Tipo de meta'] == 'VPT Visitantes no residentes', 'Meta Q'] =  1393827 \n",
    "TFinal.loc[TFinal['Meta: Tipo de meta'] == 'VPT Visitantes no residentes', 'Valor'] =  984567 \n",
    "TFinal = TFinal.drop(columns=['index' , 'level_0'])\n"
   ]
  },
  {
   "cell_type": "code",
   "execution_count": 282,
   "id": "f3a5ee74",
   "metadata": {},
   "outputs": [
    {
     "data": {
      "text/html": [
       "<div>\n",
       "<style scoped>\n",
       "    .dataframe tbody tr th:only-of-type {\n",
       "        vertical-align: middle;\n",
       "    }\n",
       "\n",
       "    .dataframe tbody tr th {\n",
       "        vertical-align: top;\n",
       "    }\n",
       "\n",
       "    .dataframe thead th {\n",
       "        text-align: right;\n",
       "    }\n",
       "</style>\n",
       "<table border=\"1\" class=\"dataframe\">\n",
       "  <thead>\n",
       "    <tr style=\"text-align: right;\">\n",
       "      <th></th>\n",
       "      <th>index</th>\n",
       "      <th>Meta: Tipo meta funcionario</th>\n",
       "      <th>E_HUB2019</th>\n",
       "      <th>E_Localización</th>\n",
       "      <th>E_Clasificación</th>\n",
       "      <th>Meta: Nombre del propietario</th>\n",
       "      <th>E_Rol</th>\n",
       "      <th>Tipo de Indicador</th>\n",
       "      <th>Meta: Tipo de meta</th>\n",
       "      <th>Meta Total</th>\n",
       "      <th>Meta Q</th>\n",
       "      <th>Valor</th>\n",
       "      <th>Valor 2020</th>\n",
       "    </tr>\n",
       "  </thead>\n",
       "  <tbody>\n",
       "    <tr>\n",
       "      <th>0</th>\n",
       "      <td>0</td>\n",
       "      <td>COLOMBIA</td>\n",
       "      <td>Otros</td>\n",
       "      <td>Barranquilla</td>\n",
       "      <td>Ofireg</td>\n",
       "      <td>Vanessa Botero Botero</td>\n",
       "      <td>Asesor regional</td>\n",
       "      <td>Comercial</td>\n",
       "      <td>Captación de Congresos y Eventos</td>\n",
       "      <td>7.0</td>\n",
       "      <td>7.0</td>\n",
       "      <td>7.0</td>\n",
       "      <td>12.0</td>\n",
       "    </tr>\n",
       "    <tr>\n",
       "      <th>1</th>\n",
       "      <td>1</td>\n",
       "      <td>COLOMBIA</td>\n",
       "      <td>Otros</td>\n",
       "      <td>Bucaramanga</td>\n",
       "      <td>Ofireg</td>\n",
       "      <td>Silvia Juliana Díaz Reyes</td>\n",
       "      <td>Asesor Regional</td>\n",
       "      <td>Comercial</td>\n",
       "      <td>Captación de Congresos y Eventos</td>\n",
       "      <td>4.0</td>\n",
       "      <td>4.0</td>\n",
       "      <td>2.0</td>\n",
       "      <td>2.0</td>\n",
       "    </tr>\n",
       "    <tr>\n",
       "      <th>2</th>\n",
       "      <td>2</td>\n",
       "      <td>COLOMBIA</td>\n",
       "      <td>Otros</td>\n",
       "      <td>Cartagena</td>\n",
       "      <td>Ofireg</td>\n",
       "      <td>Katherin Paola Carrillo Gonzalez</td>\n",
       "      <td>Asesor Turismo Reuniones</td>\n",
       "      <td>Comercial</td>\n",
       "      <td>Captación de Congresos y Eventos</td>\n",
       "      <td>26.0</td>\n",
       "      <td>26.0</td>\n",
       "      <td>22.0</td>\n",
       "      <td>88.0</td>\n",
       "    </tr>\n",
       "    <tr>\n",
       "      <th>3</th>\n",
       "      <td>3</td>\n",
       "      <td>COLOMBIA</td>\n",
       "      <td>Otros</td>\n",
       "      <td>Gerencia Turismo Corporativo</td>\n",
       "      <td>Bogotá</td>\n",
       "      <td>Luisa Fernanda Cuellar Sarmiento</td>\n",
       "      <td>Asesor Turismo Reuniones</td>\n",
       "      <td>Comercial</td>\n",
       "      <td>Captación de Congresos y Eventos</td>\n",
       "      <td>3.0</td>\n",
       "      <td>3.0</td>\n",
       "      <td>4.0</td>\n",
       "      <td>10.0</td>\n",
       "    </tr>\n",
       "    <tr>\n",
       "      <th>4</th>\n",
       "      <td>4</td>\n",
       "      <td>COLOMBIA</td>\n",
       "      <td>Otros</td>\n",
       "      <td>Medellín</td>\n",
       "      <td>Ofireg</td>\n",
       "      <td>Daniela Mesa Pineda</td>\n",
       "      <td>Asesor regional</td>\n",
       "      <td>Comercial</td>\n",
       "      <td>Captación de Congresos y Eventos</td>\n",
       "      <td>15.0</td>\n",
       "      <td>15.0</td>\n",
       "      <td>18.0</td>\n",
       "      <td>40.0</td>\n",
       "    </tr>\n",
       "    <tr>\n",
       "      <th>...</th>\n",
       "      <td>...</td>\n",
       "      <td>...</td>\n",
       "      <td>...</td>\n",
       "      <td>...</td>\n",
       "      <td>...</td>\n",
       "      <td>...</td>\n",
       "      <td>...</td>\n",
       "      <td>...</td>\n",
       "      <td>...</td>\n",
       "      <td>...</td>\n",
       "      <td>...</td>\n",
       "      <td>...</td>\n",
       "      <td>...</td>\n",
       "    </tr>\n",
       "    <tr>\n",
       "      <th>175</th>\n",
       "      <td>29</td>\n",
       "      <td>EXTERIOR</td>\n",
       "      <td>Norteamérica</td>\n",
       "      <td>Estados Unidos</td>\n",
       "      <td>Oficom</td>\n",
       "      <td>Jairo Andres Aguilera Soto</td>\n",
       "      <td>Asesor Oficom solo vacacional</td>\n",
       "      <td>Gestión</td>\n",
       "      <td>VPT Visitantes no residentes</td>\n",
       "      <td>1150000.0</td>\n",
       "      <td>1393827.0</td>\n",
       "      <td>984567.0</td>\n",
       "      <td>1393827.0</td>\n",
       "    </tr>\n",
       "    <tr>\n",
       "      <th>176</th>\n",
       "      <td>30</td>\n",
       "      <td>EXTERIOR</td>\n",
       "      <td>Norteamérica</td>\n",
       "      <td>Estados Unidos</td>\n",
       "      <td>Oficom</td>\n",
       "      <td>Maria Alejandra Benavidez Medina</td>\n",
       "      <td>Asesor Oficom solo vacacional</td>\n",
       "      <td>Gestión</td>\n",
       "      <td>VPT Visitantes no residentes</td>\n",
       "      <td>1150000.0</td>\n",
       "      <td>1393827.0</td>\n",
       "      <td>984567.0</td>\n",
       "      <td>1393827.0</td>\n",
       "    </tr>\n",
       "    <tr>\n",
       "      <th>177</th>\n",
       "      <td>31</td>\n",
       "      <td>EXTERIOR</td>\n",
       "      <td>Norteamérica</td>\n",
       "      <td>Estados Unidos</td>\n",
       "      <td>Oficom</td>\n",
       "      <td>Maria Jose Abuabara Brülhart</td>\n",
       "      <td>Asesor Oficom Completo</td>\n",
       "      <td>Gestión</td>\n",
       "      <td>VPT Visitantes no residentes</td>\n",
       "      <td>1150000.0</td>\n",
       "      <td>1393827.0</td>\n",
       "      <td>984567.0</td>\n",
       "      <td>1393827.0</td>\n",
       "    </tr>\n",
       "    <tr>\n",
       "      <th>178</th>\n",
       "      <td>32</td>\n",
       "      <td>EXTERIOR</td>\n",
       "      <td>Norteamérica</td>\n",
       "      <td>Estados Unidos</td>\n",
       "      <td>Oficom</td>\n",
       "      <td>Mariana Awad Zaher</td>\n",
       "      <td>Asesor Oficom solo Reuniones</td>\n",
       "      <td>Comercial</td>\n",
       "      <td>VPT Visitantes no residentes</td>\n",
       "      <td>1150000.0</td>\n",
       "      <td>1393827.0</td>\n",
       "      <td>984567.0</td>\n",
       "      <td>1393827.0</td>\n",
       "    </tr>\n",
       "    <tr>\n",
       "      <th>179</th>\n",
       "      <td>33</td>\n",
       "      <td>EXTERIOR</td>\n",
       "      <td>Otros</td>\n",
       "      <td>Otros</td>\n",
       "      <td>Oficom</td>\n",
       "      <td>Director Oficom Otros</td>\n",
       "      <td>Director Oficom</td>\n",
       "      <td>Comercial</td>\n",
       "      <td>VPT Visitantes no residentes</td>\n",
       "      <td>1150000.0</td>\n",
       "      <td>1393827.0</td>\n",
       "      <td>984567.0</td>\n",
       "      <td>1393827.0</td>\n",
       "    </tr>\n",
       "  </tbody>\n",
       "</table>\n",
       "<p>180 rows × 13 columns</p>\n",
       "</div>"
      ],
      "text/plain": [
       "     index Meta: Tipo meta funcionario     E_HUB2019  \\\n",
       "0        0                    COLOMBIA         Otros   \n",
       "1        1                    COLOMBIA         Otros   \n",
       "2        2                    COLOMBIA         Otros   \n",
       "3        3                    COLOMBIA         Otros   \n",
       "4        4                    COLOMBIA         Otros   \n",
       "..     ...                         ...           ...   \n",
       "175     29                    EXTERIOR  Norteamérica   \n",
       "176     30                    EXTERIOR  Norteamérica   \n",
       "177     31                    EXTERIOR  Norteamérica   \n",
       "178     32                    EXTERIOR  Norteamérica   \n",
       "179     33                    EXTERIOR         Otros   \n",
       "\n",
       "                   E_Localización E_Clasificación  \\\n",
       "0                    Barranquilla          Ofireg   \n",
       "1                     Bucaramanga          Ofireg   \n",
       "2                       Cartagena          Ofireg   \n",
       "3    Gerencia Turismo Corporativo          Bogotá   \n",
       "4                        Medellín          Ofireg   \n",
       "..                            ...             ...   \n",
       "175                Estados Unidos          Oficom   \n",
       "176                Estados Unidos          Oficom   \n",
       "177                Estados Unidos          Oficom   \n",
       "178                Estados Unidos          Oficom   \n",
       "179                         Otros          Oficom   \n",
       "\n",
       "         Meta: Nombre del propietario                          E_Rol  \\\n",
       "0               Vanessa Botero Botero                Asesor regional   \n",
       "1           Silvia Juliana Díaz Reyes                Asesor Regional   \n",
       "2    Katherin Paola Carrillo Gonzalez       Asesor Turismo Reuniones   \n",
       "3    Luisa Fernanda Cuellar Sarmiento       Asesor Turismo Reuniones   \n",
       "4                 Daniela Mesa Pineda                Asesor regional   \n",
       "..                                ...                            ...   \n",
       "175        Jairo Andres Aguilera Soto  Asesor Oficom solo vacacional   \n",
       "176  Maria Alejandra Benavidez Medina  Asesor Oficom solo vacacional   \n",
       "177      Maria Jose Abuabara Brülhart         Asesor Oficom Completo   \n",
       "178                Mariana Awad Zaher   Asesor Oficom solo Reuniones   \n",
       "179             Director Oficom Otros                Director Oficom   \n",
       "\n",
       "    Tipo de Indicador                Meta: Tipo de meta  Meta Total  \\\n",
       "0           Comercial  Captación de Congresos y Eventos         7.0   \n",
       "1           Comercial  Captación de Congresos y Eventos         4.0   \n",
       "2           Comercial  Captación de Congresos y Eventos        26.0   \n",
       "3           Comercial  Captación de Congresos y Eventos         3.0   \n",
       "4           Comercial  Captación de Congresos y Eventos        15.0   \n",
       "..                ...                               ...         ...   \n",
       "175           Gestión      VPT Visitantes no residentes   1150000.0   \n",
       "176           Gestión      VPT Visitantes no residentes   1150000.0   \n",
       "177           Gestión      VPT Visitantes no residentes   1150000.0   \n",
       "178         Comercial      VPT Visitantes no residentes   1150000.0   \n",
       "179         Comercial      VPT Visitantes no residentes   1150000.0   \n",
       "\n",
       "        Meta Q     Valor  Valor 2020  \n",
       "0          7.0       7.0        12.0  \n",
       "1          4.0       2.0         2.0  \n",
       "2         26.0      22.0        88.0  \n",
       "3          3.0       4.0        10.0  \n",
       "4         15.0      18.0        40.0  \n",
       "..         ...       ...         ...  \n",
       "175  1393827.0  984567.0   1393827.0  \n",
       "176  1393827.0  984567.0   1393827.0  \n",
       "177  1393827.0  984567.0   1393827.0  \n",
       "178  1393827.0  984567.0   1393827.0  \n",
       "179  1393827.0  984567.0   1393827.0  \n",
       "\n",
       "[180 rows x 13 columns]"
      ]
     },
     "execution_count": 282,
     "metadata": {},
     "output_type": "execute_result"
    }
   ],
   "source": [
    "TFinal = TFinal.reset_index()\n",
    "TFinal"
   ]
  },
  {
   "cell_type": "code",
   "execution_count": 283,
   "id": "4ae032ce",
   "metadata": {},
   "outputs": [
    {
     "data": {
      "text/html": [
       "<a href='Turismo.xlsx' target='_blank'>Turismo.xlsx</a><br>"
      ],
      "text/plain": [
       "C:\\Users\\user\\Documents\\Codigos Python\\Tablero Como Vamos\\Turismo.xlsx"
      ]
     },
     "execution_count": 283,
     "metadata": {},
     "output_type": "execute_result"
    }
   ],
   "source": [
    "writer = pd.ExcelWriter('Turismo.xlsx')\n",
    "TFinal.to_excel(writer)\n",
    "writer.save()\n",
    "from IPython.display import FileLink\n",
    "FileLink('Turismo.xlsx')"
   ]
  },
  {
   "cell_type": "code",
   "execution_count": 69,
   "id": "5b255c6c",
   "metadata": {},
   "outputs": [],
   "source": [
    "#TFinal[TFinal['Meta: Tipo de meta'] == 'VPT Visitantes no residentes']\n"
   ]
  }
 ],
 "metadata": {
  "kernelspec": {
   "display_name": "Python 3",
   "language": "python",
   "name": "python3"
  },
  "language_info": {
   "codemirror_mode": {
    "name": "ipython",
    "version": 3
   },
   "file_extension": ".py",
   "mimetype": "text/x-python",
   "name": "python",
   "nbconvert_exporter": "python",
   "pygments_lexer": "ipython3",
   "version": "3.8.8"
  },
  "nbTranslate": {
   "displayLangs": [
    "*"
   ],
   "hotkey": "alt-t",
   "langInMainMenu": true,
   "sourceLang": "en",
   "targetLang": "fr",
   "useGoogleTranslate": true
  }
 },
 "nbformat": 4,
 "nbformat_minor": 5
}

{
 "cells": [
  {
   "cell_type": "markdown",
   "id": "aac879d5",
   "metadata": {},
   "source": [
    "# Tablero Como vamos\n",
    "## Vicepresidencia de Planeación - Turismo"
   ]
  },
  {
   "cell_type": "code",
   "execution_count": 1,
   "id": "ef33cf0f",
   "metadata": {},
   "outputs": [],
   "source": [
    "import pandas as pd \n",
    "import numpy as np \n",
    "import matplotlib.pyplot as plt \n",
    "import matplotlib as mpl \n",
    "import six\n",
    "import os \n",
    "\n",
    "pathout = './data/'\n",
    "if not os.path.exists(pathout):\n",
    "    os.mkdir(pathout) \n",
    "    pathgraphs = './graphs/'\n",
    "    if not os.path.exists(pathgraphs): \n",
    "        os.mkdir(pathgraphs)"
   ]
  },
  {
   "cell_type": "code",
   "execution_count": 2,
   "id": "ded1abc3",
   "metadata": {},
   "outputs": [],
   "source": [
    "añoactual = 2021\n",
    "trimestre = 3\n",
    "negociosañoactual = '2021-01-01'\n",
    "fechaactual  = '2021-10-30'"
   ]
  },
  {
   "cell_type": "code",
   "execution_count": 3,
   "id": "7d4025a8",
   "metadata": {},
   "outputs": [],
   "source": [
    "Metas = pd.read_excel(pathout + 'Metas.xlsx')"
   ]
  },
  {
   "cell_type": "code",
   "execution_count": 4,
   "id": "a8b48f0c",
   "metadata": {},
   "outputs": [],
   "source": [
    "Negocios = pd.read_excel(pathout + 'Negocios.xlsx')"
   ]
  },
  {
   "cell_type": "code",
   "execution_count": 5,
   "id": "82605f22",
   "metadata": {},
   "outputs": [],
   "source": [
    "Oportunidades = pd.read_excel(pathout + 'Oportunidades.xlsx')"
   ]
  },
  {
   "cell_type": "code",
   "execution_count": 6,
   "id": "ccc69bb0",
   "metadata": {},
   "outputs": [],
   "source": [
    "ENacionales = pd.read_excel(pathout + 'Empresas_nacionales.xlsx')"
   ]
  },
  {
   "cell_type": "code",
   "execution_count": 7,
   "id": "35c00785",
   "metadata": {},
   "outputs": [],
   "source": [
    "Frecuencias = pd.read_excel(pathout + 'Frecuencias.xlsx')"
   ]
  },
  {
   "cell_type": "code",
   "execution_count": 38,
   "id": "826f48e6",
   "metadata": {},
   "outputs": [],
   "source": [
    "MetasT =  Metas.drop(Metas[Metas['Meta: Eje'] != 'Turismo'].index)\n",
    "MetasT = MetasT.drop(MetasT[MetasT['Meta: Año'] !=  añoactual].index)\n",
    "MetasTQ = MetasT.drop(MetasT[MetasT['Meta: Período'] > trimestre].index)\n"
   ]
  },
  {
   "cell_type": "code",
   "execution_count": 39,
   "id": "8861bb6a",
   "metadata": {},
   "outputs": [],
   "source": [
    "NegociosT = Negocios.drop(Negocios[Negocios['Logro: Eje'] != 'Turismo'].index)\n",
    "NegociosT = NegociosT.drop(NegociosT[NegociosT['Meta 1 responsable Colombia: Año'] !=  añoactual].index)\n"
   ]
  },
  {
   "cell_type": "markdown",
   "id": "e59a4da8",
   "metadata": {},
   "source": [
    "### Metas y Metas Q"
   ]
  },
  {
   "cell_type": "code",
   "execution_count": 40,
   "id": "c21eeab9",
   "metadata": {},
   "outputs": [],
   "source": [
    "MetasT = MetasT.groupby(['Meta: Tipo meta funcionario' , 'E_HUB2019' , \n",
    "                   'E_Localización' , 'E_Clasificación' , \n",
    "                   'Meta: Nombre del propietario' , 'E_Rol',\n",
    "                  'Tipo de Indicador' , 'Meta: Tipo de meta'])['Meta: Valor meta'].sum().reset_index()\n",
    "\n",
    "MetasTQ = MetasTQ.groupby(['Meta: Tipo meta funcionario' , 'E_HUB2019' , \n",
    "                   'E_Localización' , 'E_Clasificación' , \n",
    "                   'Meta: Nombre del propietario' , 'E_Rol',\n",
    "                  'Tipo de Indicador' , 'Meta: Tipo de meta'])['Meta: Valor meta'].sum().reset_index()\n",
    "\n",
    "\n",
    " "
   ]
  },
  {
   "cell_type": "code",
   "execution_count": 41,
   "id": "31cd2ba4",
   "metadata": {},
   "outputs": [],
   "source": [
    "\n",
    "TFinal = MetasT.merge(MetasTQ, how='outer', left_on=['Meta: Tipo meta funcionario' , 'E_HUB2019' , \n",
    "                   'E_Localización' , 'E_Clasificación' , \n",
    "                   'Meta: Nombre del propietario' , 'E_Rol',\n",
    "                  'Tipo de Indicador' , 'Meta: Tipo de meta'], right_on=['Meta: Tipo meta funcionario' , 'E_HUB2019' , \n",
    "                   'E_Localización' , 'E_Clasificación' , \n",
    "                   'Meta: Nombre del propietario' , 'E_Rol',\n",
    "                  'Tipo de Indicador' , 'Meta: Tipo de meta']).fillna(0)\n",
    "\n",
    "TFinal.rename(columns={'Meta: Valor meta_x': 'Meta Total' , 'Meta: Valor meta_y': 'Meta Q'}, inplace=True)\n",
    "\n",
    "TFinal =  TFinal.drop(TFinal[TFinal['Meta Total'] == 0].index).reset_index()\n",
    "\n",
    "\n",
    "\n"
   ]
  },
  {
   "cell_type": "markdown",
   "id": "1ea63de3",
   "metadata": {},
   "source": [
    "### Captación de Congresos y Eventos"
   ]
  },
  {
   "cell_type": "code",
   "execution_count": 42,
   "id": "6697e0d1",
   "metadata": {},
   "outputs": [],
   "source": [
    "Negocios_Captacion_2021 = NegociosT.drop(NegociosT[NegociosT['Logro: Tipo de registro'] !=  'Captación de Eventos'].index)\n",
    "\n",
    "Negocios_Captacion_Col_2021 = Negocios_Captacion_2021.groupby(['Logro: Responsable Colombia' , 'Logro: Tipo de registro' \n",
    "                                                          ])['Logro: Valor'].sum().reset_index()\n",
    "\n",
    "Negocios_Captacion_Ext_2021 = Negocios_Captacion_2021.groupby(['Logro: Responsable en el Exterior 1' , 'Logro: Tipo de registro' \n",
    "                                                          ])['Logro: Valor'].sum().reset_index()\n",
    "\n",
    "\n",
    "Negocios_Captacion_Col_2021.rename(columns={'Logro: Responsable Colombia': 'Meta: Nombre del propietario'}, inplace=True)\n",
    "Negocios_Captacion_Ext_2021.rename(columns={'Logro: Responsable en el Exterior 1': 'Meta: Nombre del propietario'}, inplace=True)\n",
    "\n",
    "Negocios_Captacion_2021 = Negocios_Captacion_Col_2021.append(Negocios_Captacion_Ext_2021)\n",
    "Negocios_Captacion_2021.rename(columns={'Logro: Tipo de registro': 'Meta: Tipo de meta'}, inplace=True)\n",
    "\n",
    "#Falta captacion de Congresos\n",
    "\n",
    "Negocios_CaptacionCyE_2021 = Negocios_Captacion_2021\n",
    "\n",
    "Negocios_CaptacionCyE_2021 = (Negocios_CaptacionCyE_2021.replace('Captación de Eventos', 'Captación de Congresos y Eventos'))"
   ]
  },
  {
   "cell_type": "code",
   "execution_count": 43,
   "id": "50c08133",
   "metadata": {},
   "outputs": [],
   "source": [
    "TFinal = TFinal.merge(Negocios_CaptacionCyE_2021, how='outer', left_on=['Meta: Nombre del propietario' , 'Meta: Tipo de meta'], \n",
    "                      right_on=['Meta: Nombre del propietario' , 'Meta: Tipo de meta']).fillna(0)"
   ]
  },
  {
   "cell_type": "markdown",
   "id": "93c5aa2e",
   "metadata": {},
   "source": [
    "### Oportunidades en Etapa 0 y 1"
   ]
  },
  {
   "cell_type": "code",
   "execution_count": 44,
   "id": "d823b13f",
   "metadata": {},
   "outputs": [],
   "source": [
    "OportT = Oportunidades.drop(Oportunidades[Oportunidades['E_Año'] != añoactual].index)\n",
    "OportT = OportT.drop(OportT[OportT['Oportunidad: Tipo de registro'] != 'Conectividad aérea'].index)\n",
    "OportT_0y1 = OportT.drop(OportT[OportT['Oportunidad: Etapa'] == 5].index)\n",
    "OportT_0y1 = OportT_0y1.drop(OportT_0y1[OportT_0y1['Oportunidad: Etapa'] == 2].index)\n",
    "OportT_0y1 = OportT_0y1.drop(OportT_0y1[OportT_0y1['Oportunidad: Etapa'] == 3].index)\n",
    "OportT_0y1 = OportT_0y1.drop(OportT_0y1[OportT_0y1['Oportunidad: Etapa'] == 4].index)\n",
    "OportT_0y1 = OportT_0y1.groupby(['Oportunidad: Responsable en Colombia'])['Oportunidad: Consecutivo'].count().reset_index()\n",
    "\n",
    "OportT_0y1.rename(columns={'Oportunidad: Consecutivo': 'Logro: Valor' , \n",
    "                       'Oportunidad: Responsable en Colombia': 'Meta: Nombre del propietario'}, inplace=True)\n",
    "\n",
    "OportT_0y1['Meta: Tipo de meta'] = 'Número de oportunidades en etapa 0 y 1'\n",
    "\n"
   ]
  },
  {
   "cell_type": "code",
   "execution_count": 45,
   "id": "22295be3",
   "metadata": {},
   "outputs": [],
   "source": [
    "TFinal = TFinal.merge(OportT_0y1, how='outer', left_on=['Meta: Nombre del propietario' , 'Meta: Tipo de meta'], \n",
    "                      right_on=['Meta: Nombre del propietario' , 'Meta: Tipo de meta']).fillna(0)"
   ]
  },
  {
   "cell_type": "code",
   "execution_count": 46,
   "id": "0a4e7b80",
   "metadata": {},
   "outputs": [],
   "source": [
    "TFinal['Valor'] = TFinal['Logro: Valor_x'] + TFinal['Logro: Valor_y']\n",
    "TFinal = TFinal.drop(columns=['Logro: Valor_x', 'Logro: Valor_y'])\n"
   ]
  },
  {
   "cell_type": "markdown",
   "id": "7eddfe5e",
   "metadata": {},
   "source": [
    "### Oportunidades en Etapa 2 y 3"
   ]
  },
  {
   "cell_type": "code",
   "execution_count": 47,
   "id": "fd979e8d",
   "metadata": {},
   "outputs": [],
   "source": [
    "OportT = Oportunidades.drop(Oportunidades[Oportunidades['E_Año'] != añoactual].index)\n",
    "OportT = OportT.drop(OportT[OportT['Oportunidad: Tipo de registro'] != 'Conectividad aérea'].index)\n",
    "OportT_2y3 = OportT.drop(OportT[OportT['Oportunidad: Etapa'] == 5].index)\n",
    "OportT_2y3 = OportT_2y3.drop(OportT_2y3[OportT_2y3['Oportunidad: Etapa'] == 0].index)\n",
    "OportT_2y3 = OportT_2y3.drop(OportT_2y3[OportT_2y3['Oportunidad: Etapa'] == 1].index)\n",
    "OportT_2y3 = OportT_2y3.drop(OportT_2y3[OportT_2y3['Oportunidad: Etapa'] == 4].index)\n",
    "OportT_2y3 = OportT_2y3.groupby(['Oportunidad: Responsable en Colombia'])['Oportunidad: Consecutivo'].count().reset_index()\n",
    "\n",
    "OportT_2y3.rename(columns={'Oportunidad: Consecutivo': 'Logro: Valor' , \n",
    "                       'Oportunidad: Responsable en Colombia': 'Meta: Nombre del propietario'}, inplace=True)\n",
    "\n",
    "OportT_2y3['Meta: Tipo de meta'] = 'Número de oportunidades en etapa 2 y 3'\n"
   ]
  },
  {
   "cell_type": "code",
   "execution_count": 48,
   "id": "fb92bca4",
   "metadata": {},
   "outputs": [],
   "source": [
    "TFinal = TFinal.merge(OportT_2y3, how='outer', left_on=['Meta: Nombre del propietario' , 'Meta: Tipo de meta'], \n",
    "                      right_on=['Meta: Nombre del propietario' , 'Meta: Tipo de meta']).fillna(0)"
   ]
  },
  {
   "cell_type": "code",
   "execution_count": 49,
   "id": "041fd713",
   "metadata": {},
   "outputs": [],
   "source": [
    "\n",
    "TFinal['Valor'] = TFinal['Valor'] + TFinal['Logro: Valor']\n",
    "TFinal = TFinal.drop(columns=['Logro: Valor'])\n"
   ]
  },
  {
   "cell_type": "markdown",
   "id": "16b4c930",
   "metadata": {},
   "source": [
    "### Monto de Gasto de Noches"
   ]
  },
  {
   "cell_type": "code",
   "execution_count": 50,
   "id": "5a735a96",
   "metadata": {},
   "outputs": [],
   "source": [
    "MontoGastoNoches = NegociosT.drop(NegociosT[NegociosT['Logro: Tipo de registro'] !=  'Turismo Noches'].index)\n",
    "\n",
    "MontoGastoNoches = MontoGastoNoches.groupby(['Logro: Responsable Colombia' , 'Logro: Tipo de registro' \n",
    "                                                          ])['Logro: Valor'].sum().reset_index()\n",
    "\n",
    "MontoGastoNoches.rename(columns={'Logro: Responsable Colombia': 'Meta: Nombre del propietario'}, inplace=True)\n",
    "MontoGastoNoches.rename(columns={'Logro: Tipo de registro': 'Meta: Tipo de meta'}, inplace=True)\n",
    "\n",
    "\n",
    "MontoGastoNoches = (MontoGastoNoches.replace('Turismo Noches', 'Monto de gasto de noches'))\n",
    "\n"
   ]
  },
  {
   "cell_type": "code",
   "execution_count": 51,
   "id": "87330830",
   "metadata": {},
   "outputs": [],
   "source": [
    "TFinal = TFinal.merge(MontoGastoNoches, how='outer', left_on=['Meta: Nombre del propietario' , 'Meta: Tipo de meta'], \n",
    "                      right_on=['Meta: Nombre del propietario' , 'Meta: Tipo de meta']).fillna(0)\n",
    "\n",
    "\n",
    "TFinal['Valor'] = TFinal['Valor'] + TFinal['Logro: Valor']\n",
    "TFinal = TFinal.drop(columns=['Logro: Valor'])\n"
   ]
  },
  {
   "cell_type": "markdown",
   "id": "d6a11caf",
   "metadata": {},
   "source": [
    "### Monto de Gasto de Paquetes"
   ]
  },
  {
   "cell_type": "code",
   "execution_count": 52,
   "id": "bf015316",
   "metadata": {},
   "outputs": [],
   "source": [
    "MontoPaquetes = NegociosT.drop(NegociosT[NegociosT['Logro: Tipo de registro'] !=  'Paquetes Turismo'].index)\n",
    "\n",
    "MontoPaquetes = MontoPaquetes.groupby(['Logro: Responsable Colombia' , 'Logro: Tipo de registro' \n",
    "                                                          ])['Logro: Valor'].sum().reset_index()\n",
    "\n",
    "MontoPaquetes.rename(columns={'Logro: Responsable Colombia': 'Meta: Nombre del propietario'}, inplace=True)\n",
    "MontoPaquetes.rename(columns={'Logro: Tipo de registro': 'Meta: Tipo de meta'}, inplace=True)\n",
    "\n",
    "\n",
    "MontoPaquetes = (MontoPaquetes.replace('Paquetes Turismo', 'Monto de gasto paquetes'))"
   ]
  },
  {
   "cell_type": "code",
   "execution_count": 53,
   "id": "b3391ded",
   "metadata": {},
   "outputs": [],
   "source": [
    "TFinal = TFinal.merge(MontoPaquetes, how='outer', left_on=['Meta: Nombre del propietario' , 'Meta: Tipo de meta'], \n",
    "                      right_on=['Meta: Nombre del propietario' , 'Meta: Tipo de meta']).fillna(0)\n",
    "\n",
    "\n",
    "TFinal['Valor'] = TFinal['Valor'] + TFinal['Logro: Valor']\n",
    "TFinal = TFinal.drop(columns=['Logro: Valor'])\n"
   ]
  },
  {
   "cell_type": "markdown",
   "id": "4a8dda99",
   "metadata": {},
   "source": [
    "### Número de empresas PyA con plan de trabajo vigente (Pendiente)"
   ]
  },
  {
   "cell_type": "markdown",
   "id": "9ea16308",
   "metadata": {},
   "source": [
    "### Número de empresas PyA con primer acercamiento comercial (Pendiente)"
   ]
  },
  {
   "cell_type": "markdown",
   "id": "612cd347",
   "metadata": {},
   "source": [
    "### Número asistentes PFE turismo (Pendiente)"
   ]
  },
  {
   "cell_type": "markdown",
   "id": "99f95591",
   "metadata": {},
   "source": [
    "### Número de empresas con servicios en turismo"
   ]
  },
  {
   "cell_type": "code",
   "execution_count": 54,
   "id": "e09b3fd3",
   "metadata": {},
   "outputs": [],
   "source": [
    "ENacionales2 = ENacionales.drop(ENacionales[ENacionales['Fecha'] < negociosañoactual].index)\n",
    "ENacionales2 = ENacionales2.drop(ENacionales2[ENacionales2['Fecha'] > fechaactual].index)\n",
    "\n",
    "#ENacionales2 = ENacionales.drop(ENacionales[ENacionales['Año de Fecha creación'] != añoactual].index)\n",
    "ENacionales2 = ENacionales2.drop(ENacionales2[ENacionales2['Eje'] !=  'Turismo'].index)\n",
    "\n",
    "\n",
    "ENacionales2 = ENacionales2.drop(ENacionales2[ENacionales2['Estado'] ==  'Retiro'].index)\n",
    "ENacionales2 = ENacionales2.drop(ENacionales2[ENacionales2['Estado'] ==  'Rechazado'].index)\n",
    "ENacionales2 = ENacionales2.drop(ENacionales2[ENacionales2['Estado'] ==  'No asistió'].index)\n",
    "ENacionales2 = ENacionales2.drop(ENacionales2[ENacionales2['Estado'] ==  'No iniciada'].index)\n",
    "ENacionales2 = ENacionales2.drop(ENacionales2[ENacionales2['Estado'] ==  'Canceló participación'].index)\n",
    "ENacionales2 = ENacionales2.drop(ENacionales2[ENacionales2['Estado'] ==  'Cancelado definitivamente'].index)\n",
    "ENacionales2 = ENacionales2.drop(ENacionales2[ENacionales2['Estado'] ==  'nan'].index)\n",
    "ENacionales2 = ENacionales2.drop(ENacionales2[ENacionales2['Estado'] ==  'Solicitud rechazada'].index)\n",
    "ENacionales2 = ENacionales2.drop(ENacionales2[ENacionales2['Estado'] ==  'Inactivo'].index)\n",
    "ENacionales2 = ENacionales2.drop(ENacionales2[ENacionales2['Estado'] ==  'Cancelado'].index)\n",
    "ENacionales2 = ENacionales2.drop(ENacionales2[ENacionales2['Estado'] ==  'Aplazada'].index)\n",
    "ENacionales2 = ENacionales2.drop(ENacionales2[ENacionales2['Estado'] ==  'Participación Rechazada'].index)\n",
    "ENacionales2 = ENacionales2.drop(ENacionales2[ENacionales2['Estado'] ==  'Cancelado con posibilidad de reactivación'].index)\n",
    "ENacionales2 = ENacionales2.drop(ENacionales2[ENacionales2['Estado'] ==  'Postergado con fecha'].index)\n",
    "ENacionales2 = ENacionales2.drop(ENacionales2[ENacionales2['Estado'] ==  'Postergado sin fecha'].index)\n",
    "ENacionales2['Empresa'] = ENacionales2['Empresa'].str.lower()\n",
    "\n",
    "ENacionales_Nacional = ENacionales2.drop(ENacionales2[ENacionales2['Tipo empresa'] !=  'Nacional'].index)\n",
    "ENacionales_Exterior = ENacionales2.drop(ENacionales2[ENacionales2['Tipo empresa'] !=  'Exterior'].index)"
   ]
  },
  {
   "cell_type": "code",
   "execution_count": 55,
   "id": "b0e18242",
   "metadata": {},
   "outputs": [],
   "source": [
    "ENTuris_Nal = ENacionales_Nacional.groupby(['Responsable nacional'])['Empresa'].nunique().reset_index()\n",
    "ENTuris_Ext = ENacionales_Exterior.groupby(['Responsable exterior'])['Empresa'].nunique().reset_index()\n",
    "\n",
    "ENTuris_Nal.rename(columns={'Responsable nacional': 'Meta: Nombre del propietario'}, inplace=True)\n",
    "ENTuris_Ext.rename(columns={'Responsable exterior': 'Meta: Nombre del propietario'}, inplace=True)\n",
    "\n",
    "ENTuris = ENTuris_Nal.append(ENTuris_Ext)\n",
    "ENTuris['Meta: Tipo de meta'] = 'Número de empresas con servicios en turismo'\n"
   ]
  },
  {
   "cell_type": "code",
   "execution_count": 56,
   "id": "8831c9c7",
   "metadata": {},
   "outputs": [],
   "source": [
    "TFinal = TFinal.merge(ENTuris, how='left', left_on=['Meta: Nombre del propietario' , 'Meta: Tipo de meta'], \n",
    "                      right_on=['Meta: Nombre del propietario' , 'Meta: Tipo de meta']).fillna(0)\n",
    "\n",
    "\n",
    "TFinal['Valor'] = TFinal['Valor'] + TFinal['Empresa']\n",
    "TFinal = TFinal.drop(columns=['Empresa'])\n"
   ]
  },
  {
   "cell_type": "markdown",
   "id": "63885e8d",
   "metadata": {},
   "source": [
    "##### Eliminando los que tienen resultados pero no metas --> how ='left'"
   ]
  },
  {
   "cell_type": "markdown",
   "id": "05a5a68b",
   "metadata": {},
   "source": [
    "### Número de frecuencias"
   ]
  },
  {
   "cell_type": "code",
   "execution_count": 57,
   "id": "07686d64",
   "metadata": {},
   "outputs": [],
   "source": [
    "Frecuencias['Meta: Tipo de meta'] = 'Número de frecuencias'"
   ]
  },
  {
   "cell_type": "code",
   "execution_count": 58,
   "id": "0da511b6",
   "metadata": {},
   "outputs": [],
   "source": [
    "FrecT = Frecuencias.groupby(['Meta: Tipo de meta'])['Frecuencias'].sum().reset_index()\n",
    "\n",
    "TFinal = TFinal.merge(FrecT, how='left', left_on=[ 'Meta: Tipo de meta'], \n",
    "                      right_on=['Meta: Tipo de meta']).fillna(0)\n",
    "\n",
    "\n",
    "TFinal['Valor'] = TFinal['Valor'] + TFinal['Frecuencias']\n",
    "TFinal = TFinal.drop(columns=['Frecuencias'])\n"
   ]
  },
  {
   "cell_type": "markdown",
   "id": "54374892",
   "metadata": {},
   "source": [
    "### Número de sillas"
   ]
  },
  {
   "cell_type": "code",
   "execution_count": 60,
   "id": "20be28a4",
   "metadata": {},
   "outputs": [],
   "source": [
    "Frecuencias['Meta: Tipo de meta'] = 'Número de sillas'"
   ]
  },
  {
   "cell_type": "code",
   "execution_count": 62,
   "id": "046f8c25",
   "metadata": {},
   "outputs": [],
   "source": [
    "FrecT2 = Frecuencias.groupby(['Meta: Tipo de meta'])['Sillas'].sum().reset_index()\n",
    "\n",
    "TFinal = TFinal.merge(FrecT2, how='left', left_on=[ 'Meta: Tipo de meta'], \n",
    "                      right_on=['Meta: Tipo de meta']).fillna(0)\n",
    "\n",
    "\n",
    "TFinal['Valor'] = TFinal['Valor'] + TFinal['Sillas']\n",
    "TFinal = TFinal.drop(columns=['Sillas'])\n"
   ]
  },
  {
   "cell_type": "markdown",
   "id": "b20169c7",
   "metadata": {},
   "source": [
    "### Proyecto de gestión"
   ]
  },
  {
   "cell_type": "code",
   "execution_count": null,
   "id": "6215be00",
   "metadata": {},
   "outputs": [],
   "source": []
  },
  {
   "cell_type": "code",
   "execution_count": null,
   "id": "80fa9f81",
   "metadata": {},
   "outputs": [],
   "source": []
  },
  {
   "cell_type": "code",
   "execution_count": null,
   "id": "338c16cd",
   "metadata": {},
   "outputs": [],
   "source": []
  },
  {
   "cell_type": "code",
   "execution_count": null,
   "id": "b55cf4c3",
   "metadata": {},
   "outputs": [],
   "source": []
  },
  {
   "cell_type": "markdown",
   "id": "14d1c913",
   "metadata": {},
   "source": [
    "## Pendiente:\n",
    "\n",
    "- Número asistentes PFE turismo\n",
    "- Número de empresas PyA con plan de trabajo vigente\n",
    "- Número de empresas PyA con primer acercamiento comercial\n",
    "- Proyecto de gestión\n"
   ]
  },
  {
   "cell_type": "code",
   "execution_count": 77,
   "id": "7de9ebbb",
   "metadata": {},
   "outputs": [
    {
     "data": {
      "text/plain": [
       "['Captación de Congresos y Eventos',\n",
       " 'Monto de gasto de noches',\n",
       " 'Monto de gasto paquetes',\n",
       " 'Número asistentes PFE turismo',\n",
       " 'Número de empresas con servicios en turismo',\n",
       " 'Proyecto de gestión',\n",
       " 'Número de empresas PyA con plan de trabajo vigente',\n",
       " 'Número de empresas PyA con primer acercamiento comercial',\n",
       " 'Número de frecuencias',\n",
       " 'Número de oportunidades en etapa 0 y 1',\n",
       " 'Número de oportunidades en etapa 2 y 3',\n",
       " 'Número de sillas']"
      ]
     },
     "execution_count": 77,
     "metadata": {},
     "output_type": "execute_result"
    }
   ],
   "source": [
    "list(dict.fromkeys(TFinal['Meta: Tipo de meta']))\n"
   ]
  },
  {
   "cell_type": "code",
   "execution_count": 268,
   "id": "4ae032ce",
   "metadata": {},
   "outputs": [
    {
     "data": {
      "text/html": [
       "<a href='Turismo.xlsx' target='_blank'>Turismo.xlsx</a><br>"
      ],
      "text/plain": [
       "C:\\Users\\user\\Documents\\Codigos Python\\Automatizacion\\Turismo.xlsx"
      ]
     },
     "execution_count": 268,
     "metadata": {},
     "output_type": "execute_result"
    }
   ],
   "source": [
    "writer = pd.ExcelWriter('Turismo.xlsx')\n",
    "TFinal.to_excel(writer)\n",
    "writer.save()\n",
    "from IPython.display import FileLink\n",
    "FileLink('Turismo.xlsx')"
   ]
  },
  {
   "cell_type": "code",
   "execution_count": 64,
   "id": "c4d185c2",
   "metadata": {},
   "outputs": [],
   "source": [
    "##TFinal[TFinal['Meta: Tipo de meta'] == 'Número de frecuencias']\n"
   ]
  },
  {
   "cell_type": "code",
   "execution_count": null,
   "id": "fce48a42",
   "metadata": {},
   "outputs": [],
   "source": []
  }
 ],
 "metadata": {
  "kernelspec": {
   "display_name": "Python 3",
   "language": "python",
   "name": "python3"
  },
  "language_info": {
   "codemirror_mode": {
    "name": "ipython",
    "version": 3
   },
   "file_extension": ".py",
   "mimetype": "text/x-python",
   "name": "python",
   "nbconvert_exporter": "python",
   "pygments_lexer": "ipython3",
   "version": "3.8.8"
  }
 },
 "nbformat": 4,
 "nbformat_minor": 5
}

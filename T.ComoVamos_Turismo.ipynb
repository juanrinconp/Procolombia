{
 "cells": [
  {
   "cell_type": "markdown",
   "id": "aac879d5",
   "metadata": {},
   "source": [
    "# Tablero Como vamos\n",
    "## Vicepresidencia de Planeación - Turismo"
   ]
  },
  {
   "cell_type": "code",
   "execution_count": 1,
   "id": "ef33cf0f",
   "metadata": {},
   "outputs": [],
   "source": [
    "import pandas as pd \n",
    "import numpy as np \n",
    "import matplotlib.pyplot as plt \n",
    "import matplotlib as mpl \n",
    "import six\n",
    "import os \n",
    "\n",
    "pathout = './data/'\n",
    "if not os.path.exists(pathout):\n",
    "    os.mkdir(pathout) \n",
    "    pathgraphs = './graphs/'\n",
    "    if not os.path.exists(pathgraphs): \n",
    "        os.mkdir(pathgraphs)"
   ]
  },
  {
   "cell_type": "code",
   "execution_count": 2,
   "id": "7d4025a8",
   "metadata": {},
   "outputs": [],
   "source": [
    "Metas = pd.read_excel(pathout + 'Metas.xlsx')"
   ]
  },
  {
   "cell_type": "code",
   "execution_count": 3,
   "id": "a8b48f0c",
   "metadata": {},
   "outputs": [],
   "source": [
    "Negocios = pd.read_excel(pathout + 'Negocios.xlsx')"
   ]
  },
  {
   "cell_type": "code",
   "execution_count": 4,
   "id": "82605f22",
   "metadata": {},
   "outputs": [],
   "source": [
    "Oportunidades = pd.read_excel(pathout + 'Oportunidades.xlsx')"
   ]
  },
  {
   "cell_type": "code",
   "execution_count": 66,
   "id": "ccc69bb0",
   "metadata": {},
   "outputs": [],
   "source": [
    "ENacionales = pd.read_excel(pathout + 'Empresas_nacionales.xlsx')"
   ]
  },
  {
   "cell_type": "code",
   "execution_count": 6,
   "id": "35c00785",
   "metadata": {},
   "outputs": [],
   "source": [
    "Frecuencias = pd.read_excel(pathout + 'Frecuencias.xlsx')"
   ]
  },
  {
   "cell_type": "code",
   "execution_count": 7,
   "id": "5c09e782",
   "metadata": {},
   "outputs": [],
   "source": [
    "ProyectoseHitos = pd.read_excel(pathout + 'ProyectoseHitos.xlsx')"
   ]
  },
  {
   "cell_type": "code",
   "execution_count": 8,
   "id": "8ffabcca",
   "metadata": {
    "scrolled": true
   },
   "outputs": [],
   "source": [
    "#ProyectoseHitos = pd.read_csv(pathout + 'ProyectoseHitos.csv' , delimiter = ';' ,  encoding = 'iso-8859-1')"
   ]
  },
  {
   "cell_type": "code",
   "execution_count": 9,
   "id": "bb491fe9",
   "metadata": {},
   "outputs": [],
   "source": [
    "AsistentesPFE1 =  pd.read_excel(pathout + 'asistentesPFE.xlsx')"
   ]
  },
  {
   "cell_type": "code",
   "execution_count": 10,
   "id": "08bba8c7",
   "metadata": {},
   "outputs": [],
   "source": [
    "AsistentesPFE2020 =  pd.read_excel(pathout + 'PFE_2020.xlsx')"
   ]
  },
  {
   "cell_type": "code",
   "execution_count": 11,
   "id": "0af8a3d8",
   "metadata": {},
   "outputs": [],
   "source": [
    "SillasyFrecuencias2020 =  pd.read_excel(pathout + 'SillasyFrecuencias2020.xlsx')"
   ]
  },
  {
   "cell_type": "code",
   "execution_count": 67,
   "id": "ded1abc3",
   "metadata": {},
   "outputs": [],
   "source": [
    "añoactual = 2021\n",
    "añoanterior = 2020\n",
    "trimestre = 4\n",
    "\n",
    "#Fecha en Formato aaaa/mm/dd para la base de Tableau 12a\n",
    "negociosañoactual = '2021-01-01'\n",
    "fechaactual  = '2021-11-01'\n",
    "fechaactual2  = '1/01/2021'\n",
    "fechaanterior2 = '1/01/2020'\n",
    "eneroañoanterior = '2020-01-01'\n",
    "fechaactual_añoanterior = '2020-11-01'\n",
    "diciembreañoanterior = '2020-12-31'"
   ]
  },
  {
   "cell_type": "code",
   "execution_count": 68,
   "id": "826f48e6",
   "metadata": {},
   "outputs": [],
   "source": [
    "MetasT =  Metas.drop(Metas[Metas['Meta: Eje'] != 'Turismo'].index)\n",
    "MetasT = MetasT.drop(MetasT[MetasT['Meta: Año'] !=  añoactual].index)\n",
    "MetasTQ = MetasT.drop(MetasT[MetasT['Meta: Período'] > trimestre].index)\n",
    "\n",
    "MetasT_Anterior =  Metas.drop(Metas[Metas['Meta: Eje'] != 'Turismo'].index)\n",
    "MetasT_Anterior = MetasT_Anterior.drop(MetasT_Anterior[MetasT_Anterior['Meta: Año'] !=  añoanterior].index)\n",
    "MetasTQ_Anterior = MetasT_Anterior.drop(MetasT_Anterior[MetasT_Anterior['Meta: Período'] > trimestre].index)\n"
   ]
  },
  {
   "cell_type": "code",
   "execution_count": 69,
   "id": "8861bb6a",
   "metadata": {},
   "outputs": [],
   "source": [
    "NegociosT = Negocios.drop(Negocios[Negocios['Logro: Eje'] != 'Turismo'].index)\n",
    "NegociosT = NegociosT.drop(NegociosT[NegociosT['Meta 1 responsable Colombia: Año'] !=  añoactual].index)\n",
    "\n",
    "NegociosTA = Negocios.drop(Negocios[Negocios['Logro: Eje'] != 'Turismo'].index)\n",
    "NegociosTA = NegociosTA.drop(NegociosTA[NegociosTA['Meta 1 responsable Colombia: Año'] !=  añoanterior].index)\n"
   ]
  },
  {
   "cell_type": "markdown",
   "id": "e59a4da8",
   "metadata": {},
   "source": [
    "### Metas y Metas Q"
   ]
  },
  {
   "cell_type": "markdown",
   "id": "71657569",
   "metadata": {},
   "source": [
    "#### 2021"
   ]
  },
  {
   "cell_type": "code",
   "execution_count": 70,
   "id": "7f52eb06",
   "metadata": {},
   "outputs": [],
   "source": [
    "MetasT = MetasT.groupby(['Meta: Tipo meta funcionario' , 'E_HUB2019' , \n",
    "                   'E_Localización' , 'E_Clasificación' , \n",
    "                   'Meta: Nombre del propietario' , 'E_Rol',\n",
    "                  'Tipo de Indicador' , 'Meta: Tipo de meta'])['Meta: Valor meta'].sum().reset_index()\n",
    "\n",
    "MetasTQ = MetasTQ.groupby(['Meta: Tipo meta funcionario' , 'E_HUB2019' , \n",
    "                   'E_Localización' , 'E_Clasificación' , \n",
    "                   'Meta: Nombre del propietario' , 'E_Rol',\n",
    "                  'Tipo de Indicador' , 'Meta: Tipo de meta'])['Meta: Valor meta'].sum().reset_index()"
   ]
  },
  {
   "cell_type": "code",
   "execution_count": 71,
   "id": "09cc238a",
   "metadata": {},
   "outputs": [],
   "source": [
    "\n",
    "TFinal = MetasT.merge(MetasTQ, how='outer', left_on=['Meta: Tipo meta funcionario' , 'E_HUB2019' , \n",
    "                   'E_Localización' , 'E_Clasificación' , \n",
    "                   'Meta: Nombre del propietario' , 'E_Rol',\n",
    "                  'Tipo de Indicador' , 'Meta: Tipo de meta'], right_on=['Meta: Tipo meta funcionario' , 'E_HUB2019' , \n",
    "                   'E_Localización' , 'E_Clasificación' , \n",
    "                   'Meta: Nombre del propietario' , 'E_Rol',\n",
    "                  'Tipo de Indicador' , 'Meta: Tipo de meta']).fillna(0)\n",
    "\n",
    "TFinal.rename(columns={'Meta: Valor meta_x': 'Meta Total' , 'Meta: Valor meta_y': 'Meta Q'}, inplace=True)\n",
    "\n",
    "\n"
   ]
  },
  {
   "cell_type": "markdown",
   "id": "1ea63de3",
   "metadata": {},
   "source": [
    "### Captación de Congresos y Eventos"
   ]
  },
  {
   "cell_type": "markdown",
   "id": "1757c760",
   "metadata": {},
   "source": [
    "#### 2021"
   ]
  },
  {
   "cell_type": "code",
   "execution_count": 72,
   "id": "6697e0d1",
   "metadata": {},
   "outputs": [],
   "source": [
    "Negocios_Captacion_2021 = NegociosT.drop(NegociosT[NegociosT['Logro: Tipo de registro'] !=  'Captación de Eventos'].index)\n",
    "\n",
    "Negocios_Captacion_Col_2021 = Negocios_Captacion_2021.groupby(['Logro: Responsable Colombia' , 'Logro: Tipo de registro' \n",
    "                                                          ])['Logro: Valor'].sum().reset_index()\n",
    "\n",
    "Negocios_Captacion_Ext_2021 = Negocios_Captacion_2021.groupby(['Logro: Responsable en el Exterior 1' , 'Logro: Tipo de registro' \n",
    "                                                          ])['Logro: Valor'].sum().reset_index()\n",
    "\n",
    "\n",
    "Negocios_Captacion_Col_2021.rename(columns={'Logro: Responsable Colombia': 'Meta: Nombre del propietario'}, inplace=True)\n",
    "Negocios_Captacion_Ext_2021.rename(columns={'Logro: Responsable en el Exterior 1': 'Meta: Nombre del propietario'}, inplace=True)\n",
    "\n",
    "Negocios_Captacion_2021 = Negocios_Captacion_Col_2021.append(Negocios_Captacion_Ext_2021)\n",
    "Negocios_Captacion_2021.rename(columns={'Logro: Tipo de registro': 'Meta: Tipo de meta'}, inplace=True)\n",
    "\n",
    "#Falta captacion de Congresos\n",
    "\n",
    "Negocios_CaptacionCyE_2021 = Negocios_Captacion_2021\n",
    "\n",
    "Negocios_CaptacionCyE_2021 = (Negocios_CaptacionCyE_2021.replace('Captación de Eventos', 'Captación de Congresos y Eventos'))"
   ]
  },
  {
   "cell_type": "code",
   "execution_count": 73,
   "id": "50c08133",
   "metadata": {},
   "outputs": [],
   "source": [
    "TFinal = TFinal.merge(Negocios_CaptacionCyE_2021, how='outer', left_on=['Meta: Nombre del propietario' , 'Meta: Tipo de meta'], \n",
    "                      right_on=['Meta: Nombre del propietario' , 'Meta: Tipo de meta']).fillna(0)"
   ]
  },
  {
   "cell_type": "markdown",
   "id": "c7fcdd67",
   "metadata": {},
   "source": [
    "#### 2020"
   ]
  },
  {
   "cell_type": "code",
   "execution_count": 74,
   "id": "8438390a",
   "metadata": {},
   "outputs": [],
   "source": [
    "Negocios_Captacion_2020 = NegociosTA.drop(NegociosTA[NegociosTA['Logro: Tipo de registro'] !=  'Captación de Eventos'].index)\n",
    "\n",
    "Negocios_Captacion_Col_2020 = Negocios_Captacion_2020.groupby(['Logro: Responsable Colombia' , 'Logro: Tipo de registro' \n",
    "                                                          ])['Logro: Valor'].sum().reset_index()\n",
    "\n",
    "Negocios_Captacion_Ext_2020 = Negocios_Captacion_2020.groupby(['Logro: Responsable en el Exterior 1' , 'Logro: Tipo de registro' \n",
    "                                                          ])['Logro: Valor'].sum().reset_index()\n",
    "\n",
    "\n",
    "Negocios_Captacion_Col_2020.rename(columns={'Logro: Responsable Colombia': 'Meta: Nombre del propietario'}, inplace=True)\n",
    "Negocios_Captacion_Ext_2020.rename(columns={'Logro: Responsable en el Exterior 1': 'Meta: Nombre del propietario'}, inplace=True)\n",
    "\n",
    "Negocios_Captacion_2020 = Negocios_Captacion_Col_2020.append(Negocios_Captacion_Ext_2020)\n",
    "Negocios_Captacion_2020.rename(columns={'Logro: Tipo de registro': 'Meta: Tipo de meta'}, inplace=True)\n",
    "\n",
    "#Falta captacion de Congresos\n",
    "\n",
    "Negocios_CaptacionCyE_2020 = Negocios_Captacion_2020\n",
    "\n",
    "Negocios_CaptacionCyE_2020 = (Negocios_CaptacionCyE_2020.replace('Captación de Eventos', 'Captación de Congresos y Eventos'))\n",
    "Negocios_CaptacionCyE_2020.rename(columns={'Logro: Valor': 'Valor 2020'}, inplace=True)"
   ]
  },
  {
   "cell_type": "code",
   "execution_count": 75,
   "id": "71fdfb44",
   "metadata": {},
   "outputs": [],
   "source": [
    "TFinal = TFinal.merge(Negocios_CaptacionCyE_2020, how='outer', left_on=['Meta: Nombre del propietario' , 'Meta: Tipo de meta'], \n",
    "                      right_on=['Meta: Nombre del propietario' , 'Meta: Tipo de meta']).fillna(0)"
   ]
  },
  {
   "cell_type": "markdown",
   "id": "93c5aa2e",
   "metadata": {},
   "source": [
    "### Oportunidades en Etapa 0 y 1"
   ]
  },
  {
   "cell_type": "markdown",
   "id": "e9228330",
   "metadata": {},
   "source": [
    "#### 2021"
   ]
  },
  {
   "cell_type": "code",
   "execution_count": 76,
   "id": "d823b13f",
   "metadata": {},
   "outputs": [],
   "source": [
    "OportT = Oportunidades.drop(Oportunidades[Oportunidades['E_Año'] != añoactual].index)\n",
    "OportT = OportT.drop(OportT[OportT['Oportunidad: Tipo de registro'] != 'Conectividad aérea'].index)\n",
    "OportT_0y1 = OportT.drop(OportT[OportT['Oportunidad: Etapa'] == 5].index)\n",
    "OportT_0y1 = OportT_0y1.drop(OportT_0y1[OportT_0y1['Oportunidad: Etapa'] == 2].index)\n",
    "OportT_0y1 = OportT_0y1.drop(OportT_0y1[OportT_0y1['Oportunidad: Etapa'] == 3].index)\n",
    "OportT_0y1 = OportT_0y1.drop(OportT_0y1[OportT_0y1['Oportunidad: Etapa'] == 4].index)\n",
    "OportT_0y1Nacio = OportT_0y1.groupby(['Oportunidad: Responsable en Colombia'])['Oportunidad: Consecutivo'].count().reset_index()\n",
    "OportT_0y1Ext = OportT_0y1.groupby(['Oportunidad: Responsable en el exterior 1'])['Oportunidad: Consecutivo'].count().reset_index()\n",
    "\n",
    "\n",
    "OportT_0y1Nacio.rename(columns={'Oportunidad: Consecutivo': 'Logro: Valor' , \n",
    "                       'Oportunidad: Responsable en Colombia': 'Meta: Nombre del propietario'}, inplace=True)\n",
    "OportT_0y1Ext.rename(columns={'Oportunidad: Consecutivo': 'Logro: Valor' , \n",
    "                       'Oportunidad: Responsable en el exterior 1': 'Meta: Nombre del propietario'}, inplace=True)\n",
    "OportT_0y1 = OportT_0y1Nacio.append(OportT_0y1Ext, ignore_index=True)\n",
    "\n",
    "OportT_0y1['Meta: Tipo de meta'] = 'Número de oportunidades en etapa 0 y 1'\n",
    "\n"
   ]
  },
  {
   "cell_type": "code",
   "execution_count": 77,
   "id": "22295be3",
   "metadata": {},
   "outputs": [],
   "source": [
    "TFinal = TFinal.merge(OportT_0y1, how='outer', left_on=['Meta: Nombre del propietario' , 'Meta: Tipo de meta'], \n",
    "                      right_on=['Meta: Nombre del propietario' , 'Meta: Tipo de meta']).fillna(0)"
   ]
  },
  {
   "cell_type": "code",
   "execution_count": 78,
   "id": "0a4e7b80",
   "metadata": {},
   "outputs": [],
   "source": [
    "TFinal['Valor'] = TFinal['Logro: Valor_x'] + TFinal['Logro: Valor_y']\n",
    "TFinal = TFinal.drop(columns=['Logro: Valor_x', 'Logro: Valor_y'])\n"
   ]
  },
  {
   "cell_type": "markdown",
   "id": "7eddfe5e",
   "metadata": {},
   "source": [
    "### Oportunidades en Etapa 2 y 3"
   ]
  },
  {
   "cell_type": "markdown",
   "id": "a6fe4cfe",
   "metadata": {},
   "source": [
    "#### 2021"
   ]
  },
  {
   "cell_type": "code",
   "execution_count": 79,
   "id": "fd979e8d",
   "metadata": {},
   "outputs": [],
   "source": [
    "OportT = Oportunidades.drop(Oportunidades[Oportunidades['E_Año'] != añoactual].index)\n",
    "OportT = OportT.drop(OportT[OportT['Oportunidad: Tipo de registro'] != 'Conectividad aérea'].index)\n",
    "OportT_2y3 = OportT.drop(OportT[OportT['Oportunidad: Etapa'] == 5].index)\n",
    "OportT_2y3 = OportT_2y3.drop(OportT_2y3[OportT_2y3['Oportunidad: Etapa'] == 0].index)\n",
    "OportT_2y3 = OportT_2y3.drop(OportT_2y3[OportT_2y3['Oportunidad: Etapa'] == 1].index)\n",
    "OportT_2y3 = OportT_2y3.drop(OportT_2y3[OportT_2y3['Oportunidad: Etapa'] == 4].index)\n",
    "OportT_2y3Nacio = OportT_2y3.groupby(['Oportunidad: Responsable en Colombia'])['Oportunidad: Consecutivo'].count().reset_index()\n",
    "OportT_2y3Ext = OportT_2y3.groupby(['Oportunidad: Responsable en el exterior 1'])['Oportunidad: Consecutivo'].count().reset_index()\n",
    "\n",
    "\n",
    "OportT_2y3Nacio.rename(columns={'Oportunidad: Consecutivo': 'Logro: Valor' , \n",
    "                       'Oportunidad: Responsable en Colombia': 'Meta: Nombre del propietario'}, inplace=True)\n",
    "OportT_2y3Ext.rename(columns={'Oportunidad: Consecutivo': 'Logro: Valor' , \n",
    "                       'Oportunidad: Responsable en el exterior 1': 'Meta: Nombre del propietario'}, inplace=True)\n",
    "OportT_2y3 = OportT_2y3Nacio.append(OportT_2y3Ext, ignore_index=True)\n",
    "\n",
    "OportT_2y3['Meta: Tipo de meta'] = 'Número de oportunidades en etapa 2 y 3'\n"
   ]
  },
  {
   "cell_type": "code",
   "execution_count": 80,
   "id": "fb92bca4",
   "metadata": {},
   "outputs": [],
   "source": [
    "TFinal = TFinal.merge(OportT_2y3, how='outer', left_on=['Meta: Nombre del propietario' , 'Meta: Tipo de meta'], \n",
    "                      right_on=['Meta: Nombre del propietario' , 'Meta: Tipo de meta']).fillna(0)"
   ]
  },
  {
   "cell_type": "code",
   "execution_count": 81,
   "id": "041fd713",
   "metadata": {},
   "outputs": [],
   "source": [
    "\n",
    "TFinal['Valor'] = TFinal['Valor'] + TFinal['Logro: Valor']\n",
    "TFinal = TFinal.drop(columns=['Logro: Valor'])\n"
   ]
  },
  {
   "cell_type": "markdown",
   "id": "16b4c930",
   "metadata": {},
   "source": [
    "### Monto de Gasto de Noches"
   ]
  },
  {
   "cell_type": "markdown",
   "id": "dbbde994",
   "metadata": {},
   "source": [
    "#### 2021"
   ]
  },
  {
   "cell_type": "code",
   "execution_count": 82,
   "id": "5a735a96",
   "metadata": {},
   "outputs": [],
   "source": [
    "MontoGastoNoches = NegociosT.drop(NegociosT[NegociosT['Logro: Tipo de registro'] !=  'Turismo Noches'].index)\n",
    "\n",
    "MontoGastoNoches = MontoGastoNoches.groupby(['Logro: Responsable Colombia' , 'Logro: Tipo de registro' \n",
    "                                                          ])['Logro: Valor'].sum().reset_index()\n",
    "\n",
    "MontoGastoNoches.rename(columns={'Logro: Responsable Colombia': 'Meta: Nombre del propietario'}, inplace=True)\n",
    "MontoGastoNoches.rename(columns={'Logro: Tipo de registro': 'Meta: Tipo de meta'}, inplace=True)\n",
    "\n",
    "\n",
    "MontoGastoNoches = (MontoGastoNoches.replace('Turismo Noches', 'Monto de gasto de noches'))\n",
    "\n"
   ]
  },
  {
   "cell_type": "code",
   "execution_count": 83,
   "id": "87330830",
   "metadata": {},
   "outputs": [],
   "source": [
    "TFinal = TFinal.merge(MontoGastoNoches, how='outer', left_on=['Meta: Nombre del propietario' , 'Meta: Tipo de meta'], \n",
    "                      right_on=['Meta: Nombre del propietario' , 'Meta: Tipo de meta']).fillna(0)\n",
    "\n",
    "\n",
    "TFinal['Valor'] = TFinal['Valor'] + TFinal['Logro: Valor']\n",
    "TFinal = TFinal.drop(columns=['Logro: Valor'])\n"
   ]
  },
  {
   "cell_type": "markdown",
   "id": "14aff8cf",
   "metadata": {},
   "source": [
    "#### 2020"
   ]
  },
  {
   "cell_type": "code",
   "execution_count": 84,
   "id": "e059cd71",
   "metadata": {},
   "outputs": [],
   "source": [
    "MontoGastoNochesA = NegociosTA.drop(NegociosTA[NegociosTA['Logro: Tipo de registro'] !=  'Turismo Noches'].index)\n",
    "\n",
    "MontoGastoNochesA = MontoGastoNochesA.groupby(['Logro: Responsable Colombia' , 'Logro: Tipo de registro' \n",
    "                                                          ])['Logro: Valor'].sum().reset_index()\n",
    "\n",
    "MontoGastoNochesA.rename(columns={'Logro: Responsable Colombia': 'Meta: Nombre del propietario'}, inplace=True)\n",
    "MontoGastoNochesA.rename(columns={'Logro: Tipo de registro': 'Meta: Tipo de meta'}, inplace=True)\n",
    "\n",
    "\n",
    "MontoGastoNochesA = (MontoGastoNochesA.replace('Turismo Noches', 'Monto de gasto de noches'))"
   ]
  },
  {
   "cell_type": "code",
   "execution_count": 85,
   "id": "fee7b454",
   "metadata": {},
   "outputs": [],
   "source": [
    "TFinal = TFinal.merge(MontoGastoNochesA, how='outer', left_on=['Meta: Nombre del propietario' , 'Meta: Tipo de meta'], \n",
    "                      right_on=['Meta: Nombre del propietario' , 'Meta: Tipo de meta']).fillna(0)\n",
    "\n",
    "\n",
    "TFinal['Valor 2020'] = TFinal['Valor 2020'] + TFinal['Logro: Valor']\n",
    "TFinal = TFinal.drop(columns=['Logro: Valor'])\n"
   ]
  },
  {
   "cell_type": "markdown",
   "id": "d6a11caf",
   "metadata": {},
   "source": [
    "### Monto de Gasto de Paquetes"
   ]
  },
  {
   "cell_type": "markdown",
   "id": "73f9d7f9",
   "metadata": {},
   "source": [
    "#### 2021"
   ]
  },
  {
   "cell_type": "code",
   "execution_count": 86,
   "id": "bf015316",
   "metadata": {},
   "outputs": [],
   "source": [
    "MontoPaquetes = NegociosT.drop(NegociosT[NegociosT['Logro: Tipo de registro'] !=  'Paquetes Turismo'].index)\n",
    "\n",
    "MontoPaquetes = MontoPaquetes.groupby(['Logro: Responsable Colombia' , 'Logro: Tipo de registro' \n",
    "                                                          ])['Logro: Valor'].sum().reset_index()\n",
    "\n",
    "MontoPaquetes.rename(columns={'Logro: Responsable Colombia': 'Meta: Nombre del propietario'}, inplace=True)\n",
    "MontoPaquetes.rename(columns={'Logro: Tipo de registro': 'Meta: Tipo de meta'}, inplace=True)\n",
    "\n",
    "\n",
    "MontoPaquetes = (MontoPaquetes.replace('Paquetes Turismo', 'Monto de gasto paquetes'))"
   ]
  },
  {
   "cell_type": "code",
   "execution_count": 87,
   "id": "b3391ded",
   "metadata": {},
   "outputs": [],
   "source": [
    "TFinal = TFinal.merge(MontoPaquetes, how='outer', left_on=['Meta: Nombre del propietario' , 'Meta: Tipo de meta'], \n",
    "                      right_on=['Meta: Nombre del propietario' , 'Meta: Tipo de meta']).fillna(0)\n",
    "\n",
    "\n",
    "TFinal['Valor'] = TFinal['Valor'] + TFinal['Logro: Valor']\n",
    "TFinal = TFinal.drop(columns=['Logro: Valor'])\n"
   ]
  },
  {
   "cell_type": "markdown",
   "id": "62692244",
   "metadata": {},
   "source": [
    "#### 2020"
   ]
  },
  {
   "cell_type": "code",
   "execution_count": 88,
   "id": "fcc1e2c9",
   "metadata": {},
   "outputs": [],
   "source": [
    "MontoPaquetesA = NegociosTA.drop(NegociosTA[NegociosTA['Logro: Tipo de registro'] !=  'Paquetes Turismo'].index)\n",
    "\n",
    "MontoPaquetesA = MontoPaquetesA.groupby(['Logro: Responsable Colombia' , 'Logro: Tipo de registro' \n",
    "                                                          ])['Logro: Valor'].sum().reset_index()\n",
    "\n",
    "MontoPaquetesA.rename(columns={'Logro: Responsable Colombia': 'Meta: Nombre del propietario'}, inplace=True)\n",
    "MontoPaquetesA.rename(columns={'Logro: Tipo de registro': 'Meta: Tipo de meta'}, inplace=True)\n",
    "\n",
    "\n",
    "MontoPaquetesA = (MontoPaquetesA.replace('Paquetes Turismo', 'Monto de gasto paquetes'))"
   ]
  },
  {
   "cell_type": "code",
   "execution_count": 89,
   "id": "255c9f51",
   "metadata": {},
   "outputs": [],
   "source": [
    "TFinal = TFinal.merge(MontoPaquetesA, how='outer', left_on=['Meta: Nombre del propietario' , 'Meta: Tipo de meta'], \n",
    "                      right_on=['Meta: Nombre del propietario' , 'Meta: Tipo de meta']).fillna(0)\n",
    "\n",
    "\n",
    "TFinal['Valor 2020'] = TFinal['Valor 2020'] + TFinal['Logro: Valor']\n",
    "TFinal = TFinal.drop(columns=['Logro: Valor'])\n"
   ]
  },
  {
   "cell_type": "markdown",
   "id": "99f95591",
   "metadata": {},
   "source": [
    "### Número de empresas con servicios en turismo"
   ]
  },
  {
   "cell_type": "code",
   "execution_count": 90,
   "id": "e09b3fd3",
   "metadata": {},
   "outputs": [],
   "source": [
    "#ENacionales2 = ENacionales.drop(ENacionales[ENacionales['Año de Fecha creación'] != añoactual].index)\n",
    "ENacionales2 = ENacionales.drop(ENacionales[ENacionales['Eje'] !=  'Turismo'].index)\n",
    "\n",
    "\n",
    "ENacionales2 = ENacionales2.drop(ENacionales2[(ENacionales2['Tipo registro'] !=  'MISIONES') & \n",
    "                                    (ENacionales2['Tipo registro'] !=  'AGENDA COMERCIAL DE TURISMO') & \n",
    "                                   (ENacionales2['Tipo registro'] !=  'BUSQUEDA Y APERTURA DE OPORTUNIDADES') & \n",
    "                                    (ENacionales2['Tipo registro'] !=  'CONTACTO COMPRADOR EN FERIA') & \n",
    "                                              (ENacionales2['Tipo registro'] !=  'ENTREGA INFORMACION VALOR AGREGADO') & \n",
    "                                              (ENacionales2['Tipo registro'] !=  'EVENTOS ACADÉMICOS') & \n",
    "                                              (ENacionales2['Tipo registro'] !=  'EVENTOS ORGANIZACIONALES') & \n",
    "                                              (ENacionales2['Tipo registro'] !=  'FAM - PRESS TRIPS') & \n",
    "                                              (ENacionales2['Tipo registro'] !=  'FERIA INTERNACIONAL DE TURISMO') & \n",
    "                                              (ENacionales2['Tipo registro'] !=  'MACRORRUEDAS Y ENCUENTROS COMERCIALES') & \n",
    "                                              (ENacionales2['Tipo registro'] !=  'PRESENTACIÓN DE DESTINO') &    \n",
    "                                              (ENacionales2['Tipo registro'] !=  'PRIMERA VISITA')].index)\n",
    "\n",
    "\n",
    "\n",
    "\n",
    "ENacionales2 = ENacionales2.drop(ENacionales2[(ENacionales2['Estado'] !=  'Realizada') & \n",
    "                                     (ENacionales2['Estado'] !=  'Entregado') & \n",
    "                                     (ENacionales2['Estado'] !=  'Finalizado') & \n",
    "                                     (ENacionales2['Estado'] !=  'Participó') &\n",
    "                                     (ENacionales2['Estado'] !=  'Agenda en construcción') & \n",
    "                                     (ENacionales2['Estado'] !=  'Interesado en tener citas') &\n",
    "                                     (ENacionales2['Estado'] !=  'Interesado en participar') &\n",
    "                                     (ENacionales2['Estado'] !=  'Rechazado') &\n",
    "                                     (ENacionales2['Estado'] !=  'En Curso') &\n",
    "                                     (ENacionales2['Estado'] !=  'En proceso') &\n",
    "                                     (ENacionales2['Estado'] !=  'Seleccionado') &\n",
    "                                     (ENacionales2['Estado'] !=  'Carta de compromiso recibida y pago efectivo') &\n",
    "                                     (ENacionales2['Estado'] !=  'Inscrito') &\n",
    "                                     (ENacionales2['Estado'] !=  'Participación Rechazada') &\n",
    "                                     (ENacionales2['Estado'] !=  'Participación Aprobada') &\n",
    "                                     (ENacionales2['Estado'] !=  'Evaluación del evento recibida')].index)\n",
    "\n",
    "\n",
    "ENacionales2['Empresa'] = ENacionales2['Empresa'].str.lower()\n",
    "\n",
    "ENacionales3 = ENacionales2.drop(ENacionales2[ENacionales2['Fecha'] < eneroañoanterior].index)\n",
    "ENacionales3 = ENacionales3.drop(ENacionales3[ENacionales3['Fecha'] > fechaactual_añoanterior].index)\n",
    "\n",
    "Enacionales4 = ENacionales2.drop(ENacionales2[ENacionales2['Año de Fecha creación'] != añoanterior].index)\n",
    "\n",
    "ENacionales2 = ENacionales2.drop(ENacionales2[ENacionales2['Fecha'] < negociosañoactual].index)\n",
    "ENacionales2 = ENacionales2.drop(ENacionales2[ENacionales2['Fecha'] > fechaactual].index)\n",
    "\n",
    "ENacionales_Nacional = ENacionales2.drop(ENacionales2[ENacionales2['Tipo empresa'] !=  'Nacional'].index)\n",
    "ENacionales_Exterior = ENacionales2.drop(ENacionales2[ENacionales2['Tipo empresa'] !=  'Exterior'].index)\n",
    "\n",
    "ENacionales_NacionalA = ENacionales3.drop(ENacionales3[ENacionales3['Tipo empresa'] !=  'Nacional'].index)\n",
    "ENacionales_ExteriorA = ENacionales3.drop(ENacionales3[ENacionales3['Tipo empresa'] !=  'Exterior'].index)\n",
    "\n"
   ]
  },
  {
   "cell_type": "markdown",
   "id": "fcd7afdc",
   "metadata": {},
   "source": [
    "#### 2021"
   ]
  },
  {
   "cell_type": "code",
   "execution_count": 123,
   "id": "d12ff092",
   "metadata": {},
   "outputs": [],
   "source": [
    "ENTuris_Nal = ENacionales_Nacional.groupby(['Responsable nacional' ])['Id empresa'].nunique().reset_index()\n",
    "ENTuris_Ext = ENacionales_Exterior.groupby(['Responsable exterior' ])['Id empresa'].nunique().reset_index()\n",
    "\n",
    "ENTuris_Nal.rename(columns={'Responsable nacional': 'Meta: Nombre del propietario'}, inplace=True)\n",
    "ENTuris_Ext.rename(columns={'Responsable exterior': 'Meta: Nombre del propietario'}, inplace=True)\n",
    "\n",
    "ENTuris = ENTuris_Nal.append(ENTuris_Ext)\n",
    "ENTuris['Meta: Tipo de meta'] = 'Número de empresas con servicios en turismo'"
   ]
  },
  {
   "cell_type": "code",
   "execution_count": 124,
   "id": "71267c69",
   "metadata": {},
   "outputs": [
    {
     "data": {
      "text/html": [
       "<div>\n",
       "<style scoped>\n",
       "    .dataframe tbody tr th:only-of-type {\n",
       "        vertical-align: middle;\n",
       "    }\n",
       "\n",
       "    .dataframe tbody tr th {\n",
       "        vertical-align: top;\n",
       "    }\n",
       "\n",
       "    .dataframe thead th {\n",
       "        text-align: right;\n",
       "    }\n",
       "</style>\n",
       "<table border=\"1\" class=\"dataframe\">\n",
       "  <thead>\n",
       "    <tr style=\"text-align: right;\">\n",
       "      <th></th>\n",
       "      <th>Meta: Nombre del propietario</th>\n",
       "      <th>Id empresa</th>\n",
       "    </tr>\n",
       "  </thead>\n",
       "  <tbody>\n",
       "    <tr>\n",
       "      <th>0</th>\n",
       "      <td>Ana Catalina Hernandez Florez</td>\n",
       "      <td>63</td>\n",
       "    </tr>\n",
       "    <tr>\n",
       "      <th>1</th>\n",
       "      <td>Ana Maria Rojas Perea</td>\n",
       "      <td>12</td>\n",
       "    </tr>\n",
       "    <tr>\n",
       "      <th>2</th>\n",
       "      <td>Andrea Daza Aldana</td>\n",
       "      <td>94</td>\n",
       "    </tr>\n",
       "    <tr>\n",
       "      <th>3</th>\n",
       "      <td>Andres Calle</td>\n",
       "      <td>25</td>\n",
       "    </tr>\n",
       "    <tr>\n",
       "      <th>4</th>\n",
       "      <td>Andres Felipe Gonzalez Gutierrez (VACANTE)</td>\n",
       "      <td>37</td>\n",
       "    </tr>\n",
       "    <tr>\n",
       "      <th>5</th>\n",
       "      <td>Beatriz Eugenia Barreto Escobar</td>\n",
       "      <td>2</td>\n",
       "    </tr>\n",
       "    <tr>\n",
       "      <th>6</th>\n",
       "      <td>Camilo Duque Medina</td>\n",
       "      <td>422</td>\n",
       "    </tr>\n",
       "    <tr>\n",
       "      <th>7</th>\n",
       "      <td>Constanza Durán Bahamón</td>\n",
       "      <td>79</td>\n",
       "    </tr>\n",
       "    <tr>\n",
       "      <th>8</th>\n",
       "      <td>Cristian Alberto Duque Giraldo</td>\n",
       "      <td>4</td>\n",
       "    </tr>\n",
       "    <tr>\n",
       "      <th>9</th>\n",
       "      <td>Dayana Maria Martinez Granados</td>\n",
       "      <td>16</td>\n",
       "    </tr>\n",
       "    <tr>\n",
       "      <th>10</th>\n",
       "      <td>Enrique Stellabatti Torres</td>\n",
       "      <td>1</td>\n",
       "    </tr>\n",
       "    <tr>\n",
       "      <th>11</th>\n",
       "      <td>Gloria Patricia Illidge Uamana</td>\n",
       "      <td>55</td>\n",
       "    </tr>\n",
       "    <tr>\n",
       "      <th>12</th>\n",
       "      <td>Gloria Restrepo (vacante)</td>\n",
       "      <td>3</td>\n",
       "    </tr>\n",
       "    <tr>\n",
       "      <th>13</th>\n",
       "      <td>Hana Shoukry Lopesierra</td>\n",
       "      <td>1</td>\n",
       "    </tr>\n",
       "    <tr>\n",
       "      <th>14</th>\n",
       "      <td>Humberto Rodriguez</td>\n",
       "      <td>96</td>\n",
       "    </tr>\n",
       "    <tr>\n",
       "      <th>15</th>\n",
       "      <td>Jairo Andres Aguilera Soto</td>\n",
       "      <td>24</td>\n",
       "    </tr>\n",
       "    <tr>\n",
       "      <th>16</th>\n",
       "      <td>Jewgeni Patrouchev</td>\n",
       "      <td>114</td>\n",
       "    </tr>\n",
       "    <tr>\n",
       "      <th>17</th>\n",
       "      <td>Ji In Teresa Ro (Vacante)</td>\n",
       "      <td>42</td>\n",
       "    </tr>\n",
       "    <tr>\n",
       "      <th>18</th>\n",
       "      <td>Juan Esteban Sanchez Sanchez</td>\n",
       "      <td>12</td>\n",
       "    </tr>\n",
       "    <tr>\n",
       "      <th>19</th>\n",
       "      <td>Juliana Torres Nieto</td>\n",
       "      <td>54</td>\n",
       "    </tr>\n",
       "    <tr>\n",
       "      <th>20</th>\n",
       "      <td>Laura Margarita Rodríguez Chaparro</td>\n",
       "      <td>2</td>\n",
       "    </tr>\n",
       "    <tr>\n",
       "      <th>21</th>\n",
       "      <td>Lina María Patarroyo Castillo</td>\n",
       "      <td>64</td>\n",
       "    </tr>\n",
       "    <tr>\n",
       "      <th>22</th>\n",
       "      <td>Marcela Monroy Hernandez</td>\n",
       "      <td>18</td>\n",
       "    </tr>\n",
       "    <tr>\n",
       "      <th>23</th>\n",
       "      <td>Marcela Villa</td>\n",
       "      <td>92</td>\n",
       "    </tr>\n",
       "    <tr>\n",
       "      <th>24</th>\n",
       "      <td>Maria Alejandra Benavidez Medina</td>\n",
       "      <td>57</td>\n",
       "    </tr>\n",
       "    <tr>\n",
       "      <th>25</th>\n",
       "      <td>Maria Carolina Rico Gonzalez</td>\n",
       "      <td>43</td>\n",
       "    </tr>\n",
       "    <tr>\n",
       "      <th>26</th>\n",
       "      <td>Maria Catalina Galvis (vacante)</td>\n",
       "      <td>51</td>\n",
       "    </tr>\n",
       "    <tr>\n",
       "      <th>27</th>\n",
       "      <td>Maria Jose Abuabara Brülhart</td>\n",
       "      <td>54</td>\n",
       "    </tr>\n",
       "    <tr>\n",
       "      <th>28</th>\n",
       "      <td>Mariana Awad Zaher</td>\n",
       "      <td>96</td>\n",
       "    </tr>\n",
       "    <tr>\n",
       "      <th>29</th>\n",
       "      <td>NO DEFINIDO</td>\n",
       "      <td>23</td>\n",
       "    </tr>\n",
       "    <tr>\n",
       "      <th>30</th>\n",
       "      <td>Nicolas Casasfranco Jimenez</td>\n",
       "      <td>5</td>\n",
       "    </tr>\n",
       "    <tr>\n",
       "      <th>31</th>\n",
       "      <td>Oscar Javier Martinez Puentes</td>\n",
       "      <td>39</td>\n",
       "    </tr>\n",
       "    <tr>\n",
       "      <th>32</th>\n",
       "      <td>Patricia Salinas</td>\n",
       "      <td>157</td>\n",
       "    </tr>\n",
       "    <tr>\n",
       "      <th>33</th>\n",
       "      <td>Paula Andrea Giraldo Uribe</td>\n",
       "      <td>16</td>\n",
       "    </tr>\n",
       "    <tr>\n",
       "      <th>34</th>\n",
       "      <td>Rosa Carolina Garzón Rodriguez</td>\n",
       "      <td>14</td>\n",
       "    </tr>\n",
       "    <tr>\n",
       "      <th>35</th>\n",
       "      <td>Sandra Janneth Salamanca Rosas</td>\n",
       "      <td>1</td>\n",
       "    </tr>\n",
       "    <tr>\n",
       "      <th>36</th>\n",
       "      <td>Santiago Aguirre Montoya</td>\n",
       "      <td>107</td>\n",
       "    </tr>\n",
       "    <tr>\n",
       "      <th>37</th>\n",
       "      <td>Santiago De los Rios Cardona</td>\n",
       "      <td>13</td>\n",
       "    </tr>\n",
       "    <tr>\n",
       "      <th>38</th>\n",
       "      <td>Sohee Ahn</td>\n",
       "      <td>1</td>\n",
       "    </tr>\n",
       "    <tr>\n",
       "      <th>39</th>\n",
       "      <td>Tatiana Andrea Cordoba Arteaga</td>\n",
       "      <td>32</td>\n",
       "    </tr>\n",
       "    <tr>\n",
       "      <th>40</th>\n",
       "      <td>Toko Tamaki (Inv)</td>\n",
       "      <td>6</td>\n",
       "    </tr>\n",
       "  </tbody>\n",
       "</table>\n",
       "</div>"
      ],
      "text/plain": [
       "                  Meta: Nombre del propietario  Id empresa\n",
       "0                Ana Catalina Hernandez Florez          63\n",
       "1                        Ana Maria Rojas Perea          12\n",
       "2                           Andrea Daza Aldana          94\n",
       "3                                 Andres Calle          25\n",
       "4   Andres Felipe Gonzalez Gutierrez (VACANTE)          37\n",
       "5              Beatriz Eugenia Barreto Escobar           2\n",
       "6                          Camilo Duque Medina         422\n",
       "7                      Constanza Durán Bahamón          79\n",
       "8               Cristian Alberto Duque Giraldo           4\n",
       "9               Dayana Maria Martinez Granados          16\n",
       "10                  Enrique Stellabatti Torres           1\n",
       "11              Gloria Patricia Illidge Uamana          55\n",
       "12                   Gloria Restrepo (vacante)           3\n",
       "13                     Hana Shoukry Lopesierra           1\n",
       "14                          Humberto Rodriguez          96\n",
       "15                  Jairo Andres Aguilera Soto          24\n",
       "16                          Jewgeni Patrouchev         114\n",
       "17                   Ji In Teresa Ro (Vacante)          42\n",
       "18                Juan Esteban Sanchez Sanchez          12\n",
       "19                        Juliana Torres Nieto          54\n",
       "20          Laura Margarita Rodríguez Chaparro           2\n",
       "21               Lina María Patarroyo Castillo          64\n",
       "22                    Marcela Monroy Hernandez          18\n",
       "23                               Marcela Villa          92\n",
       "24            Maria Alejandra Benavidez Medina          57\n",
       "25                Maria Carolina Rico Gonzalez          43\n",
       "26             Maria Catalina Galvis (vacante)          51\n",
       "27                Maria Jose Abuabara Brülhart          54\n",
       "28                          Mariana Awad Zaher          96\n",
       "29                                 NO DEFINIDO          23\n",
       "30                 Nicolas Casasfranco Jimenez           5\n",
       "31               Oscar Javier Martinez Puentes          39\n",
       "32                            Patricia Salinas         157\n",
       "33                  Paula Andrea Giraldo Uribe          16\n",
       "34              Rosa Carolina Garzón Rodriguez          14\n",
       "35              Sandra Janneth Salamanca Rosas           1\n",
       "36                    Santiago Aguirre Montoya         107\n",
       "37                Santiago De los Rios Cardona          13\n",
       "38                                   Sohee Ahn           1\n",
       "39              Tatiana Andrea Cordoba Arteaga          32\n",
       "40                           Toko Tamaki (Inv)           6"
      ]
     },
     "execution_count": 124,
     "metadata": {},
     "output_type": "execute_result"
    }
   ],
   "source": [
    "ENTuris_Ext\n",
    "#ENTuris_Ext.loc[ENTuris_Ext['Meta: Nombre del propietario'] == 'Andrea Daza Aldana']\n"
   ]
  },
  {
   "cell_type": "code",
   "execution_count": 93,
   "id": "7c7b3e68",
   "metadata": {},
   "outputs": [],
   "source": [
    "TFinal = TFinal.merge(ENTuris, how='left', left_on=['Meta: Nombre del propietario' , 'Meta: Tipo de meta'], \n",
    "                      right_on=['Meta: Nombre del propietario' , 'Meta: Tipo de meta']).fillna(0)\n",
    "\n",
    "\n",
    "TFinal['Valor'] = TFinal['Valor'] + TFinal['Id empresa']\n",
    "TFinal = TFinal.drop(columns=['Id empresa'])\n"
   ]
  },
  {
   "cell_type": "markdown",
   "id": "c6afeaad",
   "metadata": {},
   "source": [
    "#### 2020"
   ]
  },
  {
   "cell_type": "code",
   "execution_count": 94,
   "id": "b0e18242",
   "metadata": {},
   "outputs": [],
   "source": [
    "ENTuris_NalA = ENacionales_NacionalA.groupby(['Responsable nacional'])['Empresa'].nunique().reset_index()\n",
    "ENTuris_ExtA = ENacionales_ExteriorA.groupby(['Responsable exterior'])['Empresa'].nunique().reset_index()\n",
    "\n",
    "ENTuris_NalA.rename(columns={'Responsable nacional': 'Meta: Nombre del propietario'}, inplace=True)\n",
    "ENTuris_ExtA.rename(columns={'Responsable exterior': 'Meta: Nombre del propietario'}, inplace=True)\n",
    "\n",
    "ENTurisA = ENTuris_NalA.append(ENTuris_ExtA)\n",
    "ENTurisA['Meta: Tipo de meta'] = 'Número de empresas con servicios en turismo'\n"
   ]
  },
  {
   "cell_type": "code",
   "execution_count": 95,
   "id": "8831c9c7",
   "metadata": {},
   "outputs": [],
   "source": [
    "TFinal = TFinal.merge(ENTurisA, how='left', left_on=['Meta: Nombre del propietario' , 'Meta: Tipo de meta'], \n",
    "                      right_on=['Meta: Nombre del propietario' , 'Meta: Tipo de meta']).fillna(0)\n",
    "\n",
    "\n",
    "TFinal['Valor 2020'] = TFinal['Valor 2020'] + TFinal['Empresa']\n",
    "TFinal = TFinal.drop(columns=['Empresa'])\n"
   ]
  },
  {
   "cell_type": "markdown",
   "id": "63885e8d",
   "metadata": {},
   "source": [
    "##### Eliminando los que tienen resultados pero no metas --> how ='left'"
   ]
  },
  {
   "cell_type": "markdown",
   "id": "9ea16308",
   "metadata": {},
   "source": [
    "### Número de empresas PyA con primer acercamiento comercial "
   ]
  },
  {
   "cell_type": "code",
   "execution_count": 96,
   "id": "71b46151",
   "metadata": {},
   "outputs": [],
   "source": [
    "Enacionales2020 = Enacionales4.drop(Enacionales4[Enacionales4['Tipo empresa'] !=  'Nacional'].index)\n",
    "Enacionales2020 = Enacionales2020.drop(Enacionales2020[Enacionales2020['Tipo registro'] !=  'MACRORRUEDAS Y ENCUENTROS COMERCIALES'].index)\n",
    "Enacionales2020 = Enacionales2020[['Responsable nacional','Empresa']]\n",
    "#Enacionales2020 = Enacionales2020.drop_duplicates()\n",
    "Enacionales2020['Acercamiento en 2020'] = 1\n",
    "\n",
    "#EmpresasAcercamiento = Enacionales4.groupby(['Responsable nacional' , 'Empresa'])['Pais cuenta Principal'].count().reset_index()\n",
    "\n",
    "Enacionales2021 = ENacionales2.drop(ENacionales2[ENacionales2['Tipo empresa'] !=  'Nacional'].index)\n",
    "Enacionales2021 = Enacionales2021.drop(Enacionales2021[Enacionales2021['Tipo registro'] !=  'MACRORRUEDAS Y ENCUENTROS COMERCIALES'].index)\n",
    "Enacionales2021 = Enacionales2021[['Responsable nacional','Empresa']]\n",
    "#Enacionales2021 = Enacionales2021.drop_duplicates()\n",
    "\n",
    "\n",
    "EmpresasPrimerAcercamiento = Enacionales2021.merge(Enacionales2020, how='left', left_on=['Responsable nacional','Empresa'], \n",
    "                      right_on=['Responsable nacional','Empresa']).fillna(0)\n",
    "\n",
    "EmpresasPrimerAcercamiento = EmpresasPrimerAcercamiento.drop_duplicates(subset=['Empresa'])\n",
    "\n",
    "EmpresasPrimerAcercamiento = EmpresasPrimerAcercamiento.drop(EmpresasPrimerAcercamiento[EmpresasPrimerAcercamiento['Acercamiento en 2020'] == 1].index)\n",
    "EmpresasPrimerAcercamiento = EmpresasPrimerAcercamiento.groupby(['Responsable nacional'])['Empresa'].nunique().reset_index()\n",
    "\n",
    "EmpresasPrimerAcercamiento['Meta: Tipo de meta'] = 'Número de empresas PyA con primer acercamiento comercial'\n",
    "\n",
    "EmpresasPrimerAcercamiento.rename(columns={'Responsable nacional': 'Meta: Nombre del propietario'}, inplace=True)\n",
    "\n",
    "EmpresasPrimerAcercamiento = EmpresasPrimerAcercamiento.drop_duplicates(subset=['Empresa'])\n",
    "\n",
    "TFinal = TFinal.merge(EmpresasPrimerAcercamiento, how='left', left_on=['Meta: Nombre del propietario' , 'Meta: Tipo de meta'], \n",
    "                      right_on=['Meta: Nombre del propietario' , 'Meta: Tipo de meta']).fillna(0)\n",
    "\n",
    "\n",
    "TFinal['Valor'] = TFinal['Valor'] + TFinal['Empresa']\n",
    "TFinal = TFinal.drop(columns=['Empresa'])\n"
   ]
  },
  {
   "cell_type": "code",
   "execution_count": 97,
   "id": "ae880364",
   "metadata": {},
   "outputs": [],
   "source": [
    "EmpresasPrimerAcercamiento = Enacionales2021.merge(Enacionales2020, how='left', left_on=['Responsable nacional','Empresa'], \n",
    "                      right_on=['Responsable nacional','Empresa']).fillna(0)\n",
    "\n",
    "EmpresasPrimerAcercamiento = EmpresasPrimerAcercamiento.drop_duplicates(subset=['Empresa'])\n",
    "\n",
    "EmpresasPrimerAcercamiento = EmpresasPrimerAcercamiento.drop(EmpresasPrimerAcercamiento[EmpresasPrimerAcercamiento['Acercamiento en 2020'] == 1].index)"
   ]
  },
  {
   "cell_type": "markdown",
   "id": "05a5a68b",
   "metadata": {},
   "source": [
    "### Número de frecuencias"
   ]
  },
  {
   "cell_type": "markdown",
   "id": "7e3aad39",
   "metadata": {},
   "source": [
    "#### 2021"
   ]
  },
  {
   "cell_type": "code",
   "execution_count": 98,
   "id": "07686d64",
   "metadata": {},
   "outputs": [],
   "source": [
    "Frecuencias['Meta: Tipo de meta'] = 'Número de frecuencias'"
   ]
  },
  {
   "cell_type": "code",
   "execution_count": 99,
   "id": "0da511b6",
   "metadata": {},
   "outputs": [],
   "source": [
    "FrecT = Frecuencias.groupby(['Meta: Tipo de meta'])['Frecuencias'].sum().reset_index()\n",
    "\n",
    "TFinal = TFinal.merge(FrecT, how='left', left_on=[ 'Meta: Tipo de meta'], \n",
    "                      right_on=['Meta: Tipo de meta']).fillna(0)\n",
    "\n",
    "\n",
    "TFinal['Valor'] = TFinal['Valor'] + TFinal['Frecuencias']\n",
    "TFinal = TFinal.drop(columns=['Frecuencias'])\n"
   ]
  },
  {
   "cell_type": "markdown",
   "id": "54374892",
   "metadata": {},
   "source": [
    "### Número de sillas"
   ]
  },
  {
   "cell_type": "markdown",
   "id": "d6740b21",
   "metadata": {},
   "source": [
    "#### 2021"
   ]
  },
  {
   "cell_type": "code",
   "execution_count": 100,
   "id": "20be28a4",
   "metadata": {},
   "outputs": [],
   "source": [
    "Frecuencias['Meta: Tipo de meta'] = 'Número de sillas'"
   ]
  },
  {
   "cell_type": "code",
   "execution_count": 101,
   "id": "046f8c25",
   "metadata": {},
   "outputs": [],
   "source": [
    "FrecT2 = Frecuencias.groupby(['Meta: Tipo de meta'])['Sillas'].sum().reset_index()\n"
   ]
  },
  {
   "cell_type": "code",
   "execution_count": 102,
   "id": "c73a3077",
   "metadata": {},
   "outputs": [],
   "source": [
    "SillasyFrecuencias2020 = SillasyFrecuencias2020.rename(columns = {'INDICADOR' : 'Meta: Tipo de meta'})\n"
   ]
  },
  {
   "cell_type": "code",
   "execution_count": 103,
   "id": "e63e7903",
   "metadata": {},
   "outputs": [],
   "source": [
    "TFinal = TFinal.merge(FrecT2, how='left', left_on=[ 'Meta: Tipo de meta'], \n",
    "                      right_on=['Meta: Tipo de meta']).fillna(0)\n",
    "TFinal = TFinal.merge(SillasyFrecuencias2020, how='left', left_on=[ 'Meta: Tipo de meta'], \n",
    "                      right_on=['Meta: Tipo de meta']).fillna(0)\n",
    "\n",
    "TFinal['Valor'] = TFinal['Valor'] + TFinal['Sillas']\n",
    "TFinal = TFinal.drop(columns=['Sillas'])\n",
    "\n",
    "TFinal['Valor 2020'] = TFinal['Valor 2020'] + TFinal[2020]\n",
    "TFinal = TFinal.drop(columns=[2020 , 'ASESOR'])\n",
    "\n",
    "TFinal = TFinal.drop(TFinal[TFinal['Meta Total'] ==  0].index)\n",
    "\n",
    "TFinalEXT = TFinal.drop(TFinal[TFinal['Meta: Tipo meta funcionario'] !=  'EXTERIOR'].index)"
   ]
  },
  {
   "cell_type": "markdown",
   "id": "b20169c7",
   "metadata": {},
   "source": [
    "### Proyecto de gestión"
   ]
  },
  {
   "cell_type": "markdown",
   "id": "2b8fe40e",
   "metadata": {},
   "source": [
    "### 2021"
   ]
  },
  {
   "cell_type": "code",
   "execution_count": 104,
   "id": "0feb22a0",
   "metadata": {},
   "outputs": [],
   "source": [
    "ProyectoseHitos['Hito: Fecha Inicio'] = pd.to_datetime(ProyectoseHitos['Hito: Fecha Inicio'], format='%d/%m/%Y')\n",
    "ProyectoseHitos1 =  ProyectoseHitos.drop(ProyectoseHitos[ProyectoseHitos['Proyecto: Nombre'] == 'Caja de Herramientas de Innovación para el Turismo'].index)\n",
    "ProyectoseHitos1 =  ProyectoseHitos1.drop(ProyectoseHitos1[ProyectoseHitos1['Proyecto: Nombre'] == 'Colombianos en el exterior 2020'].index)\n",
    "#ProyectoseHitos1 =  ProyectoseHitos1.drop(ProyectoseHitos1[ProyectoseHitos1['Proyecto: Nombre'] == 'Meaningful Map'].index)\n",
    "ProyectoseHitos1 =  ProyectoseHitos1.drop(ProyectoseHitos1[ProyectoseHitos1['Proyecto: Nombre'] == 'Meeting plannner 2.0'].index)\n",
    "ProyectoseHitos1 =  ProyectoseHitos1.drop(ProyectoseHitos1[ProyectoseHitos1['Proyecto: Nombre'] == 'Planes regionales vicepresidencia de turismo'].index)\n",
    "ProyectoseHitos1 =  ProyectoseHitos1.drop(ProyectoseHitos1[ProyectoseHitos1['Proyecto: Nombre'] == 'Programa de formación exportadora en turismo – versión hibrida'].index)\n",
    "ProyectoseHitos1 =  ProyectoseHitos1.drop(ProyectoseHitos1[ProyectoseHitos1['Hito: Fecha Inicio'] < fechaactual2].index)\n",
    "ProyectoseHitos_Anterior = ProyectoseHitos.drop(ProyectoseHitos[ProyectoseHitos['Hito: Fecha Inicio'] < fechaanterior2].index)\n",
    "ProyectoseHitos_Anterior = ProyectoseHitos_Anterior.drop(ProyectoseHitos_Anterior[ProyectoseHitos_Anterior['Hito: Fecha Inicio'] >= fechaactual2].index)\n",
    "\n",
    "\n",
    "ProyectoseHitos_Anterior = ProyectoseHitos_Anterior.dropna(subset=['Hito: Fecha Inicio'])\n",
    "#ProyectoseHitos1 = ProyectoseHitos"
   ]
  },
  {
   "cell_type": "code",
   "execution_count": 105,
   "id": "329a90a4",
   "metadata": {},
   "outputs": [],
   "source": [
    "#ProyectoseHitos1[ProyectoseHitos1['Proyecto: Propietario'] == 'María Muñoz Rey']\n"
   ]
  },
  {
   "cell_type": "code",
   "execution_count": 106,
   "id": "308c46ea",
   "metadata": {},
   "outputs": [],
   "source": [
    "PG = ProyectoseHitos1.groupby(['Proyecto: Propietario' , 'Proyecto: Nombre' , \n",
    "                   'Hito: Nombre'])['Hito: Peso'].sum().reset_index()\n",
    "PG2 = ProyectoseHitos1.groupby(['Proyecto: Propietario' , 'Proyecto: Nombre' , \n",
    "                   'Hito: Nombre'])['Hito: Avance'].sum().reset_index()\n"
   ]
  },
  {
   "cell_type": "code",
   "execution_count": 107,
   "id": "9849d83c",
   "metadata": {},
   "outputs": [],
   "source": [
    "PGF = PG.merge(PG2, how='outer', left_on=['Proyecto: Propietario' , 'Proyecto: Nombre' , \n",
    "                   'Hito: Nombre'], right_on=['Proyecto: Propietario' , 'Proyecto: Nombre' , \n",
    "                   'Hito: Nombre']).fillna(0)\n",
    "PGF['Avance Ponderado'] = (PGF['Hito: Peso']*0.1) * (PGF['Hito: Avance']*0.1)\n",
    "\n",
    "PGFF = PGF.groupby(['Proyecto: Propietario'])['Avance Ponderado'].sum().reset_index()\n",
    "PGFF['Meta: Tipo de meta'] = 'Proyecto de gestión'\n",
    "PGFF.rename(columns={'Oportunidad: Consecutivo': 'Valor Real'}, inplace=True)\n",
    "\n"
   ]
  },
  {
   "cell_type": "code",
   "execution_count": 108,
   "id": "191d4e00",
   "metadata": {},
   "outputs": [],
   "source": [
    "PGFF.rename(columns={'Proyecto: Propietario': 'Meta: Nombre del propietario'}, inplace=True)\n"
   ]
  },
  {
   "cell_type": "code",
   "execution_count": 109,
   "id": "b9b05e66",
   "metadata": {},
   "outputs": [],
   "source": [
    "TFinal = TFinal.merge(PGFF, how='outer', left_on=['Meta: Nombre del propietario', 'Meta: Tipo de meta'], \n",
    "                      right_on=['Meta: Nombre del propietario', 'Meta: Tipo de meta']).fillna(0)"
   ]
  },
  {
   "cell_type": "code",
   "execution_count": 110,
   "id": "c4d185c2",
   "metadata": {
    "scrolled": true
   },
   "outputs": [],
   "source": [
    "TFinal =  TFinal.drop(TFinal[TFinal['Meta Total'] == 0].index).reset_index()\n",
    "\n",
    "#TFinal[TFinal['Meta: Tipo de meta'] == 'Proyecto de gestión']\n"
   ]
  },
  {
   "cell_type": "code",
   "execution_count": 111,
   "id": "acdaa0fe",
   "metadata": {},
   "outputs": [],
   "source": [
    "TFinal['Valor'] = TFinal['Valor'] + TFinal['Avance Ponderado']\n",
    "TFinal = TFinal.drop(columns=['Avance Ponderado' , 'index'])\n"
   ]
  },
  {
   "cell_type": "markdown",
   "id": "e40241f2",
   "metadata": {},
   "source": [
    "### 2020"
   ]
  },
  {
   "cell_type": "code",
   "execution_count": 112,
   "id": "13622528",
   "metadata": {},
   "outputs": [],
   "source": [
    "PGA = ProyectoseHitos_Anterior.groupby(['Proyecto: Propietario' , 'Proyecto: Nombre' , \n",
    "                   'Hito: Nombre'])['Hito: Peso'].sum().reset_index()\n",
    "PG2A = ProyectoseHitos_Anterior.groupby(['Proyecto: Propietario' , 'Proyecto: Nombre' , \n",
    "                   'Hito: Nombre'])['Hito: Avance'].sum().reset_index()\n",
    "PGFA = PGA.merge(PG2A, how='outer', left_on=['Proyecto: Propietario' , 'Proyecto: Nombre' , \n",
    "                   'Hito: Nombre'], right_on=['Proyecto: Propietario' , 'Proyecto: Nombre' , \n",
    "                   'Hito: Nombre']).fillna(0)\n",
    "PGFA['Avance Ponderado'] = (PGFA['Hito: Peso']*0.1) * (PGFA['Hito: Avance']*0.1)\n",
    "\n",
    "PGFFA = PGFA.groupby(['Proyecto: Propietario'])['Avance Ponderado'].sum().reset_index()\n",
    "PGFFA['Meta: Tipo de meta'] = 'Proyecto de gestión'\n",
    "PGFFA.rename(columns={'Oportunidad: Consecutivo': 'Valor Real'}, inplace=True)\n",
    "PGFFA.rename(columns={'Proyecto: Propietario': 'Meta: Nombre del propietario'}, inplace=True)\n",
    "TFinal = TFinal.merge(PGFFA, how='outer', left_on=['Meta: Nombre del propietario', 'Meta: Tipo de meta'], \n",
    "                      right_on=['Meta: Nombre del propietario', 'Meta: Tipo de meta']).fillna(0)\n",
    "\n",
    "TFinal =  TFinal.drop(TFinal[TFinal['Meta Total'] == 0].index).reset_index()\n",
    "TFinal['Valor 2020'] = TFinal['Valor 2020'] + TFinal['Avance Ponderado']\n",
    "TFinal = TFinal.drop(columns=['Avance Ponderado' , 'index'])"
   ]
  },
  {
   "cell_type": "markdown",
   "id": "40b20ca4",
   "metadata": {},
   "source": [
    "## Número asistentes PFE turismo"
   ]
  },
  {
   "cell_type": "markdown",
   "id": "99c89e6a",
   "metadata": {},
   "source": [
    "### 2021"
   ]
  },
  {
   "cell_type": "code",
   "execution_count": 113,
   "id": "d299c330",
   "metadata": {},
   "outputs": [],
   "source": [
    "AsistentesPFE = AsistentesPFE1\n",
    "AsistentesPFE['Meta: Tipo de meta'] = 'Número asistentes PFE turismo'\n",
    "AsistentesPFE.rename(columns={'Asesor': 'Meta: Nombre del propietario',\n",
    "                             'Resultados': 'ValorPFE'}, inplace=True)\n",
    "AsistentesPFE = AsistentesPFE.drop(columns=['Oficina' , 'Meta Año' , 'Avance' , 'Mera  Q'])\n"
   ]
  },
  {
   "cell_type": "markdown",
   "id": "68016aac",
   "metadata": {},
   "source": [
    "### 2020"
   ]
  },
  {
   "cell_type": "code",
   "execution_count": 114,
   "id": "5f8d95d9",
   "metadata": {},
   "outputs": [
    {
     "ename": "KeyError",
     "evalue": "\"['Oficina' 'Meta año 2021' 'Meta trimestre' 'Avance corte '\\n '% avance meta año'] not found in axis\"",
     "output_type": "error",
     "traceback": [
      "\u001b[1;31m---------------------------------------------------------------------------\u001b[0m",
      "\u001b[1;31mKeyError\u001b[0m                                  Traceback (most recent call last)",
      "\u001b[1;32m<ipython-input-114-77044532304a>\u001b[0m in \u001b[0;36m<module>\u001b[1;34m\u001b[0m\n\u001b[0;32m      1\u001b[0m \u001b[0mAsistentesPFE2020\u001b[0m\u001b[1;33m.\u001b[0m\u001b[0mrename\u001b[0m\u001b[1;33m(\u001b[0m\u001b[0mcolumns\u001b[0m\u001b[1;33m=\u001b[0m\u001b[1;33m{\u001b[0m\u001b[1;34m'Asesor'\u001b[0m\u001b[1;33m:\u001b[0m \u001b[1;34m'Meta: Nombre del propietario'\u001b[0m\u001b[1;33m}\u001b[0m\u001b[1;33m,\u001b[0m \u001b[0minplace\u001b[0m\u001b[1;33m=\u001b[0m\u001b[1;32mTrue\u001b[0m\u001b[1;33m)\u001b[0m\u001b[1;33m\u001b[0m\u001b[1;33m\u001b[0m\u001b[0m\n\u001b[0;32m      2\u001b[0m \u001b[1;33m\u001b[0m\u001b[0m\n\u001b[1;32m----> 3\u001b[1;33m AsistentesPFE2020 = AsistentesPFE2020.drop(columns=['Oficina' , 'Meta año 2021' , 'Meta trimestre' , 'Avance corte ' , \n\u001b[0m\u001b[0;32m      4\u001b[0m                                                     '% avance meta año']) \n\u001b[0;32m      5\u001b[0m \u001b[1;33m\u001b[0m\u001b[0m\n",
      "\u001b[1;32m~\\anaconda3\\lib\\site-packages\\pandas\\core\\frame.py\u001b[0m in \u001b[0;36mdrop\u001b[1;34m(self, labels, axis, index, columns, level, inplace, errors)\u001b[0m\n\u001b[0;32m   4306\u001b[0m                 \u001b[0mweight\u001b[0m  \u001b[1;36m1.0\u001b[0m     \u001b[1;36m0.8\u001b[0m\u001b[1;33m\u001b[0m\u001b[1;33m\u001b[0m\u001b[0m\n\u001b[0;32m   4307\u001b[0m         \"\"\"\n\u001b[1;32m-> 4308\u001b[1;33m         return super().drop(\n\u001b[0m\u001b[0;32m   4309\u001b[0m             \u001b[0mlabels\u001b[0m\u001b[1;33m=\u001b[0m\u001b[0mlabels\u001b[0m\u001b[1;33m,\u001b[0m\u001b[1;33m\u001b[0m\u001b[1;33m\u001b[0m\u001b[0m\n\u001b[0;32m   4310\u001b[0m             \u001b[0maxis\u001b[0m\u001b[1;33m=\u001b[0m\u001b[0maxis\u001b[0m\u001b[1;33m,\u001b[0m\u001b[1;33m\u001b[0m\u001b[1;33m\u001b[0m\u001b[0m\n",
      "\u001b[1;32m~\\anaconda3\\lib\\site-packages\\pandas\\core\\generic.py\u001b[0m in \u001b[0;36mdrop\u001b[1;34m(self, labels, axis, index, columns, level, inplace, errors)\u001b[0m\n\u001b[0;32m   4151\u001b[0m         \u001b[1;32mfor\u001b[0m \u001b[0maxis\u001b[0m\u001b[1;33m,\u001b[0m \u001b[0mlabels\u001b[0m \u001b[1;32min\u001b[0m \u001b[0maxes\u001b[0m\u001b[1;33m.\u001b[0m\u001b[0mitems\u001b[0m\u001b[1;33m(\u001b[0m\u001b[1;33m)\u001b[0m\u001b[1;33m:\u001b[0m\u001b[1;33m\u001b[0m\u001b[1;33m\u001b[0m\u001b[0m\n\u001b[0;32m   4152\u001b[0m             \u001b[1;32mif\u001b[0m \u001b[0mlabels\u001b[0m \u001b[1;32mis\u001b[0m \u001b[1;32mnot\u001b[0m \u001b[1;32mNone\u001b[0m\u001b[1;33m:\u001b[0m\u001b[1;33m\u001b[0m\u001b[1;33m\u001b[0m\u001b[0m\n\u001b[1;32m-> 4153\u001b[1;33m                 \u001b[0mobj\u001b[0m \u001b[1;33m=\u001b[0m \u001b[0mobj\u001b[0m\u001b[1;33m.\u001b[0m\u001b[0m_drop_axis\u001b[0m\u001b[1;33m(\u001b[0m\u001b[0mlabels\u001b[0m\u001b[1;33m,\u001b[0m \u001b[0maxis\u001b[0m\u001b[1;33m,\u001b[0m \u001b[0mlevel\u001b[0m\u001b[1;33m=\u001b[0m\u001b[0mlevel\u001b[0m\u001b[1;33m,\u001b[0m \u001b[0merrors\u001b[0m\u001b[1;33m=\u001b[0m\u001b[0merrors\u001b[0m\u001b[1;33m)\u001b[0m\u001b[1;33m\u001b[0m\u001b[1;33m\u001b[0m\u001b[0m\n\u001b[0m\u001b[0;32m   4154\u001b[0m \u001b[1;33m\u001b[0m\u001b[0m\n\u001b[0;32m   4155\u001b[0m         \u001b[1;32mif\u001b[0m \u001b[0minplace\u001b[0m\u001b[1;33m:\u001b[0m\u001b[1;33m\u001b[0m\u001b[1;33m\u001b[0m\u001b[0m\n",
      "\u001b[1;32m~\\anaconda3\\lib\\site-packages\\pandas\\core\\generic.py\u001b[0m in \u001b[0;36m_drop_axis\u001b[1;34m(self, labels, axis, level, errors)\u001b[0m\n\u001b[0;32m   4186\u001b[0m                 \u001b[0mnew_axis\u001b[0m \u001b[1;33m=\u001b[0m \u001b[0maxis\u001b[0m\u001b[1;33m.\u001b[0m\u001b[0mdrop\u001b[0m\u001b[1;33m(\u001b[0m\u001b[0mlabels\u001b[0m\u001b[1;33m,\u001b[0m \u001b[0mlevel\u001b[0m\u001b[1;33m=\u001b[0m\u001b[0mlevel\u001b[0m\u001b[1;33m,\u001b[0m \u001b[0merrors\u001b[0m\u001b[1;33m=\u001b[0m\u001b[0merrors\u001b[0m\u001b[1;33m)\u001b[0m\u001b[1;33m\u001b[0m\u001b[1;33m\u001b[0m\u001b[0m\n\u001b[0;32m   4187\u001b[0m             \u001b[1;32melse\u001b[0m\u001b[1;33m:\u001b[0m\u001b[1;33m\u001b[0m\u001b[1;33m\u001b[0m\u001b[0m\n\u001b[1;32m-> 4188\u001b[1;33m                 \u001b[0mnew_axis\u001b[0m \u001b[1;33m=\u001b[0m \u001b[0maxis\u001b[0m\u001b[1;33m.\u001b[0m\u001b[0mdrop\u001b[0m\u001b[1;33m(\u001b[0m\u001b[0mlabels\u001b[0m\u001b[1;33m,\u001b[0m \u001b[0merrors\u001b[0m\u001b[1;33m=\u001b[0m\u001b[0merrors\u001b[0m\u001b[1;33m)\u001b[0m\u001b[1;33m\u001b[0m\u001b[1;33m\u001b[0m\u001b[0m\n\u001b[0m\u001b[0;32m   4189\u001b[0m             \u001b[0mresult\u001b[0m \u001b[1;33m=\u001b[0m \u001b[0mself\u001b[0m\u001b[1;33m.\u001b[0m\u001b[0mreindex\u001b[0m\u001b[1;33m(\u001b[0m\u001b[1;33m**\u001b[0m\u001b[1;33m{\u001b[0m\u001b[0maxis_name\u001b[0m\u001b[1;33m:\u001b[0m \u001b[0mnew_axis\u001b[0m\u001b[1;33m}\u001b[0m\u001b[1;33m)\u001b[0m\u001b[1;33m\u001b[0m\u001b[1;33m\u001b[0m\u001b[0m\n\u001b[0;32m   4190\u001b[0m \u001b[1;33m\u001b[0m\u001b[0m\n",
      "\u001b[1;32m~\\anaconda3\\lib\\site-packages\\pandas\\core\\indexes\\base.py\u001b[0m in \u001b[0;36mdrop\u001b[1;34m(self, labels, errors)\u001b[0m\n\u001b[0;32m   5589\u001b[0m         \u001b[1;32mif\u001b[0m \u001b[0mmask\u001b[0m\u001b[1;33m.\u001b[0m\u001b[0many\u001b[0m\u001b[1;33m(\u001b[0m\u001b[1;33m)\u001b[0m\u001b[1;33m:\u001b[0m\u001b[1;33m\u001b[0m\u001b[1;33m\u001b[0m\u001b[0m\n\u001b[0;32m   5590\u001b[0m             \u001b[1;32mif\u001b[0m \u001b[0merrors\u001b[0m \u001b[1;33m!=\u001b[0m \u001b[1;34m\"ignore\"\u001b[0m\u001b[1;33m:\u001b[0m\u001b[1;33m\u001b[0m\u001b[1;33m\u001b[0m\u001b[0m\n\u001b[1;32m-> 5591\u001b[1;33m                 \u001b[1;32mraise\u001b[0m \u001b[0mKeyError\u001b[0m\u001b[1;33m(\u001b[0m\u001b[1;34mf\"{labels[mask]} not found in axis\"\u001b[0m\u001b[1;33m)\u001b[0m\u001b[1;33m\u001b[0m\u001b[1;33m\u001b[0m\u001b[0m\n\u001b[0m\u001b[0;32m   5592\u001b[0m             \u001b[0mindexer\u001b[0m \u001b[1;33m=\u001b[0m \u001b[0mindexer\u001b[0m\u001b[1;33m[\u001b[0m\u001b[1;33m~\u001b[0m\u001b[0mmask\u001b[0m\u001b[1;33m]\u001b[0m\u001b[1;33m\u001b[0m\u001b[1;33m\u001b[0m\u001b[0m\n\u001b[0;32m   5593\u001b[0m         \u001b[1;32mreturn\u001b[0m \u001b[0mself\u001b[0m\u001b[1;33m.\u001b[0m\u001b[0mdelete\u001b[0m\u001b[1;33m(\u001b[0m\u001b[0mindexer\u001b[0m\u001b[1;33m)\u001b[0m\u001b[1;33m\u001b[0m\u001b[1;33m\u001b[0m\u001b[0m\n",
      "\u001b[1;31mKeyError\u001b[0m: \"['Oficina' 'Meta año 2021' 'Meta trimestre' 'Avance corte '\\n '% avance meta año'] not found in axis\""
     ]
    }
   ],
   "source": [
    "AsistentesPFE2020.rename(columns={'Asesor': 'Meta: Nombre del propietario'}, inplace=True)\n",
    "\n",
    "AsistentesPFE2020 = AsistentesPFE2020.drop(columns=['Oficina' , 'Meta año 2021' , 'Meta trimestre' , 'Avance corte ' , \n",
    "                                                    '% avance meta año']) \n",
    "\n",
    "AsistentesPFE = AsistentesPFE.merge(AsistentesPFE2020, how='outer', left_on=['Meta: Nombre del propietario'] , right_on = ['Meta: Nombre del propietario']).fillna(0)\n"
   ]
  },
  {
   "cell_type": "code",
   "execution_count": null,
   "id": "1c1d824d",
   "metadata": {},
   "outputs": [],
   "source": [
    "TFinal = TFinal.merge(AsistentesPFE, how='outer', left_on=['Meta: Nombre del propietario', 'Meta: Tipo de meta'], \n",
    "                      right_on=['Meta: Nombre del propietario', 'Meta: Tipo de meta']).fillna(0)\n",
    "TFinal['Valor'] = TFinal['Valor'] + TFinal['ValorPFE']\n",
    "TFinal['Valor 2020'] = TFinal['Valor 2020'] + TFinal['Resultados 2020']\n",
    "\n",
    "TFinal = TFinal.drop(columns=['ValorPFE' , 'Resultados 2020'])\n"
   ]
  },
  {
   "cell_type": "markdown",
   "id": "eb60b39c",
   "metadata": {},
   "source": [
    "### VPT Visitantes no residentes"
   ]
  },
  {
   "cell_type": "code",
   "execution_count": null,
   "id": "22797fc5",
   "metadata": {},
   "outputs": [],
   "source": [
    "InfoResponsanles = TFinalEXT[['Meta: Tipo meta funcionario', 'E_HUB2019', 'E_Localización' , 'E_Clasificación',\n",
    "                        'Meta: Nombre del propietario' , 'E_Rol' , 'Tipo de Indicador' ]]\n",
    "\n",
    "Responsables=TFinalEXT[['Meta: Nombre del propietario']]\n",
    "Responsables = Responsables.drop_duplicates(subset = ['Meta: Nombre del propietario'])\n",
    "Responsables = Responsables.reset_index()\n",
    "Responsables['Meta: Tipo de meta'] = 'VPT Visitantes no residentes'\n",
    "\n",
    "Responsables = Responsables.merge(InfoResponsanles, how='left', left_on=['Meta: Nombre del propietario'], \n",
    "                      right_on=['Meta: Nombre del propietario']).fillna(0)\n",
    "Responsables = Responsables.drop_duplicates(subset = ['Meta: Nombre del propietario'])\n",
    "Responsables = Responsables.reset_index()\n",
    "\n",
    "TFinal = TFinal.append(Responsables)\n",
    "TFinal.loc[TFinal['Meta: Tipo de meta'] == 'VPT Visitantes no residentes', 'Valor 2020'] =  1393827 \n",
    "TFinal.loc[TFinal['Meta: Tipo de meta'] == 'VPT Visitantes no residentes', 'Meta Total'] =  1150000\n",
    "TFinal.loc[TFinal['Meta: Tipo de meta'] == 'VPT Visitantes no residentes', 'Meta Q'] =  1150000 \n",
    "TFinal.loc[TFinal['Meta: Tipo de meta'] == 'VPT Visitantes no residentes', 'Valor'] =  984567 \n",
    "TFinal = TFinal.drop(columns=['index' , 'level_0'])\n"
   ]
  },
  {
   "cell_type": "code",
   "execution_count": null,
   "id": "5adfdded",
   "metadata": {},
   "outputs": [],
   "source": [
    "TFinal =  TFinal.drop(TFinal[TFinal['E_Rol'] == 'Profesional Turismo'].index)\n"
   ]
  },
  {
   "cell_type": "code",
   "execution_count": null,
   "id": "4ae032ce",
   "metadata": {},
   "outputs": [],
   "source": [
    "writer = pd.ExcelWriter('Turismo.xlsx')\n",
    "TFinal.to_excel(writer)\n",
    "writer.save()\n",
    "from IPython.display import FileLink\n",
    "FileLink('Turismo.xlsx')"
   ]
  },
  {
   "cell_type": "code",
   "execution_count": null,
   "id": "5b255c6c",
   "metadata": {},
   "outputs": [],
   "source": [
    "#TFinal[TFinal['Meta: Tipo de meta'] == 'VPT Visitantes no residentes']\n",
    "#TFinal.loc[TFinal['Meta: Tipo de meta'] == 'Número de oportunidades en etapa 0 y 1']"
   ]
  }
 ],
 "metadata": {
  "kernelspec": {
   "display_name": "Python 3",
   "language": "python",
   "name": "python3"
  },
  "language_info": {
   "codemirror_mode": {
    "name": "ipython",
    "version": 3
   },
   "file_extension": ".py",
   "mimetype": "text/x-python",
   "name": "python",
   "nbconvert_exporter": "python",
   "pygments_lexer": "ipython3",
   "version": "3.8.8"
  },
  "nbTranslate": {
   "displayLangs": [
    "*"
   ],
   "hotkey": "alt-t",
   "langInMainMenu": true,
   "sourceLang": "en",
   "targetLang": "fr",
   "useGoogleTranslate": true
  }
 },
 "nbformat": 4,
 "nbformat_minor": 5
}

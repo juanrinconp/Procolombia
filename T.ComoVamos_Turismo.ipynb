{
 "cells": [
  {
   "cell_type": "markdown",
   "id": "aac879d5",
   "metadata": {},
   "source": [
    "# Tablero Como vamos\n",
    "## Vicepresidencia de Planeación - Turismo"
   ]
  },
  {
   "cell_type": "code",
   "execution_count": 7,
   "id": "ef33cf0f",
   "metadata": {},
   "outputs": [],
   "source": [
    "import pandas as pd \n",
    "import numpy as np \n",
    "import matplotlib.pyplot as plt \n",
    "import matplotlib as mpl \n",
    "import six\n",
    "import os \n",
    "\n",
    "pathout = './data/'\n",
    "if not os.path.exists(pathout):\n",
    "    os.mkdir(pathout) \n",
    "    pathgraphs = './graphs/'\n",
    "    if not os.path.exists(pathgraphs): \n",
    "        os.mkdir(pathgraphs)"
   ]
  },
  {
   "cell_type": "code",
   "execution_count": 8,
   "id": "7d4025a8",
   "metadata": {},
   "outputs": [],
   "source": [
    "Metas = pd.read_excel(pathout + 'Metas.xlsx')"
   ]
  },
  {
   "cell_type": "code",
   "execution_count": 9,
   "id": "a8b48f0c",
   "metadata": {},
   "outputs": [],
   "source": [
    "Negocios = pd.read_excel(pathout + 'Negocios.xlsx')"
   ]
  },
  {
   "cell_type": "code",
   "execution_count": 10,
   "id": "82605f22",
   "metadata": {},
   "outputs": [],
   "source": [
    "Oportunidades = pd.read_excel(pathout + 'Oportunidades.xlsx')"
   ]
  },
  {
   "cell_type": "code",
   "execution_count": 11,
   "id": "ccc69bb0",
   "metadata": {},
   "outputs": [],
   "source": [
    "ENacionales = pd.read_excel(pathout + 'Empresas_nacionales.xlsx')"
   ]
  },
  {
   "cell_type": "code",
   "execution_count": 12,
   "id": "35c00785",
   "metadata": {},
   "outputs": [],
   "source": [
    "Frecuencias = pd.read_excel(pathout + 'Frecuencias.xlsx')"
   ]
  },
  {
   "cell_type": "code",
   "execution_count": 13,
   "id": "ded1abc3",
   "metadata": {},
   "outputs": [],
   "source": [
    "añoactual = 2021\n",
    "añoanterior = 2020\n",
    "trimestre = 4\n",
    "\n",
    "#Fecha en Formato aaaa/mm/dd para la base de Tableau 12a\n",
    "negociosañoactual = '2021-01-01'\n",
    "fechaactual  = '2021-11-01'\n",
    "\n",
    "eneroañoanterior = '2020-01-01'\n",
    "fechaactual_añoanterior = '2020-11-01'\n",
    "diciembreañoanterior = '2020-12-31'"
   ]
  },
  {
   "cell_type": "code",
   "execution_count": 14,
   "id": "826f48e6",
   "metadata": {},
   "outputs": [],
   "source": [
    "MetasT =  Metas.drop(Metas[Metas['Meta: Eje'] != 'Turismo'].index)\n",
    "MetasT = MetasT.drop(MetasT[MetasT['Meta: Año'] !=  añoactual].index)\n",
    "MetasTQ = MetasT.drop(MetasT[MetasT['Meta: Período'] > trimestre].index)\n",
    "\n",
    "MetasT_Anterior =  Metas.drop(Metas[Metas['Meta: Eje'] != 'Turismo'].index)\n",
    "MetasT_Anterior = MetasT_Anterior.drop(MetasT_Anterior[MetasT_Anterior['Meta: Año'] !=  añoanterior].index)\n",
    "MetasTQ_Anterior = MetasT_Anterior.drop(MetasT_Anterior[MetasT_Anterior['Meta: Período'] > trimestre].index)\n"
   ]
  },
  {
   "cell_type": "code",
   "execution_count": 15,
   "id": "8861bb6a",
   "metadata": {},
   "outputs": [],
   "source": [
    "NegociosT = Negocios.drop(Negocios[Negocios['Logro: Eje'] != 'Turismo'].index)\n",
    "NegociosT = NegociosT.drop(NegociosT[NegociosT['Meta 1 responsable Colombia: Año'] !=  añoactual].index)\n",
    "\n",
    "NegociosTA = Negocios.drop(Negocios[Negocios['Logro: Eje'] != 'Turismo'].index)\n",
    "NegociosTA = NegociosTA.drop(NegociosTA[NegociosTA['Meta 1 responsable Colombia: Año'] !=  añoanterior].index)\n"
   ]
  },
  {
   "cell_type": "markdown",
   "id": "e59a4da8",
   "metadata": {},
   "source": [
    "### Metas y Metas Q"
   ]
  },
  {
   "cell_type": "markdown",
   "id": "71657569",
   "metadata": {},
   "source": [
    "#### 2021"
   ]
  },
  {
   "cell_type": "code",
   "execution_count": 16,
   "id": "7f52eb06",
   "metadata": {},
   "outputs": [],
   "source": [
    "MetasT = MetasT.groupby(['Meta: Tipo meta funcionario' , 'E_HUB2019' , \n",
    "                   'E_Localización' , 'E_Clasificación' , \n",
    "                   'Meta: Nombre del propietario' , 'E_Rol',\n",
    "                  'Tipo de Indicador' , 'Meta: Tipo de meta'])['Meta: Valor meta'].sum().reset_index()\n",
    "\n",
    "MetasTQ = MetasTQ.groupby(['Meta: Tipo meta funcionario' , 'E_HUB2019' , \n",
    "                   'E_Localización' , 'E_Clasificación' , \n",
    "                   'Meta: Nombre del propietario' , 'E_Rol',\n",
    "                  'Tipo de Indicador' , 'Meta: Tipo de meta'])['Meta: Valor meta'].sum().reset_index()"
   ]
  },
  {
   "cell_type": "code",
   "execution_count": 17,
   "id": "09cc238a",
   "metadata": {},
   "outputs": [],
   "source": [
    "\n",
    "TFinal = MetasT.merge(MetasTQ, how='outer', left_on=['Meta: Tipo meta funcionario' , 'E_HUB2019' , \n",
    "                   'E_Localización' , 'E_Clasificación' , \n",
    "                   'Meta: Nombre del propietario' , 'E_Rol',\n",
    "                  'Tipo de Indicador' , 'Meta: Tipo de meta'], right_on=['Meta: Tipo meta funcionario' , 'E_HUB2019' , \n",
    "                   'E_Localización' , 'E_Clasificación' , \n",
    "                   'Meta: Nombre del propietario' , 'E_Rol',\n",
    "                  'Tipo de Indicador' , 'Meta: Tipo de meta']).fillna(0)\n",
    "\n",
    "TFinal.rename(columns={'Meta: Valor meta_x': 'Meta Total' , 'Meta: Valor meta_y': 'Meta Q'}, inplace=True)\n",
    "\n",
    "TFinal =  TFinal.drop(TFinal[TFinal['Meta Total'] == 0].index).reset_index()\n",
    "\n"
   ]
  },
  {
   "cell_type": "markdown",
   "id": "1ea63de3",
   "metadata": {},
   "source": [
    "### Captación de Congresos y Eventos"
   ]
  },
  {
   "cell_type": "markdown",
   "id": "1757c760",
   "metadata": {},
   "source": [
    "#### 2021"
   ]
  },
  {
   "cell_type": "code",
   "execution_count": 18,
   "id": "6697e0d1",
   "metadata": {},
   "outputs": [],
   "source": [
    "Negocios_Captacion_2021 = NegociosT.drop(NegociosT[NegociosT['Logro: Tipo de registro'] !=  'Captación de Eventos'].index)\n",
    "\n",
    "Negocios_Captacion_Col_2021 = Negocios_Captacion_2021.groupby(['Logro: Responsable Colombia' , 'Logro: Tipo de registro' \n",
    "                                                          ])['Logro: Valor'].sum().reset_index()\n",
    "\n",
    "Negocios_Captacion_Ext_2021 = Negocios_Captacion_2021.groupby(['Logro: Responsable en el Exterior 1' , 'Logro: Tipo de registro' \n",
    "                                                          ])['Logro: Valor'].sum().reset_index()\n",
    "\n",
    "\n",
    "Negocios_Captacion_Col_2021.rename(columns={'Logro: Responsable Colombia': 'Meta: Nombre del propietario'}, inplace=True)\n",
    "Negocios_Captacion_Ext_2021.rename(columns={'Logro: Responsable en el Exterior 1': 'Meta: Nombre del propietario'}, inplace=True)\n",
    "\n",
    "Negocios_Captacion_2021 = Negocios_Captacion_Col_2021.append(Negocios_Captacion_Ext_2021)\n",
    "Negocios_Captacion_2021.rename(columns={'Logro: Tipo de registro': 'Meta: Tipo de meta'}, inplace=True)\n",
    "\n",
    "#Falta captacion de Congresos\n",
    "\n",
    "Negocios_CaptacionCyE_2021 = Negocios_Captacion_2021\n",
    "\n",
    "Negocios_CaptacionCyE_2021 = (Negocios_CaptacionCyE_2021.replace('Captación de Eventos', 'Captación de Congresos y Eventos'))"
   ]
  },
  {
   "cell_type": "code",
   "execution_count": 19,
   "id": "50c08133",
   "metadata": {},
   "outputs": [],
   "source": [
    "TFinal = TFinal.merge(Negocios_CaptacionCyE_2021, how='outer', left_on=['Meta: Nombre del propietario' , 'Meta: Tipo de meta'], \n",
    "                      right_on=['Meta: Nombre del propietario' , 'Meta: Tipo de meta']).fillna(0)"
   ]
  },
  {
   "cell_type": "markdown",
   "id": "c7fcdd67",
   "metadata": {},
   "source": [
    "#### 2020"
   ]
  },
  {
   "cell_type": "code",
   "execution_count": 20,
   "id": "8438390a",
   "metadata": {},
   "outputs": [],
   "source": [
    "Negocios_Captacion_2020 = NegociosTA.drop(NegociosTA[NegociosTA['Logro: Tipo de registro'] !=  'Captación de Eventos'].index)\n",
    "\n",
    "Negocios_Captacion_Col_2020 = Negocios_Captacion_2020.groupby(['Logro: Responsable Colombia' , 'Logro: Tipo de registro' \n",
    "                                                          ])['Logro: Valor'].sum().reset_index()\n",
    "\n",
    "Negocios_Captacion_Ext_2020 = Negocios_Captacion_2020.groupby(['Logro: Responsable en el Exterior 1' , 'Logro: Tipo de registro' \n",
    "                                                          ])['Logro: Valor'].sum().reset_index()\n",
    "\n",
    "\n",
    "Negocios_Captacion_Col_2020.rename(columns={'Logro: Responsable Colombia': 'Meta: Nombre del propietario'}, inplace=True)\n",
    "Negocios_Captacion_Ext_2020.rename(columns={'Logro: Responsable en el Exterior 1': 'Meta: Nombre del propietario'}, inplace=True)\n",
    "\n",
    "Negocios_Captacion_2020 = Negocios_Captacion_Col_2020.append(Negocios_Captacion_Ext_2020)\n",
    "Negocios_Captacion_2020.rename(columns={'Logro: Tipo de registro': 'Meta: Tipo de meta'}, inplace=True)\n",
    "\n",
    "#Falta captacion de Congresos\n",
    "\n",
    "Negocios_CaptacionCyE_2020 = Negocios_Captacion_2020\n",
    "\n",
    "Negocios_CaptacionCyE_2020 = (Negocios_CaptacionCyE_2020.replace('Captación de Eventos', 'Captación de Congresos y Eventos'))\n",
    "Negocios_CaptacionCyE_2020.rename(columns={'Logro: Valor': 'Valor 2020'}, inplace=True)"
   ]
  },
  {
   "cell_type": "code",
   "execution_count": 21,
   "id": "71fdfb44",
   "metadata": {},
   "outputs": [],
   "source": [
    "TFinal = TFinal.merge(Negocios_CaptacionCyE_2020, how='outer', left_on=['Meta: Nombre del propietario' , 'Meta: Tipo de meta'], \n",
    "                      right_on=['Meta: Nombre del propietario' , 'Meta: Tipo de meta']).fillna(0)"
   ]
  },
  {
   "cell_type": "markdown",
   "id": "93c5aa2e",
   "metadata": {},
   "source": [
    "### Oportunidades en Etapa 0 y 1"
   ]
  },
  {
   "cell_type": "markdown",
   "id": "e9228330",
   "metadata": {},
   "source": [
    "#### 2021"
   ]
  },
  {
   "cell_type": "code",
   "execution_count": 22,
   "id": "d823b13f",
   "metadata": {},
   "outputs": [],
   "source": [
    "OportT = Oportunidades.drop(Oportunidades[Oportunidades['E_Año'] != añoactual].index)\n",
    "OportT = OportT.drop(OportT[OportT['Oportunidad: Tipo de registro'] != 'Conectividad aérea'].index)\n",
    "OportT_0y1 = OportT.drop(OportT[OportT['Oportunidad: Etapa'] == 5].index)\n",
    "OportT_0y1 = OportT_0y1.drop(OportT_0y1[OportT_0y1['Oportunidad: Etapa'] == 2].index)\n",
    "OportT_0y1 = OportT_0y1.drop(OportT_0y1[OportT_0y1['Oportunidad: Etapa'] == 3].index)\n",
    "OportT_0y1 = OportT_0y1.drop(OportT_0y1[OportT_0y1['Oportunidad: Etapa'] == 4].index)\n",
    "OportT_0y1 = OportT_0y1.groupby(['Oportunidad: Responsable en Colombia'])['Oportunidad: Consecutivo'].count().reset_index()\n",
    "\n",
    "OportT_0y1.rename(columns={'Oportunidad: Consecutivo': 'Logro: Valor' , \n",
    "                       'Oportunidad: Responsable en Colombia': 'Meta: Nombre del propietario'}, inplace=True)\n",
    "\n",
    "OportT_0y1['Meta: Tipo de meta'] = 'Número de oportunidades en etapa 0 y 1'\n",
    "\n"
   ]
  },
  {
   "cell_type": "code",
   "execution_count": 23,
   "id": "22295be3",
   "metadata": {},
   "outputs": [],
   "source": [
    "TFinal = TFinal.merge(OportT_0y1, how='outer', left_on=['Meta: Nombre del propietario' , 'Meta: Tipo de meta'], \n",
    "                      right_on=['Meta: Nombre del propietario' , 'Meta: Tipo de meta']).fillna(0)"
   ]
  },
  {
   "cell_type": "code",
   "execution_count": 24,
   "id": "0a4e7b80",
   "metadata": {},
   "outputs": [],
   "source": [
    "TFinal['Valor'] = TFinal['Logro: Valor_x'] + TFinal['Logro: Valor_y']\n",
    "TFinal = TFinal.drop(columns=['Logro: Valor_x', 'Logro: Valor_y'])\n"
   ]
  },
  {
   "cell_type": "markdown",
   "id": "7bccba80",
   "metadata": {},
   "source": [
    "#### 2020"
   ]
  },
  {
   "cell_type": "code",
   "execution_count": 25,
   "id": "b44722f0",
   "metadata": {},
   "outputs": [],
   "source": [
    "OportTA = Oportunidades.drop(Oportunidades[Oportunidades['E_Año'] != añoactual].index)\n",
    "OportTA = OportT.drop(OportT[OportT['Oportunidad: Tipo de registro'] != 'Conectividad aérea'].index)\n",
    "OportTA_0y1 = OportTA.drop(OportTA[OportTA['Oportunidad: Etapa'] == 5].index)\n",
    "OportTA_0y1 = OportTA_0y1.drop(OportTA_0y1[OportTA_0y1['Oportunidad: Etapa'] == 2].index)\n",
    "OportTA_0y1 = OportTA_0y1.drop(OportTA_0y1[OportTA_0y1['Oportunidad: Etapa'] == 3].index)\n",
    "OportTA_0y1 = OportTA_0y1.drop(OportTA_0y1[OportTA_0y1['Oportunidad: Etapa'] == 4].index)\n",
    "OportTA_0y1 = OportTA_0y1.groupby(['Oportunidad: Responsable en Colombia'])['Oportunidad: Consecutivo'].count().reset_index()\n",
    "\n",
    "OportTA_0y1.rename(columns={'Oportunidad: Consecutivo': 'Valor 2020' , \n",
    "                       'Oportunidad: Responsable en Colombia': 'Meta: Nombre del propietario'}, inplace=True)\n",
    "\n",
    "OportTA_0y1['Meta: Tipo de meta'] = 'Número de oportunidades en etapa 0 y 1'\n",
    "\n"
   ]
  },
  {
   "cell_type": "code",
   "execution_count": 26,
   "id": "71bd7ce0",
   "metadata": {},
   "outputs": [],
   "source": [
    "TFinal = TFinal.merge(OportTA_0y1, how='outer', left_on=['Meta: Nombre del propietario' , 'Meta: Tipo de meta'], \n",
    "                      right_on=['Meta: Nombre del propietario' , 'Meta: Tipo de meta']).fillna(0)"
   ]
  },
  {
   "cell_type": "code",
   "execution_count": 27,
   "id": "5dab21d6",
   "metadata": {},
   "outputs": [],
   "source": [
    "TFinal['Valor 2020'] = TFinal['Valor 2020_x'] + TFinal['Valor 2020_y']\n",
    "TFinal = TFinal.drop(columns=['Valor 2020_x', 'Valor 2020_y'])"
   ]
  },
  {
   "cell_type": "markdown",
   "id": "7eddfe5e",
   "metadata": {},
   "source": [
    "### Oportunidades en Etapa 2 y 3"
   ]
  },
  {
   "cell_type": "markdown",
   "id": "a6fe4cfe",
   "metadata": {},
   "source": [
    "#### 2021"
   ]
  },
  {
   "cell_type": "code",
   "execution_count": 28,
   "id": "fd979e8d",
   "metadata": {},
   "outputs": [],
   "source": [
    "OportT = Oportunidades.drop(Oportunidades[Oportunidades['E_Año'] != añoactual].index)\n",
    "OportT = OportT.drop(OportT[OportT['Oportunidad: Tipo de registro'] != 'Conectividad aérea'].index)\n",
    "OportT_2y3 = OportT.drop(OportT[OportT['Oportunidad: Etapa'] == 5].index)\n",
    "OportT_2y3 = OportT_2y3.drop(OportT_2y3[OportT_2y3['Oportunidad: Etapa'] == 0].index)\n",
    "OportT_2y3 = OportT_2y3.drop(OportT_2y3[OportT_2y3['Oportunidad: Etapa'] == 1].index)\n",
    "OportT_2y3 = OportT_2y3.drop(OportT_2y3[OportT_2y3['Oportunidad: Etapa'] == 4].index)\n",
    "OportT_2y3 = OportT_2y3.groupby(['Oportunidad: Responsable en Colombia'])['Oportunidad: Consecutivo'].count().reset_index()\n",
    "\n",
    "OportT_2y3.rename(columns={'Oportunidad: Consecutivo': 'Logro: Valor' , \n",
    "                       'Oportunidad: Responsable en Colombia': 'Meta: Nombre del propietario'}, inplace=True)\n",
    "\n",
    "OportT_2y3['Meta: Tipo de meta'] = 'Número de oportunidades en etapa 2 y 3'\n"
   ]
  },
  {
   "cell_type": "code",
   "execution_count": 29,
   "id": "fb92bca4",
   "metadata": {},
   "outputs": [],
   "source": [
    "TFinal = TFinal.merge(OportT_2y3, how='outer', left_on=['Meta: Nombre del propietario' , 'Meta: Tipo de meta'], \n",
    "                      right_on=['Meta: Nombre del propietario' , 'Meta: Tipo de meta']).fillna(0)"
   ]
  },
  {
   "cell_type": "code",
   "execution_count": 30,
   "id": "041fd713",
   "metadata": {},
   "outputs": [],
   "source": [
    "\n",
    "TFinal['Valor'] = TFinal['Valor'] + TFinal['Logro: Valor']\n",
    "TFinal = TFinal.drop(columns=['Logro: Valor'])\n"
   ]
  },
  {
   "cell_type": "markdown",
   "id": "dbadbf90",
   "metadata": {},
   "source": [
    "#### 2020"
   ]
  },
  {
   "cell_type": "code",
   "execution_count": 31,
   "id": "8bacb254",
   "metadata": {},
   "outputs": [],
   "source": [
    "OportTA = Oportunidades.drop(Oportunidades[Oportunidades['E_Año'] != añoanterior].index)\n",
    "OportTA = OportTA.drop(OportTA[OportTA['Oportunidad: Tipo de registro'] != 'Conectividad aérea'].index)\n",
    "OportTA_2y3 = OportTA.drop(OportTA[OportTA['Oportunidad: Etapa'] == 5].index)\n",
    "OportTA_2y3 = OportTA_2y3.drop(OportTA_2y3[OportTA_2y3['Oportunidad: Etapa'] == 0].index)\n",
    "OportTA_2y3 = OportTA_2y3.drop(OportTA_2y3[OportTA_2y3['Oportunidad: Etapa'] == 1].index)\n",
    "OportTA_2y3 = OportTA_2y3.drop(OportTA_2y3[OportTA_2y3['Oportunidad: Etapa'] == 4].index)\n",
    "OportTA_2y3 = OportTA_2y3.groupby(['Oportunidad: Responsable en Colombia'])['Oportunidad: Consecutivo'].count().reset_index()\n",
    "\n",
    "OportTA_2y3.rename(columns={'Oportunidad: Consecutivo': 'Valor 2020' , \n",
    "                       'Oportunidad: Responsable en Colombia': 'Meta: Nombre del propietario'}, inplace=True)\n",
    "\n",
    "OportTA_2y3['Meta: Tipo de meta'] = 'Número de oportunidades en etapa 2 y 3'"
   ]
  },
  {
   "cell_type": "code",
   "execution_count": 32,
   "id": "fa6a83d3",
   "metadata": {},
   "outputs": [],
   "source": [
    "TFinal = TFinal.merge(OportTA_2y3, how='outer', left_on=['Meta: Nombre del propietario' , 'Meta: Tipo de meta'], \n",
    "                      right_on=['Meta: Nombre del propietario' , 'Meta: Tipo de meta']).fillna(0)"
   ]
  },
  {
   "cell_type": "code",
   "execution_count": 33,
   "id": "ae70ad74",
   "metadata": {},
   "outputs": [],
   "source": [
    "TFinal['Valor 2020'] = TFinal['Valor 2020_x'] + TFinal['Valor 2020_y']\n",
    "TFinal = TFinal.drop(columns=['Valor 2020_x', 'Valor 2020_y'])"
   ]
  },
  {
   "cell_type": "markdown",
   "id": "16b4c930",
   "metadata": {},
   "source": [
    "### Monto de Gasto de Noches"
   ]
  },
  {
   "cell_type": "markdown",
   "id": "dbbde994",
   "metadata": {},
   "source": [
    "#### 2021"
   ]
  },
  {
   "cell_type": "code",
   "execution_count": 34,
   "id": "5a735a96",
   "metadata": {},
   "outputs": [],
   "source": [
    "MontoGastoNoches = NegociosT.drop(NegociosT[NegociosT['Logro: Tipo de registro'] !=  'Turismo Noches'].index)\n",
    "\n",
    "MontoGastoNoches = MontoGastoNoches.groupby(['Logro: Responsable Colombia' , 'Logro: Tipo de registro' \n",
    "                                                          ])['Logro: Valor'].sum().reset_index()\n",
    "\n",
    "MontoGastoNoches.rename(columns={'Logro: Responsable Colombia': 'Meta: Nombre del propietario'}, inplace=True)\n",
    "MontoGastoNoches.rename(columns={'Logro: Tipo de registro': 'Meta: Tipo de meta'}, inplace=True)\n",
    "\n",
    "\n",
    "MontoGastoNoches = (MontoGastoNoches.replace('Turismo Noches', 'Monto de gasto de noches'))\n",
    "\n"
   ]
  },
  {
   "cell_type": "code",
   "execution_count": 35,
   "id": "87330830",
   "metadata": {},
   "outputs": [],
   "source": [
    "TFinal = TFinal.merge(MontoGastoNoches, how='outer', left_on=['Meta: Nombre del propietario' , 'Meta: Tipo de meta'], \n",
    "                      right_on=['Meta: Nombre del propietario' , 'Meta: Tipo de meta']).fillna(0)\n",
    "\n",
    "\n",
    "TFinal['Valor'] = TFinal['Valor'] + TFinal['Logro: Valor']\n",
    "TFinal = TFinal.drop(columns=['Logro: Valor'])\n"
   ]
  },
  {
   "cell_type": "markdown",
   "id": "14aff8cf",
   "metadata": {},
   "source": [
    "#### 2020"
   ]
  },
  {
   "cell_type": "code",
   "execution_count": 36,
   "id": "e059cd71",
   "metadata": {},
   "outputs": [],
   "source": [
    "MontoGastoNochesA = NegociosTA.drop(NegociosTA[NegociosTA['Logro: Tipo de registro'] !=  'Turismo Noches'].index)\n",
    "\n",
    "MontoGastoNochesA = MontoGastoNochesA.groupby(['Logro: Responsable Colombia' , 'Logro: Tipo de registro' \n",
    "                                                          ])['Logro: Valor'].sum().reset_index()\n",
    "\n",
    "MontoGastoNochesA.rename(columns={'Logro: Responsable Colombia': 'Meta: Nombre del propietario'}, inplace=True)\n",
    "MontoGastoNochesA.rename(columns={'Logro: Tipo de registro': 'Meta: Tipo de meta'}, inplace=True)\n",
    "\n",
    "\n",
    "MontoGastoNochesA = (MontoGastoNochesA.replace('Turismo Noches', 'Monto de gasto de noches'))"
   ]
  },
  {
   "cell_type": "code",
   "execution_count": 37,
   "id": "fee7b454",
   "metadata": {},
   "outputs": [],
   "source": [
    "TFinal = TFinal.merge(MontoGastoNochesA, how='outer', left_on=['Meta: Nombre del propietario' , 'Meta: Tipo de meta'], \n",
    "                      right_on=['Meta: Nombre del propietario' , 'Meta: Tipo de meta']).fillna(0)\n",
    "\n",
    "\n",
    "TFinal['Valor 2020'] = TFinal['Valor 2020'] + TFinal['Logro: Valor']\n",
    "TFinal = TFinal.drop(columns=['Logro: Valor'])\n"
   ]
  },
  {
   "cell_type": "markdown",
   "id": "d6a11caf",
   "metadata": {},
   "source": [
    "### Monto de Gasto de Paquetes"
   ]
  },
  {
   "cell_type": "markdown",
   "id": "73f9d7f9",
   "metadata": {},
   "source": [
    "#### 2021"
   ]
  },
  {
   "cell_type": "code",
   "execution_count": 38,
   "id": "bf015316",
   "metadata": {},
   "outputs": [],
   "source": [
    "MontoPaquetes = NegociosT.drop(NegociosT[NegociosT['Logro: Tipo de registro'] !=  'Paquetes Turismo'].index)\n",
    "\n",
    "MontoPaquetes = MontoPaquetes.groupby(['Logro: Responsable Colombia' , 'Logro: Tipo de registro' \n",
    "                                                          ])['Logro: Valor'].sum().reset_index()\n",
    "\n",
    "MontoPaquetes.rename(columns={'Logro: Responsable Colombia': 'Meta: Nombre del propietario'}, inplace=True)\n",
    "MontoPaquetes.rename(columns={'Logro: Tipo de registro': 'Meta: Tipo de meta'}, inplace=True)\n",
    "\n",
    "\n",
    "MontoPaquetes = (MontoPaquetes.replace('Paquetes Turismo', 'Monto de gasto paquetes'))"
   ]
  },
  {
   "cell_type": "code",
   "execution_count": 39,
   "id": "b3391ded",
   "metadata": {},
   "outputs": [],
   "source": [
    "TFinal = TFinal.merge(MontoPaquetes, how='outer', left_on=['Meta: Nombre del propietario' , 'Meta: Tipo de meta'], \n",
    "                      right_on=['Meta: Nombre del propietario' , 'Meta: Tipo de meta']).fillna(0)\n",
    "\n",
    "\n",
    "TFinal['Valor'] = TFinal['Valor'] + TFinal['Logro: Valor']\n",
    "TFinal = TFinal.drop(columns=['Logro: Valor'])\n"
   ]
  },
  {
   "cell_type": "markdown",
   "id": "62692244",
   "metadata": {},
   "source": [
    "#### 2020"
   ]
  },
  {
   "cell_type": "code",
   "execution_count": 40,
   "id": "fcc1e2c9",
   "metadata": {},
   "outputs": [],
   "source": [
    "MontoPaquetesA = NegociosTA.drop(NegociosTA[NegociosTA['Logro: Tipo de registro'] !=  'Paquetes Turismo'].index)\n",
    "\n",
    "MontoPaquetesA = MontoPaquetesA.groupby(['Logro: Responsable Colombia' , 'Logro: Tipo de registro' \n",
    "                                                          ])['Logro: Valor'].sum().reset_index()\n",
    "\n",
    "MontoPaquetesA.rename(columns={'Logro: Responsable Colombia': 'Meta: Nombre del propietario'}, inplace=True)\n",
    "MontoPaquetesA.rename(columns={'Logro: Tipo de registro': 'Meta: Tipo de meta'}, inplace=True)\n",
    "\n",
    "\n",
    "MontoPaquetesA = (MontoPaquetesA.replace('Paquetes Turismo', 'Monto de gasto paquetes'))"
   ]
  },
  {
   "cell_type": "code",
   "execution_count": 41,
   "id": "255c9f51",
   "metadata": {},
   "outputs": [],
   "source": [
    "TFinal = TFinal.merge(MontoPaquetesA, how='outer', left_on=['Meta: Nombre del propietario' , 'Meta: Tipo de meta'], \n",
    "                      right_on=['Meta: Nombre del propietario' , 'Meta: Tipo de meta']).fillna(0)\n",
    "\n",
    "\n",
    "TFinal['Valor 2020'] = TFinal['Valor 2020'] + TFinal['Logro: Valor']\n",
    "TFinal = TFinal.drop(columns=['Logro: Valor'])\n"
   ]
  },
  {
   "cell_type": "markdown",
   "id": "4a8dda99",
   "metadata": {},
   "source": [
    "### Número de empresas PyA con plan de trabajo vigente (Pendiente)"
   ]
  },
  {
   "cell_type": "code",
   "execution_count": null,
   "id": "8c7296a9",
   "metadata": {},
   "outputs": [],
   "source": []
  },
  {
   "cell_type": "code",
   "execution_count": null,
   "id": "78c10aee",
   "metadata": {},
   "outputs": [],
   "source": []
  },
  {
   "cell_type": "code",
   "execution_count": null,
   "id": "62c1bd33",
   "metadata": {},
   "outputs": [],
   "source": []
  },
  {
   "cell_type": "code",
   "execution_count": null,
   "id": "8a3a9ffe",
   "metadata": {},
   "outputs": [],
   "source": []
  },
  {
   "cell_type": "markdown",
   "id": "612cd347",
   "metadata": {},
   "source": [
    "### Número asistentes PFE turismo (Pendiente)"
   ]
  },
  {
   "cell_type": "markdown",
   "id": "99f95591",
   "metadata": {},
   "source": [
    "### Número de empresas con servicios en turismo"
   ]
  },
  {
   "cell_type": "code",
   "execution_count": 42,
   "id": "e09b3fd3",
   "metadata": {},
   "outputs": [],
   "source": [
    "#ENacionales2 = ENacionales.drop(ENacionales[ENacionales['Año de Fecha creación'] != añoactual].index)\n",
    "ENacionales2 = ENacionales.drop(ENacionales[ENacionales['Eje'] !=  'Turismo'].index)\n",
    "\n",
    "\n",
    "ENacionales2 = ENacionales2.drop(ENacionales2[(ENacionales2['Estado'] !=  'Realizada') & \n",
    "                                     (ENacionales2['Estado'] !=  'Entregado') & \n",
    "                                     (ENacionales2['Estado'] !=  'Finalizado') & \n",
    "                                     (ENacionales2['Estado'] !=  'Participó') & \n",
    "                                     (ENacionales2['Estado'] !=  'Evaluación del evento recibida')].index)\n",
    "\n",
    "\n",
    "ENacionales2['Empresa'] = ENacionales2['Empresa'].str.lower()\n",
    "\n",
    "ENacionales3 = ENacionales2.drop(ENacionales2[ENacionales2['Fecha'] < eneroañoanterior].index)\n",
    "ENacionales3 = ENacionales3.drop(ENacionales3[ENacionales3['Fecha'] > fechaactual_añoanterior].index)\n",
    "\n",
    "Enacionales4 = ENacionales2.drop(ENacionales2[ENacionales2['Año de Fecha creación'] != añoanterior].index)\n",
    "\n",
    "ENacionales2 = ENacionales2.drop(ENacionales2[ENacionales2['Fecha'] < negociosañoactual].index)\n",
    "ENacionales2 = ENacionales2.drop(ENacionales2[ENacionales2['Fecha'] > fechaactual].index)\n",
    "\n",
    "ENacionales_Nacional = ENacionales2.drop(ENacionales2[ENacionales2['Tipo empresa'] !=  'Nacional'].index)\n",
    "ENacionales_Exterior = ENacionales2.drop(ENacionales2[ENacionales2['Tipo empresa'] !=  'Exterior'].index)\n",
    "\n",
    "ENacionales_NacionalA = ENacionales3.drop(ENacionales3[ENacionales3['Tipo empresa'] !=  'Nacional'].index)\n",
    "ENacionales_ExteriorA = ENacionales3.drop(ENacionales3[ENacionales3['Tipo empresa'] !=  'Exterior'].index)\n",
    "\n"
   ]
  },
  {
   "cell_type": "markdown",
   "id": "fcd7afdc",
   "metadata": {},
   "source": [
    "#### 2021"
   ]
  },
  {
   "cell_type": "code",
   "execution_count": 43,
   "id": "d12ff092",
   "metadata": {},
   "outputs": [],
   "source": [
    "ENTuris_Nal = ENacionales_Nacional.groupby(['Responsable nacional'])['Empresa'].nunique().reset_index()\n",
    "ENTuris_Ext = ENacionales_Exterior.groupby(['Responsable exterior'])['Empresa'].nunique().reset_index()\n",
    "\n",
    "ENTuris_Nal.rename(columns={'Responsable nacional': 'Meta: Nombre del propietario'}, inplace=True)\n",
    "ENTuris_Ext.rename(columns={'Responsable exterior': 'Meta: Nombre del propietario'}, inplace=True)\n",
    "\n",
    "ENTuris = ENTuris_Nal.append(ENTuris_Ext)\n",
    "ENTuris['Meta: Tipo de meta'] = 'Número de empresas con servicios en turismo'"
   ]
  },
  {
   "cell_type": "code",
   "execution_count": 44,
   "id": "7c7b3e68",
   "metadata": {},
   "outputs": [],
   "source": [
    "TFinal = TFinal.merge(ENTuris, how='left', left_on=['Meta: Nombre del propietario' , 'Meta: Tipo de meta'], \n",
    "                      right_on=['Meta: Nombre del propietario' , 'Meta: Tipo de meta']).fillna(0)\n",
    "\n",
    "\n",
    "TFinal['Valor'] = TFinal['Valor'] + TFinal['Empresa']\n",
    "TFinal = TFinal.drop(columns=['Empresa'])\n"
   ]
  },
  {
   "cell_type": "markdown",
   "id": "c6afeaad",
   "metadata": {},
   "source": [
    "#### 2020"
   ]
  },
  {
   "cell_type": "code",
   "execution_count": 45,
   "id": "b0e18242",
   "metadata": {},
   "outputs": [],
   "source": [
    "ENTuris_NalA = ENacionales_NacionalA.groupby(['Responsable nacional'])['Empresa'].nunique().reset_index()\n",
    "ENTuris_ExtA = ENacionales_ExteriorA.groupby(['Responsable exterior'])['Empresa'].nunique().reset_index()\n",
    "\n",
    "ENTuris_NalA.rename(columns={'Responsable nacional': 'Meta: Nombre del propietario'}, inplace=True)\n",
    "ENTuris_ExtA.rename(columns={'Responsable exterior': 'Meta: Nombre del propietario'}, inplace=True)\n",
    "\n",
    "ENTurisA = ENTuris_NalA.append(ENTuris_ExtA)\n",
    "ENTurisA['Meta: Tipo de meta'] = 'Número de empresas con servicios en turismo'\n"
   ]
  },
  {
   "cell_type": "code",
   "execution_count": 46,
   "id": "8831c9c7",
   "metadata": {},
   "outputs": [],
   "source": [
    "TFinal = TFinal.merge(ENTurisA, how='left', left_on=['Meta: Nombre del propietario' , 'Meta: Tipo de meta'], \n",
    "                      right_on=['Meta: Nombre del propietario' , 'Meta: Tipo de meta']).fillna(0)\n",
    "\n",
    "\n",
    "TFinal['Valor 2020'] = TFinal['Valor 2020'] + TFinal['Empresa']\n",
    "TFinal = TFinal.drop(columns=['Empresa'])\n"
   ]
  },
  {
   "cell_type": "markdown",
   "id": "63885e8d",
   "metadata": {},
   "source": [
    "##### Eliminando los que tienen resultados pero no metas --> how ='left'"
   ]
  },
  {
   "cell_type": "markdown",
   "id": "9ea16308",
   "metadata": {},
   "source": [
    "### Número de empresas PyA con primer acercamiento comercial (Pendiente)"
   ]
  },
  {
   "cell_type": "code",
   "execution_count": 47,
   "id": "71b46151",
   "metadata": {},
   "outputs": [],
   "source": [
    "Enacionales2020 = Enacionales4.drop(Enacionales4[Enacionales4['Tipo empresa'] !=  'Nacional'].index)\n",
    "Enacionales2020 = Enacionales2020.drop(Enacionales2020[Enacionales2020['Tipo registro'] !=  'MACRORRUEDAS Y ENCUENTROS COMERCIALES'].index)\n",
    "Enacionales2020 = Enacionales2020[['Responsable nacional','Empresa']]\n",
    "#Enacionales2020 = Enacionales2020.drop_duplicates()\n",
    "Enacionales2020['Acercamiento en 2020'] = 1\n",
    "\n",
    "#EmpresasAcercamiento = Enacionales4.groupby(['Responsable nacional' , 'Empresa'])['Pais cuenta Principal'].count().reset_index()\n",
    "\n",
    "Enacionales2021 = ENacionales2.drop(ENacionales2[ENacionales2['Tipo empresa'] !=  'Nacional'].index)\n",
    "Enacionales2021 = Enacionales2021.drop(Enacionales2021[Enacionales2021['Tipo registro'] !=  'MACRORRUEDAS Y ENCUENTROS COMERCIALES'].index)\n",
    "Enacionales2021 = Enacionales2021[['Responsable nacional','Empresa']]\n",
    "#Enacionales2021 = Enacionales2021.drop_duplicates()\n",
    "\n",
    "\n",
    "EmpresasPrimerAcercamiento = Enacionales2021.merge(Enacionales2020, how='left', left_on=['Responsable nacional','Empresa'], \n",
    "                      right_on=['Responsable nacional','Empresa']).fillna(0)\n",
    "\n",
    "EmpresasPrimerAcercamiento = EmpresasPrimerAcercamiento.drop_duplicates(subset=['Empresa'])\n",
    "\n",
    "EmpresasPrimerAcercamiento = EmpresasPrimerAcercamiento.drop(EmpresasPrimerAcercamiento[EmpresasPrimerAcercamiento['Acercamiento en 2020'] == 1].index)\n",
    "EmpresasPrimerAcercamiento = EmpresasPrimerAcercamiento.groupby(['Responsable nacional'])['Empresa'].nunique().reset_index()\n",
    "\n",
    "EmpresasPrimerAcercamiento['Meta: Tipo de meta'] = 'Número de empresas PyA con primer acercamiento comercial'\n",
    "\n",
    "EmpresasPrimerAcercamiento.rename(columns={'Responsable nacional': 'Meta: Nombre del propietario'}, inplace=True)\n",
    "\n",
    "EmpresasPrimerAcercamiento = EmpresasPrimerAcercamiento.drop_duplicates(subset=['Empresa'])\n",
    "\n",
    "TFinal = TFinal.merge(EmpresasPrimerAcercamiento, how='left', left_on=['Meta: Nombre del propietario' , 'Meta: Tipo de meta'], \n",
    "                      right_on=['Meta: Nombre del propietario' , 'Meta: Tipo de meta']).fillna(0)\n",
    "\n",
    "\n",
    "TFinal['Valor'] = TFinal['Valor'] + TFinal['Empresa']\n",
    "TFinal = TFinal.drop(columns=['Empresa'])\n"
   ]
  },
  {
   "cell_type": "code",
   "execution_count": 48,
   "id": "ae880364",
   "metadata": {},
   "outputs": [],
   "source": [
    "EmpresasPrimerAcercamiento = Enacionales2021.merge(Enacionales2020, how='left', left_on=['Responsable nacional','Empresa'], \n",
    "                      right_on=['Responsable nacional','Empresa']).fillna(0)\n",
    "\n",
    "EmpresasPrimerAcercamiento = EmpresasPrimerAcercamiento.drop_duplicates(subset=['Empresa'])\n",
    "\n",
    "EmpresasPrimerAcercamiento = EmpresasPrimerAcercamiento.drop(EmpresasPrimerAcercamiento[EmpresasPrimerAcercamiento['Acercamiento en 2020'] == 1].index)"
   ]
  },
  {
   "cell_type": "markdown",
   "id": "05a5a68b",
   "metadata": {},
   "source": [
    "### Número de frecuencias"
   ]
  },
  {
   "cell_type": "markdown",
   "id": "7e3aad39",
   "metadata": {},
   "source": [
    "#### 2021"
   ]
  },
  {
   "cell_type": "code",
   "execution_count": 49,
   "id": "07686d64",
   "metadata": {},
   "outputs": [],
   "source": [
    "Frecuencias['Meta: Tipo de meta'] = 'Número de frecuencias'"
   ]
  },
  {
   "cell_type": "code",
   "execution_count": 50,
   "id": "0da511b6",
   "metadata": {},
   "outputs": [],
   "source": [
    "FrecT = Frecuencias.groupby(['Meta: Tipo de meta'])['Frecuencias'].sum().reset_index()\n",
    "\n",
    "TFinal = TFinal.merge(FrecT, how='left', left_on=[ 'Meta: Tipo de meta'], \n",
    "                      right_on=['Meta: Tipo de meta']).fillna(0)\n",
    "\n",
    "\n",
    "TFinal['Valor'] = TFinal['Valor'] + TFinal['Frecuencias']\n",
    "TFinal = TFinal.drop(columns=['Frecuencias'])\n"
   ]
  },
  {
   "cell_type": "markdown",
   "id": "54374892",
   "metadata": {},
   "source": [
    "### Número de sillas"
   ]
  },
  {
   "cell_type": "markdown",
   "id": "d6740b21",
   "metadata": {},
   "source": [
    "#### 2021"
   ]
  },
  {
   "cell_type": "code",
   "execution_count": 51,
   "id": "20be28a4",
   "metadata": {},
   "outputs": [],
   "source": [
    "Frecuencias['Meta: Tipo de meta'] = 'Número de sillas'"
   ]
  },
  {
   "cell_type": "code",
   "execution_count": 52,
   "id": "046f8c25",
   "metadata": {},
   "outputs": [],
   "source": [
    "FrecT2 = Frecuencias.groupby(['Meta: Tipo de meta'])['Sillas'].sum().reset_index()\n",
    "\n",
    "TFinal = TFinal.merge(FrecT2, how='left', left_on=[ 'Meta: Tipo de meta'], \n",
    "                      right_on=['Meta: Tipo de meta']).fillna(0)\n",
    "\n",
    "\n",
    "TFinal['Valor'] = TFinal['Valor'] + TFinal['Sillas']\n",
    "TFinal = TFinal.drop(columns=['Sillas'])\n"
   ]
  },
  {
   "cell_type": "code",
   "execution_count": 54,
   "id": "27d30c31",
   "metadata": {},
   "outputs": [
    {
     "data": {
      "text/plain": [
       "['index',\n",
       " 'Meta: Tipo meta funcionario',\n",
       " 'E_HUB2019',\n",
       " 'E_Localización',\n",
       " 'E_Clasificación',\n",
       " 'Meta: Nombre del propietario',\n",
       " 'E_Rol',\n",
       " 'Tipo de Indicador',\n",
       " 'Meta: Tipo de meta',\n",
       " 'Meta Total',\n",
       " 'Meta Q',\n",
       " 'Valor',\n",
       " 'Valor 2020']"
      ]
     },
     "execution_count": 54,
     "metadata": {},
     "output_type": "execute_result"
    }
   ],
   "source": [
    "list(TFinal)"
   ]
  },
  {
   "cell_type": "code",
   "execution_count": 65,
   "id": "e63e7903",
   "metadata": {},
   "outputs": [],
   "source": [
    "TFinal = TFinal.drop(TFinal[TFinal['Meta Total'] ==  0].index)\n",
    "\n",
    "TFinalEXT = TFinal.drop(TFinal[TFinal['Meta: Tipo meta funcionario'] !=  'EXTERIOR'].index)"
   ]
  },
  {
   "cell_type": "code",
   "execution_count": 71,
   "id": "4877930f",
   "metadata": {},
   "outputs": [],
   "source": [
    "InfoResponsanles = TFinalEXT[['Meta: Tipo meta funcionario', 'E_HUB2019', 'E_Localización' , 'E_Clasificación',\n",
    "                        'Meta: Nombre del propietario' , 'E_Rol' , 'Tipo de Indicador' ]]\n",
    "\n",
    "Responsables=TFinalEXT[['Meta: Nombre del propietario']]\n",
    "Responsables = Responsables.drop_duplicates()\n",
    "Responsables = Responsables.reset_index()\n",
    "Responsables['Meta: Tipo de meta'] = 'VPT Visitantes no residentes (a julio)'\n",
    "\n",
    "Responsables = Responsables.merge(InfoResponsanles, how='left', left_on=['Meta: Nombre del propietario'], \n",
    "                      right_on=['Meta: Nombre del propietario']).fillna(0)\n"
   ]
  },
  {
   "cell_type": "code",
   "execution_count": 70,
   "id": "5e85842d",
   "metadata": {},
   "outputs": [
    {
     "data": {
      "text/html": [
       "<div>\n",
       "<style scoped>\n",
       "    .dataframe tbody tr th:only-of-type {\n",
       "        vertical-align: middle;\n",
       "    }\n",
       "\n",
       "    .dataframe tbody tr th {\n",
       "        vertical-align: top;\n",
       "    }\n",
       "\n",
       "    .dataframe thead th {\n",
       "        text-align: right;\n",
       "    }\n",
       "</style>\n",
       "<table border=\"1\" class=\"dataframe\">\n",
       "  <thead>\n",
       "    <tr style=\"text-align: right;\">\n",
       "      <th></th>\n",
       "      <th>index</th>\n",
       "      <th>Meta: Tipo meta funcionario</th>\n",
       "      <th>E_HUB2019</th>\n",
       "      <th>E_Localización</th>\n",
       "      <th>E_Clasificación</th>\n",
       "      <th>Meta: Nombre del propietario</th>\n",
       "      <th>E_Rol</th>\n",
       "      <th>Tipo de Indicador</th>\n",
       "      <th>Meta: Tipo de meta</th>\n",
       "      <th>Meta Total</th>\n",
       "      <th>Meta Q</th>\n",
       "      <th>Valor</th>\n",
       "      <th>Valor 2020</th>\n",
       "    </tr>\n",
       "  </thead>\n",
       "  <tbody>\n",
       "    <tr>\n",
       "      <th>0</th>\n",
       "      <td>27.0</td>\n",
       "      <td>COLOMBIA</td>\n",
       "      <td>Otros</td>\n",
       "      <td>Barranquilla</td>\n",
       "      <td>Ofireg</td>\n",
       "      <td>Vanessa Botero Botero</td>\n",
       "      <td>Asesor regional</td>\n",
       "      <td>Comercial</td>\n",
       "      <td>Captación de Congresos y Eventos</td>\n",
       "      <td>7.0</td>\n",
       "      <td>7.0</td>\n",
       "      <td>7.0</td>\n",
       "      <td>12.0</td>\n",
       "    </tr>\n",
       "    <tr>\n",
       "      <th>1</th>\n",
       "      <td>28.0</td>\n",
       "      <td>COLOMBIA</td>\n",
       "      <td>Otros</td>\n",
       "      <td>Barranquilla</td>\n",
       "      <td>Ofireg</td>\n",
       "      <td>Vanessa Botero Botero</td>\n",
       "      <td>Asesor regional</td>\n",
       "      <td>Comercial</td>\n",
       "      <td>Monto de gasto de noches</td>\n",
       "      <td>1500000.0</td>\n",
       "      <td>1500000.0</td>\n",
       "      <td>1215856.0</td>\n",
       "      <td>968179.5</td>\n",
       "    </tr>\n",
       "    <tr>\n",
       "      <th>2</th>\n",
       "      <td>29.0</td>\n",
       "      <td>COLOMBIA</td>\n",
       "      <td>Otros</td>\n",
       "      <td>Barranquilla</td>\n",
       "      <td>Ofireg</td>\n",
       "      <td>Vanessa Botero Botero</td>\n",
       "      <td>Asesor regional</td>\n",
       "      <td>Comercial</td>\n",
       "      <td>Monto de gasto paquetes</td>\n",
       "      <td>519368.0</td>\n",
       "      <td>519368.0</td>\n",
       "      <td>279207.0</td>\n",
       "      <td>1038735.0</td>\n",
       "    </tr>\n",
       "    <tr>\n",
       "      <th>3</th>\n",
       "      <td>30.0</td>\n",
       "      <td>COLOMBIA</td>\n",
       "      <td>Otros</td>\n",
       "      <td>Barranquilla</td>\n",
       "      <td>Ofireg</td>\n",
       "      <td>Vanessa Botero Botero</td>\n",
       "      <td>Asesor regional</td>\n",
       "      <td>Gestión</td>\n",
       "      <td>Número asistentes PFE turismo</td>\n",
       "      <td>1400.0</td>\n",
       "      <td>1400.0</td>\n",
       "      <td>0.0</td>\n",
       "      <td>0.0</td>\n",
       "    </tr>\n",
       "    <tr>\n",
       "      <th>4</th>\n",
       "      <td>31.0</td>\n",
       "      <td>COLOMBIA</td>\n",
       "      <td>Otros</td>\n",
       "      <td>Barranquilla</td>\n",
       "      <td>Ofireg</td>\n",
       "      <td>Vanessa Botero Botero</td>\n",
       "      <td>Asesor regional</td>\n",
       "      <td>Gestión</td>\n",
       "      <td>Número de empresas con servicios en turismo</td>\n",
       "      <td>75.0</td>\n",
       "      <td>75.0</td>\n",
       "      <td>59.0</td>\n",
       "      <td>54.0</td>\n",
       "    </tr>\n",
       "    <tr>\n",
       "      <th>...</th>\n",
       "      <td>...</td>\n",
       "      <td>...</td>\n",
       "      <td>...</td>\n",
       "      <td>...</td>\n",
       "      <td>...</td>\n",
       "      <td>...</td>\n",
       "      <td>...</td>\n",
       "      <td>...</td>\n",
       "      <td>...</td>\n",
       "      <td>...</td>\n",
       "      <td>...</td>\n",
       "      <td>...</td>\n",
       "      <td>...</td>\n",
       "    </tr>\n",
       "    <tr>\n",
       "      <th>47</th>\n",
       "      <td>139.0</td>\n",
       "      <td>EXTERIOR</td>\n",
       "      <td>Norteamérica</td>\n",
       "      <td>Estados Unidos</td>\n",
       "      <td>Oficom</td>\n",
       "      <td>Maria Alejandra Benavidez Medina</td>\n",
       "      <td>Asesor Oficom solo vacacional</td>\n",
       "      <td>Gestión</td>\n",
       "      <td>VPT Visitantes no residentes (a julio)</td>\n",
       "      <td>NaN</td>\n",
       "      <td>NaN</td>\n",
       "      <td>NaN</td>\n",
       "      <td>NaN</td>\n",
       "    </tr>\n",
       "    <tr>\n",
       "      <th>48</th>\n",
       "      <td>140.0</td>\n",
       "      <td>EXTERIOR</td>\n",
       "      <td>Norteamérica</td>\n",
       "      <td>Estados Unidos</td>\n",
       "      <td>Oficom</td>\n",
       "      <td>Maria Jose Abuabara Brülhart</td>\n",
       "      <td>Asesor Oficom Completo</td>\n",
       "      <td>Gestión</td>\n",
       "      <td>VPT Visitantes no residentes (a julio)</td>\n",
       "      <td>NaN</td>\n",
       "      <td>NaN</td>\n",
       "      <td>NaN</td>\n",
       "      <td>NaN</td>\n",
       "    </tr>\n",
       "    <tr>\n",
       "      <th>49</th>\n",
       "      <td>141.0</td>\n",
       "      <td>EXTERIOR</td>\n",
       "      <td>Norteamérica</td>\n",
       "      <td>Estados Unidos</td>\n",
       "      <td>Oficom</td>\n",
       "      <td>Mariana Awad Zaher</td>\n",
       "      <td>Asesor Oficom solo Reuniones</td>\n",
       "      <td>Comercial</td>\n",
       "      <td>VPT Visitantes no residentes (a julio)</td>\n",
       "      <td>NaN</td>\n",
       "      <td>NaN</td>\n",
       "      <td>NaN</td>\n",
       "      <td>NaN</td>\n",
       "    </tr>\n",
       "    <tr>\n",
       "      <th>50</th>\n",
       "      <td>141.0</td>\n",
       "      <td>EXTERIOR</td>\n",
       "      <td>Norteamérica</td>\n",
       "      <td>Estados Unidos</td>\n",
       "      <td>Oficom</td>\n",
       "      <td>Mariana Awad Zaher</td>\n",
       "      <td>Asesor Oficom solo Reuniones</td>\n",
       "      <td>Gestión</td>\n",
       "      <td>VPT Visitantes no residentes (a julio)</td>\n",
       "      <td>NaN</td>\n",
       "      <td>NaN</td>\n",
       "      <td>NaN</td>\n",
       "      <td>NaN</td>\n",
       "    </tr>\n",
       "    <tr>\n",
       "      <th>51</th>\n",
       "      <td>143.0</td>\n",
       "      <td>EXTERIOR</td>\n",
       "      <td>Otros</td>\n",
       "      <td>Otros</td>\n",
       "      <td>Oficom</td>\n",
       "      <td>Director Oficom Otros</td>\n",
       "      <td>Director Oficom</td>\n",
       "      <td>Comercial</td>\n",
       "      <td>VPT Visitantes no residentes (a julio)</td>\n",
       "      <td>NaN</td>\n",
       "      <td>NaN</td>\n",
       "      <td>NaN</td>\n",
       "      <td>NaN</td>\n",
       "    </tr>\n",
       "  </tbody>\n",
       "</table>\n",
       "<p>196 rows × 13 columns</p>\n",
       "</div>"
      ],
      "text/plain": [
       "    index Meta: Tipo meta funcionario     E_HUB2019  E_Localización  \\\n",
       "0    27.0                    COLOMBIA         Otros    Barranquilla   \n",
       "1    28.0                    COLOMBIA         Otros    Barranquilla   \n",
       "2    29.0                    COLOMBIA         Otros    Barranquilla   \n",
       "3    30.0                    COLOMBIA         Otros    Barranquilla   \n",
       "4    31.0                    COLOMBIA         Otros    Barranquilla   \n",
       "..    ...                         ...           ...             ...   \n",
       "47  139.0                    EXTERIOR  Norteamérica  Estados Unidos   \n",
       "48  140.0                    EXTERIOR  Norteamérica  Estados Unidos   \n",
       "49  141.0                    EXTERIOR  Norteamérica  Estados Unidos   \n",
       "50  141.0                    EXTERIOR  Norteamérica  Estados Unidos   \n",
       "51  143.0                    EXTERIOR         Otros           Otros   \n",
       "\n",
       "   E_Clasificación      Meta: Nombre del propietario  \\\n",
       "0           Ofireg             Vanessa Botero Botero   \n",
       "1           Ofireg             Vanessa Botero Botero   \n",
       "2           Ofireg             Vanessa Botero Botero   \n",
       "3           Ofireg             Vanessa Botero Botero   \n",
       "4           Ofireg             Vanessa Botero Botero   \n",
       "..             ...                               ...   \n",
       "47          Oficom  Maria Alejandra Benavidez Medina   \n",
       "48          Oficom      Maria Jose Abuabara Brülhart   \n",
       "49          Oficom                Mariana Awad Zaher   \n",
       "50          Oficom                Mariana Awad Zaher   \n",
       "51          Oficom             Director Oficom Otros   \n",
       "\n",
       "                            E_Rol Tipo de Indicador  \\\n",
       "0                 Asesor regional         Comercial   \n",
       "1                 Asesor regional         Comercial   \n",
       "2                 Asesor regional         Comercial   \n",
       "3                 Asesor regional           Gestión   \n",
       "4                 Asesor regional           Gestión   \n",
       "..                            ...               ...   \n",
       "47  Asesor Oficom solo vacacional           Gestión   \n",
       "48         Asesor Oficom Completo           Gestión   \n",
       "49   Asesor Oficom solo Reuniones         Comercial   \n",
       "50   Asesor Oficom solo Reuniones           Gestión   \n",
       "51                Director Oficom         Comercial   \n",
       "\n",
       "                             Meta: Tipo de meta  Meta Total     Meta Q  \\\n",
       "0              Captación de Congresos y Eventos         7.0        7.0   \n",
       "1                      Monto de gasto de noches   1500000.0  1500000.0   \n",
       "2                       Monto de gasto paquetes    519368.0   519368.0   \n",
       "3                 Número asistentes PFE turismo      1400.0     1400.0   \n",
       "4   Número de empresas con servicios en turismo        75.0       75.0   \n",
       "..                                          ...         ...        ...   \n",
       "47       VPT Visitantes no residentes (a julio)         NaN        NaN   \n",
       "48       VPT Visitantes no residentes (a julio)         NaN        NaN   \n",
       "49       VPT Visitantes no residentes (a julio)         NaN        NaN   \n",
       "50       VPT Visitantes no residentes (a julio)         NaN        NaN   \n",
       "51       VPT Visitantes no residentes (a julio)         NaN        NaN   \n",
       "\n",
       "        Valor  Valor 2020  \n",
       "0         7.0        12.0  \n",
       "1   1215856.0    968179.5  \n",
       "2    279207.0   1038735.0  \n",
       "3         0.0         0.0  \n",
       "4        59.0        54.0  \n",
       "..        ...         ...  \n",
       "47        NaN         NaN  \n",
       "48        NaN         NaN  \n",
       "49        NaN         NaN  \n",
       "50        NaN         NaN  \n",
       "51        NaN         NaN  \n",
       "\n",
       "[196 rows x 13 columns]"
      ]
     },
     "execution_count": 70,
     "metadata": {},
     "output_type": "execute_result"
    }
   ],
   "source": [
    "TFinal = TFinal.append(Responsables)\n",
    "TFinal"
   ]
  },
  {
   "cell_type": "markdown",
   "id": "b20169c7",
   "metadata": {},
   "source": [
    "### Proyecto de gestión (Pendiente)"
   ]
  },
  {
   "cell_type": "markdown",
   "id": "14d1c913",
   "metadata": {},
   "source": [
    "## Pendiente:\n",
    "\n",
    "- Número asistentes PFE turismo\n",
    "- Número de empresas PyA con plan de trabajo vigente\n",
    "- Número de empresas PyA con primer acercamiento comercial\n",
    "- Proyecto de gestión\n"
   ]
  },
  {
   "cell_type": "code",
   "execution_count": 64,
   "id": "4ae032ce",
   "metadata": {},
   "outputs": [
    {
     "data": {
      "text/html": [
       "<a href='Turismo.xlsx' target='_blank'>Turismo.xlsx</a><br>"
      ],
      "text/plain": [
       "C:\\Users\\user\\Documents\\Codigos Python\\Tablero Como Vamos\\Turismo.xlsx"
      ]
     },
     "execution_count": 64,
     "metadata": {},
     "output_type": "execute_result"
    }
   ],
   "source": [
    "writer = pd.ExcelWriter('Turismo.xlsx')\n",
    "TFinal.to_excel(writer)\n",
    "writer.save()\n",
    "from IPython.display import FileLink\n",
    "FileLink('Turismo.xlsx')"
   ]
  },
  {
   "cell_type": "markdown",
   "id": "26726588",
   "metadata": {},
   "source": [
    "#### Pendiente por revisar con Sandra"
   ]
  },
  {
   "cell_type": "code",
   "execution_count": 73,
   "id": "c4d185c2",
   "metadata": {},
   "outputs": [],
   "source": [
    "#TFinal[TFinal['Meta: Tipo de meta'] == 'Número de empresas PyA con primer acercamiento comercial']\n"
   ]
  },
  {
   "cell_type": "code",
   "execution_count": null,
   "id": "748569ee",
   "metadata": {},
   "outputs": [],
   "source": []
  }
 ],
 "metadata": {
  "kernelspec": {
   "display_name": "Python 3",
   "language": "python",
   "name": "python3"
  },
  "language_info": {
   "codemirror_mode": {
    "name": "ipython",
    "version": 3
   },
   "file_extension": ".py",
   "mimetype": "text/x-python",
   "name": "python",
   "nbconvert_exporter": "python",
   "pygments_lexer": "ipython3",
   "version": "3.8.8"
  }
 },
 "nbformat": 4,
 "nbformat_minor": 5
}

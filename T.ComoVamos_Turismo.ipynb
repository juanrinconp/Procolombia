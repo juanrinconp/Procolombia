{
 "cells": [
  {
   "cell_type": "markdown",
   "id": "aac879d5",
   "metadata": {},
   "source": [
    "# Tablero Como vamos\n",
    "## Vicepresidencia de Planeación - Turismo"
   ]
  },
  {
   "cell_type": "code",
   "execution_count": 1,
   "id": "ef33cf0f",
   "metadata": {},
   "outputs": [],
   "source": [
    "import pandas as pd \n",
    "import numpy as np \n",
    "import matplotlib.pyplot as plt \n",
    "import matplotlib as mpl \n",
    "import six\n",
    "import os \n",
    "\n",
    "pathout = './data/'\n",
    "if not os.path.exists(pathout):\n",
    "    os.mkdir(pathout) \n",
    "    pathgraphs = './graphs/'\n",
    "    if not os.path.exists(pathgraphs): \n",
    "        os.mkdir(pathgraphs)"
   ]
  },
  {
   "cell_type": "code",
   "execution_count": 2,
   "id": "7d4025a8",
   "metadata": {},
   "outputs": [],
   "source": [
    "Metas = pd.read_excel(pathout + 'Metas.xlsx')"
   ]
  },
  {
   "cell_type": "code",
   "execution_count": 3,
   "id": "a8b48f0c",
   "metadata": {},
   "outputs": [],
   "source": [
    "Negocios = pd.read_excel(pathout + 'Negocios.xlsx')"
   ]
  },
  {
   "cell_type": "code",
   "execution_count": 4,
   "id": "82605f22",
   "metadata": {},
   "outputs": [],
   "source": [
    "Oportunidades = pd.read_excel(pathout + 'Oportunidades.xlsx')"
   ]
  },
  {
   "cell_type": "code",
   "execution_count": 5,
   "id": "ccc69bb0",
   "metadata": {},
   "outputs": [],
   "source": [
    "ENacionales = pd.read_excel(pathout + 'Empresas_nacionales.xlsx')"
   ]
  },
  {
   "cell_type": "code",
   "execution_count": 177,
   "id": "35c00785",
   "metadata": {},
   "outputs": [],
   "source": [
    "Frecuencias = pd.read_excel(pathout + 'Frecuencias.xlsx')"
   ]
  },
  {
   "cell_type": "code",
   "execution_count": 236,
   "id": "5c09e782",
   "metadata": {},
   "outputs": [],
   "source": [
    "ProyectoseHitos = pd.read_excel(pathout + 'ProyectoseHitos.xlsx')"
   ]
  },
  {
   "cell_type": "code",
   "execution_count": 237,
   "id": "8ffabcca",
   "metadata": {
    "scrolled": true
   },
   "outputs": [],
   "source": [
    "#ProyectoseHitos = pd.read_csv(pathout + 'ProyectoseHitos.csv' , delimiter = ';' ,  encoding = 'iso-8859-1')"
   ]
  },
  {
   "cell_type": "code",
   "execution_count": 238,
   "id": "bb491fe9",
   "metadata": {},
   "outputs": [],
   "source": [
    "AsistentesPFE1 =  pd.read_excel(pathout + 'asistentesPFE.xlsx')"
   ]
  },
  {
   "cell_type": "code",
   "execution_count": 239,
   "id": "08bba8c7",
   "metadata": {},
   "outputs": [],
   "source": [
    "AsistentesPFE2020 =  pd.read_excel(pathout + 'PFE_2020.xlsx')"
   ]
  },
  {
   "cell_type": "code",
   "execution_count": 240,
   "id": "0af8a3d8",
   "metadata": {},
   "outputs": [],
   "source": [
    "SillasyFrecuencias2020 =  pd.read_excel(pathout + 'SillasyFrecuencias2020.xlsx')"
   ]
  },
  {
   "cell_type": "code",
   "execution_count": 241,
   "id": "ded1abc3",
   "metadata": {},
   "outputs": [],
   "source": [
    "añoactual = 2021\n",
    "añoanterior = 2020\n",
    "trimestre = 4\n",
    "\n",
    "#Fecha en Formato aaaa/mm/dd para la base de Tableau 12a\n",
    "negociosañoactual = '2021-01-01'\n",
    "fechaactual  = '2021-11-01'\n",
    "fechaactual2  = '1/01/2021'\n",
    "fechaanterior2 = '1/01/2020'\n",
    "eneroañoanterior = '2020-01-01'\n",
    "fechaactual_añoanterior = '2020-11-01'\n",
    "diciembreañoanterior = '2020-12-31'"
   ]
  },
  {
   "cell_type": "code",
   "execution_count": 242,
   "id": "826f48e6",
   "metadata": {},
   "outputs": [],
   "source": [
    "MetasT =  Metas.drop(Metas[Metas['Meta: Eje'] != 'Turismo'].index)\n",
    "MetasT = MetasT.drop(MetasT[MetasT['Meta: Año'] !=  añoactual].index)\n",
    "MetasTQ = MetasT.drop(MetasT[MetasT['Meta: Período'] > trimestre].index)\n",
    "\n",
    "MetasT_Anterior =  Metas.drop(Metas[Metas['Meta: Eje'] != 'Turismo'].index)\n",
    "MetasT_Anterior = MetasT_Anterior.drop(MetasT_Anterior[MetasT_Anterior['Meta: Año'] !=  añoanterior].index)\n",
    "MetasTQ_Anterior = MetasT_Anterior.drop(MetasT_Anterior[MetasT_Anterior['Meta: Período'] > trimestre].index)\n"
   ]
  },
  {
   "cell_type": "code",
   "execution_count": 243,
   "id": "8861bb6a",
   "metadata": {},
   "outputs": [],
   "source": [
    "NegociosT = Negocios.drop(Negocios[Negocios['Logro: Eje'] != 'Turismo'].index)\n",
    "NegociosT = NegociosT.drop(NegociosT[NegociosT['Meta 1 responsable Colombia: Año'] !=  añoactual].index)\n",
    "\n",
    "NegociosTA = Negocios.drop(Negocios[Negocios['Logro: Eje'] != 'Turismo'].index)\n",
    "NegociosTA = NegociosTA.drop(NegociosTA[NegociosTA['Meta 1 responsable Colombia: Año'] !=  añoanterior].index)\n"
   ]
  },
  {
   "cell_type": "markdown",
   "id": "e59a4da8",
   "metadata": {},
   "source": [
    "### Metas y Metas Q"
   ]
  },
  {
   "cell_type": "markdown",
   "id": "71657569",
   "metadata": {},
   "source": [
    "#### 2021"
   ]
  },
  {
   "cell_type": "code",
   "execution_count": 244,
   "id": "7f52eb06",
   "metadata": {},
   "outputs": [],
   "source": [
    "MetasT = MetasT.groupby(['Meta: Tipo meta funcionario' , 'E_HUB2019' , \n",
    "                   'E_Localización' , 'E_Clasificación' , \n",
    "                   'Meta: Nombre del propietario' , 'E_Rol',\n",
    "                  'Tipo de Indicador' , 'Meta: Tipo de meta'])['Meta: Valor meta'].sum().reset_index()\n",
    "\n",
    "MetasTQ = MetasTQ.groupby(['Meta: Tipo meta funcionario' , 'E_HUB2019' , \n",
    "                   'E_Localización' , 'E_Clasificación' , \n",
    "                   'Meta: Nombre del propietario' , 'E_Rol',\n",
    "                  'Tipo de Indicador' , 'Meta: Tipo de meta'])['Meta: Valor meta'].sum().reset_index()"
   ]
  },
  {
   "cell_type": "code",
   "execution_count": 245,
   "id": "09cc238a",
   "metadata": {},
   "outputs": [],
   "source": [
    "\n",
    "TFinal = MetasT.merge(MetasTQ, how='outer', left_on=['Meta: Tipo meta funcionario' , 'E_HUB2019' , \n",
    "                   'E_Localización' , 'E_Clasificación' , \n",
    "                   'Meta: Nombre del propietario' , 'E_Rol',\n",
    "                  'Tipo de Indicador' , 'Meta: Tipo de meta'], right_on=['Meta: Tipo meta funcionario' , 'E_HUB2019' , \n",
    "                   'E_Localización' , 'E_Clasificación' , \n",
    "                   'Meta: Nombre del propietario' , 'E_Rol',\n",
    "                  'Tipo de Indicador' , 'Meta: Tipo de meta']).fillna(0)\n",
    "\n",
    "TFinal.rename(columns={'Meta: Valor meta_x': 'Meta Total' , 'Meta: Valor meta_y': 'Meta Q'}, inplace=True)\n",
    "\n",
    "\n"
   ]
  },
  {
   "cell_type": "markdown",
   "id": "1ea63de3",
   "metadata": {},
   "source": [
    "### Captación de Congresos y Eventos"
   ]
  },
  {
   "cell_type": "markdown",
   "id": "1757c760",
   "metadata": {},
   "source": [
    "#### 2021"
   ]
  },
  {
   "cell_type": "code",
   "execution_count": 246,
   "id": "6697e0d1",
   "metadata": {},
   "outputs": [],
   "source": [
    "Negocios_Captacion_2021 = NegociosT.drop(NegociosT[NegociosT['Logro: Tipo de registro'] !=  'Captación de Eventos'].index)\n",
    "\n",
    "Negocios_Captacion_Col_2021 = Negocios_Captacion_2021.groupby(['Logro: Responsable Colombia' , 'Logro: Tipo de registro' \n",
    "                                                          ])['Logro: Valor'].sum().reset_index()\n",
    "\n",
    "Negocios_Captacion_Ext_2021 = Negocios_Captacion_2021.groupby(['Logro: Responsable en el Exterior 1' , 'Logro: Tipo de registro' \n",
    "                                                          ])['Logro: Valor'].sum().reset_index()\n",
    "\n",
    "\n",
    "Negocios_Captacion_Col_2021.rename(columns={'Logro: Responsable Colombia': 'Meta: Nombre del propietario'}, inplace=True)\n",
    "Negocios_Captacion_Ext_2021.rename(columns={'Logro: Responsable en el Exterior 1': 'Meta: Nombre del propietario'}, inplace=True)\n",
    "\n",
    "Negocios_Captacion_2021 = Negocios_Captacion_Col_2021.append(Negocios_Captacion_Ext_2021)\n",
    "Negocios_Captacion_2021.rename(columns={'Logro: Tipo de registro': 'Meta: Tipo de meta'}, inplace=True)\n",
    "\n",
    "#Falta captacion de Congresos\n",
    "\n",
    "Negocios_CaptacionCyE_2021 = Negocios_Captacion_2021\n",
    "\n",
    "Negocios_CaptacionCyE_2021 = (Negocios_CaptacionCyE_2021.replace('Captación de Eventos', 'Captación de Congresos y Eventos'))"
   ]
  },
  {
   "cell_type": "code",
   "execution_count": 247,
   "id": "50c08133",
   "metadata": {},
   "outputs": [],
   "source": [
    "TFinal = TFinal.merge(Negocios_CaptacionCyE_2021, how='outer', left_on=['Meta: Nombre del propietario' , 'Meta: Tipo de meta'], \n",
    "                      right_on=['Meta: Nombre del propietario' , 'Meta: Tipo de meta']).fillna(0)"
   ]
  },
  {
   "cell_type": "markdown",
   "id": "c7fcdd67",
   "metadata": {},
   "source": [
    "#### 2020"
   ]
  },
  {
   "cell_type": "code",
   "execution_count": 248,
   "id": "8438390a",
   "metadata": {},
   "outputs": [],
   "source": [
    "Negocios_Captacion_2020 = NegociosTA.drop(NegociosTA[NegociosTA['Logro: Tipo de registro'] !=  'Captación de Eventos'].index)\n",
    "\n",
    "Negocios_Captacion_Col_2020 = Negocios_Captacion_2020.groupby(['Logro: Responsable Colombia' , 'Logro: Tipo de registro' \n",
    "                                                          ])['Logro: Valor'].sum().reset_index()\n",
    "\n",
    "Negocios_Captacion_Ext_2020 = Negocios_Captacion_2020.groupby(['Logro: Responsable en el Exterior 1' , 'Logro: Tipo de registro' \n",
    "                                                          ])['Logro: Valor'].sum().reset_index()\n",
    "\n",
    "\n",
    "Negocios_Captacion_Col_2020.rename(columns={'Logro: Responsable Colombia': 'Meta: Nombre del propietario'}, inplace=True)\n",
    "Negocios_Captacion_Ext_2020.rename(columns={'Logro: Responsable en el Exterior 1': 'Meta: Nombre del propietario'}, inplace=True)\n",
    "\n",
    "Negocios_Captacion_2020 = Negocios_Captacion_Col_2020.append(Negocios_Captacion_Ext_2020)\n",
    "Negocios_Captacion_2020.rename(columns={'Logro: Tipo de registro': 'Meta: Tipo de meta'}, inplace=True)\n",
    "\n",
    "#Falta captacion de Congresos\n",
    "\n",
    "Negocios_CaptacionCyE_2020 = Negocios_Captacion_2020\n",
    "\n",
    "Negocios_CaptacionCyE_2020 = (Negocios_CaptacionCyE_2020.replace('Captación de Eventos', 'Captación de Congresos y Eventos'))\n",
    "Negocios_CaptacionCyE_2020.rename(columns={'Logro: Valor': 'Valor 2020'}, inplace=True)"
   ]
  },
  {
   "cell_type": "code",
   "execution_count": 249,
   "id": "71fdfb44",
   "metadata": {},
   "outputs": [],
   "source": [
    "TFinal = TFinal.merge(Negocios_CaptacionCyE_2020, how='outer', left_on=['Meta: Nombre del propietario' , 'Meta: Tipo de meta'], \n",
    "                      right_on=['Meta: Nombre del propietario' , 'Meta: Tipo de meta']).fillna(0)"
   ]
  },
  {
   "cell_type": "markdown",
   "id": "93c5aa2e",
   "metadata": {},
   "source": [
    "### Oportunidades en Etapa 0 y 1"
   ]
  },
  {
   "cell_type": "markdown",
   "id": "e9228330",
   "metadata": {},
   "source": [
    "#### 2021"
   ]
  },
  {
   "cell_type": "code",
   "execution_count": 250,
   "id": "d823b13f",
   "metadata": {},
   "outputs": [],
   "source": [
    "OportT = Oportunidades.drop(Oportunidades[Oportunidades['E_Año'] != añoactual].index)\n",
    "OportT = OportT.drop(OportT[OportT['Oportunidad: Tipo de registro'] != 'Conectividad aérea'].index)\n",
    "OportT_0y1 = OportT.drop(OportT[OportT['Oportunidad: Etapa'] == 5].index)\n",
    "OportT_0y1 = OportT_0y1.drop(OportT_0y1[OportT_0y1['Oportunidad: Etapa'] == 2].index)\n",
    "OportT_0y1 = OportT_0y1.drop(OportT_0y1[OportT_0y1['Oportunidad: Etapa'] == 3].index)\n",
    "OportT_0y1 = OportT_0y1.drop(OportT_0y1[OportT_0y1['Oportunidad: Etapa'] == 4].index)\n",
    "OportT_0y1Nacio = OportT_0y1.groupby(['Oportunidad: Responsable en Colombia'])['Oportunidad: Consecutivo'].count().reset_index()\n",
    "OportT_0y1Ext = OportT_0y1.groupby(['Oportunidad: Responsable en el exterior 1'])['Oportunidad: Consecutivo'].count().reset_index()\n",
    "\n",
    "\n",
    "OportT_0y1Nacio.rename(columns={'Oportunidad: Consecutivo': 'Logro: Valor' , \n",
    "                       'Oportunidad: Responsable en Colombia': 'Meta: Nombre del propietario'}, inplace=True)\n",
    "OportT_0y1Ext.rename(columns={'Oportunidad: Consecutivo': 'Logro: Valor' , \n",
    "                       'Oportunidad: Responsable en el exterior 1': 'Meta: Nombre del propietario'}, inplace=True)\n",
    "OportT_0y1 = OportT_0y1Nacio.append(OportT_0y1Ext, ignore_index=True)\n",
    "\n",
    "OportT_0y1['Meta: Tipo de meta'] = 'Número de oportunidades en etapa 0 y 1'\n",
    "\n"
   ]
  },
  {
   "cell_type": "code",
   "execution_count": 251,
   "id": "22295be3",
   "metadata": {},
   "outputs": [],
   "source": [
    "TFinal = TFinal.merge(OportT_0y1, how='outer', left_on=['Meta: Nombre del propietario' , 'Meta: Tipo de meta'], \n",
    "                      right_on=['Meta: Nombre del propietario' , 'Meta: Tipo de meta']).fillna(0)"
   ]
  },
  {
   "cell_type": "code",
   "execution_count": 252,
   "id": "0a4e7b80",
   "metadata": {},
   "outputs": [],
   "source": [
    "TFinal['Valor'] = TFinal['Logro: Valor_x'] + TFinal['Logro: Valor_y']\n",
    "TFinal = TFinal.drop(columns=['Logro: Valor_x', 'Logro: Valor_y'])\n"
   ]
  },
  {
   "cell_type": "markdown",
   "id": "7eddfe5e",
   "metadata": {},
   "source": [
    "### Oportunidades en Etapa 2 y 3"
   ]
  },
  {
   "cell_type": "markdown",
   "id": "a6fe4cfe",
   "metadata": {},
   "source": [
    "#### 2021"
   ]
  },
  {
   "cell_type": "code",
   "execution_count": 253,
   "id": "fd979e8d",
   "metadata": {},
   "outputs": [],
   "source": [
    "OportT = Oportunidades.drop(Oportunidades[Oportunidades['E_Año'] != añoactual].index)\n",
    "OportT = OportT.drop(OportT[OportT['Oportunidad: Tipo de registro'] != 'Conectividad aérea'].index)\n",
    "OportT_2y3 = OportT.drop(OportT[OportT['Oportunidad: Etapa'] == 5].index)\n",
    "OportT_2y3 = OportT_2y3.drop(OportT_2y3[OportT_2y3['Oportunidad: Etapa'] == 0].index)\n",
    "OportT_2y3 = OportT_2y3.drop(OportT_2y3[OportT_2y3['Oportunidad: Etapa'] == 1].index)\n",
    "OportT_2y3 = OportT_2y3.drop(OportT_2y3[OportT_2y3['Oportunidad: Etapa'] == 4].index)\n",
    "OportT_2y3Nacio = OportT_2y3.groupby(['Oportunidad: Responsable en Colombia'])['Oportunidad: Consecutivo'].count().reset_index()\n",
    "OportT_2y3Ext = OportT_2y3.groupby(['Oportunidad: Responsable en el exterior 1'])['Oportunidad: Consecutivo'].count().reset_index()\n",
    "\n",
    "\n",
    "OportT_2y3Nacio.rename(columns={'Oportunidad: Consecutivo': 'Logro: Valor' , \n",
    "                       'Oportunidad: Responsable en Colombia': 'Meta: Nombre del propietario'}, inplace=True)\n",
    "OportT_2y3Ext.rename(columns={'Oportunidad: Consecutivo': 'Logro: Valor' , \n",
    "                       'Oportunidad: Responsable en el exterior 1': 'Meta: Nombre del propietario'}, inplace=True)\n",
    "OportT_2y3 = OportT_2y3Nacio.append(OportT_2y3Ext, ignore_index=True)\n",
    "\n",
    "OportT_2y3['Meta: Tipo de meta'] = 'Número de oportunidades en etapa 2 y 3'\n"
   ]
  },
  {
   "cell_type": "code",
   "execution_count": 254,
   "id": "fb92bca4",
   "metadata": {},
   "outputs": [],
   "source": [
    "TFinal = TFinal.merge(OportT_2y3, how='outer', left_on=['Meta: Nombre del propietario' , 'Meta: Tipo de meta'], \n",
    "                      right_on=['Meta: Nombre del propietario' , 'Meta: Tipo de meta']).fillna(0)"
   ]
  },
  {
   "cell_type": "code",
   "execution_count": 255,
   "id": "041fd713",
   "metadata": {},
   "outputs": [],
   "source": [
    "\n",
    "TFinal['Valor'] = TFinal['Valor'] + TFinal['Logro: Valor']\n",
    "TFinal = TFinal.drop(columns=['Logro: Valor'])\n"
   ]
  },
  {
   "cell_type": "markdown",
   "id": "16b4c930",
   "metadata": {},
   "source": [
    "### Monto de Gasto de Noches"
   ]
  },
  {
   "cell_type": "markdown",
   "id": "dbbde994",
   "metadata": {},
   "source": [
    "#### 2021"
   ]
  },
  {
   "cell_type": "code",
   "execution_count": 256,
   "id": "5a735a96",
   "metadata": {},
   "outputs": [],
   "source": [
    "MontoGastoNoches = NegociosT.drop(NegociosT[NegociosT['Logro: Tipo de registro'] !=  'Turismo Noches'].index)\n",
    "\n",
    "MontoGastoNoches = MontoGastoNoches.groupby(['Logro: Responsable Colombia' , 'Logro: Tipo de registro' \n",
    "                                                          ])['Logro: Valor'].sum().reset_index()\n",
    "\n",
    "MontoGastoNoches.rename(columns={'Logro: Responsable Colombia': 'Meta: Nombre del propietario'}, inplace=True)\n",
    "MontoGastoNoches.rename(columns={'Logro: Tipo de registro': 'Meta: Tipo de meta'}, inplace=True)\n",
    "\n",
    "\n",
    "MontoGastoNoches = (MontoGastoNoches.replace('Turismo Noches', 'Monto de gasto de noches'))\n",
    "\n"
   ]
  },
  {
   "cell_type": "code",
   "execution_count": 257,
   "id": "87330830",
   "metadata": {},
   "outputs": [],
   "source": [
    "TFinal = TFinal.merge(MontoGastoNoches, how='outer', left_on=['Meta: Nombre del propietario' , 'Meta: Tipo de meta'], \n",
    "                      right_on=['Meta: Nombre del propietario' , 'Meta: Tipo de meta']).fillna(0)\n",
    "\n",
    "\n",
    "TFinal['Valor'] = TFinal['Valor'] + TFinal['Logro: Valor']\n",
    "TFinal = TFinal.drop(columns=['Logro: Valor'])\n"
   ]
  },
  {
   "cell_type": "markdown",
   "id": "14aff8cf",
   "metadata": {},
   "source": [
    "#### 2020"
   ]
  },
  {
   "cell_type": "code",
   "execution_count": 258,
   "id": "e059cd71",
   "metadata": {},
   "outputs": [],
   "source": [
    "MontoGastoNochesA = NegociosTA.drop(NegociosTA[NegociosTA['Logro: Tipo de registro'] !=  'Turismo Noches'].index)\n",
    "\n",
    "MontoGastoNochesA = MontoGastoNochesA.groupby(['Logro: Responsable Colombia' , 'Logro: Tipo de registro' \n",
    "                                                          ])['Logro: Valor'].sum().reset_index()\n",
    "\n",
    "MontoGastoNochesA.rename(columns={'Logro: Responsable Colombia': 'Meta: Nombre del propietario'}, inplace=True)\n",
    "MontoGastoNochesA.rename(columns={'Logro: Tipo de registro': 'Meta: Tipo de meta'}, inplace=True)\n",
    "\n",
    "\n",
    "MontoGastoNochesA = (MontoGastoNochesA.replace('Turismo Noches', 'Monto de gasto de noches'))"
   ]
  },
  {
   "cell_type": "code",
   "execution_count": 259,
   "id": "fee7b454",
   "metadata": {},
   "outputs": [],
   "source": [
    "TFinal = TFinal.merge(MontoGastoNochesA, how='outer', left_on=['Meta: Nombre del propietario' , 'Meta: Tipo de meta'], \n",
    "                      right_on=['Meta: Nombre del propietario' , 'Meta: Tipo de meta']).fillna(0)\n",
    "\n",
    "\n",
    "TFinal['Valor 2020'] = TFinal['Valor 2020'] + TFinal['Logro: Valor']\n",
    "TFinal = TFinal.drop(columns=['Logro: Valor'])\n"
   ]
  },
  {
   "cell_type": "markdown",
   "id": "d6a11caf",
   "metadata": {},
   "source": [
    "### Monto de Gasto de Paquetes"
   ]
  },
  {
   "cell_type": "markdown",
   "id": "73f9d7f9",
   "metadata": {},
   "source": [
    "#### 2021"
   ]
  },
  {
   "cell_type": "code",
   "execution_count": 260,
   "id": "bf015316",
   "metadata": {},
   "outputs": [],
   "source": [
    "MontoPaquetes = NegociosT.drop(NegociosT[NegociosT['Logro: Tipo de registro'] !=  'Paquetes Turismo'].index)\n",
    "\n",
    "MontoPaquetes = MontoPaquetes.groupby(['Logro: Responsable Colombia' , 'Logro: Tipo de registro' \n",
    "                                                          ])['Logro: Valor'].sum().reset_index()\n",
    "\n",
    "MontoPaquetes.rename(columns={'Logro: Responsable Colombia': 'Meta: Nombre del propietario'}, inplace=True)\n",
    "MontoPaquetes.rename(columns={'Logro: Tipo de registro': 'Meta: Tipo de meta'}, inplace=True)\n",
    "\n",
    "\n",
    "MontoPaquetes = (MontoPaquetes.replace('Paquetes Turismo', 'Monto de gasto paquetes'))"
   ]
  },
  {
   "cell_type": "code",
   "execution_count": 261,
   "id": "b3391ded",
   "metadata": {},
   "outputs": [],
   "source": [
    "TFinal = TFinal.merge(MontoPaquetes, how='outer', left_on=['Meta: Nombre del propietario' , 'Meta: Tipo de meta'], \n",
    "                      right_on=['Meta: Nombre del propietario' , 'Meta: Tipo de meta']).fillna(0)\n",
    "\n",
    "\n",
    "TFinal['Valor'] = TFinal['Valor'] + TFinal['Logro: Valor']\n",
    "TFinal = TFinal.drop(columns=['Logro: Valor'])\n"
   ]
  },
  {
   "cell_type": "markdown",
   "id": "62692244",
   "metadata": {},
   "source": [
    "#### 2020"
   ]
  },
  {
   "cell_type": "code",
   "execution_count": 262,
   "id": "fcc1e2c9",
   "metadata": {},
   "outputs": [],
   "source": [
    "MontoPaquetesA = NegociosTA.drop(NegociosTA[NegociosTA['Logro: Tipo de registro'] !=  'Paquetes Turismo'].index)\n",
    "\n",
    "MontoPaquetesA = MontoPaquetesA.groupby(['Logro: Responsable Colombia' , 'Logro: Tipo de registro' \n",
    "                                                          ])['Logro: Valor'].sum().reset_index()\n",
    "\n",
    "MontoPaquetesA.rename(columns={'Logro: Responsable Colombia': 'Meta: Nombre del propietario'}, inplace=True)\n",
    "MontoPaquetesA.rename(columns={'Logro: Tipo de registro': 'Meta: Tipo de meta'}, inplace=True)\n",
    "\n",
    "\n",
    "MontoPaquetesA = (MontoPaquetesA.replace('Paquetes Turismo', 'Monto de gasto paquetes'))"
   ]
  },
  {
   "cell_type": "code",
   "execution_count": 263,
   "id": "255c9f51",
   "metadata": {},
   "outputs": [],
   "source": [
    "TFinal = TFinal.merge(MontoPaquetesA, how='outer', left_on=['Meta: Nombre del propietario' , 'Meta: Tipo de meta'], \n",
    "                      right_on=['Meta: Nombre del propietario' , 'Meta: Tipo de meta']).fillna(0)\n",
    "\n",
    "\n",
    "TFinal['Valor 2020'] = TFinal['Valor 2020'] + TFinal['Logro: Valor']\n",
    "TFinal = TFinal.drop(columns=['Logro: Valor'])\n"
   ]
  },
  {
   "cell_type": "markdown",
   "id": "99f95591",
   "metadata": {},
   "source": [
    "### Número de empresas con servicios en turismo"
   ]
  },
  {
   "cell_type": "code",
   "execution_count": 264,
   "id": "d7f88e12",
   "metadata": {},
   "outputs": [
    {
     "data": {
      "text/plain": [
       "['Entregado',\n",
       " 'Finalizado',\n",
       " 'Entrega de información preliminar',\n",
       " 'Participó',\n",
       " 'Solicitado',\n",
       " 'NO DEFINIDO',\n",
       " 'Vigente',\n",
       " 'Convocado',\n",
       " 'Cancelado definitivamente',\n",
       " 'En Curso',\n",
       " 'Cancelado con posibilidad de reactivación',\n",
       " 'Aceptado',\n",
       " 'En proceso',\n",
       " 'Carta de compromiso recibida y pago efectivo',\n",
       " 'Inscrita',\n",
       " 'No asistió',\n",
       " 'Solicitud rechazada',\n",
       " 'Seleccionado',\n",
       " 'Preparado para asistir',\n",
       " 'Agenda en construcción',\n",
       " 'Perfil empresa actualizado',\n",
       " 'Misión',\n",
       " 'Aplicación',\n",
       " 'Plan de trabajo',\n",
       " 'Invitación a participar por aceptar',\n",
       " 'Retiro',\n",
       " 'Solicitud aceptada',\n",
       " 'Cancelado',\n",
       " 'Evaluación del evento recibida',\n",
       " 'Realizada',\n",
       " 'Participación Aprobada',\n",
       " '¿Participó en la capacitación?',\n",
       " 'Agenda Solicitada',\n",
       " 'Agenda Confirmada',\n",
       " 'Seguimiento',\n",
       " 'Interesado en participar',\n",
       " 'Canceló participación',\n",
       " 'Postergado con fecha',\n",
       " 'Postergado sin fecha',\n",
       " 'Programada',\n",
       " 'Aprobación',\n",
       " 'Validación de compradores por oficina Comercial',\n",
       " 'Inscrito',\n",
       " 'Rechazado',\n",
       " 'Participación Rechazada',\n",
       " 'Vinculado',\n",
       " 'En seguimiento',\n",
       " 'Renovación',\n",
       " 'Confirmado',\n",
       " 'Envió preagenda',\n",
       " 'Certificado',\n",
       " 'Agenda habilitada',\n",
       " 'Sensibilización',\n",
       " 'Realizó evaluación del evento',\n",
       " 'Interesado en tener citas',\n",
       " 'Aplazada',\n",
       " 'Sin definir estado del evento',\n",
       " 'En validación',\n",
       " 'Estudio de mercado a la medida',\n",
       " 'Identificación potencial',\n",
       " 'Carta de Intención',\n",
       " 'Visitado',\n",
       " 'Pendiente de firma',\n",
       " 'Agenda de expansión',\n",
       " 'Validada',\n",
       " 'Inactivo',\n",
       " 'Participación en la capacitación previa al evento',\n",
       " 'Ubicacion establecida dentro del stand',\n",
       " 'Pago participación evento',\n",
       " 'Preagenda validada',\n",
       " 'Evaluación',\n",
       " 'Interés',\n",
       " 'Finalizada',\n",
       " 'Solicitada',\n",
       " 'No iniciada',\n",
       " 'Completed',\n",
       " 'En Ejecucion',\n",
       " nan,\n",
       " 'Presentación Inicial']"
      ]
     },
     "execution_count": 264,
     "metadata": {},
     "output_type": "execute_result"
    }
   ],
   "source": [
    "list(dict.fromkeys(ENacionales['Estado']))\n"
   ]
  },
  {
   "cell_type": "code",
   "execution_count": 265,
   "id": "e09b3fd3",
   "metadata": {},
   "outputs": [],
   "source": [
    "#ENacionales2 = ENacionales.drop(ENacionales[ENacionales['Año de Fecha creación'] != añoactual].index)\n",
    "ENacionales2 = ENacionales.drop(ENacionales[ENacionales['Eje'] !=  'Turismo'].index)\n",
    "\n",
    "\n",
    "ENacionales2 = ENacionales2.drop(ENacionales2[(ENacionales2['Tipo registro'] !=  'MISIONES') & \n",
    "                                    (ENacionales2['Tipo registro'] !=  'AGENDA COMERCIAL DE TURISMO') & \n",
    "                                   (ENacionales2['Tipo registro'] !=  'BUSQUEDA Y APERTURA DE OPORTUNIDADES') & \n",
    "                                    (ENacionales2['Tipo registro'] !=  'CONTACTO COMPRADOR EN FERIA') & \n",
    "                                              (ENacionales2['Tipo registro'] !=  'ENTREGA INFORMACION VALOR AGREGADO') & \n",
    "                                              (ENacionales2['Tipo registro'] !=  'EVENTOS ACADÉMICOS') & \n",
    "                                              (ENacionales2['Tipo registro'] !=  'EVENTOS ORGANIZACIONALES') & \n",
    "                                              (ENacionales2['Tipo registro'] !=  'FAM - PRESS TRIPS') & \n",
    "                                              (ENacionales2['Tipo registro'] !=  'FERIA INTERNACIONAL DE TURISMO') & \n",
    "                                              (ENacionales2['Tipo registro'] !=  'MACRORRUEDAS Y ENCUENTROS COMERCIALES') & \n",
    "                                              (ENacionales2['Tipo registro'] !=  'PRESENTACIÓN DE DESTINO') &    \n",
    "                                              (ENacionales2['Tipo registro'] !=  'PRIMERA VISITA')].index)\n",
    "\n",
    "\n",
    "\n",
    "\n",
    "ENacionales2 = ENacionales2.drop(ENacionales2[(ENacionales2['Estado'] !=  'Realizada') & \n",
    "                                     (ENacionales2['Estado'] !=  'Entregado') & \n",
    "                                     (ENacionales2['Estado'] !=  'Finalizado') & \n",
    "                                     (ENacionales2['Estado'] !=  'Participó') &\n",
    "                                     (ENacionales2['Estado'] !=  'Agenda en construcción') & \n",
    "                                     (ENacionales2['Estado'] !=  'Interesado en tener citas') &\n",
    "                                     (ENacionales2['Estado'] !=  'Interesado en participar') &\n",
    "                                     (ENacionales2['Estado'] !=  'Rechazado') &\n",
    "                                     (ENacionales2['Estado'] !=  'En Curso') &\n",
    "                                     (ENacionales2['Estado'] !=  'En proceso') &\n",
    "                                     (ENacionales2['Estado'] !=  'Seleccionado') &\n",
    "                                     (ENacionales2['Estado'] !=  'Carta de compromiso recibida y pago efectivo') &\n",
    "                                     (ENacionales2['Estado'] !=  'Inscrito') &\n",
    "                                     (ENacionales2['Estado'] !=  'Participación Rechazada') &\n",
    "                                     (ENacionales2['Estado'] !=  'Participación Aprobada') &\n",
    "                                     (ENacionales2['Estado'] !=  'Evaluación del evento recibida')].index)\n",
    "\n",
    "\n",
    "ENacionales2['Empresa'] = ENacionales2['Empresa'].str.lower()\n",
    "\n",
    "ENacionales3 = ENacionales2.drop(ENacionales2[ENacionales2['Fecha'] < eneroañoanterior].index)\n",
    "ENacionales3 = ENacionales3.drop(ENacionales3[ENacionales3['Fecha'] > fechaactual_añoanterior].index)\n",
    "\n",
    "Enacionales4 = ENacionales2.drop(ENacionales2[ENacionales2['Año de Fecha creación'] != añoanterior].index)\n",
    "\n",
    "ENacionales2 = ENacionales2.drop(ENacionales2[ENacionales2['Fecha'] < negociosañoactual].index)\n",
    "ENacionales2 = ENacionales2.drop(ENacionales2[ENacionales2['Fecha'] > fechaactual].index)\n",
    "\n",
    "ENacionales_Nacional = ENacionales2.drop(ENacionales2[ENacionales2['Tipo empresa'] !=  'Nacional'].index)\n",
    "ENacionales_Exterior = ENacionales2.drop(ENacionales2[ENacionales2['Tipo empresa'] !=  'Exterior'].index)\n",
    "\n",
    "ENacionales_NacionalA = ENacionales3.drop(ENacionales3[ENacionales3['Tipo empresa'] !=  'Nacional'].index)\n",
    "ENacionales_ExteriorA = ENacionales3.drop(ENacionales3[ENacionales3['Tipo empresa'] !=  'Exterior'].index)\n",
    "\n"
   ]
  },
  {
   "cell_type": "markdown",
   "id": "fcd7afdc",
   "metadata": {},
   "source": [
    "#### 2021"
   ]
  },
  {
   "cell_type": "code",
   "execution_count": 266,
   "id": "d12ff092",
   "metadata": {},
   "outputs": [],
   "source": [
    "ENTuris_Nal = ENacionales_Nacional.groupby(['Responsable nacional'])['Id empresa'].nunique().reset_index()\n",
    "ENTuris_Ext = ENacionales_Exterior.groupby(['Responsable exterior'])['Id empresa'].nunique().reset_index()\n",
    "\n",
    "ENTuris_Nal.rename(columns={'Responsable nacional': 'Meta: Nombre del propietario'}, inplace=True)\n",
    "ENTuris_Ext.rename(columns={'Responsable exterior': 'Meta: Nombre del propietario'}, inplace=True)\n",
    "\n",
    "ENTuris = ENTuris_Nal.append(ENTuris_Ext)\n",
    "ENTuris['Meta: Tipo de meta'] = 'Número de empresas con servicios en turismo'"
   ]
  },
  {
   "cell_type": "code",
   "execution_count": 267,
   "id": "7c7b3e68",
   "metadata": {},
   "outputs": [],
   "source": [
    "TFinal = TFinal.merge(ENTuris, how='left', left_on=['Meta: Nombre del propietario' , 'Meta: Tipo de meta'], \n",
    "                      right_on=['Meta: Nombre del propietario' , 'Meta: Tipo de meta']).fillna(0)\n",
    "\n",
    "\n",
    "TFinal['Valor'] = TFinal['Valor'] + TFinal['Id empresa']\n",
    "TFinal = TFinal.drop(columns=['Id empresa'])\n"
   ]
  },
  {
   "cell_type": "markdown",
   "id": "c6afeaad",
   "metadata": {},
   "source": [
    "#### 2020"
   ]
  },
  {
   "cell_type": "code",
   "execution_count": 268,
   "id": "b0e18242",
   "metadata": {},
   "outputs": [],
   "source": [
    "ENTuris_NalA = ENacionales_NacionalA.groupby(['Responsable nacional'])['Empresa'].nunique().reset_index()\n",
    "ENTuris_ExtA = ENacionales_ExteriorA.groupby(['Responsable exterior'])['Empresa'].nunique().reset_index()\n",
    "\n",
    "ENTuris_NalA.rename(columns={'Responsable nacional': 'Meta: Nombre del propietario'}, inplace=True)\n",
    "ENTuris_ExtA.rename(columns={'Responsable exterior': 'Meta: Nombre del propietario'}, inplace=True)\n",
    "\n",
    "ENTurisA = ENTuris_NalA.append(ENTuris_ExtA)\n",
    "ENTurisA['Meta: Tipo de meta'] = 'Número de empresas con servicios en turismo'\n"
   ]
  },
  {
   "cell_type": "code",
   "execution_count": 269,
   "id": "8831c9c7",
   "metadata": {},
   "outputs": [],
   "source": [
    "TFinal = TFinal.merge(ENTurisA, how='left', left_on=['Meta: Nombre del propietario' , 'Meta: Tipo de meta'], \n",
    "                      right_on=['Meta: Nombre del propietario' , 'Meta: Tipo de meta']).fillna(0)\n",
    "\n",
    "\n",
    "TFinal['Valor 2020'] = TFinal['Valor 2020'] + TFinal['Empresa']\n",
    "TFinal = TFinal.drop(columns=['Empresa'])\n"
   ]
  },
  {
   "cell_type": "markdown",
   "id": "63885e8d",
   "metadata": {},
   "source": [
    "##### Eliminando los que tienen resultados pero no metas --> how ='left'"
   ]
  },
  {
   "cell_type": "markdown",
   "id": "9ea16308",
   "metadata": {},
   "source": [
    "### Número de empresas PyA con primer acercamiento comercial "
   ]
  },
  {
   "cell_type": "code",
   "execution_count": 270,
   "id": "71b46151",
   "metadata": {},
   "outputs": [],
   "source": [
    "Enacionales2020 = Enacionales4.drop(Enacionales4[Enacionales4['Tipo empresa'] !=  'Nacional'].index)\n",
    "Enacionales2020 = Enacionales2020.drop(Enacionales2020[Enacionales2020['Tipo registro'] !=  'MACRORRUEDAS Y ENCUENTROS COMERCIALES'].index)\n",
    "Enacionales2020 = Enacionales2020[['Responsable nacional','Empresa']]\n",
    "#Enacionales2020 = Enacionales2020.drop_duplicates()\n",
    "Enacionales2020['Acercamiento en 2020'] = 1\n",
    "\n",
    "#EmpresasAcercamiento = Enacionales4.groupby(['Responsable nacional' , 'Empresa'])['Pais cuenta Principal'].count().reset_index()\n",
    "\n",
    "Enacionales2021 = ENacionales2.drop(ENacionales2[ENacionales2['Tipo empresa'] !=  'Nacional'].index)\n",
    "Enacionales2021 = Enacionales2021.drop(Enacionales2021[Enacionales2021['Tipo registro'] !=  'MACRORRUEDAS Y ENCUENTROS COMERCIALES'].index)\n",
    "Enacionales2021 = Enacionales2021[['Responsable nacional','Empresa']]\n",
    "#Enacionales2021 = Enacionales2021.drop_duplicates()\n",
    "\n",
    "\n",
    "EmpresasPrimerAcercamiento = Enacionales2021.merge(Enacionales2020, how='left', left_on=['Responsable nacional','Empresa'], \n",
    "                      right_on=['Responsable nacional','Empresa']).fillna(0)\n",
    "\n",
    "EmpresasPrimerAcercamiento = EmpresasPrimerAcercamiento.drop_duplicates(subset=['Empresa'])\n",
    "\n",
    "EmpresasPrimerAcercamiento = EmpresasPrimerAcercamiento.drop(EmpresasPrimerAcercamiento[EmpresasPrimerAcercamiento['Acercamiento en 2020'] == 1].index)\n",
    "EmpresasPrimerAcercamiento = EmpresasPrimerAcercamiento.groupby(['Responsable nacional'])['Empresa'].nunique().reset_index()\n",
    "\n",
    "EmpresasPrimerAcercamiento['Meta: Tipo de meta'] = 'Número de empresas PyA con primer acercamiento comercial'\n",
    "\n",
    "EmpresasPrimerAcercamiento.rename(columns={'Responsable nacional': 'Meta: Nombre del propietario'}, inplace=True)\n",
    "\n",
    "EmpresasPrimerAcercamiento = EmpresasPrimerAcercamiento.drop_duplicates(subset=['Empresa'])\n",
    "\n",
    "TFinal = TFinal.merge(EmpresasPrimerAcercamiento, how='left', left_on=['Meta: Nombre del propietario' , 'Meta: Tipo de meta'], \n",
    "                      right_on=['Meta: Nombre del propietario' , 'Meta: Tipo de meta']).fillna(0)\n",
    "\n",
    "\n",
    "TFinal['Valor'] = TFinal['Valor'] + TFinal['Empresa']\n",
    "TFinal = TFinal.drop(columns=['Empresa'])\n"
   ]
  },
  {
   "cell_type": "code",
   "execution_count": 271,
   "id": "ae880364",
   "metadata": {},
   "outputs": [],
   "source": [
    "EmpresasPrimerAcercamiento = Enacionales2021.merge(Enacionales2020, how='left', left_on=['Responsable nacional','Empresa'], \n",
    "                      right_on=['Responsable nacional','Empresa']).fillna(0)\n",
    "\n",
    "EmpresasPrimerAcercamiento = EmpresasPrimerAcercamiento.drop_duplicates(subset=['Empresa'])\n",
    "\n",
    "EmpresasPrimerAcercamiento = EmpresasPrimerAcercamiento.drop(EmpresasPrimerAcercamiento[EmpresasPrimerAcercamiento['Acercamiento en 2020'] == 1].index)"
   ]
  },
  {
   "cell_type": "markdown",
   "id": "05a5a68b",
   "metadata": {},
   "source": [
    "### Número de frecuencias"
   ]
  },
  {
   "cell_type": "markdown",
   "id": "7e3aad39",
   "metadata": {},
   "source": [
    "#### 2021"
   ]
  },
  {
   "cell_type": "code",
   "execution_count": 272,
   "id": "07686d64",
   "metadata": {},
   "outputs": [],
   "source": [
    "Frecuencias['Meta: Tipo de meta'] = 'Número de frecuencias'"
   ]
  },
  {
   "cell_type": "code",
   "execution_count": 273,
   "id": "0da511b6",
   "metadata": {},
   "outputs": [],
   "source": [
    "FrecT = Frecuencias.groupby(['Meta: Tipo de meta'])['Frecuencias'].sum().reset_index()\n",
    "\n",
    "TFinal = TFinal.merge(FrecT, how='left', left_on=[ 'Meta: Tipo de meta'], \n",
    "                      right_on=['Meta: Tipo de meta']).fillna(0)\n",
    "\n",
    "\n",
    "TFinal['Valor'] = TFinal['Valor'] + TFinal['Frecuencias']\n",
    "TFinal = TFinal.drop(columns=['Frecuencias'])\n"
   ]
  },
  {
   "cell_type": "markdown",
   "id": "54374892",
   "metadata": {},
   "source": [
    "### Número de sillas"
   ]
  },
  {
   "cell_type": "markdown",
   "id": "d6740b21",
   "metadata": {},
   "source": [
    "#### 2021"
   ]
  },
  {
   "cell_type": "code",
   "execution_count": 274,
   "id": "20be28a4",
   "metadata": {},
   "outputs": [],
   "source": [
    "Frecuencias['Meta: Tipo de meta'] = 'Número de sillas'"
   ]
  },
  {
   "cell_type": "code",
   "execution_count": 275,
   "id": "046f8c25",
   "metadata": {},
   "outputs": [],
   "source": [
    "FrecT2 = Frecuencias.groupby(['Meta: Tipo de meta'])['Sillas'].sum().reset_index()\n"
   ]
  },
  {
   "cell_type": "code",
   "execution_count": 276,
   "id": "c73a3077",
   "metadata": {},
   "outputs": [],
   "source": [
    "SillasyFrecuencias2020 = SillasyFrecuencias2020.rename(columns = {'INDICADOR' : 'Meta: Tipo de meta'})\n"
   ]
  },
  {
   "cell_type": "code",
   "execution_count": 277,
   "id": "e63e7903",
   "metadata": {},
   "outputs": [],
   "source": [
    "TFinal = TFinal.merge(FrecT2, how='left', left_on=[ 'Meta: Tipo de meta'], \n",
    "                      right_on=['Meta: Tipo de meta']).fillna(0)\n",
    "TFinal = TFinal.merge(SillasyFrecuencias2020, how='left', left_on=[ 'Meta: Tipo de meta'], \n",
    "                      right_on=['Meta: Tipo de meta']).fillna(0)\n",
    "\n",
    "TFinal['Valor'] = TFinal['Valor'] + TFinal['Sillas']\n",
    "TFinal = TFinal.drop(columns=['Sillas'])\n",
    "\n",
    "TFinal['Valor 2020'] = TFinal['Valor 2020'] + TFinal[2020]\n",
    "TFinal = TFinal.drop(columns=[2020 , 'ASESOR'])\n",
    "\n",
    "TFinal = TFinal.drop(TFinal[TFinal['Meta Total'] ==  0].index)\n",
    "\n",
    "TFinalEXT = TFinal.drop(TFinal[TFinal['Meta: Tipo meta funcionario'] !=  'EXTERIOR'].index)"
   ]
  },
  {
   "cell_type": "markdown",
   "id": "b20169c7",
   "metadata": {},
   "source": [
    "### Proyecto de gestión"
   ]
  },
  {
   "cell_type": "markdown",
   "id": "2b8fe40e",
   "metadata": {},
   "source": [
    "### 2021"
   ]
  },
  {
   "cell_type": "code",
   "execution_count": 278,
   "id": "0feb22a0",
   "metadata": {},
   "outputs": [],
   "source": [
    "ProyectoseHitos['Hito: Fecha Inicio'] = pd.to_datetime(ProyectoseHitos['Hito: Fecha Inicio'], format='%d/%m/%Y')\n",
    "ProyectoseHitos1 =  ProyectoseHitos.drop(ProyectoseHitos[ProyectoseHitos['Proyecto: Nombre'] == 'Caja de Herramientas de Innovación para el Turismo'].index)\n",
    "ProyectoseHitos1 =  ProyectoseHitos1.drop(ProyectoseHitos1[ProyectoseHitos1['Proyecto: Nombre'] == 'Colombianos en el exterior 2020'].index)\n",
    "#ProyectoseHitos1 =  ProyectoseHitos1.drop(ProyectoseHitos1[ProyectoseHitos1['Proyecto: Nombre'] == 'Meaningful Map'].index)\n",
    "ProyectoseHitos1 =  ProyectoseHitos1.drop(ProyectoseHitos1[ProyectoseHitos1['Proyecto: Nombre'] == 'Meeting plannner 2.0'].index)\n",
    "ProyectoseHitos1 =  ProyectoseHitos1.drop(ProyectoseHitos1[ProyectoseHitos1['Proyecto: Nombre'] == 'Planes regionales vicepresidencia de turismo'].index)\n",
    "ProyectoseHitos1 =  ProyectoseHitos1.drop(ProyectoseHitos1[ProyectoseHitos1['Proyecto: Nombre'] == 'Programa de formación exportadora en turismo – versión hibrida'].index)\n",
    "ProyectoseHitos1 =  ProyectoseHitos1.drop(ProyectoseHitos1[ProyectoseHitos1['Hito: Fecha Inicio'] < fechaactual2].index)\n",
    "ProyectoseHitos_Anterior = ProyectoseHitos.drop(ProyectoseHitos[ProyectoseHitos['Hito: Fecha Inicio'] < fechaanterior2].index)\n",
    "ProyectoseHitos_Anterior = ProyectoseHitos_Anterior.drop(ProyectoseHitos_Anterior[ProyectoseHitos_Anterior['Hito: Fecha Inicio'] >= fechaactual2].index)\n",
    "\n",
    "\n",
    "ProyectoseHitos_Anterior = ProyectoseHitos_Anterior.dropna(subset=['Hito: Fecha Inicio'])\n",
    "#ProyectoseHitos1 = ProyectoseHitos"
   ]
  },
  {
   "cell_type": "code",
   "execution_count": 279,
   "id": "329a90a4",
   "metadata": {},
   "outputs": [],
   "source": [
    "#ProyectoseHitos1[ProyectoseHitos1['Proyecto: Propietario'] == 'María Muñoz Rey']\n"
   ]
  },
  {
   "cell_type": "code",
   "execution_count": 280,
   "id": "308c46ea",
   "metadata": {},
   "outputs": [],
   "source": [
    "PG = ProyectoseHitos1.groupby(['Proyecto: Propietario' , 'Proyecto: Nombre' , \n",
    "                   'Hito: Nombre'])['Hito: Peso'].sum().reset_index()\n",
    "PG2 = ProyectoseHitos1.groupby(['Proyecto: Propietario' , 'Proyecto: Nombre' , \n",
    "                   'Hito: Nombre'])['Hito: Avance'].sum().reset_index()\n"
   ]
  },
  {
   "cell_type": "code",
   "execution_count": 281,
   "id": "9849d83c",
   "metadata": {},
   "outputs": [],
   "source": [
    "PGF = PG.merge(PG2, how='outer', left_on=['Proyecto: Propietario' , 'Proyecto: Nombre' , \n",
    "                   'Hito: Nombre'], right_on=['Proyecto: Propietario' , 'Proyecto: Nombre' , \n",
    "                   'Hito: Nombre']).fillna(0)\n",
    "PGF['Avance Ponderado'] = (PGF['Hito: Peso']*0.1) * (PGF['Hito: Avance']*0.1)\n",
    "\n",
    "PGFF = PGF.groupby(['Proyecto: Propietario'])['Avance Ponderado'].sum().reset_index()\n",
    "PGFF['Meta: Tipo de meta'] = 'Proyecto de gestión'\n",
    "PGFF.rename(columns={'Oportunidad: Consecutivo': 'Valor Real'}, inplace=True)\n",
    "\n"
   ]
  },
  {
   "cell_type": "code",
   "execution_count": 282,
   "id": "191d4e00",
   "metadata": {},
   "outputs": [],
   "source": [
    "PGFF.rename(columns={'Proyecto: Propietario': 'Meta: Nombre del propietario'}, inplace=True)\n"
   ]
  },
  {
   "cell_type": "code",
   "execution_count": 283,
   "id": "b9b05e66",
   "metadata": {},
   "outputs": [],
   "source": [
    "TFinal = TFinal.merge(PGFF, how='outer', left_on=['Meta: Nombre del propietario', 'Meta: Tipo de meta'], \n",
    "                      right_on=['Meta: Nombre del propietario', 'Meta: Tipo de meta']).fillna(0)"
   ]
  },
  {
   "cell_type": "code",
   "execution_count": 284,
   "id": "c4d185c2",
   "metadata": {
    "scrolled": true
   },
   "outputs": [],
   "source": [
    "TFinal =  TFinal.drop(TFinal[TFinal['Meta Total'] == 0].index).reset_index()\n",
    "\n",
    "#TFinal[TFinal['Meta: Tipo de meta'] == 'Proyecto de gestión']\n"
   ]
  },
  {
   "cell_type": "code",
   "execution_count": 285,
   "id": "acdaa0fe",
   "metadata": {},
   "outputs": [],
   "source": [
    "TFinal['Valor'] = TFinal['Valor'] + TFinal['Avance Ponderado']\n",
    "TFinal = TFinal.drop(columns=['Avance Ponderado' , 'index'])\n"
   ]
  },
  {
   "cell_type": "markdown",
   "id": "e40241f2",
   "metadata": {},
   "source": [
    "### 2020"
   ]
  },
  {
   "cell_type": "code",
   "execution_count": 286,
   "id": "13622528",
   "metadata": {},
   "outputs": [],
   "source": [
    "PGA = ProyectoseHitos_Anterior.groupby(['Proyecto: Propietario' , 'Proyecto: Nombre' , \n",
    "                   'Hito: Nombre'])['Hito: Peso'].sum().reset_index()\n",
    "PG2A = ProyectoseHitos_Anterior.groupby(['Proyecto: Propietario' , 'Proyecto: Nombre' , \n",
    "                   'Hito: Nombre'])['Hito: Avance'].sum().reset_index()\n",
    "PGFA = PGA.merge(PG2A, how='outer', left_on=['Proyecto: Propietario' , 'Proyecto: Nombre' , \n",
    "                   'Hito: Nombre'], right_on=['Proyecto: Propietario' , 'Proyecto: Nombre' , \n",
    "                   'Hito: Nombre']).fillna(0)\n",
    "PGFA['Avance Ponderado'] = (PGFA['Hito: Peso']*0.1) * (PGFA['Hito: Avance']*0.1)\n",
    "\n",
    "PGFFA = PGFA.groupby(['Proyecto: Propietario'])['Avance Ponderado'].sum().reset_index()\n",
    "PGFFA['Meta: Tipo de meta'] = 'Proyecto de gestión'\n",
    "PGFFA.rename(columns={'Oportunidad: Consecutivo': 'Valor Real'}, inplace=True)\n",
    "PGFFA.rename(columns={'Proyecto: Propietario': 'Meta: Nombre del propietario'}, inplace=True)\n",
    "TFinal = TFinal.merge(PGFFA, how='outer', left_on=['Meta: Nombre del propietario', 'Meta: Tipo de meta'], \n",
    "                      right_on=['Meta: Nombre del propietario', 'Meta: Tipo de meta']).fillna(0)\n",
    "\n",
    "TFinal =  TFinal.drop(TFinal[TFinal['Meta Total'] == 0].index).reset_index()\n",
    "TFinal['Valor 2020'] = TFinal['Valor 2020'] + TFinal['Avance Ponderado']\n",
    "TFinal = TFinal.drop(columns=['Avance Ponderado' , 'index'])"
   ]
  },
  {
   "cell_type": "markdown",
   "id": "40b20ca4",
   "metadata": {},
   "source": [
    "## Número asistentes PFE turismo"
   ]
  },
  {
   "cell_type": "markdown",
   "id": "99c89e6a",
   "metadata": {},
   "source": [
    "### 2021"
   ]
  },
  {
   "cell_type": "code",
   "execution_count": 287,
   "id": "d299c330",
   "metadata": {},
   "outputs": [],
   "source": [
    "AsistentesPFE = AsistentesPFE1\n",
    "AsistentesPFE['Meta: Tipo de meta'] = 'Número asistentes PFE turismo'\n",
    "AsistentesPFE.rename(columns={'Asesor': 'Meta: Nombre del propietario',\n",
    "                             'Resultados': 'ValorPFE'}, inplace=True)\n",
    "AsistentesPFE = AsistentesPFE.drop(columns=['Oficina' , 'Meta Año' , 'Avance' , 'Mera  Q'])\n"
   ]
  },
  {
   "cell_type": "markdown",
   "id": "68016aac",
   "metadata": {},
   "source": [
    "### 2020"
   ]
  },
  {
   "cell_type": "code",
   "execution_count": 288,
   "id": "5f8d95d9",
   "metadata": {},
   "outputs": [],
   "source": [
    "AsistentesPFE2020.rename(columns={'Asesor': 'Meta: Nombre del propietario'}, inplace=True)\n",
    "\n",
    "AsistentesPFE2020 = AsistentesPFE2020.drop(columns=['Oficina' , 'Meta año 2021' , 'Meta trimestre' , 'Avance corte ' , \n",
    "                                                    '% avance meta año']) \n",
    "\n",
    "AsistentesPFE = AsistentesPFE.merge(AsistentesPFE2020, how='outer', left_on=['Meta: Nombre del propietario'] , right_on = ['Meta: Nombre del propietario']).fillna(0)\n"
   ]
  },
  {
   "cell_type": "code",
   "execution_count": 289,
   "id": "1c1d824d",
   "metadata": {},
   "outputs": [],
   "source": [
    "TFinal = TFinal.merge(AsistentesPFE, how='outer', left_on=['Meta: Nombre del propietario', 'Meta: Tipo de meta'], \n",
    "                      right_on=['Meta: Nombre del propietario', 'Meta: Tipo de meta']).fillna(0)\n",
    "TFinal['Valor'] = TFinal['Valor'] + TFinal['ValorPFE']\n",
    "TFinal['Valor 2020'] = TFinal['Valor 2020'] + TFinal['Resultados 2020']\n",
    "\n",
    "TFinal = TFinal.drop(columns=['ValorPFE' , 'Resultados 2020'])\n"
   ]
  },
  {
   "cell_type": "markdown",
   "id": "eb60b39c",
   "metadata": {},
   "source": [
    "### VPT Visitantes no residentes"
   ]
  },
  {
   "cell_type": "code",
   "execution_count": 290,
   "id": "22797fc5",
   "metadata": {},
   "outputs": [],
   "source": [
    "InfoResponsanles = TFinalEXT[['Meta: Tipo meta funcionario', 'E_HUB2019', 'E_Localización' , 'E_Clasificación',\n",
    "                        'Meta: Nombre del propietario' , 'E_Rol' , 'Tipo de Indicador' ]]\n",
    "\n",
    "Responsables=TFinalEXT[['Meta: Nombre del propietario']]\n",
    "Responsables = Responsables.drop_duplicates(subset = ['Meta: Nombre del propietario'])\n",
    "Responsables = Responsables.reset_index()\n",
    "Responsables['Meta: Tipo de meta'] = 'VPT Visitantes no residentes'\n",
    "\n",
    "Responsables = Responsables.merge(InfoResponsanles, how='left', left_on=['Meta: Nombre del propietario'], \n",
    "                      right_on=['Meta: Nombre del propietario']).fillna(0)\n",
    "Responsables = Responsables.drop_duplicates(subset = ['Meta: Nombre del propietario'])\n",
    "Responsables = Responsables.reset_index()\n",
    "\n",
    "TFinal = TFinal.append(Responsables)\n",
    "TFinal.loc[TFinal['Meta: Tipo de meta'] == 'VPT Visitantes no residentes', 'Valor 2020'] =  1393827 \n",
    "TFinal.loc[TFinal['Meta: Tipo de meta'] == 'VPT Visitantes no residentes', 'Meta Total'] =  1150000\n",
    "TFinal.loc[TFinal['Meta: Tipo de meta'] == 'VPT Visitantes no residentes', 'Meta Q'] =  1150000 \n",
    "TFinal.loc[TFinal['Meta: Tipo de meta'] == 'VPT Visitantes no residentes', 'Valor'] =  984567 \n",
    "TFinal = TFinal.drop(columns=['index' , 'level_0'])\n"
   ]
  },
  {
   "cell_type": "code",
   "execution_count": 291,
   "id": "30fc636f",
   "metadata": {},
   "outputs": [],
   "source": [
    "TFinal =  TFinal.drop(TFinal[TFinal['E_Rol'] == 'Profesional Turismo'].index)\n"
   ]
  },
  {
   "cell_type": "code",
   "execution_count": 292,
   "id": "4ae032ce",
   "metadata": {},
   "outputs": [
    {
     "data": {
      "text/html": [
       "<a href='Turismo.xlsx' target='_blank'>Turismo.xlsx</a><br>"
      ],
      "text/plain": [
       "C:\\Users\\user\\Documents\\Codigos Python\\Tablero Como Vamos\\Turismo.xlsx"
      ]
     },
     "execution_count": 292,
     "metadata": {},
     "output_type": "execute_result"
    }
   ],
   "source": [
    "writer = pd.ExcelWriter('Turismo.xlsx')\n",
    "TFinal.to_excel(writer)\n",
    "writer.save()\n",
    "from IPython.display import FileLink\n",
    "FileLink('Turismo.xlsx')"
   ]
  },
  {
   "cell_type": "code",
   "execution_count": 293,
   "id": "5b255c6c",
   "metadata": {},
   "outputs": [],
   "source": [
    "#TFinal[TFinal['Meta: Tipo de meta'] == 'VPT Visitantes no residentes']\n",
    "#TFinal.loc[TFinal['Meta: Tipo de meta'] == 'Número de oportunidades en etapa 0 y 1']"
   ]
  }
 ],
 "metadata": {
  "kernelspec": {
   "display_name": "Python 3",
   "language": "python",
   "name": "python3"
  },
  "language_info": {
   "codemirror_mode": {
    "name": "ipython",
    "version": 3
   },
   "file_extension": ".py",
   "mimetype": "text/x-python",
   "name": "python",
   "nbconvert_exporter": "python",
   "pygments_lexer": "ipython3",
   "version": "3.8.8"
  },
  "nbTranslate": {
   "displayLangs": [
    "*"
   ],
   "hotkey": "alt-t",
   "langInMainMenu": true,
   "sourceLang": "en",
   "targetLang": "fr",
   "useGoogleTranslate": true
  }
 },
 "nbformat": 4,
 "nbformat_minor": 5
}

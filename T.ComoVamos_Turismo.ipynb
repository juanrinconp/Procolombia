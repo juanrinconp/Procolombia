{
 "cells": [
  {
   "cell_type": "markdown",
   "id": "aac879d5",
   "metadata": {},
   "source": [
    "# Tablero Como vamos\n",
    "## Vicepresidencia de Planeación - Turismo"
   ]
  },
  {
   "cell_type": "code",
   "execution_count": 1,
   "id": "ef33cf0f",
   "metadata": {},
   "outputs": [],
   "source": [
    "import pandas as pd \n",
    "import numpy as np \n",
    "import matplotlib.pyplot as plt \n",
    "import matplotlib as mpl \n",
    "import six\n",
    "import os \n",
    "\n",
    "pathout = './data/'\n",
    "if not os.path.exists(pathout):\n",
    "    os.mkdir(pathout) \n",
    "    pathgraphs = './graphs/'\n",
    "    if not os.path.exists(pathgraphs): \n",
    "        os.mkdir(pathgraphs)"
   ]
  },
  {
   "cell_type": "code",
   "execution_count": 2,
   "id": "7d4025a8",
   "metadata": {},
   "outputs": [],
   "source": [
    "Metas = pd.read_excel(pathout + 'Metas.xlsx')"
   ]
  },
  {
   "cell_type": "code",
   "execution_count": 3,
   "id": "a8b48f0c",
   "metadata": {},
   "outputs": [],
   "source": [
    "Negocios = pd.read_excel(pathout + 'Negocios.xlsx')"
   ]
  },
  {
   "cell_type": "code",
   "execution_count": 4,
   "id": "82605f22",
   "metadata": {},
   "outputs": [],
   "source": [
    "Oportunidades = pd.read_excel(pathout + 'Oportunidades.xlsx')"
   ]
  },
  {
   "cell_type": "code",
   "execution_count": 5,
   "id": "ccc69bb0",
   "metadata": {},
   "outputs": [
    {
     "name": "stderr",
     "output_type": "stream",
     "text": [
      "/Users/Ingridt/opt/anaconda3/envs/GeoPython38env/lib/python3.8/site-packages/openpyxl/worksheet/_reader.py:312: UserWarning: Unknown extension is not supported and will be removed\n",
      "  warn(msg)\n"
     ]
    }
   ],
   "source": [
    "ENacionales = pd.read_excel(pathout + 'Empresas_nacionales.xlsx')"
   ]
  },
  {
   "cell_type": "code",
   "execution_count": 38,
   "id": "35c00785",
   "metadata": {},
   "outputs": [],
   "source": [
    "Frecuencias = pd.read_excel(pathout + 'Frecuencias.xlsx')"
   ]
  },
  {
   "cell_type": "code",
   "execution_count": 40,
   "id": "5c09e782",
   "metadata": {},
   "outputs": [
    {
     "name": "stderr",
     "output_type": "stream",
     "text": [
      "/Users/Ingridt/opt/anaconda3/envs/GeoPython38env/lib/python3.8/site-packages/openpyxl/worksheet/_reader.py:312: UserWarning: Unknown extension is not supported and will be removed\n",
      "  warn(msg)\n"
     ]
    }
   ],
   "source": [
    "ProyectoseHitos = pd.read_excel(pathout + 'ProyectoseHitos.xlsx')"
   ]
  },
  {
   "cell_type": "code",
   "execution_count": null,
   "id": "8ffabcca",
   "metadata": {},
   "outputs": [],
   "source": [
    "ProyectoseHitos = pd.read_csv(pathout + 'ProyectoseHitos.csv' , delimiter = ';' ,  encoding = 'iso-8859-1')"
   ]
  },
  {
   "cell_type": "code",
   "execution_count": 41,
   "id": "ded1abc3",
   "metadata": {},
   "outputs": [],
   "source": [
    "añoactual = 2021\n",
    "añoanterior = 2020\n",
    "trimestre = 4\n",
    "\n",
    "#Fecha en Formato aaaa/mm/dd para la base de Tableau 12a\n",
    "negociosañoactual = '2021-01-01'\n",
    "fechaactual  = '2021-11-01'\n",
    "fechaactual2  = '1/01/2021'\n",
    "\n",
    "eneroañoanterior = '2020-01-01'\n",
    "fechaactual_añoanterior = '2020-11-01'\n",
    "diciembreañoanterior = '2020-12-31'"
   ]
  },
  {
   "cell_type": "code",
   "execution_count": 42,
   "id": "826f48e6",
   "metadata": {},
   "outputs": [],
   "source": [
    "MetasT =  Metas.drop(Metas[Metas['Meta: Eje'] != 'Turismo'].index)\n",
    "MetasT = MetasT.drop(MetasT[MetasT['Meta: Año'] !=  añoactual].index)\n",
    "MetasTQ = MetasT.drop(MetasT[MetasT['Meta: Período'] > trimestre].index)\n",
    "\n",
    "MetasT_Anterior =  Metas.drop(Metas[Metas['Meta: Eje'] != 'Turismo'].index)\n",
    "MetasT_Anterior = MetasT_Anterior.drop(MetasT_Anterior[MetasT_Anterior['Meta: Año'] !=  añoanterior].index)\n",
    "MetasTQ_Anterior = MetasT_Anterior.drop(MetasT_Anterior[MetasT_Anterior['Meta: Período'] > trimestre].index)\n"
   ]
  },
  {
   "cell_type": "code",
   "execution_count": 43,
   "id": "8861bb6a",
   "metadata": {},
   "outputs": [],
   "source": [
    "NegociosT = Negocios.drop(Negocios[Negocios['Logro: Eje'] != 'Turismo'].index)\n",
    "NegociosT = NegociosT.drop(NegociosT[NegociosT['Meta 1 responsable Colombia: Año'] !=  añoactual].index)\n",
    "\n",
    "NegociosTA = Negocios.drop(Negocios[Negocios['Logro: Eje'] != 'Turismo'].index)\n",
    "NegociosTA = NegociosTA.drop(NegociosTA[NegociosTA['Meta 1 responsable Colombia: Año'] !=  añoanterior].index)\n"
   ]
  },
  {
   "cell_type": "markdown",
   "id": "e59a4da8",
   "metadata": {},
   "source": [
    "### Metas y Metas Q"
   ]
  },
  {
   "cell_type": "markdown",
   "id": "71657569",
   "metadata": {},
   "source": [
    "#### 2021"
   ]
  },
  {
   "cell_type": "code",
   "execution_count": 44,
   "id": "7f52eb06",
   "metadata": {},
   "outputs": [],
   "source": [
    "MetasT = MetasT.groupby(['Meta: Tipo meta funcionario' , 'E_HUB2019' , \n",
    "                   'E_Localización' , 'E_Clasificación' , \n",
    "                   'Meta: Nombre del propietario' , 'E_Rol',\n",
    "                  'Tipo de Indicador' , 'Meta: Tipo de meta'])['Meta: Valor meta'].sum().reset_index()\n",
    "\n",
    "MetasTQ = MetasTQ.groupby(['Meta: Tipo meta funcionario' , 'E_HUB2019' , \n",
    "                   'E_Localización' , 'E_Clasificación' , \n",
    "                   'Meta: Nombre del propietario' , 'E_Rol',\n",
    "                  'Tipo de Indicador' , 'Meta: Tipo de meta'])['Meta: Valor meta'].sum().reset_index()"
   ]
  },
  {
   "cell_type": "code",
   "execution_count": 45,
   "id": "09cc238a",
   "metadata": {},
   "outputs": [],
   "source": [
    "\n",
    "TFinal = MetasT.merge(MetasTQ, how='outer', left_on=['Meta: Tipo meta funcionario' , 'E_HUB2019' , \n",
    "                   'E_Localización' , 'E_Clasificación' , \n",
    "                   'Meta: Nombre del propietario' , 'E_Rol',\n",
    "                  'Tipo de Indicador' , 'Meta: Tipo de meta'], right_on=['Meta: Tipo meta funcionario' , 'E_HUB2019' , \n",
    "                   'E_Localización' , 'E_Clasificación' , \n",
    "                   'Meta: Nombre del propietario' , 'E_Rol',\n",
    "                  'Tipo de Indicador' , 'Meta: Tipo de meta']).fillna(0)\n",
    "\n",
    "TFinal.rename(columns={'Meta: Valor meta_x': 'Meta Total' , 'Meta: Valor meta_y': 'Meta Q'}, inplace=True)\n",
    "\n",
    "\n"
   ]
  },
  {
   "cell_type": "markdown",
   "id": "1ea63de3",
   "metadata": {},
   "source": [
    "### Captación de Congresos y Eventos"
   ]
  },
  {
   "cell_type": "markdown",
   "id": "1757c760",
   "metadata": {},
   "source": [
    "#### 2021"
   ]
  },
  {
   "cell_type": "code",
   "execution_count": 46,
   "id": "6697e0d1",
   "metadata": {},
   "outputs": [],
   "source": [
    "Negocios_Captacion_2021 = NegociosT.drop(NegociosT[NegociosT['Logro: Tipo de registro'] !=  'Captación de Eventos'].index)\n",
    "\n",
    "Negocios_Captacion_Col_2021 = Negocios_Captacion_2021.groupby(['Logro: Responsable Colombia' , 'Logro: Tipo de registro' \n",
    "                                                          ])['Logro: Valor'].sum().reset_index()\n",
    "\n",
    "Negocios_Captacion_Ext_2021 = Negocios_Captacion_2021.groupby(['Logro: Responsable en el Exterior 1' , 'Logro: Tipo de registro' \n",
    "                                                          ])['Logro: Valor'].sum().reset_index()\n",
    "\n",
    "\n",
    "Negocios_Captacion_Col_2021.rename(columns={'Logro: Responsable Colombia': 'Meta: Nombre del propietario'}, inplace=True)\n",
    "Negocios_Captacion_Ext_2021.rename(columns={'Logro: Responsable en el Exterior 1': 'Meta: Nombre del propietario'}, inplace=True)\n",
    "\n",
    "Negocios_Captacion_2021 = Negocios_Captacion_Col_2021.append(Negocios_Captacion_Ext_2021)\n",
    "Negocios_Captacion_2021.rename(columns={'Logro: Tipo de registro': 'Meta: Tipo de meta'}, inplace=True)\n",
    "\n",
    "#Falta captacion de Congresos\n",
    "\n",
    "Negocios_CaptacionCyE_2021 = Negocios_Captacion_2021\n",
    "\n",
    "Negocios_CaptacionCyE_2021 = (Negocios_CaptacionCyE_2021.replace('Captación de Eventos', 'Captación de Congresos y Eventos'))"
   ]
  },
  {
   "cell_type": "code",
   "execution_count": 47,
   "id": "50c08133",
   "metadata": {},
   "outputs": [],
   "source": [
    "TFinal = TFinal.merge(Negocios_CaptacionCyE_2021, how='outer', left_on=['Meta: Nombre del propietario' , 'Meta: Tipo de meta'], \n",
    "                      right_on=['Meta: Nombre del propietario' , 'Meta: Tipo de meta']).fillna(0)"
   ]
  },
  {
   "cell_type": "markdown",
   "id": "c7fcdd67",
   "metadata": {},
   "source": [
    "#### 2020"
   ]
  },
  {
   "cell_type": "code",
   "execution_count": 48,
   "id": "8438390a",
   "metadata": {},
   "outputs": [],
   "source": [
    "Negocios_Captacion_2020 = NegociosTA.drop(NegociosTA[NegociosTA['Logro: Tipo de registro'] !=  'Captación de Eventos'].index)\n",
    "\n",
    "Negocios_Captacion_Col_2020 = Negocios_Captacion_2020.groupby(['Logro: Responsable Colombia' , 'Logro: Tipo de registro' \n",
    "                                                          ])['Logro: Valor'].sum().reset_index()\n",
    "\n",
    "Negocios_Captacion_Ext_2020 = Negocios_Captacion_2020.groupby(['Logro: Responsable en el Exterior 1' , 'Logro: Tipo de registro' \n",
    "                                                          ])['Logro: Valor'].sum().reset_index()\n",
    "\n",
    "\n",
    "Negocios_Captacion_Col_2020.rename(columns={'Logro: Responsable Colombia': 'Meta: Nombre del propietario'}, inplace=True)\n",
    "Negocios_Captacion_Ext_2020.rename(columns={'Logro: Responsable en el Exterior 1': 'Meta: Nombre del propietario'}, inplace=True)\n",
    "\n",
    "Negocios_Captacion_2020 = Negocios_Captacion_Col_2020.append(Negocios_Captacion_Ext_2020)\n",
    "Negocios_Captacion_2020.rename(columns={'Logro: Tipo de registro': 'Meta: Tipo de meta'}, inplace=True)\n",
    "\n",
    "#Falta captacion de Congresos\n",
    "\n",
    "Negocios_CaptacionCyE_2020 = Negocios_Captacion_2020\n",
    "\n",
    "Negocios_CaptacionCyE_2020 = (Negocios_CaptacionCyE_2020.replace('Captación de Eventos', 'Captación de Congresos y Eventos'))\n",
    "Negocios_CaptacionCyE_2020.rename(columns={'Logro: Valor': 'Valor 2020'}, inplace=True)"
   ]
  },
  {
   "cell_type": "code",
   "execution_count": 49,
   "id": "71fdfb44",
   "metadata": {},
   "outputs": [],
   "source": [
    "TFinal = TFinal.merge(Negocios_CaptacionCyE_2020, how='outer', left_on=['Meta: Nombre del propietario' , 'Meta: Tipo de meta'], \n",
    "                      right_on=['Meta: Nombre del propietario' , 'Meta: Tipo de meta']).fillna(0)"
   ]
  },
  {
   "cell_type": "markdown",
   "id": "93c5aa2e",
   "metadata": {},
   "source": [
    "### Oportunidades en Etapa 0 y 1"
   ]
  },
  {
   "cell_type": "markdown",
   "id": "e9228330",
   "metadata": {},
   "source": [
    "#### 2021"
   ]
  },
  {
   "cell_type": "code",
   "execution_count": 50,
   "id": "d823b13f",
   "metadata": {},
   "outputs": [],
   "source": [
    "OportT = Oportunidades.drop(Oportunidades[Oportunidades['E_Año'] != añoactual].index)\n",
    "OportT = OportT.drop(OportT[OportT['Oportunidad: Tipo de registro'] != 'Conectividad aérea'].index)\n",
    "OportT_0y1 = OportT.drop(OportT[OportT['Oportunidad: Etapa'] == 5].index)\n",
    "OportT_0y1 = OportT_0y1.drop(OportT_0y1[OportT_0y1['Oportunidad: Etapa'] == 2].index)\n",
    "OportT_0y1 = OportT_0y1.drop(OportT_0y1[OportT_0y1['Oportunidad: Etapa'] == 3].index)\n",
    "OportT_0y1 = OportT_0y1.drop(OportT_0y1[OportT_0y1['Oportunidad: Etapa'] == 4].index)\n",
    "OportT_0y1 = OportT_0y1.groupby(['Oportunidad: Responsable en Colombia'])['Oportunidad: Consecutivo'].count().reset_index()\n",
    "\n",
    "OportT_0y1.rename(columns={'Oportunidad: Consecutivo': 'Logro: Valor' , \n",
    "                       'Oportunidad: Responsable en Colombia': 'Meta: Nombre del propietario'}, inplace=True)\n",
    "\n",
    "OportT_0y1['Meta: Tipo de meta'] = 'Número de oportunidades en etapa 0 y 1'\n",
    "\n"
   ]
  },
  {
   "cell_type": "code",
   "execution_count": 52,
   "id": "22295be3",
   "metadata": {},
   "outputs": [],
   "source": [
    "TFinal = TFinal.merge(OportT_0y1, how='outer', left_on=['Meta: Nombre del propietario' , 'Meta: Tipo de meta'], \n",
    "                      right_on=['Meta: Nombre del propietario' , 'Meta: Tipo de meta']).fillna(0)"
   ]
  },
  {
   "cell_type": "code",
   "execution_count": 53,
   "id": "0a4e7b80",
   "metadata": {},
   "outputs": [],
   "source": [
    "TFinal['Valor'] = TFinal['Logro: Valor_x'] + TFinal['Logro: Valor_y']\n",
    "TFinal = TFinal.drop(columns=['Logro: Valor_x', 'Logro: Valor_y'])\n"
   ]
  },
  {
   "cell_type": "markdown",
   "id": "7bccba80",
   "metadata": {},
   "source": [
    "#### 2020"
   ]
  },
  {
   "cell_type": "code",
   "execution_count": 54,
   "id": "b44722f0",
   "metadata": {},
   "outputs": [],
   "source": [
    "OportTA = Oportunidades.drop(Oportunidades[Oportunidades['E_Año'] != añoactual].index)\n",
    "OportTA = OportT.drop(OportT[OportT['Oportunidad: Tipo de registro'] != 'Conectividad aérea'].index)\n",
    "OportTA_0y1 = OportTA.drop(OportTA[OportTA['Oportunidad: Etapa'] == 5].index)\n",
    "OportTA_0y1 = OportTA_0y1.drop(OportTA_0y1[OportTA_0y1['Oportunidad: Etapa'] == 2].index)\n",
    "OportTA_0y1 = OportTA_0y1.drop(OportTA_0y1[OportTA_0y1['Oportunidad: Etapa'] == 3].index)\n",
    "OportTA_0y1 = OportTA_0y1.drop(OportTA_0y1[OportTA_0y1['Oportunidad: Etapa'] == 4].index)\n",
    "OportTA_0y1 = OportTA_0y1.groupby(['Oportunidad: Responsable en Colombia'])['Oportunidad: Consecutivo'].count().reset_index()\n",
    "\n",
    "OportTA_0y1.rename(columns={'Oportunidad: Consecutivo': 'Valor 2020' , \n",
    "                       'Oportunidad: Responsable en Colombia': 'Meta: Nombre del propietario'}, inplace=True)\n",
    "\n",
    "OportTA_0y1['Meta: Tipo de meta'] = 'Número de oportunidades en etapa 0 y 1'\n",
    "\n"
   ]
  },
  {
   "cell_type": "code",
   "execution_count": 55,
   "id": "71bd7ce0",
   "metadata": {},
   "outputs": [],
   "source": [
    "TFinal = TFinal.merge(OportTA_0y1, how='outer', left_on=['Meta: Nombre del propietario' , 'Meta: Tipo de meta'], \n",
    "                      right_on=['Meta: Nombre del propietario' , 'Meta: Tipo de meta']).fillna(0)"
   ]
  },
  {
   "cell_type": "code",
   "execution_count": 56,
   "id": "5dab21d6",
   "metadata": {},
   "outputs": [],
   "source": [
    "TFinal['Valor 2020'] = TFinal['Valor 2020_x'] + TFinal['Valor 2020_y']\n",
    "TFinal = TFinal.drop(columns=['Valor 2020_x', 'Valor 2020_y'])"
   ]
  },
  {
   "cell_type": "markdown",
   "id": "7eddfe5e",
   "metadata": {},
   "source": [
    "### Oportunidades en Etapa 2 y 3"
   ]
  },
  {
   "cell_type": "markdown",
   "id": "a6fe4cfe",
   "metadata": {},
   "source": [
    "#### 2021"
   ]
  },
  {
   "cell_type": "code",
   "execution_count": 57,
   "id": "fd979e8d",
   "metadata": {},
   "outputs": [],
   "source": [
    "OportT = Oportunidades.drop(Oportunidades[Oportunidades['E_Año'] != añoactual].index)\n",
    "OportT = OportT.drop(OportT[OportT['Oportunidad: Tipo de registro'] != 'Conectividad aérea'].index)\n",
    "OportT_2y3 = OportT.drop(OportT[OportT['Oportunidad: Etapa'] == 5].index)\n",
    "OportT_2y3 = OportT_2y3.drop(OportT_2y3[OportT_2y3['Oportunidad: Etapa'] == 0].index)\n",
    "OportT_2y3 = OportT_2y3.drop(OportT_2y3[OportT_2y3['Oportunidad: Etapa'] == 1].index)\n",
    "OportT_2y3 = OportT_2y3.drop(OportT_2y3[OportT_2y3['Oportunidad: Etapa'] == 4].index)\n",
    "OportT_2y3 = OportT_2y3.groupby(['Oportunidad: Responsable en Colombia'])['Oportunidad: Consecutivo'].count().reset_index()\n",
    "\n",
    "OportT_2y3.rename(columns={'Oportunidad: Consecutivo': 'Logro: Valor' , \n",
    "                       'Oportunidad: Responsable en Colombia': 'Meta: Nombre del propietario'}, inplace=True)\n",
    "\n",
    "OportT_2y3['Meta: Tipo de meta'] = 'Número de oportunidades en etapa 2 y 3'\n"
   ]
  },
  {
   "cell_type": "code",
   "execution_count": 59,
   "id": "fb92bca4",
   "metadata": {},
   "outputs": [],
   "source": [
    "TFinal = TFinal.merge(OportT_2y3, how='outer', left_on=['Meta: Nombre del propietario' , 'Meta: Tipo de meta'], \n",
    "                      right_on=['Meta: Nombre del propietario' , 'Meta: Tipo de meta']).fillna(0)"
   ]
  },
  {
   "cell_type": "code",
   "execution_count": 60,
   "id": "041fd713",
   "metadata": {},
   "outputs": [],
   "source": [
    "\n",
    "TFinal['Valor'] = TFinal['Valor'] + TFinal['Logro: Valor']\n",
    "TFinal = TFinal.drop(columns=['Logro: Valor'])\n"
   ]
  },
  {
   "cell_type": "markdown",
   "id": "dbadbf90",
   "metadata": {},
   "source": [
    "#### 2020"
   ]
  },
  {
   "cell_type": "code",
   "execution_count": 61,
   "id": "8bacb254",
   "metadata": {},
   "outputs": [],
   "source": [
    "OportTA = Oportunidades.drop(Oportunidades[Oportunidades['E_Año'] != añoanterior].index)\n",
    "OportTA = OportTA.drop(OportTA[OportTA['Oportunidad: Tipo de registro'] != 'Conectividad aérea'].index)\n",
    "OportTA_2y3 = OportTA.drop(OportTA[OportTA['Oportunidad: Etapa'] == 5].index)\n",
    "OportTA_2y3 = OportTA_2y3.drop(OportTA_2y3[OportTA_2y3['Oportunidad: Etapa'] == 0].index)\n",
    "OportTA_2y3 = OportTA_2y3.drop(OportTA_2y3[OportTA_2y3['Oportunidad: Etapa'] == 1].index)\n",
    "OportTA_2y3 = OportTA_2y3.drop(OportTA_2y3[OportTA_2y3['Oportunidad: Etapa'] == 4].index)\n",
    "OportTA_2y3 = OportTA_2y3.groupby(['Oportunidad: Responsable en Colombia'])['Oportunidad: Consecutivo'].count().reset_index()\n",
    "\n",
    "OportTA_2y3.rename(columns={'Oportunidad: Consecutivo': 'Valor 2020' , \n",
    "                       'Oportunidad: Responsable en Colombia': 'Meta: Nombre del propietario'}, inplace=True)\n",
    "\n",
    "OportTA_2y3['Meta: Tipo de meta'] = 'Número de oportunidades en etapa 2 y 3'"
   ]
  },
  {
   "cell_type": "code",
   "execution_count": 62,
   "id": "fa6a83d3",
   "metadata": {},
   "outputs": [],
   "source": [
    "TFinal = TFinal.merge(OportTA_2y3, how='outer', left_on=['Meta: Nombre del propietario' , 'Meta: Tipo de meta'], \n",
    "                      right_on=['Meta: Nombre del propietario' , 'Meta: Tipo de meta']).fillna(0)"
   ]
  },
  {
   "cell_type": "code",
   "execution_count": 63,
   "id": "ae70ad74",
   "metadata": {},
   "outputs": [],
   "source": [
    "TFinal['Valor 2020'] = TFinal['Valor 2020_x'] + TFinal['Valor 2020_y']\n",
    "TFinal = TFinal.drop(columns=['Valor 2020_x', 'Valor 2020_y'])"
   ]
  },
  {
   "cell_type": "markdown",
   "id": "16b4c930",
   "metadata": {},
   "source": [
    "### Monto de Gasto de Noches"
   ]
  },
  {
   "cell_type": "markdown",
   "id": "dbbde994",
   "metadata": {},
   "source": [
    "#### 2021"
   ]
  },
  {
   "cell_type": "code",
   "execution_count": 64,
   "id": "5a735a96",
   "metadata": {},
   "outputs": [],
   "source": [
    "MontoGastoNoches = NegociosT.drop(NegociosT[NegociosT['Logro: Tipo de registro'] !=  'Turismo Noches'].index)\n",
    "\n",
    "MontoGastoNoches = MontoGastoNoches.groupby(['Logro: Responsable Colombia' , 'Logro: Tipo de registro' \n",
    "                                                          ])['Logro: Valor'].sum().reset_index()\n",
    "\n",
    "MontoGastoNoches.rename(columns={'Logro: Responsable Colombia': 'Meta: Nombre del propietario'}, inplace=True)\n",
    "MontoGastoNoches.rename(columns={'Logro: Tipo de registro': 'Meta: Tipo de meta'}, inplace=True)\n",
    "\n",
    "\n",
    "MontoGastoNoches = (MontoGastoNoches.replace('Turismo Noches', 'Monto de gasto de noches'))\n",
    "\n"
   ]
  },
  {
   "cell_type": "code",
   "execution_count": 65,
   "id": "87330830",
   "metadata": {},
   "outputs": [],
   "source": [
    "TFinal = TFinal.merge(MontoGastoNoches, how='outer', left_on=['Meta: Nombre del propietario' , 'Meta: Tipo de meta'], \n",
    "                      right_on=['Meta: Nombre del propietario' , 'Meta: Tipo de meta']).fillna(0)\n",
    "\n",
    "\n",
    "TFinal['Valor'] = TFinal['Valor'] + TFinal['Logro: Valor']\n",
    "TFinal = TFinal.drop(columns=['Logro: Valor'])\n"
   ]
  },
  {
   "cell_type": "markdown",
   "id": "14aff8cf",
   "metadata": {},
   "source": [
    "#### 2020"
   ]
  },
  {
   "cell_type": "code",
   "execution_count": 66,
   "id": "e059cd71",
   "metadata": {},
   "outputs": [],
   "source": [
    "MontoGastoNochesA = NegociosTA.drop(NegociosTA[NegociosTA['Logro: Tipo de registro'] !=  'Turismo Noches'].index)\n",
    "\n",
    "MontoGastoNochesA = MontoGastoNochesA.groupby(['Logro: Responsable Colombia' , 'Logro: Tipo de registro' \n",
    "                                                          ])['Logro: Valor'].sum().reset_index()\n",
    "\n",
    "MontoGastoNochesA.rename(columns={'Logro: Responsable Colombia': 'Meta: Nombre del propietario'}, inplace=True)\n",
    "MontoGastoNochesA.rename(columns={'Logro: Tipo de registro': 'Meta: Tipo de meta'}, inplace=True)\n",
    "\n",
    "\n",
    "MontoGastoNochesA = (MontoGastoNochesA.replace('Turismo Noches', 'Monto de gasto de noches'))"
   ]
  },
  {
   "cell_type": "code",
   "execution_count": 67,
   "id": "fee7b454",
   "metadata": {},
   "outputs": [],
   "source": [
    "TFinal = TFinal.merge(MontoGastoNochesA, how='outer', left_on=['Meta: Nombre del propietario' , 'Meta: Tipo de meta'], \n",
    "                      right_on=['Meta: Nombre del propietario' , 'Meta: Tipo de meta']).fillna(0)\n",
    "\n",
    "\n",
    "TFinal['Valor 2020'] = TFinal['Valor 2020'] + TFinal['Logro: Valor']\n",
    "TFinal = TFinal.drop(columns=['Logro: Valor'])\n"
   ]
  },
  {
   "cell_type": "markdown",
   "id": "d6a11caf",
   "metadata": {},
   "source": [
    "### Monto de Gasto de Paquetes"
   ]
  },
  {
   "cell_type": "markdown",
   "id": "73f9d7f9",
   "metadata": {},
   "source": [
    "#### 2021"
   ]
  },
  {
   "cell_type": "code",
   "execution_count": 68,
   "id": "bf015316",
   "metadata": {},
   "outputs": [],
   "source": [
    "MontoPaquetes = NegociosT.drop(NegociosT[NegociosT['Logro: Tipo de registro'] !=  'Paquetes Turismo'].index)\n",
    "\n",
    "MontoPaquetes = MontoPaquetes.groupby(['Logro: Responsable Colombia' , 'Logro: Tipo de registro' \n",
    "                                                          ])['Logro: Valor'].sum().reset_index()\n",
    "\n",
    "MontoPaquetes.rename(columns={'Logro: Responsable Colombia': 'Meta: Nombre del propietario'}, inplace=True)\n",
    "MontoPaquetes.rename(columns={'Logro: Tipo de registro': 'Meta: Tipo de meta'}, inplace=True)\n",
    "\n",
    "\n",
    "MontoPaquetes = (MontoPaquetes.replace('Paquetes Turismo', 'Monto de gasto paquetes'))"
   ]
  },
  {
   "cell_type": "code",
   "execution_count": 69,
   "id": "b3391ded",
   "metadata": {},
   "outputs": [],
   "source": [
    "TFinal = TFinal.merge(MontoPaquetes, how='outer', left_on=['Meta: Nombre del propietario' , 'Meta: Tipo de meta'], \n",
    "                      right_on=['Meta: Nombre del propietario' , 'Meta: Tipo de meta']).fillna(0)\n",
    "\n",
    "\n",
    "TFinal['Valor'] = TFinal['Valor'] + TFinal['Logro: Valor']\n",
    "TFinal = TFinal.drop(columns=['Logro: Valor'])\n"
   ]
  },
  {
   "cell_type": "markdown",
   "id": "62692244",
   "metadata": {},
   "source": [
    "#### 2020"
   ]
  },
  {
   "cell_type": "code",
   "execution_count": 70,
   "id": "fcc1e2c9",
   "metadata": {},
   "outputs": [],
   "source": [
    "MontoPaquetesA = NegociosTA.drop(NegociosTA[NegociosTA['Logro: Tipo de registro'] !=  'Paquetes Turismo'].index)\n",
    "\n",
    "MontoPaquetesA = MontoPaquetesA.groupby(['Logro: Responsable Colombia' , 'Logro: Tipo de registro' \n",
    "                                                          ])['Logro: Valor'].sum().reset_index()\n",
    "\n",
    "MontoPaquetesA.rename(columns={'Logro: Responsable Colombia': 'Meta: Nombre del propietario'}, inplace=True)\n",
    "MontoPaquetesA.rename(columns={'Logro: Tipo de registro': 'Meta: Tipo de meta'}, inplace=True)\n",
    "\n",
    "\n",
    "MontoPaquetesA = (MontoPaquetesA.replace('Paquetes Turismo', 'Monto de gasto paquetes'))"
   ]
  },
  {
   "cell_type": "code",
   "execution_count": 71,
   "id": "255c9f51",
   "metadata": {},
   "outputs": [],
   "source": [
    "TFinal = TFinal.merge(MontoPaquetesA, how='outer', left_on=['Meta: Nombre del propietario' , 'Meta: Tipo de meta'], \n",
    "                      right_on=['Meta: Nombre del propietario' , 'Meta: Tipo de meta']).fillna(0)\n",
    "\n",
    "\n",
    "TFinal['Valor 2020'] = TFinal['Valor 2020'] + TFinal['Logro: Valor']\n",
    "TFinal = TFinal.drop(columns=['Logro: Valor'])\n"
   ]
  },
  {
   "cell_type": "markdown",
   "id": "99f95591",
   "metadata": {},
   "source": [
    "### Número de empresas con servicios en turismo"
   ]
  },
  {
   "cell_type": "code",
   "execution_count": 72,
   "id": "e09b3fd3",
   "metadata": {},
   "outputs": [],
   "source": [
    "#ENacionales2 = ENacionales.drop(ENacionales[ENacionales['Año de Fecha creación'] != añoactual].index)\n",
    "ENacionales2 = ENacionales.drop(ENacionales[ENacionales['Eje'] !=  'Turismo'].index)\n",
    "\n",
    "\n",
    "ENacionales2 = ENacionales2.drop(ENacionales2[(ENacionales2['Estado'] !=  'Realizada') & \n",
    "                                     (ENacionales2['Estado'] !=  'Entregado') & \n",
    "                                     (ENacionales2['Estado'] !=  'Finalizado') & \n",
    "                                     (ENacionales2['Estado'] !=  'Participó') & \n",
    "                                     (ENacionales2['Estado'] !=  'Evaluación del evento recibida')].index)\n",
    "\n",
    "\n",
    "ENacionales2['Empresa'] = ENacionales2['Empresa'].str.lower()\n",
    "\n",
    "ENacionales3 = ENacionales2.drop(ENacionales2[ENacionales2['Fecha'] < eneroañoanterior].index)\n",
    "ENacionales3 = ENacionales3.drop(ENacionales3[ENacionales3['Fecha'] > fechaactual_añoanterior].index)\n",
    "\n",
    "Enacionales4 = ENacionales2.drop(ENacionales2[ENacionales2['Año de Fecha creación'] != añoanterior].index)\n",
    "\n",
    "ENacionales2 = ENacionales2.drop(ENacionales2[ENacionales2['Fecha'] < negociosañoactual].index)\n",
    "ENacionales2 = ENacionales2.drop(ENacionales2[ENacionales2['Fecha'] > fechaactual].index)\n",
    "\n",
    "ENacionales_Nacional = ENacionales2.drop(ENacionales2[ENacionales2['Tipo empresa'] !=  'Nacional'].index)\n",
    "ENacionales_Exterior = ENacionales2.drop(ENacionales2[ENacionales2['Tipo empresa'] !=  'Exterior'].index)\n",
    "\n",
    "ENacionales_NacionalA = ENacionales3.drop(ENacionales3[ENacionales3['Tipo empresa'] !=  'Nacional'].index)\n",
    "ENacionales_ExteriorA = ENacionales3.drop(ENacionales3[ENacionales3['Tipo empresa'] !=  'Exterior'].index)\n",
    "\n"
   ]
  },
  {
   "cell_type": "markdown",
   "id": "fcd7afdc",
   "metadata": {},
   "source": [
    "#### 2021"
   ]
  },
  {
   "cell_type": "code",
   "execution_count": 73,
   "id": "d12ff092",
   "metadata": {},
   "outputs": [],
   "source": [
    "ENTuris_Nal = ENacionales_Nacional.groupby(['Responsable nacional'])['Empresa'].nunique().reset_index()\n",
    "ENTuris_Ext = ENacionales_Exterior.groupby(['Responsable exterior'])['Empresa'].nunique().reset_index()\n",
    "\n",
    "ENTuris_Nal.rename(columns={'Responsable nacional': 'Meta: Nombre del propietario'}, inplace=True)\n",
    "ENTuris_Ext.rename(columns={'Responsable exterior': 'Meta: Nombre del propietario'}, inplace=True)\n",
    "\n",
    "ENTuris = ENTuris_Nal.append(ENTuris_Ext)\n",
    "ENTuris['Meta: Tipo de meta'] = 'Número de empresas con servicios en turismo'"
   ]
  },
  {
   "cell_type": "code",
   "execution_count": 74,
   "id": "7c7b3e68",
   "metadata": {},
   "outputs": [],
   "source": [
    "TFinal = TFinal.merge(ENTuris, how='left', left_on=['Meta: Nombre del propietario' , 'Meta: Tipo de meta'], \n",
    "                      right_on=['Meta: Nombre del propietario' , 'Meta: Tipo de meta']).fillna(0)\n",
    "\n",
    "\n",
    "TFinal['Valor'] = TFinal['Valor'] + TFinal['Empresa']\n",
    "TFinal = TFinal.drop(columns=['Empresa'])\n"
   ]
  },
  {
   "cell_type": "markdown",
   "id": "c6afeaad",
   "metadata": {},
   "source": [
    "#### 2020"
   ]
  },
  {
   "cell_type": "code",
   "execution_count": 75,
   "id": "b0e18242",
   "metadata": {},
   "outputs": [],
   "source": [
    "ENTuris_NalA = ENacionales_NacionalA.groupby(['Responsable nacional'])['Empresa'].nunique().reset_index()\n",
    "ENTuris_ExtA = ENacionales_ExteriorA.groupby(['Responsable exterior'])['Empresa'].nunique().reset_index()\n",
    "\n",
    "ENTuris_NalA.rename(columns={'Responsable nacional': 'Meta: Nombre del propietario'}, inplace=True)\n",
    "ENTuris_ExtA.rename(columns={'Responsable exterior': 'Meta: Nombre del propietario'}, inplace=True)\n",
    "\n",
    "ENTurisA = ENTuris_NalA.append(ENTuris_ExtA)\n",
    "ENTurisA['Meta: Tipo de meta'] = 'Número de empresas con servicios en turismo'\n"
   ]
  },
  {
   "cell_type": "code",
   "execution_count": 76,
   "id": "8831c9c7",
   "metadata": {},
   "outputs": [],
   "source": [
    "TFinal = TFinal.merge(ENTurisA, how='left', left_on=['Meta: Nombre del propietario' , 'Meta: Tipo de meta'], \n",
    "                      right_on=['Meta: Nombre del propietario' , 'Meta: Tipo de meta']).fillna(0)\n",
    "\n",
    "\n",
    "TFinal['Valor 2020'] = TFinal['Valor 2020'] + TFinal['Empresa']\n",
    "TFinal = TFinal.drop(columns=['Empresa'])\n"
   ]
  },
  {
   "cell_type": "markdown",
   "id": "63885e8d",
   "metadata": {},
   "source": [
    "##### Eliminando los que tienen resultados pero no metas --> how ='left'"
   ]
  },
  {
   "cell_type": "markdown",
   "id": "9ea16308",
   "metadata": {},
   "source": [
    "### Número de empresas PyA con primer acercamiento comercial "
   ]
  },
  {
   "cell_type": "code",
   "execution_count": 77,
   "id": "71b46151",
   "metadata": {},
   "outputs": [],
   "source": [
    "Enacionales2020 = Enacionales4.drop(Enacionales4[Enacionales4['Tipo empresa'] !=  'Nacional'].index)\n",
    "Enacionales2020 = Enacionales2020.drop(Enacionales2020[Enacionales2020['Tipo registro'] !=  'MACRORRUEDAS Y ENCUENTROS COMERCIALES'].index)\n",
    "Enacionales2020 = Enacionales2020[['Responsable nacional','Empresa']]\n",
    "#Enacionales2020 = Enacionales2020.drop_duplicates()\n",
    "Enacionales2020['Acercamiento en 2020'] = 1\n",
    "\n",
    "#EmpresasAcercamiento = Enacionales4.groupby(['Responsable nacional' , 'Empresa'])['Pais cuenta Principal'].count().reset_index()\n",
    "\n",
    "Enacionales2021 = ENacionales2.drop(ENacionales2[ENacionales2['Tipo empresa'] !=  'Nacional'].index)\n",
    "Enacionales2021 = Enacionales2021.drop(Enacionales2021[Enacionales2021['Tipo registro'] !=  'MACRORRUEDAS Y ENCUENTROS COMERCIALES'].index)\n",
    "Enacionales2021 = Enacionales2021[['Responsable nacional','Empresa']]\n",
    "#Enacionales2021 = Enacionales2021.drop_duplicates()\n",
    "\n",
    "\n",
    "EmpresasPrimerAcercamiento = Enacionales2021.merge(Enacionales2020, how='left', left_on=['Responsable nacional','Empresa'], \n",
    "                      right_on=['Responsable nacional','Empresa']).fillna(0)\n",
    "\n",
    "EmpresasPrimerAcercamiento = EmpresasPrimerAcercamiento.drop_duplicates(subset=['Empresa'])\n",
    "\n",
    "EmpresasPrimerAcercamiento = EmpresasPrimerAcercamiento.drop(EmpresasPrimerAcercamiento[EmpresasPrimerAcercamiento['Acercamiento en 2020'] == 1].index)\n",
    "EmpresasPrimerAcercamiento = EmpresasPrimerAcercamiento.groupby(['Responsable nacional'])['Empresa'].nunique().reset_index()\n",
    "\n",
    "EmpresasPrimerAcercamiento['Meta: Tipo de meta'] = 'Número de empresas PyA con primer acercamiento comercial'\n",
    "\n",
    "EmpresasPrimerAcercamiento.rename(columns={'Responsable nacional': 'Meta: Nombre del propietario'}, inplace=True)\n",
    "\n",
    "EmpresasPrimerAcercamiento = EmpresasPrimerAcercamiento.drop_duplicates(subset=['Empresa'])\n",
    "\n",
    "TFinal = TFinal.merge(EmpresasPrimerAcercamiento, how='left', left_on=['Meta: Nombre del propietario' , 'Meta: Tipo de meta'], \n",
    "                      right_on=['Meta: Nombre del propietario' , 'Meta: Tipo de meta']).fillna(0)\n",
    "\n",
    "\n",
    "TFinal['Valor'] = TFinal['Valor'] + TFinal['Empresa']\n",
    "TFinal = TFinal.drop(columns=['Empresa'])\n"
   ]
  },
  {
   "cell_type": "code",
   "execution_count": 78,
   "id": "ae880364",
   "metadata": {},
   "outputs": [],
   "source": [
    "EmpresasPrimerAcercamiento = Enacionales2021.merge(Enacionales2020, how='left', left_on=['Responsable nacional','Empresa'], \n",
    "                      right_on=['Responsable nacional','Empresa']).fillna(0)\n",
    "\n",
    "EmpresasPrimerAcercamiento = EmpresasPrimerAcercamiento.drop_duplicates(subset=['Empresa'])\n",
    "\n",
    "EmpresasPrimerAcercamiento = EmpresasPrimerAcercamiento.drop(EmpresasPrimerAcercamiento[EmpresasPrimerAcercamiento['Acercamiento en 2020'] == 1].index)"
   ]
  },
  {
   "cell_type": "markdown",
   "id": "05a5a68b",
   "metadata": {},
   "source": [
    "### Número de frecuencias"
   ]
  },
  {
   "cell_type": "markdown",
   "id": "7e3aad39",
   "metadata": {},
   "source": [
    "#### 2021"
   ]
  },
  {
   "cell_type": "code",
   "execution_count": 79,
   "id": "07686d64",
   "metadata": {},
   "outputs": [],
   "source": [
    "Frecuencias['Meta: Tipo de meta'] = 'Número de frecuencias'"
   ]
  },
  {
   "cell_type": "code",
   "execution_count": 80,
   "id": "0da511b6",
   "metadata": {},
   "outputs": [],
   "source": [
    "FrecT = Frecuencias.groupby(['Meta: Tipo de meta'])['Frecuencias'].sum().reset_index()\n",
    "\n",
    "TFinal = TFinal.merge(FrecT, how='left', left_on=[ 'Meta: Tipo de meta'], \n",
    "                      right_on=['Meta: Tipo de meta']).fillna(0)\n",
    "\n",
    "\n",
    "TFinal['Valor'] = TFinal['Valor'] + TFinal['Frecuencias']\n",
    "TFinal = TFinal.drop(columns=['Frecuencias'])\n"
   ]
  },
  {
   "cell_type": "markdown",
   "id": "54374892",
   "metadata": {},
   "source": [
    "### Número de sillas"
   ]
  },
  {
   "cell_type": "markdown",
   "id": "d6740b21",
   "metadata": {},
   "source": [
    "#### 2021"
   ]
  },
  {
   "cell_type": "code",
   "execution_count": 81,
   "id": "20be28a4",
   "metadata": {},
   "outputs": [],
   "source": [
    "Frecuencias['Meta: Tipo de meta'] = 'Número de sillas'"
   ]
  },
  {
   "cell_type": "code",
   "execution_count": 82,
   "id": "046f8c25",
   "metadata": {},
   "outputs": [],
   "source": [
    "FrecT2 = Frecuencias.groupby(['Meta: Tipo de meta'])['Sillas'].sum().reset_index()\n",
    "\n",
    "TFinal = TFinal.merge(FrecT2, how='left', left_on=[ 'Meta: Tipo de meta'], \n",
    "                      right_on=['Meta: Tipo de meta']).fillna(0)\n",
    "\n",
    "\n",
    "TFinal['Valor'] = TFinal['Valor'] + TFinal['Sillas']\n",
    "TFinal = TFinal.drop(columns=['Sillas'])\n"
   ]
  },
  {
   "cell_type": "code",
   "execution_count": 83,
   "id": "e63e7903",
   "metadata": {},
   "outputs": [],
   "source": [
    "TFinal = TFinal.drop(TFinal[TFinal['Meta Total'] ==  0].index)\n",
    "\n",
    "TFinalEXT = TFinal.drop(TFinal[TFinal['Meta: Tipo meta funcionario'] !=  'EXTERIOR'].index)"
   ]
  },
  {
   "cell_type": "markdown",
   "id": "b20169c7",
   "metadata": {},
   "source": [
    "### Proyecto de gestión"
   ]
  },
  {
   "cell_type": "code",
   "execution_count": 84,
   "id": "0feb22a0",
   "metadata": {},
   "outputs": [],
   "source": [
    "ProyectoseHitos['Hito: Fecha Inicio'] = pd.to_datetime(ProyectoseHitos['Hito: Fecha Inicio'], format='%d/%m/%Y')\n",
    "ProyectoseHitos1 =  ProyectoseHitos.drop(ProyectoseHitos[ProyectoseHitos['Hito: Fecha Inicio'] < fechaactual2].index)\n",
    "ProyectoseHitos1 = ProyectoseHitos1.dropna(subset=['Hito: Fecha Inicio'])\n"
   ]
  },
  {
   "cell_type": "code",
   "execution_count": 85,
   "id": "41c694a2",
   "metadata": {},
   "outputs": [],
   "source": [
    "ProyectoseHitos1 =  ProyectoseHitos1.drop(ProyectoseHitos1[ProyectoseHitos1['Proyecto: Nombre'] == 'Caja de Herramientas de Innovación para el Turismo'].index)\n",
    "ProyectoseHitos1 =  ProyectoseHitos1.drop(ProyectoseHitos1[ProyectoseHitos1['Proyecto: Nombre'] == 'Colombianos en el exterior 2020'].index)\n",
    "ProyectoseHitos1 =  ProyectoseHitos1.drop(ProyectoseHitos1[ProyectoseHitos1['Proyecto: Nombre'] == 'Meaningful plan'].index)\n",
    "ProyectoseHitos1 =  ProyectoseHitos1.drop(ProyectoseHitos1[ProyectoseHitos1['Proyecto: Nombre'] == 'Meeting plannner 2.0'].index)\n",
    "ProyectoseHitos1 =  ProyectoseHitos1.drop(ProyectoseHitos1[ProyectoseHitos1['Proyecto: Nombre'] == 'Planes regionales vicepresidencia de turismo'].index)\n",
    "ProyectoseHitos1 =  ProyectoseHitos1.drop(ProyectoseHitos1[ProyectoseHitos1['Proyecto: Nombre'] == 'Programa de formación exportadora en turismo – versión hibrida'].index)\n"
   ]
  },
  {
   "cell_type": "code",
   "execution_count": 86,
   "id": "308c46ea",
   "metadata": {},
   "outputs": [],
   "source": [
    "PG = ProyectoseHitos1.groupby(['Proyecto: Propietario' , 'Proyecto: Nombre' , \n",
    "                   'Hito: Nombre'])['Hito: Peso'].sum().reset_index()\n",
    "PG2 = ProyectoseHitos1.groupby(['Proyecto: Propietario' , 'Proyecto: Nombre' , \n",
    "                   'Hito: Nombre'])['Hito: Avance'].sum().reset_index()\n"
   ]
  },
  {
   "cell_type": "code",
   "execution_count": 87,
   "id": "9849d83c",
   "metadata": {},
   "outputs": [],
   "source": [
    "PGF = PG.merge(PG2, how='outer', left_on=['Proyecto: Propietario' , 'Proyecto: Nombre' , \n",
    "                   'Hito: Nombre'], right_on=['Proyecto: Propietario' , 'Proyecto: Nombre' , \n",
    "                   'Hito: Nombre']).fillna(0)\n",
    "PGF['Avance Ponderado'] = (PGF['Hito: Peso']*0.1) * (PGF['Hito: Avance']*0.1)\n",
    "\n",
    "PGFF = PGF.groupby(['Proyecto: Propietario'])['Avance Ponderado'].sum().reset_index()\n",
    "PGFF['Meta: Tipo de meta'] = 'Proyecto de gestión'\n",
    "PGFF.rename(columns={'Oportunidad: Consecutivo': 'Valor Real'}, inplace=True)\n"
   ]
  },
  {
   "cell_type": "code",
   "execution_count": 88,
   "id": "191d4e00",
   "metadata": {},
   "outputs": [],
   "source": [
    "PGFF.rename(columns={'Proyecto: Propietario': 'Meta: Nombre del propietario'}, inplace=True)\n"
   ]
  },
  {
   "cell_type": "code",
   "execution_count": 89,
   "id": "b9b05e66",
   "metadata": {},
   "outputs": [],
   "source": [
    "TFinal = TFinal.merge(PGFF, how='outer', left_on=['Meta: Nombre del propietario', 'Meta: Tipo de meta'], \n",
    "                      right_on=['Meta: Nombre del propietario', 'Meta: Tipo de meta']).fillna(0)"
   ]
  },
  {
   "cell_type": "code",
   "execution_count": 90,
   "id": "c4d185c2",
   "metadata": {
    "scrolled": true
   },
   "outputs": [],
   "source": [
    "TFinal =  TFinal.drop(TFinal[TFinal['Meta Total'] == 0].index).reset_index()\n",
    "\n",
    "#TFinal[TFinal['Meta: Tipo de meta'] == 'Proyecto de gestión']\n"
   ]
  },
  {
   "cell_type": "code",
   "execution_count": 91,
   "id": "acdaa0fe",
   "metadata": {},
   "outputs": [],
   "source": [
    "TFinal['Valor'] = TFinal['Valor'] + TFinal['Avance Ponderado']\n",
    "TFinal = TFinal.drop(columns=['Avance Ponderado' , 'index'])\n"
   ]
  },
  {
   "cell_type": "markdown",
   "id": "eb60b39c",
   "metadata": {},
   "source": [
    "### VPT Visitantes no residentes"
   ]
  },
  {
   "cell_type": "code",
   "execution_count": 92,
   "id": "22797fc5",
   "metadata": {},
   "outputs": [],
   "source": [
    "InfoResponsanles = TFinalEXT[['Meta: Tipo meta funcionario', 'E_HUB2019', 'E_Localización' , 'E_Clasificación',\n",
    "                        'Meta: Nombre del propietario' , 'E_Rol' , 'Tipo de Indicador' ]]\n",
    "\n",
    "Responsables=TFinalEXT[['Meta: Nombre del propietario']]\n",
    "Responsables = Responsables.drop_duplicates(subset = ['Meta: Nombre del propietario'])\n",
    "Responsables = Responsables.reset_index()\n",
    "Responsables['Meta: Tipo de meta'] = 'VPT Visitantes no residentes'\n",
    "\n",
    "Responsables = Responsables.merge(InfoResponsanles, how='left', left_on=['Meta: Nombre del propietario'], \n",
    "                      right_on=['Meta: Nombre del propietario']).fillna(0)\n",
    "Responsables = Responsables.drop_duplicates(subset = ['Meta: Nombre del propietario'])\n",
    "Responsables = Responsables.reset_index()\n",
    "\n",
    "TFinal = TFinal.append(Responsables)\n",
    "TFinal.loc[TFinal['Meta: Tipo de meta'] == 'VPT Visitantes no residentes', 'Valor 2020'] = ' 1.393.827 '\n",
    "TFinal.loc[TFinal['Meta: Tipo de meta'] == 'VPT Visitantes no residentes', 'Meta Total'] = ' 1.393.827 '\n",
    "TFinal.loc[TFinal['Meta: Tipo de meta'] == 'VPT Visitantes no residentes', 'Meta Q'] = ' 1.393.827 '\n",
    "TFinal.loc[TFinal['Meta: Tipo de meta'] == 'VPT Visitantes no residentes', 'Valor'] = ' 984.567 '\n",
    "TFinal = TFinal.drop(columns=['index'])\n"
   ]
  },
  {
   "cell_type": "code",
   "execution_count": 93,
   "id": "f3a5ee74",
   "metadata": {},
   "outputs": [
    {
     "data": {
      "text/html": [
       "<div>\n",
       "<style scoped>\n",
       "    .dataframe tbody tr th:only-of-type {\n",
       "        vertical-align: middle;\n",
       "    }\n",
       "\n",
       "    .dataframe tbody tr th {\n",
       "        vertical-align: top;\n",
       "    }\n",
       "\n",
       "    .dataframe thead th {\n",
       "        text-align: right;\n",
       "    }\n",
       "</style>\n",
       "<table border=\"1\" class=\"dataframe\">\n",
       "  <thead>\n",
       "    <tr style=\"text-align: right;\">\n",
       "      <th></th>\n",
       "      <th>Meta: Tipo meta funcionario</th>\n",
       "      <th>E_HUB2019</th>\n",
       "      <th>E_Localización</th>\n",
       "      <th>E_Clasificación</th>\n",
       "      <th>Meta: Nombre del propietario</th>\n",
       "      <th>E_Rol</th>\n",
       "      <th>Tipo de Indicador</th>\n",
       "      <th>Meta: Tipo de meta</th>\n",
       "      <th>Meta Total</th>\n",
       "      <th>Meta Q</th>\n",
       "      <th>Valor</th>\n",
       "      <th>Valor 2020</th>\n",
       "      <th>level_0</th>\n",
       "    </tr>\n",
       "  </thead>\n",
       "  <tbody>\n",
       "    <tr>\n",
       "      <th>0</th>\n",
       "      <td>COLOMBIA</td>\n",
       "      <td>Otros</td>\n",
       "      <td>Barranquilla</td>\n",
       "      <td>Ofireg</td>\n",
       "      <td>Vanessa Botero Botero</td>\n",
       "      <td>Asesor regional</td>\n",
       "      <td>Comercial</td>\n",
       "      <td>Captación de Congresos y Eventos</td>\n",
       "      <td>7.0</td>\n",
       "      <td>7.0</td>\n",
       "      <td>7.0</td>\n",
       "      <td>12.0</td>\n",
       "      <td>NaN</td>\n",
       "    </tr>\n",
       "    <tr>\n",
       "      <th>1</th>\n",
       "      <td>COLOMBIA</td>\n",
       "      <td>Otros</td>\n",
       "      <td>Bucaramanga</td>\n",
       "      <td>Ofireg</td>\n",
       "      <td>Silvia Juliana Díaz Reyes</td>\n",
       "      <td>Asesor Regional</td>\n",
       "      <td>Comercial</td>\n",
       "      <td>Captación de Congresos y Eventos</td>\n",
       "      <td>4.0</td>\n",
       "      <td>4.0</td>\n",
       "      <td>2.0</td>\n",
       "      <td>2.0</td>\n",
       "      <td>NaN</td>\n",
       "    </tr>\n",
       "    <tr>\n",
       "      <th>2</th>\n",
       "      <td>COLOMBIA</td>\n",
       "      <td>Otros</td>\n",
       "      <td>Cartagena</td>\n",
       "      <td>Ofireg</td>\n",
       "      <td>Katherin Paola Carrillo Gonzalez</td>\n",
       "      <td>Asesor Turismo Reuniones</td>\n",
       "      <td>Comercial</td>\n",
       "      <td>Captación de Congresos y Eventos</td>\n",
       "      <td>26.0</td>\n",
       "      <td>26.0</td>\n",
       "      <td>22.0</td>\n",
       "      <td>88.0</td>\n",
       "      <td>NaN</td>\n",
       "    </tr>\n",
       "    <tr>\n",
       "      <th>3</th>\n",
       "      <td>COLOMBIA</td>\n",
       "      <td>Otros</td>\n",
       "      <td>Gerencia Turismo Corporativo</td>\n",
       "      <td>Bogotá</td>\n",
       "      <td>Luisa Fernanda Cuellar Sarmiento</td>\n",
       "      <td>Asesor Turismo Reuniones</td>\n",
       "      <td>Comercial</td>\n",
       "      <td>Captación de Congresos y Eventos</td>\n",
       "      <td>3.0</td>\n",
       "      <td>3.0</td>\n",
       "      <td>4.0</td>\n",
       "      <td>10.0</td>\n",
       "      <td>NaN</td>\n",
       "    </tr>\n",
       "    <tr>\n",
       "      <th>4</th>\n",
       "      <td>COLOMBIA</td>\n",
       "      <td>Otros</td>\n",
       "      <td>Medellín</td>\n",
       "      <td>Ofireg</td>\n",
       "      <td>Daniela Mesa Pineda</td>\n",
       "      <td>Asesor regional</td>\n",
       "      <td>Comercial</td>\n",
       "      <td>Captación de Congresos y Eventos</td>\n",
       "      <td>15.0</td>\n",
       "      <td>15.0</td>\n",
       "      <td>18.0</td>\n",
       "      <td>40.0</td>\n",
       "      <td>NaN</td>\n",
       "    </tr>\n",
       "    <tr>\n",
       "      <th>...</th>\n",
       "      <td>...</td>\n",
       "      <td>...</td>\n",
       "      <td>...</td>\n",
       "      <td>...</td>\n",
       "      <td>...</td>\n",
       "      <td>...</td>\n",
       "      <td>...</td>\n",
       "      <td>...</td>\n",
       "      <td>...</td>\n",
       "      <td>...</td>\n",
       "      <td>...</td>\n",
       "      <td>...</td>\n",
       "      <td>...</td>\n",
       "    </tr>\n",
       "    <tr>\n",
       "      <th>29</th>\n",
       "      <td>EXTERIOR</td>\n",
       "      <td>Norteamérica</td>\n",
       "      <td>Estados Unidos</td>\n",
       "      <td>Oficom</td>\n",
       "      <td>Jairo Andres Aguilera Soto</td>\n",
       "      <td>Asesor Oficom solo vacacional</td>\n",
       "      <td>Gestión</td>\n",
       "      <td>VPT Visitantes no residentes</td>\n",
       "      <td>1.393.827</td>\n",
       "      <td>1.393.827</td>\n",
       "      <td>984.567</td>\n",
       "      <td>1.393.827</td>\n",
       "      <td>46.0</td>\n",
       "    </tr>\n",
       "    <tr>\n",
       "      <th>30</th>\n",
       "      <td>EXTERIOR</td>\n",
       "      <td>Norteamérica</td>\n",
       "      <td>Estados Unidos</td>\n",
       "      <td>Oficom</td>\n",
       "      <td>Maria Alejandra Benavidez Medina</td>\n",
       "      <td>Asesor Oficom solo vacacional</td>\n",
       "      <td>Gestión</td>\n",
       "      <td>VPT Visitantes no residentes</td>\n",
       "      <td>1.393.827</td>\n",
       "      <td>1.393.827</td>\n",
       "      <td>984.567</td>\n",
       "      <td>1.393.827</td>\n",
       "      <td>47.0</td>\n",
       "    </tr>\n",
       "    <tr>\n",
       "      <th>31</th>\n",
       "      <td>EXTERIOR</td>\n",
       "      <td>Norteamérica</td>\n",
       "      <td>Estados Unidos</td>\n",
       "      <td>Oficom</td>\n",
       "      <td>Maria Jose Abuabara Brülhart</td>\n",
       "      <td>Asesor Oficom Completo</td>\n",
       "      <td>Gestión</td>\n",
       "      <td>VPT Visitantes no residentes</td>\n",
       "      <td>1.393.827</td>\n",
       "      <td>1.393.827</td>\n",
       "      <td>984.567</td>\n",
       "      <td>1.393.827</td>\n",
       "      <td>48.0</td>\n",
       "    </tr>\n",
       "    <tr>\n",
       "      <th>32</th>\n",
       "      <td>EXTERIOR</td>\n",
       "      <td>Norteamérica</td>\n",
       "      <td>Estados Unidos</td>\n",
       "      <td>Oficom</td>\n",
       "      <td>Mariana Awad Zaher</td>\n",
       "      <td>Asesor Oficom solo Reuniones</td>\n",
       "      <td>Comercial</td>\n",
       "      <td>VPT Visitantes no residentes</td>\n",
       "      <td>1.393.827</td>\n",
       "      <td>1.393.827</td>\n",
       "      <td>984.567</td>\n",
       "      <td>1.393.827</td>\n",
       "      <td>49.0</td>\n",
       "    </tr>\n",
       "    <tr>\n",
       "      <th>33</th>\n",
       "      <td>EXTERIOR</td>\n",
       "      <td>Otros</td>\n",
       "      <td>Otros</td>\n",
       "      <td>Oficom</td>\n",
       "      <td>Director Oficom Otros</td>\n",
       "      <td>Director Oficom</td>\n",
       "      <td>Comercial</td>\n",
       "      <td>VPT Visitantes no residentes</td>\n",
       "      <td>1.393.827</td>\n",
       "      <td>1.393.827</td>\n",
       "      <td>984.567</td>\n",
       "      <td>1.393.827</td>\n",
       "      <td>51.0</td>\n",
       "    </tr>\n",
       "  </tbody>\n",
       "</table>\n",
       "<p>178 rows × 13 columns</p>\n",
       "</div>"
      ],
      "text/plain": [
       "   Meta: Tipo meta funcionario     E_HUB2019                E_Localización  \\\n",
       "0                     COLOMBIA         Otros                  Barranquilla   \n",
       "1                     COLOMBIA         Otros                   Bucaramanga   \n",
       "2                     COLOMBIA         Otros                     Cartagena   \n",
       "3                     COLOMBIA         Otros  Gerencia Turismo Corporativo   \n",
       "4                     COLOMBIA         Otros                      Medellín   \n",
       "..                         ...           ...                           ...   \n",
       "29                    EXTERIOR  Norteamérica                Estados Unidos   \n",
       "30                    EXTERIOR  Norteamérica                Estados Unidos   \n",
       "31                    EXTERIOR  Norteamérica                Estados Unidos   \n",
       "32                    EXTERIOR  Norteamérica                Estados Unidos   \n",
       "33                    EXTERIOR         Otros                         Otros   \n",
       "\n",
       "   E_Clasificación      Meta: Nombre del propietario  \\\n",
       "0           Ofireg             Vanessa Botero Botero   \n",
       "1           Ofireg         Silvia Juliana Díaz Reyes   \n",
       "2           Ofireg  Katherin Paola Carrillo Gonzalez   \n",
       "3           Bogotá  Luisa Fernanda Cuellar Sarmiento   \n",
       "4           Ofireg               Daniela Mesa Pineda   \n",
       "..             ...                               ...   \n",
       "29          Oficom        Jairo Andres Aguilera Soto   \n",
       "30          Oficom  Maria Alejandra Benavidez Medina   \n",
       "31          Oficom      Maria Jose Abuabara Brülhart   \n",
       "32          Oficom                Mariana Awad Zaher   \n",
       "33          Oficom             Director Oficom Otros   \n",
       "\n",
       "                            E_Rol Tipo de Indicador  \\\n",
       "0                 Asesor regional         Comercial   \n",
       "1                 Asesor Regional         Comercial   \n",
       "2        Asesor Turismo Reuniones         Comercial   \n",
       "3        Asesor Turismo Reuniones         Comercial   \n",
       "4                 Asesor regional         Comercial   \n",
       "..                            ...               ...   \n",
       "29  Asesor Oficom solo vacacional           Gestión   \n",
       "30  Asesor Oficom solo vacacional           Gestión   \n",
       "31         Asesor Oficom Completo           Gestión   \n",
       "32   Asesor Oficom solo Reuniones         Comercial   \n",
       "33                Director Oficom         Comercial   \n",
       "\n",
       "                  Meta: Tipo de meta   Meta Total       Meta Q      Valor  \\\n",
       "0   Captación de Congresos y Eventos          7.0          7.0        7.0   \n",
       "1   Captación de Congresos y Eventos          4.0          4.0        2.0   \n",
       "2   Captación de Congresos y Eventos         26.0         26.0       22.0   \n",
       "3   Captación de Congresos y Eventos          3.0          3.0        4.0   \n",
       "4   Captación de Congresos y Eventos         15.0         15.0       18.0   \n",
       "..                               ...          ...          ...        ...   \n",
       "29      VPT Visitantes no residentes   1.393.827    1.393.827    984.567    \n",
       "30      VPT Visitantes no residentes   1.393.827    1.393.827    984.567    \n",
       "31      VPT Visitantes no residentes   1.393.827    1.393.827    984.567    \n",
       "32      VPT Visitantes no residentes   1.393.827    1.393.827    984.567    \n",
       "33      VPT Visitantes no residentes   1.393.827    1.393.827    984.567    \n",
       "\n",
       "     Valor 2020  level_0  \n",
       "0          12.0      NaN  \n",
       "1           2.0      NaN  \n",
       "2          88.0      NaN  \n",
       "3          10.0      NaN  \n",
       "4          40.0      NaN  \n",
       "..          ...      ...  \n",
       "29   1.393.827      46.0  \n",
       "30   1.393.827      47.0  \n",
       "31   1.393.827      48.0  \n",
       "32   1.393.827      49.0  \n",
       "33   1.393.827      51.0  \n",
       "\n",
       "[178 rows x 13 columns]"
      ]
     },
     "execution_count": 93,
     "metadata": {},
     "output_type": "execute_result"
    }
   ],
   "source": [
    "TFinal"
   ]
  },
  {
   "cell_type": "code",
   "execution_count": 94,
   "id": "4ae032ce",
   "metadata": {},
   "outputs": [
    {
     "data": {
      "text/html": [
       "<a href='Turismo.xlsx' target='_blank'>Turismo.xlsx</a><br>"
      ],
      "text/plain": [
       "/Users/Ingridt/Documents/GitHub/Automatizacion/Turismo.xlsx"
      ]
     },
     "execution_count": 94,
     "metadata": {},
     "output_type": "execute_result"
    }
   ],
   "source": [
    "writer = pd.ExcelWriter('Turismo.xlsx')\n",
    "TFinal.to_excel(writer)\n",
    "writer.save()\n",
    "from IPython.display import FileLink\n",
    "FileLink('Turismo.xlsx')"
   ]
  },
  {
   "cell_type": "code",
   "execution_count": 319,
   "id": "5b255c6c",
   "metadata": {},
   "outputs": [],
   "source": [
    "#TFinal[TFinal['Meta: Tipo de meta'] == 'VPT Visitantes no residentes']\n"
   ]
  },
  {
   "cell_type": "code",
   "execution_count": null,
   "id": "f597a170",
   "metadata": {},
   "outputs": [],
   "source": []
  }
 ],
 "metadata": {
  "kernelspec": {
   "display_name": "Python 3",
   "language": "python",
   "name": "python3"
  },
  "language_info": {
   "codemirror_mode": {
    "name": "ipython",
    "version": 3
   },
   "file_extension": ".py",
   "mimetype": "text/x-python",
   "name": "python",
   "nbconvert_exporter": "python",
   "pygments_lexer": "ipython3",
   "version": "3.8.8"
  },
  "nbTranslate": {
   "displayLangs": [
    "*"
   ],
   "hotkey": "alt-t",
   "langInMainMenu": true,
   "sourceLang": "en",
   "targetLang": "fr",
   "useGoogleTranslate": true
  }
 },
 "nbformat": 4,
 "nbformat_minor": 5
}

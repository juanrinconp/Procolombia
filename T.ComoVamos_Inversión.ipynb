{
 "cells": [
  {
   "cell_type": "markdown",
   "id": "aac879d5",
   "metadata": {},
   "source": [
    "\n",
    "# Tablero Como vamos\n",
    "## Vicepresidencia de Planeación - Inversión"
   ]
  },
  {
   "cell_type": "code",
   "execution_count": 5,
   "id": "ef33cf0f",
   "metadata": {},
   "outputs": [],
   "source": [
    "import pandas as pd \n",
    "import numpy as np \n",
    "import matplotlib.pyplot as plt \n",
    "import matplotlib as mpl \n",
    "import six\n",
    "import os \n",
    "\n",
    "pathout = './data/'\n",
    "if not os.path.exists(pathout):\n",
    "    os.mkdir(pathout) \n",
    "    pathgraphs = './graphs/'\n",
    "    if not os.path.exists(pathgraphs): \n",
    "        os.mkdir(pathgraphs)"
   ]
  },
  {
   "cell_type": "code",
   "execution_count": 6,
   "id": "99821ed0",
   "metadata": {},
   "outputs": [],
   "source": [
    "import datetime\n",
    "from datetime import datetime\n"
   ]
  },
  {
   "cell_type": "code",
   "execution_count": 7,
   "id": "7d4025a8",
   "metadata": {},
   "outputs": [],
   "source": [
    "Metas = pd.read_excel(pathout + 'Metas.xlsx')"
   ]
  },
  {
   "cell_type": "code",
   "execution_count": 8,
   "id": "a8b48f0c",
   "metadata": {},
   "outputs": [],
   "source": [
    "Negocios = pd.read_excel(pathout + 'Negocios.xlsx')"
   ]
  },
  {
   "cell_type": "code",
   "execution_count": 9,
   "id": "82605f22",
   "metadata": {},
   "outputs": [],
   "source": [
    "Oportunidades = pd.read_excel(pathout + 'Oportunidades.xlsx')"
   ]
  },
  {
   "cell_type": "code",
   "execution_count": 11,
   "id": "ccc69bb0",
   "metadata": {},
   "outputs": [],
   "source": [
    "ENacionales = pd.read_excel(pathout + 'Empresas_nacionales.xlsx')"
   ]
  },
  {
   "cell_type": "code",
   "execution_count": 37,
   "id": "10f63ae9",
   "metadata": {},
   "outputs": [],
   "source": [
    "Servicios = pd.read_excel(pathout + 'Servicios_Inv.xlsx')"
   ]
  },
  {
   "cell_type": "code",
   "execution_count": 8,
   "id": "91d18d1e",
   "metadata": {},
   "outputs": [],
   "source": [
    "#FuncionarioHub = pd.read_excel(pathout + 'Correlativa funcionario hub.xlsx')"
   ]
  },
  {
   "cell_type": "code",
   "execution_count": 9,
   "id": "968d5eaa",
   "metadata": {},
   "outputs": [],
   "source": [
    "#OficinasHub = pd.read_excel(pathout + 'Oficinas hub.xlsx')"
   ]
  },
  {
   "cell_type": "markdown",
   "id": "c1386677",
   "metadata": {},
   "source": [
    "# Parte 1"
   ]
  },
  {
   "cell_type": "code",
   "execution_count": 124,
   "id": "733f66c5",
   "metadata": {},
   "outputs": [],
   "source": [
    "Negocios['Logro: Cadena Productiva'] = Negocios['Logro: Cadena Productiva'].str.lower()\n",
    "Negocios['E_LocalizaciónCOL'] = Negocios['E_LocalizaciónCOL'].str.lower()\n",
    "Negocios['E_Cadenasproductivas'] = Negocios['E_Cadenasproductivas'].str.lower()\n",
    "Negocios['Logro: Responsable Colombia'] = Negocios['Logro: Responsable Colombia'].str.lower()\n",
    "  \n",
    "Metas['Meta: Nombre del propietario'] = Metas['Meta: Nombre del propietario'].str.lower()\n",
    "Metas['E_Localización'] = Metas['E_Localización'].str.lower()\n",
    "Metas['E_Cadenas'] = Metas['E_Cadenas'].str.lower()\n"
   ]
  },
  {
   "cell_type": "markdown",
   "id": "12cd8096",
   "metadata": {},
   "source": [
    "### Monto de Inversión solo por gerencia y cadena"
   ]
  },
  {
   "cell_type": "code",
   "execution_count": 125,
   "id": "bf9dadb3",
   "metadata": {},
   "outputs": [],
   "source": [
    "añoactual = 2021\n",
    "trimestre = 3\n",
    "\n",
    "propietario_emiratos = 'Tatiana Andrea Cordoba Arteaga'\n",
    "propietario_italia = 'Federico Ibargüen'\n",
    "propietario_italia2 = 'Federico Ibargüen (Vacante)'\n",
    "propietario_PaísesBajos = 'Javier Alejandro Pinzon (Francia)'\n",
    "propietario_PaísesNordicos = 'Laura Margarita Rodríguez Chaparro'\n",
    "\n",
    "#Fecha en Formato aaaa/mm/dd para la base de Tableau 12a\n",
    "negociosañoactual = '2021-01-01'\n",
    "fechaactual  = '2021-12-31'\n",
    "fechaactual2  = '1/01/2021'\n"
   ]
  },
  {
   "cell_type": "code",
   "execution_count": 126,
   "id": "5b11827f",
   "metadata": {},
   "outputs": [],
   "source": [
    "Metas1 = Metas.drop(Metas[Metas['Meta: Eje'] != 'Inversión'].index)\n",
    "Metas1 = Metas1.drop(Metas1[Metas1['Meta: Año'] !=  añoactual].index)\n",
    "Metas1 = Metas1.drop(Metas1[Metas1['Meta: Tipo meta funcionario'] != 'COLOMBIA'].index)\n",
    "MetasQ = Metas1.drop(Metas1[Metas1['Meta: Período'] > trimestre].index)\n"
   ]
  },
  {
   "cell_type": "code",
   "execution_count": 127,
   "id": "f2e34062",
   "metadata": {},
   "outputs": [],
   "source": [
    "a = Metas1.groupby(['E_Localización' , 'Meta: Tipo de meta' , 'E_Cadenas' ])['Meta: Valor meta'].sum().reset_index()\n",
    "a2 = MetasQ.groupby(['E_Localización' , 'Meta: Tipo de meta' , 'E_Cadenas' ])['Meta: Valor meta'].sum().reset_index()\n"
   ]
  },
  {
   "cell_type": "code",
   "execution_count": 128,
   "id": "cba9da81",
   "metadata": {},
   "outputs": [],
   "source": [
    "Metasdf = a.merge(a2, how='outer', left_on=['E_Localización' ,  'Meta: Tipo de meta' , 'E_Cadenas'], right_on=['E_Localización' , 'Meta: Tipo de meta' , 'E_Cadenas']).fillna(0)\n",
    "Metasdf.rename(columns={'Meta: Valor meta_x': 'Valor Meta', 'Meta: Valor meta_y': 'Valor Meta Q'}, inplace=True)\n"
   ]
  },
  {
   "cell_type": "markdown",
   "id": "6518aa3b",
   "metadata": {},
   "source": [
    "### Monto de Inversión solo por gerencia y cadena"
   ]
  },
  {
   "cell_type": "code",
   "execution_count": 129,
   "id": "9ab544ee",
   "metadata": {},
   "outputs": [],
   "source": [
    "Negocios1 = Negocios.drop(Negocios[Negocios['Logro: Eje'] != 'Inversión'].index)\n",
    "Negocios1 = Negocios1.drop(Negocios1[Negocios1['Meta 1 responsable Colombia: Año'] !=  añoactual].index)\n",
    "Negocios1 = Negocios1.drop(Negocios1[Negocios1['Logro: Tipo de registro'] !=  'Monto de Inversión'].index)\n",
    "\n"
   ]
  },
  {
   "cell_type": "code",
   "execution_count": 130,
   "id": "bc627a24",
   "metadata": {},
   "outputs": [],
   "source": [
    "b = Negocios1.groupby(['E_LocalizaciónCOL' , 'E_Cadenasproductivas'])['Logro: Valor'].sum().reset_index()\n",
    "b['Meta: Tipo de meta']= 'Monto de Inversión'\n",
    "b.rename(columns={'E_LocalizaciónCOL' : 'E_Localización' , 'E_Cadenasproductivas':'E_Cadenas'}, inplace=True)\n"
   ]
  },
  {
   "cell_type": "code",
   "execution_count": 131,
   "id": "2b0ed9f8",
   "metadata": {},
   "outputs": [],
   "source": [
    "\n",
    "TFinal = Metasdf.merge(b, how='left', left_on=['E_Localización' , 'E_Cadenas' , 'Meta: Tipo de meta'], right_on=['E_Localización' , 'E_Cadenas' , 'Meta: Tipo de meta']).fillna(0)\n"
   ]
  },
  {
   "cell_type": "code",
   "execution_count": 132,
   "id": "baa080d3",
   "metadata": {},
   "outputs": [],
   "source": [
    "py = Negocios1.groupby(['E_LocalizaciónCOL' , 'E_Cadenasproductivas'])['E_ConteoProyectosInversión'].sum().reset_index()\n",
    "py['Meta: Tipo de meta']= 'Proyectos Inversión'\n",
    "py.rename(columns={'E_LocalizaciónCOL':'E_Localización'  , 'E_Cadenasproductivas' :'E_Cadenas' }, inplace=True)\n",
    "\n",
    "TFinal = TFinal.merge(py, how='left', left_on=['E_Localización' , 'E_Cadenas' , 'Meta: Tipo de meta'], right_on=['E_Localización' , 'E_Cadenas' , 'Meta: Tipo de meta']).fillna(0)\n",
    "TFinal['Logro: Valor'] = TFinal['Logro: Valor'] + TFinal['E_ConteoProyectosInversión']\n",
    "TFinal = TFinal.drop(columns=['E_ConteoProyectosInversión'])\n"
   ]
  },
  {
   "cell_type": "markdown",
   "id": "70bd32f2",
   "metadata": {},
   "source": [
    "### Monto de Inversión Por Gerencia y Responsable"
   ]
  },
  {
   "cell_type": "code",
   "execution_count": 112,
   "id": "53e4112f",
   "metadata": {},
   "outputs": [],
   "source": [
    "a = Metas1.groupby(['E_Localización' , 'Meta: Nombre del propietario' , 'Meta: Tipo de meta' , 'E_Cadenas' ])['Meta: Valor meta'].sum().reset_index()\n",
    "a2 = MetasQ.groupby(['E_Localización' , 'Meta: Nombre del propietario' , 'Meta: Tipo de meta' , 'E_Cadenas' ])['Meta: Valor meta'].sum().reset_index()\n"
   ]
  },
  {
   "cell_type": "code",
   "execution_count": 113,
   "id": "6fd313be",
   "metadata": {},
   "outputs": [],
   "source": [
    "Metasdf = a.merge(a2, how='outer', left_on=['E_Localización' , 'Meta: Nombre del propietario' ,'Meta: Tipo de meta' , 'E_Cadenas'], right_on=['E_Localización' , 'Meta: Nombre del propietario','Meta: Tipo de meta' , 'E_Cadenas']).fillna(0)\n",
    "Metasdf.rename(columns={'Meta: Valor meta_x': 'Valor Meta', 'Meta: Valor meta_y': 'Valor Meta Q'}, inplace=True)\n"
   ]
  },
  {
   "cell_type": "code",
   "execution_count": 114,
   "id": "fbfb48fa",
   "metadata": {},
   "outputs": [],
   "source": [
    "Negocios1 = Negocios.drop(Negocios[Negocios['Logro: Eje'] != 'Inversión'].index)\n",
    "Negocios1 = Negocios1.drop(Negocios1[Negocios1['Meta 1 responsable Colombia: Año'] !=  añoactual].index)\n",
    "Negocios1 = Negocios1.drop(Negocios1[Negocios1['Logro: Tipo de registro'] !=  'Monto de Inversión'].index)\n"
   ]
  },
  {
   "cell_type": "code",
   "execution_count": 116,
   "id": "62949015",
   "metadata": {},
   "outputs": [],
   "source": [
    "b = Negocios1.groupby(['E_LocalizaciónCOL' , 'Logro: Responsable Colombia', 'E_Cadenasproductivas'])['Logro: Valor'].sum().reset_index()\n",
    "b['Meta: Tipo de meta']= 'Monto de Inversión'\n",
    "b.rename(columns={'E_LocalizaciónCOL' : 'E_Localización' , 'E_Cadenasproductivas':'E_Cadenas' , 'Logro: Responsable Colombia': 'Meta: Nombre del propietario'}, inplace=True)\n"
   ]
  },
  {
   "cell_type": "code",
   "execution_count": 117,
   "id": "d69f3891",
   "metadata": {},
   "outputs": [],
   "source": [
    "TFinal = Metasdf.merge(b, how='left', left_on=['E_Localización' , 'Meta: Nombre del propietario','E_Cadenas' , 'Meta: Tipo de meta'], right_on=['E_Localización', 'Meta: Nombre del propietario', 'E_Cadenas' , 'Meta: Tipo de meta']).fillna(0)\n"
   ]
  },
  {
   "cell_type": "code",
   "execution_count": 119,
   "id": "4378f250",
   "metadata": {},
   "outputs": [],
   "source": [
    "py = Negocios1.groupby(['E_LocalizaciónCOL' ,'Logro: Responsable Colombia' , 'E_Cadenasproductivas'])['E_ConteoProyectosInversión'].sum().reset_index()\n",
    "py['Meta: Tipo de meta']= 'Proyectos Inversión'\n",
    "py.rename(columns={'E_LocalizaciónCOL':'E_Localización'  , 'E_Cadenasproductivas' :'E_Cadenas' , 'Logro: Responsable Colombia': 'Meta: Nombre del propietario'}, inplace=True)\n",
    "\n",
    "TFinal = TFinal.merge(py, how='left', left_on=['E_Localización' , 'E_Cadenas' , 'Meta: Nombre del propietario' , 'Meta: Tipo de meta'], right_on=['E_Localización' , 'E_Cadenas' ,'Meta: Nombre del propietario' , 'Meta: Tipo de meta']).fillna(0)\n",
    "TFinal['Logro: Valor'] = TFinal['Logro: Valor'] + TFinal['E_ConteoProyectosInversión']\n",
    "TFinal = TFinal.drop(columns=['E_ConteoProyectosInversión'])\n",
    "\n"
   ]
  },
  {
   "cell_type": "code",
   "execution_count": null,
   "id": "4d9f6e81",
   "metadata": {},
   "outputs": [],
   "source": []
  },
  {
   "cell_type": "code",
   "execution_count": null,
   "id": "927a0134",
   "metadata": {},
   "outputs": [],
   "source": []
  },
  {
   "cell_type": "code",
   "execution_count": null,
   "id": "4e6fc21b",
   "metadata": {},
   "outputs": [],
   "source": []
  },
  {
   "cell_type": "code",
   "execution_count": null,
   "id": "fdf85736",
   "metadata": {},
   "outputs": [],
   "source": []
  },
  {
   "cell_type": "code",
   "execution_count": null,
   "id": "a560f5ae",
   "metadata": {},
   "outputs": [],
   "source": []
  },
  {
   "cell_type": "code",
   "execution_count": null,
   "id": "c764519d",
   "metadata": {},
   "outputs": [],
   "source": []
  },
  {
   "cell_type": "code",
   "execution_count": null,
   "id": "a1df98e2",
   "metadata": {},
   "outputs": [],
   "source": []
  },
  {
   "cell_type": "code",
   "execution_count": null,
   "id": "b9d31807",
   "metadata": {},
   "outputs": [],
   "source": []
  },
  {
   "cell_type": "markdown",
   "id": "d22fb172",
   "metadata": {},
   "source": [
    "# Parte 2.1"
   ]
  },
  {
   "cell_type": "code",
   "execution_count": 12,
   "id": "ded1abc3",
   "metadata": {},
   "outputs": [],
   "source": []
  },
  {
   "cell_type": "markdown",
   "id": "9ca375c4",
   "metadata": {},
   "source": [
    "# Asesores Nacional"
   ]
  },
  {
   "cell_type": "markdown",
   "id": "766c0efc",
   "metadata": {},
   "source": [
    "## Metas"
   ]
  },
  {
   "cell_type": "code",
   "execution_count": 13,
   "id": "7dd4133a",
   "metadata": {},
   "outputs": [],
   "source": [
    "Metas1 = Metas.drop(Metas[Metas['Meta: Eje'] != 'Inversión'].index)\n",
    "Metas1 = Metas1.drop(Metas1[Metas1['Meta: Año'] !=  añoactual].index)\n",
    "#list(dict.fromkeys(Metas['Meta: Tipo de meta']))\n",
    "#Metas1 = Metas1.drop(Metas1[Metas1['Meta: Tipo de meta'] ==  'Monto de Expansión internacional'].index)\n",
    "#Metas1 = Metas1.drop(Metas1[Metas1['Meta: Tipo de meta'] ==  'Proyectos de Expansión Internacional'].index)\n",
    "#Metas2 = Metas1\n",
    "MetasQ = Metas1.drop(Metas1[Metas1['Meta: Período'] > trimestre].index)"
   ]
  },
  {
   "cell_type": "code",
   "execution_count": 14,
   "id": "c94504c5",
   "metadata": {},
   "outputs": [],
   "source": [
    "a = Metas1.groupby(['Meta: Nombre del propietario' , 'Meta: Tipo de meta' , 'E_Cadenas' ])['Meta: Valor meta'].sum().reset_index()"
   ]
  },
  {
   "cell_type": "code",
   "execution_count": 15,
   "id": "8fcc258f",
   "metadata": {},
   "outputs": [],
   "source": [
    "a2 = MetasQ.groupby(['Meta: Nombre del propietario' , 'Meta: Tipo de meta' , 'E_Cadenas' ])['Meta: Valor meta'].sum().reset_index()\n"
   ]
  },
  {
   "cell_type": "code",
   "execution_count": 16,
   "id": "12ef42dc",
   "metadata": {},
   "outputs": [],
   "source": [
    "Metasdf = a.merge(a2, how='outer', left_on=['Meta: Nombre del propietario' , 'Meta: Tipo de meta' , 'E_Cadenas'], right_on=['Meta: Nombre del propietario' , 'Meta: Tipo de meta' , 'E_Cadenas']).fillna(0)\n",
    "Metasdf.rename(columns={'Meta: Valor meta_x': 'Valor Meta', 'Meta: Valor meta_y': 'Valor Meta Q'}, inplace=True)\n"
   ]
  },
  {
   "cell_type": "markdown",
   "id": "ab510cb4",
   "metadata": {},
   "source": [
    "## Monto de Inversión"
   ]
  },
  {
   "cell_type": "code",
   "execution_count": 19,
   "id": "72ef115a",
   "metadata": {},
   "outputs": [],
   "source": [
    "Negocios1 = Negocios.drop(Negocios[Negocios['Logro: Eje'] != 'Inversión'].index)\n",
    "Negocios1 = Negocios1.drop(Negocios1[Negocios1['Meta 1 responsable Colombia: Año'] !=  añoactual].index)\n",
    "Negocios1 = Negocios1.drop(Negocios1[Negocios1['Logro: Tipo de registro'] !=  'Monto de Inversión'].index)\n",
    "\n"
   ]
  },
  {
   "cell_type": "code",
   "execution_count": 20,
   "id": "17819c3c",
   "metadata": {},
   "outputs": [],
   "source": [
    "b = Negocios1.groupby(['Logro: Responsable Colombia' , 'E_Cadenasproductivas'])['Logro: Valor'].sum().reset_index()\n",
    "b['Meta: Tipo de meta']= 'Monto de Inversión'\n",
    "b.rename(columns={ 'E_Cadenasproductivas' :'E_Cadenas' , 'Logro: Responsable Colombia': 'Meta: Nombre del propietario'}, inplace=True)\n",
    "\n",
    "TFinal = Metasdf.merge(b, how='left', left_on=['E_Cadenas' , 'Meta: Nombre del propietario' , 'Meta: Tipo de meta'], right_on=['E_Cadenas' ,'Meta: Nombre del propietario' , 'Meta: Tipo de meta']).fillna(0)\n"
   ]
  },
  {
   "cell_type": "markdown",
   "id": "740b26bc",
   "metadata": {},
   "source": [
    "## Proyectos de Inversión"
   ]
  },
  {
   "cell_type": "code",
   "execution_count": 21,
   "id": "e69bd8cc",
   "metadata": {},
   "outputs": [],
   "source": [
    "py = Negocios1.groupby(['Logro: Responsable Colombia' , 'E_Cadenasproductivas'])['E_ConteoProyectosInversión'].sum().reset_index()\n",
    "py['Meta: Tipo de meta']= 'Proyectos Inversión'\n",
    "py.rename(columns={ 'E_Cadenasproductivas' :'E_Cadenas' , 'Logro: Responsable Colombia': 'Meta: Nombre del propietario'}, inplace=True)\n",
    "\n",
    "TFinal = TFinal.merge(py, how='left', left_on=['E_Cadenas' , 'Meta: Nombre del propietario' , 'Meta: Tipo de meta'], right_on=['E_Cadenas' ,'Meta: Nombre del propietario' , 'Meta: Tipo de meta']).fillna(0)\n"
   ]
  },
  {
   "cell_type": "code",
   "execution_count": 22,
   "id": "c4546466",
   "metadata": {},
   "outputs": [],
   "source": [
    "#list(dict.fromkeys(TFinal['Meta: Nombre del propietario']))\n"
   ]
  },
  {
   "cell_type": "code",
   "execution_count": 23,
   "id": "79ce6449",
   "metadata": {},
   "outputs": [],
   "source": [
    "TFinal['Logro: Valor'] = TFinal['Logro: Valor'] + TFinal['E_ConteoProyectosInversión']\n",
    "TFinal = TFinal.drop(columns=['E_ConteoProyectosInversión'])"
   ]
  },
  {
   "cell_type": "code",
   "execution_count": 24,
   "id": "948b4b0f",
   "metadata": {},
   "outputs": [],
   "source": [
    "writer = pd.ExcelWriter('TCV-Inversion.xlsx')\n",
    "TFinal.to_excel(writer , 'Asesores por Cadena')"
   ]
  },
  {
   "cell_type": "markdown",
   "id": "a4cee3d0",
   "metadata": {},
   "source": [
    "## Asesores Exterior"
   ]
  },
  {
   "cell_type": "markdown",
   "id": "2d325306",
   "metadata": {},
   "source": [
    "## Metas"
   ]
  },
  {
   "cell_type": "code",
   "execution_count": 25,
   "id": "6b4c5c9f",
   "metadata": {},
   "outputs": [],
   "source": [
    "a_Ext = Metas1.groupby(['Meta: Nombre del propietario' , 'Meta: Tipo de meta' , 'E_Localización_TurqenEsp' ])['Meta: Valor meta'].sum().reset_index()\n",
    "a2_Ext = MetasQ.groupby(['Meta: Nombre del propietario' , 'Meta: Tipo de meta' , 'E_Localización_TurqenEsp' ])['Meta: Valor meta'].sum().reset_index()\n",
    "\n",
    "Metasdf_Ext = a_Ext.merge(a2_Ext, how='outer', left_on=['Meta: Nombre del propietario' , 'Meta: Tipo de meta' , 'E_Localización_TurqenEsp'], right_on=['Meta: Nombre del propietario' , 'Meta: Tipo de meta' , 'E_Localización_TurqenEsp']).fillna(0)\n",
    "Metasdf_Ext.rename(columns={'Meta: Valor meta_x': 'Valor Meta', 'Meta: Valor meta_y': 'Valor Meta Q'}, inplace=True)\n"
   ]
  },
  {
   "cell_type": "markdown",
   "id": "e71ad5d4",
   "metadata": {},
   "source": [
    "## Monto de Inversión (Exterior)"
   ]
  },
  {
   "cell_type": "code",
   "execution_count": 26,
   "id": "f3d568d5",
   "metadata": {},
   "outputs": [],
   "source": [
    "Negocios1 = Negocios.drop(Negocios[Negocios['Meta 1 responsable Colombia: Año'] !=  añoactual].index)\n",
    "Negocios1 = Negocios1.drop(Negocios1[Negocios1['Logro: Tipo de registro'] !=  'Monto de Inversión'].index)\n",
    "\n",
    "b_Ext = Negocios1.groupby(['Logro: Responsable en el Exterior 1' , 'Logro: Oficina Comercial'])['Logro: Valor'].sum().reset_index()\n",
    "b_Ext['Meta: Tipo de meta']= 'Monto de Inversión'\n",
    "Metasdf_Ext.rename(columns={ 'E_Localización_TurqenEsp': 'Logro: Oficina Comercial'}, inplace=True)\n",
    "b_Ext.rename(columns={ 'Logro: Responsable en el Exterior 1': 'Meta: Nombre del propietario'}, inplace=True)\n",
    "                      \n",
    "TFinal_Ext = Metasdf_Ext.merge(b_Ext, how='left', left_on=['Logro: Oficina Comercial' , 'Meta: Nombre del propietario' , 'Meta: Tipo de meta'], right_on=['Logro: Oficina Comercial' ,'Meta: Nombre del propietario' , 'Meta: Tipo de meta']).fillna(0)"
   ]
  },
  {
   "cell_type": "code",
   "execution_count": 27,
   "id": "4357fada",
   "metadata": {},
   "outputs": [],
   "source": [
    "py_Ext = Negocios1.groupby(['Logro: Responsable en el Exterior 1' , 'Logro: Oficina Comercial'])['E_ConteoProyectosInversión'].sum().reset_index()\n",
    "py_Ext['Meta: Tipo de meta']= 'Proyectos Inversión'\n",
    "py_Ext.rename(columns={'Logro: Responsable en el Exterior 1': 'Meta: Nombre del propietario'}, inplace=True)\n",
    "\n",
    "TFinal_Ext = TFinal_Ext.merge(py_Ext, how='left', left_on=['Logro: Oficina Comercial' , 'Meta: Nombre del propietario' , 'Meta: Tipo de meta'],\n",
    "                      right_on=['Logro: Oficina Comercial' ,'Meta: Nombre del propietario' , 'Meta: Tipo de meta']).fillna(0)\n",
    "\n",
    "\n",
    "TFinal_Ext['Logro: Valor'] = TFinal_Ext['Logro: Valor'] + TFinal_Ext['E_ConteoProyectosInversión']\n",
    "TFinal_Ext = TFinal_Ext.drop(columns=['E_ConteoProyectosInversión'])"
   ]
  },
  {
   "cell_type": "code",
   "execution_count": 28,
   "id": "3c19ccbd",
   "metadata": {},
   "outputs": [
    {
     "data": {
      "text/html": [
       "<div>\n",
       "<style scoped>\n",
       "    .dataframe tbody tr th:only-of-type {\n",
       "        vertical-align: middle;\n",
       "    }\n",
       "\n",
       "    .dataframe tbody tr th {\n",
       "        vertical-align: top;\n",
       "    }\n",
       "\n",
       "    .dataframe thead th {\n",
       "        text-align: right;\n",
       "    }\n",
       "</style>\n",
       "<table border=\"1\" class=\"dataframe\">\n",
       "  <thead>\n",
       "    <tr style=\"text-align: right;\">\n",
       "      <th></th>\n",
       "      <th>Meta: Nombre del propietario</th>\n",
       "      <th>Meta: Tipo de meta</th>\n",
       "      <th>Logro: Oficina Comercial</th>\n",
       "      <th>Valor Meta</th>\n",
       "      <th>Valor Meta Q</th>\n",
       "      <th>Logro: Valor</th>\n",
       "    </tr>\n",
       "  </thead>\n",
       "  <tbody>\n",
       "    <tr>\n",
       "      <th>342</th>\n",
       "      <td>Toko Tamaki (Inv)</td>\n",
       "      <td>Monto de Inversión</td>\n",
       "      <td>Japón</td>\n",
       "      <td>190000000.0</td>\n",
       "      <td>142500000.0</td>\n",
       "      <td>108719283.0</td>\n",
       "    </tr>\n",
       "    <tr>\n",
       "      <th>343</th>\n",
       "      <td>Toko Tamaki (Inv)</td>\n",
       "      <td>Número de oportunidades de Inversión a etapa 1</td>\n",
       "      <td>Japón</td>\n",
       "      <td>22.0</td>\n",
       "      <td>13.0</td>\n",
       "      <td>0.0</td>\n",
       "    </tr>\n",
       "    <tr>\n",
       "      <th>344</th>\n",
       "      <td>Toko Tamaki (Inv)</td>\n",
       "      <td>Número de oportunidades de Inversión a etapa 2</td>\n",
       "      <td>Japón</td>\n",
       "      <td>12.0</td>\n",
       "      <td>7.0</td>\n",
       "      <td>0.0</td>\n",
       "    </tr>\n",
       "    <tr>\n",
       "      <th>345</th>\n",
       "      <td>Toko Tamaki (Inv)</td>\n",
       "      <td>Número de oportunidades de Inversión a etapa 3</td>\n",
       "      <td>Japón</td>\n",
       "      <td>6.0</td>\n",
       "      <td>4.0</td>\n",
       "      <td>0.0</td>\n",
       "    </tr>\n",
       "    <tr>\n",
       "      <th>346</th>\n",
       "      <td>Toko Tamaki (Inv)</td>\n",
       "      <td>Proyectos Inversión</td>\n",
       "      <td>Japón</td>\n",
       "      <td>5.0</td>\n",
       "      <td>3.0</td>\n",
       "      <td>4.0</td>\n",
       "    </tr>\n",
       "  </tbody>\n",
       "</table>\n",
       "</div>"
      ],
      "text/plain": [
       "    Meta: Nombre del propietario  \\\n",
       "342            Toko Tamaki (Inv)   \n",
       "343            Toko Tamaki (Inv)   \n",
       "344            Toko Tamaki (Inv)   \n",
       "345            Toko Tamaki (Inv)   \n",
       "346            Toko Tamaki (Inv)   \n",
       "\n",
       "                                 Meta: Tipo de meta Logro: Oficina Comercial  \\\n",
       "342                              Monto de Inversión                    Japón   \n",
       "343  Número de oportunidades de Inversión a etapa 1                    Japón   \n",
       "344  Número de oportunidades de Inversión a etapa 2                    Japón   \n",
       "345  Número de oportunidades de Inversión a etapa 3                    Japón   \n",
       "346                             Proyectos Inversión                    Japón   \n",
       "\n",
       "      Valor Meta  Valor Meta Q  Logro: Valor  \n",
       "342  190000000.0   142500000.0   108719283.0  \n",
       "343         22.0          13.0           0.0  \n",
       "344         12.0           7.0           0.0  \n",
       "345          6.0           4.0           0.0  \n",
       "346          5.0           3.0           4.0  "
      ]
     },
     "execution_count": 28,
     "metadata": {},
     "output_type": "execute_result"
    }
   ],
   "source": [
    "TFinal_Ext[TFinal_Ext['Meta: Nombre del propietario'] == 'Toko Tamaki (Inv)']\n"
   ]
  },
  {
   "cell_type": "code",
   "execution_count": 291,
   "id": "0bce4a60",
   "metadata": {},
   "outputs": [],
   "source": [
    "TFinal_Ext.to_excel(writer , 'Asesores por OfiCOm')"
   ]
  },
  {
   "cell_type": "code",
   "execution_count": 292,
   "id": "73d10cc6",
   "metadata": {},
   "outputs": [
    {
     "data": {
      "text/html": [
       "<a href='TCV-Inversion.xlsx' target='_blank'>TCV-Inversion.xlsx</a><br>"
      ],
      "text/plain": [
       "C:\\Users\\user\\Documents\\Codigos Python\\Tablero Como Vamos\\TCV-Inversion.xlsx"
      ]
     },
     "execution_count": 292,
     "metadata": {},
     "output_type": "execute_result"
    }
   ],
   "source": [
    "from IPython.display import FileLink\n",
    "FileLink('TCV-Inversion.xlsx')"
   ]
  },
  {
   "cell_type": "code",
   "execution_count": 293,
   "id": "50108d96",
   "metadata": {},
   "outputs": [],
   "source": [
    "FuncionarioHub.rename(columns={'Meta: Nombre del propietario':'Proyecto: Propietario'}, inplace=True)\n",
    "Servicios['Cadena_Est'] = 'Multisectorial'\n",
    "Servicios.loc[Servicios['Proyecto: Cadena productiva'] == 'Agroalimentos', 'Cadena_Est'] = 'Agroalimentos'\n",
    "Servicios.loc[Servicios['Proyecto: Cadena productiva'] == 'Industrias 4.0', 'Cadena_Est'] = 'Industrias 4.0'\n",
    "Servicios.loc[Servicios['Proyecto: Cadena productiva'] == 'Competitividad', 'Cadena_Est'] = 'Competitividad'\n",
    "Servicios.loc[Servicios['Proyecto: Cadena productiva'] == 'Metalmecánica y otras industrias', 'Cadena_Est'] = 'Metalmecánica y otras industrias'\n",
    "Servicios.loc[Servicios['Proyecto: Cadena productiva'] == 'Sistema Moda', 'Cadena_Est'] = 'Metalmecánica y otras industrias'\n",
    "Servicios.loc[Servicios['Proyecto: Cadena productiva'] == 'Turismo', 'Cadena_Est'] = 'Turismo y Otros'\n",
    "Servicios.loc[Servicios['Proyecto: Cadena productiva'] == 'Otros', 'Cadena_Est'] = 'Turismo y Otros'\n",
    "Servicios.loc[Servicios['Proyecto: Cadena productiva'] == 'Químicos y ciencias de la vida', 'Cadena_Est'] = 'Químicos y ciencias de la vida'\n",
    "\n",
    "Servicios.loc[Servicios['Proyecto: Cadena productiva'] == 'Químicos y ciencias de la vida', 'Cadena_Est'] = 'Químicos y ciencias de la vida'\n",
    "\n",
    "Servicios = Servicios.merge(FuncionarioHub, how='left', left_on=['Proyecto: Propietario'],\n",
    "                               right_on=['Proyecto: Propietario']).fillna(0)\n",
    "\n",
    "Servicios.loc[Servicios['Proyecto: Propietario'] == propietario_emiratos, 'Proyecto: Área que lidera'] = 'Émiratos Árabes Unidos'\n",
    "Servicios.loc[Servicios['Proyecto: Propietario'] == propietario_italia, 'Proyecto: Área que lidera'] = 'Italia'\n",
    "Servicios.loc[Servicios['Proyecto: Propietario'] == propietario_italia2, 'Proyecto: Área que lidera'] = 'Italia'\n",
    "Servicios.loc[Servicios['Proyecto: Propietario'] == propietario_PaísesBajos, 'Proyecto: Área que lidera'] = 'Países Bajos'\n",
    "Servicios.loc[Servicios['Proyecto: Propietario'] == propietario_PaísesNordicos, 'Proyecto: Área que lidera'] = 'Países Nordicos'\n",
    "\n"
   ]
  },
  {
   "cell_type": "code",
   "execution_count": 294,
   "id": "14130745",
   "metadata": {},
   "outputs": [],
   "source": [
    "\n",
    "#list(dict.fromkeys(Servicios['Proyecto: Propietario']))\n"
   ]
  },
  {
   "cell_type": "markdown",
   "id": "8c0757c4",
   "metadata": {},
   "source": [
    "# Parte 2"
   ]
  },
  {
   "cell_type": "code",
   "execution_count": 295,
   "id": "8fdf981f",
   "metadata": {},
   "outputs": [],
   "source": [
    "Servicios = pd.read_excel(pathout + 'Servicios_Inv.xlsx')\n",
    "Servicios= Servicios.merge(FuncionarioHub, how='outer', left_on=['Proyecto: Propietario'], right_on=['Proyecto: Propietario']).fillna(0)\n",
    "\n",
    "#En la parte 1 use servicios tambien"
   ]
  },
  {
   "cell_type": "code",
   "execution_count": 296,
   "id": "d20f5621",
   "metadata": {},
   "outputs": [],
   "source": [
    "Servicios['Cadena'] = 'Multisectorial'\n",
    "Servicios.loc[Servicios['Proyecto: Cadena productiva'] == 'Agroalimentos', 'Cadena'] = 'Agroalimentos'\n",
    "Servicios.loc[Servicios['Proyecto: Cadena productiva'] == 'Competitividad', 'Cadena'] = 'Competitividad'\n",
    "Servicios.loc[Servicios['Proyecto: Cadena productiva'] == 'Industrias 4.0', 'Cadena'] = 'Industrias 4.0'\n",
    "Servicios.loc[Servicios['Proyecto: Cadena productiva'] == 'Otros', 'Cadena'] = 'Turismo y Otros'\n",
    "Servicios.loc[Servicios['Proyecto: Cadena productiva'] == 'Turismo', 'Cadena'] = 'Turismo y Otros'\n",
    "Servicios.loc[Servicios['Proyecto: Cadena productiva'] == 'Químicos y ciencias de la vida', 'Cadena'] = 'Químicos y ciencias de la vida'\n",
    "Servicios.loc[Servicios['Proyecto: Cadena productiva'] == 'Metalmecánica y otras industrias', 'Cadena'] = 'Metalmecánica y otras industrias'\n"
   ]
  },
  {
   "cell_type": "code",
   "execution_count": null,
   "id": "88b682ff",
   "metadata": {},
   "outputs": [],
   "source": []
  },
  {
   "cell_type": "code",
   "execution_count": 297,
   "id": "b2261049",
   "metadata": {},
   "outputs": [],
   "source": [
    "#fechahoy = datetime.strptime('2021-10-30 00:00:00', '%Y-%m-%d %H:%M:%S')\n",
    "#fechainicio = datetime.strptime('2021-01-01 00:00:00', '%Y-%m-%d %H:%M:%S')\n",
    "#Servicios = Servicios.drop(Servicios[Servicios['Proyecto: Fecha realización del evento'] < fechainicio].index)\n",
    "#Servicios = Servicios.drop(Servicios[Servicios['Proyecto: Fecha realización del evento'] > fechahoy].index)"
   ]
  },
  {
   "cell_type": "markdown",
   "id": "e5a81a24",
   "metadata": {},
   "source": [
    "# Servicios"
   ]
  },
  {
   "cell_type": "code",
   "execution_count": 298,
   "id": "68bf77b1",
   "metadata": {},
   "outputs": [],
   "source": [
    "#Servicios1[Servicios1['Proyecto: Propietario'] == 'Homero Ronchaquira']\n"
   ]
  },
  {
   "cell_type": "code",
   "execution_count": 299,
   "id": "2372aa29",
   "metadata": {},
   "outputs": [],
   "source": [
    "FuncionarioHub.rename(columns={'Meta: Nombre del propietario':'Proyecto: Propietario'}, inplace=True)\n",
    "\n"
   ]
  },
  {
   "cell_type": "markdown",
   "id": "0a535aed",
   "metadata": {},
   "source": [
    "### Eventos cerrados y por cerrar HUB, Área que lidera y E_Localización"
   ]
  },
  {
   "cell_type": "code",
   "execution_count": 300,
   "id": "a9a7a951",
   "metadata": {},
   "outputs": [],
   "source": [
    "#Servicios1 = Servicios.drop(Servicios[Servicios['Proyecto: Etapa'] == 'Cierre'].index)\n",
    "#Servicios2 = Servicios.drop(Servicios[Servicios['Proyecto: Etapa'] != 'Cierre'].index)\n",
    "Servicios1 = Servicios\n",
    "Servicios1['Cierre'] = 'Cerrado'\n",
    "Servicios1.loc[Servicios1['Proyecto: Etapa'] == 'Cierre', 'Cierre'] = 'Por Cerrar'\n",
    "Servicios3 = Servicios1\n",
    "Servicios3 = Servicios1.drop(Servicios1[Servicios1['Proyecto: Propietario'] == 'Homero Ronchaquira'].index)\n",
    "Servicios3 = Servicios3.drop(Servicios3[Servicios3['Servicio: Cuenta'] == 'Cuenta Capacitación'].index)\n"
   ]
  },
  {
   "cell_type": "code",
   "execution_count": 301,
   "id": "3dbcc800",
   "metadata": {},
   "outputs": [],
   "source": [
    "pd.set_option('display.max_rows', None)"
   ]
  },
  {
   "cell_type": "code",
   "execution_count": 302,
   "id": "a01a8862",
   "metadata": {
    "scrolled": false
   },
   "outputs": [],
   "source": [
    "Eventos = Servicios3.groupby(['HUB' , 'Proyecto: Área que lidera' , 'E_Localización' , 'Cierre'])['Proyecto: ID'].nunique().reset_index()\n",
    "Eventos = Eventos.drop(Eventos[Eventos['Proyecto: Área que lidera'] == 0].index)\n",
    "Eventos.rename(columns={'Proyecto: ID':'Eventos realizados'}, inplace=True)\n",
    "\n",
    "#Eventos['Proyecto: Área que lidera'].dropna()"
   ]
  },
  {
   "cell_type": "code",
   "execution_count": 303,
   "id": "00947727",
   "metadata": {},
   "outputs": [],
   "source": [
    "Eventos.to_excel(writer , 'Eventos por Localización')"
   ]
  },
  {
   "cell_type": "markdown",
   "id": "6b63a60b",
   "metadata": {},
   "source": [
    "Nota: Aqui lo que hice fue traer la localización y el hub de la correlativa. Crear una variable = 1 cuando Proyecto etapa es cierre e igual a 0 en los demas casos. Luego contar los proyectos unicos diferenciando por HUB, Proyecto Area que lidera, E_localizacion y cierre. \n",
    "    "
   ]
  },
  {
   "cell_type": "markdown",
   "id": "cf462a54",
   "metadata": {},
   "source": [
    "### Eventos cerrados y por cerrar HUB, Cadena"
   ]
  },
  {
   "cell_type": "code",
   "execution_count": 304,
   "id": "021d8a2b",
   "metadata": {},
   "outputs": [],
   "source": [
    "EventosC = Servicios3.groupby(['HUB' , 'Cadena' , 'Cierre'])['Proyecto: ID'].nunique().reset_index()\n",
    "EventosC.rename(columns={'Proyecto: ID':'Eventos realizados'}, inplace=True)\n"
   ]
  },
  {
   "cell_type": "code",
   "execution_count": 305,
   "id": "7b848419",
   "metadata": {},
   "outputs": [],
   "source": [
    "EventosC.to_excel(writer , 'Eventos por Cadena')\n"
   ]
  },
  {
   "cell_type": "markdown",
   "id": "7283ae63",
   "metadata": {},
   "source": [
    "### Listado de Eventos"
   ]
  },
  {
   "cell_type": "code",
   "execution_count": 306,
   "id": "cb331ba3",
   "metadata": {},
   "outputs": [],
   "source": [
    "EventosV = Servicios3.groupby(['HUB' , 'Proyecto: Área que lidera' , 'E_Localización' , 'Cierre', 'Proyecto: Nombre'])['Proyecto: ID'].nunique().reset_index()\n",
    "EventosV = EventosV.drop(EventosV[EventosV['Proyecto: Área que lidera'] == 0].index)\n",
    "EventosV.rename(columns={'Proyecto: ID':'Eventos realizados'}, inplace=True)\n"
   ]
  },
  {
   "cell_type": "code",
   "execution_count": 307,
   "id": "5c43e413",
   "metadata": {},
   "outputs": [],
   "source": [
    "EventosV.to_excel(writer , 'Listados por Localización')\n"
   ]
  },
  {
   "cell_type": "code",
   "execution_count": 308,
   "id": "c30b0eb8",
   "metadata": {},
   "outputs": [],
   "source": [
    "EventosCV = Servicios3.groupby(['HUB' , 'Cadena' , 'Cierre' , 'Proyecto: Nombre'])['Proyecto: ID'].nunique().reset_index()\n",
    "EventosCV.rename(columns={'Proyecto: ID':'Eventos realizados'}, inplace=True)\n"
   ]
  },
  {
   "cell_type": "code",
   "execution_count": 309,
   "id": "a69eba91",
   "metadata": {},
   "outputs": [],
   "source": [
    "EventosCV.to_excel(writer , 'Listado por Cadena')\n"
   ]
  },
  {
   "cell_type": "code",
   "execution_count": 313,
   "id": "83deb1f2",
   "metadata": {},
   "outputs": [
    {
     "data": {
      "text/html": [
       "<div>\n",
       "<style scoped>\n",
       "    .dataframe tbody tr th:only-of-type {\n",
       "        vertical-align: middle;\n",
       "    }\n",
       "\n",
       "    .dataframe tbody tr th {\n",
       "        vertical-align: top;\n",
       "    }\n",
       "\n",
       "    .dataframe thead th {\n",
       "        text-align: right;\n",
       "    }\n",
       "</style>\n",
       "<table border=\"1\" class=\"dataframe\">\n",
       "  <thead>\n",
       "    <tr style=\"text-align: right;\">\n",
       "      <th></th>\n",
       "      <th>HUB</th>\n",
       "      <th>Proyecto: Propietario</th>\n",
       "      <th>Proyecto: Área que lidera</th>\n",
       "      <th>E_Localización</th>\n",
       "      <th>Cierre</th>\n",
       "      <th>Proyecto: Nombre</th>\n",
       "      <th>Eventos realizados</th>\n",
       "    </tr>\n",
       "  </thead>\n",
       "  <tbody>\n",
       "    <tr>\n",
       "      <th>0</th>\n",
       "      <td>0</td>\n",
       "      <td>Homero Ronchaquira</td>\n",
       "      <td>Oficina comercial Caribe</td>\n",
       "      <td>0</td>\n",
       "      <td>Cerrado</td>\n",
       "      <td>Evento de inversión de prueba</td>\n",
       "      <td>1</td>\n",
       "    </tr>\n",
       "  </tbody>\n",
       "</table>\n",
       "</div>"
      ],
      "text/plain": [
       "   HUB Proyecto: Propietario Proyecto: Área que lidera  E_Localización  \\\n",
       "0    0    Homero Ronchaquira  Oficina comercial Caribe               0   \n",
       "\n",
       "    Cierre               Proyecto: Nombre  Eventos realizados  \n",
       "0  Cerrado  Evento de inversión de prueba                   1  "
      ]
     },
     "execution_count": 313,
     "metadata": {},
     "output_type": "execute_result"
    }
   ],
   "source": [
    "#Eventos de Homero / Tecnologia\n",
    "ServiciosTec = Servicios1\n",
    "\n",
    "ServiciosTec = ServiciosTec.drop(ServiciosTec[(ServiciosTec['Proyecto: Propietario'] !=  'Homero Ronchaquira') &   \n",
    "                                              (ServiciosTec['Proyecto: Propietario'] !=  'OTRA PERSONA')].index)\n",
    "ServiciosTec = ServiciosTec.drop(ServiciosTec[ServiciosTec['Servicio: Cuenta'] != 'Cuenta Capacitación'].index)\n",
    "\n",
    "\n",
    "EventosTec = ServiciosTec.groupby(['HUB' , 'Proyecto: Propietario', 'Proyecto: Área que lidera' , 'E_Localización' , 'Cierre', 'Proyecto: Nombre'])['Proyecto: ID'].nunique().reset_index()\n",
    "EventosTec = EventosTec.drop(EventosTec[EventosTec['Proyecto: Área que lidera'] == 0].index)\n",
    "EventosTec.rename(columns={'Proyecto: ID':'Eventos realizados'}, inplace=True)\n",
    "EventosTec"
   ]
  },
  {
   "cell_type": "code",
   "execution_count": 311,
   "id": "2425e898",
   "metadata": {},
   "outputs": [],
   "source": [
    "EventosTec.to_excel(writer , 'Eventos Tecnologia')\n",
    "writer.save()"
   ]
  },
  {
   "cell_type": "code",
   "execution_count": 312,
   "id": "dbfac2a1",
   "metadata": {},
   "outputs": [
    {
     "data": {
      "text/html": [
       "<a href='TCV-Inversion.xlsx' target='_blank'>TCV-Inversion.xlsx</a><br>"
      ],
      "text/plain": [
       "C:\\Users\\user\\Documents\\Codigos Python\\Tablero Como Vamos\\TCV-Inversion.xlsx"
      ]
     },
     "execution_count": 312,
     "metadata": {},
     "output_type": "execute_result"
    }
   ],
   "source": [
    "from IPython.display import FileLink\n",
    "FileLink('TCV-Inversion.xlsx')"
   ]
  }
 ],
 "metadata": {
  "kernelspec": {
   "display_name": "Python 3 (ipykernel)",
   "language": "python",
   "name": "python3"
  },
  "language_info": {
   "codemirror_mode": {
    "name": "ipython",
    "version": 3
   },
   "file_extension": ".py",
   "mimetype": "text/x-python",
   "name": "python",
   "nbconvert_exporter": "python",
   "pygments_lexer": "ipython3",
   "version": "3.9.7"
  },
  "nbTranslate": {
   "displayLangs": [
    "*"
   ],
   "hotkey": "alt-t",
   "langInMainMenu": true,
   "sourceLang": "en",
   "targetLang": "fr",
   "useGoogleTranslate": true
  }
 },
 "nbformat": 4,
 "nbformat_minor": 5
}

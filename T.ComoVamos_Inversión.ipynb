{
 "cells": [
  {
   "cell_type": "markdown",
   "id": "aac879d5",
   "metadata": {},
   "source": [
    "# Tablero Como vamos\n",
    "## Vicepresidencia de Planeación - Inversión"
   ]
  },
  {
   "cell_type": "code",
   "execution_count": 94,
   "id": "ef33cf0f",
   "metadata": {},
   "outputs": [],
   "source": [
    "import pandas as pd \n",
    "import numpy as np \n",
    "import matplotlib.pyplot as plt \n",
    "import matplotlib as mpl \n",
    "import six\n",
    "import os \n",
    "\n",
    "pathout = './data/'\n",
    "if not os.path.exists(pathout):\n",
    "    os.mkdir(pathout) \n",
    "    pathgraphs = './graphs/'\n",
    "    if not os.path.exists(pathgraphs): \n",
    "        os.mkdir(pathgraphs)"
   ]
  },
  {
   "cell_type": "code",
   "execution_count": 95,
   "id": "7d4025a8",
   "metadata": {},
   "outputs": [],
   "source": [
    "Metas = pd.read_excel(pathout + 'Metas.xlsx')"
   ]
  },
  {
   "cell_type": "code",
   "execution_count": 96,
   "id": "a8b48f0c",
   "metadata": {},
   "outputs": [],
   "source": [
    "Negocios = pd.read_excel(pathout + 'Negocios.xlsx')"
   ]
  },
  {
   "cell_type": "code",
   "execution_count": 97,
   "id": "82605f22",
   "metadata": {},
   "outputs": [],
   "source": [
    "Oportunidades = pd.read_excel(pathout + 'Oportunidades.xlsx')"
   ]
  },
  {
   "cell_type": "code",
   "execution_count": 98,
   "id": "ccc69bb0",
   "metadata": {},
   "outputs": [],
   "source": [
    "ENacionales = pd.read_excel(pathout + 'Empresas_nacionales.xlsx')"
   ]
  },
  {
   "cell_type": "code",
   "execution_count": 99,
   "id": "10f63ae9",
   "metadata": {},
   "outputs": [],
   "source": [
    "Servicios = pd.read_excel(pathout + 'Servicios_Inv.xlsx')"
   ]
  },
  {
   "cell_type": "code",
   "execution_count": 100,
   "id": "91d18d1e",
   "metadata": {},
   "outputs": [],
   "source": [
    "FuncionarioHub = pd.read_excel(pathout + 'Correlativa funcionario hub.xlsx')"
   ]
  },
  {
   "cell_type": "code",
   "execution_count": 101,
   "id": "968d5eaa",
   "metadata": {},
   "outputs": [],
   "source": [
    "OficinasHub = pd.read_excel(pathout + 'Oficinas hub.xlsx')"
   ]
  },
  {
   "cell_type": "code",
   "execution_count": null,
   "id": "bed9b330",
   "metadata": {},
   "outputs": [],
   "source": []
  },
  {
   "cell_type": "code",
   "execution_count": 102,
   "id": "ded1abc3",
   "metadata": {},
   "outputs": [],
   "source": [
    "añoactual = 2021\n",
    "añoanterior = 2020\n",
    "trimestre = 3\n",
    "\n",
    "propietario_emiratos = 'Tatiana Andrea Cordoba Arteaga'\n",
    "propietario_italia = 'Federico Ibargüen'\n",
    "propietario_italia2 = 'Federico Ibargüen (Vacante)'\n",
    "propietario_PaísesBajos = 'Javier Alejandro Pinzon (Francia)'\n",
    "propietario_PaísesNordicos = 'Laura Margarita Rodríguez Chaparro'\n",
    "\n",
    "\n",
    "\n",
    "\n",
    "#Fecha en Formato aaaa/mm/dd para la base de Tableau 12a\n",
    "negociosañoactual = '2021-01-01'\n",
    "fechaactual  = '2021-11-01'\n",
    "fechaactual2  = '1/01/2021'\n",
    "fechaanterior2 = '1/01/2020'\n",
    "eneroañoanterior = '2020-01-01'\n",
    "fechaactual_añoanterior = '2020-11-01'\n",
    "diciembreañoanterior = '2020-12-31'"
   ]
  },
  {
   "cell_type": "markdown",
   "id": "9ca375c4",
   "metadata": {},
   "source": [
    "# Asesores Nacional"
   ]
  },
  {
   "cell_type": "markdown",
   "id": "766c0efc",
   "metadata": {},
   "source": [
    "## Metas"
   ]
  },
  {
   "cell_type": "code",
   "execution_count": 103,
   "id": "7dd4133a",
   "metadata": {},
   "outputs": [],
   "source": [
    "Metas1 = Metas.drop(Metas[Metas['Meta: Eje'] != 'Inversión'].index)\n",
    "Metas1 = Metas1.drop(Metas1[Metas1['Meta: Año'] !=  añoactual].index)\n",
    "#list(dict.fromkeys(Metas['Meta: Tipo de meta']))\n",
    "#Metas1 = Metas1.drop(Metas1[Metas1['Meta: Tipo de meta'] ==  'Monto de Expansión internacional'].index)\n",
    "#Metas1 = Metas1.drop(Metas1[Metas1['Meta: Tipo de meta'] ==  'Proyectos de Expansión Internacional'].index)\n",
    "#Metas2 = Metas1\n",
    "MetasQ = Metas1.drop(Metas1[Metas1['Meta: Período'] > trimestre].index)"
   ]
  },
  {
   "cell_type": "code",
   "execution_count": 104,
   "id": "c94504c5",
   "metadata": {},
   "outputs": [],
   "source": [
    "a = Metas1.groupby(['Meta: Nombre del propietario' , 'Meta: Tipo de meta' , 'E_Cadenas' ])['Meta: Valor meta'].sum().reset_index()"
   ]
  },
  {
   "cell_type": "code",
   "execution_count": 105,
   "id": "8fcc258f",
   "metadata": {},
   "outputs": [],
   "source": [
    "a2 = MetasQ.groupby(['Meta: Nombre del propietario' , 'Meta: Tipo de meta' , 'E_Cadenas' ])['Meta: Valor meta'].sum().reset_index()\n"
   ]
  },
  {
   "cell_type": "code",
   "execution_count": 106,
   "id": "12ef42dc",
   "metadata": {},
   "outputs": [],
   "source": [
    "Metasdf = a.merge(a2, how='outer', left_on=['Meta: Nombre del propietario' , 'Meta: Tipo de meta' , 'E_Cadenas'], right_on=['Meta: Nombre del propietario' , 'Meta: Tipo de meta' , 'E_Cadenas']).fillna(0)\n",
    "Metasdf.rename(columns={'Meta: Valor meta_x': 'Valor Meta', 'Meta: Valor meta_y': 'Valor Meta Q'}, inplace=True)\n"
   ]
  },
  {
   "cell_type": "markdown",
   "id": "ab510cb4",
   "metadata": {},
   "source": [
    "## Monto de Inversión"
   ]
  },
  {
   "cell_type": "code",
   "execution_count": 107,
   "id": "72ef115a",
   "metadata": {},
   "outputs": [],
   "source": [
    "Negocios1 = Negocios.drop(Negocios[Negocios['Logro: Eje'] != 'Inversión'].index)\n",
    "Negocios1 = Negocios1.drop(Negocios1[Negocios1['Meta 1 responsable Colombia: Año'] !=  añoactual].index)\n",
    "Negocios1 = Negocios1.drop(Negocios1[Negocios1['Logro: Tipo de registro'] !=  'Monto de Inversión'].index)\n",
    "\n"
   ]
  },
  {
   "cell_type": "code",
   "execution_count": 108,
   "id": "17819c3c",
   "metadata": {},
   "outputs": [],
   "source": [
    "b = Negocios1.groupby(['Logro: Responsable Colombia' , 'E_Cadenasproductivas'])['Logro: Valor'].sum().reset_index()\n",
    "b['Meta: Tipo de meta']= 'Monto de Inversión'\n",
    "b.rename(columns={ 'E_Cadenasproductivas' :'E_Cadenas' , 'Logro: Responsable Colombia': 'Meta: Nombre del propietario'}, inplace=True)\n",
    "\n",
    "TFinal = Metasdf.merge(b, how='left', left_on=['E_Cadenas' , 'Meta: Nombre del propietario' , 'Meta: Tipo de meta'], right_on=['E_Cadenas' ,'Meta: Nombre del propietario' , 'Meta: Tipo de meta']).fillna(0)\n"
   ]
  },
  {
   "cell_type": "markdown",
   "id": "740b26bc",
   "metadata": {},
   "source": [
    "## Proyectos de Inversión"
   ]
  },
  {
   "cell_type": "code",
   "execution_count": 109,
   "id": "e69bd8cc",
   "metadata": {},
   "outputs": [],
   "source": [
    "py = Negocios1.groupby(['Logro: Responsable Colombia' , 'E_Cadenasproductivas'])['E_ConteoProyectosInversión'].sum().reset_index()\n",
    "py['Meta: Tipo de meta']= 'Proyectos Inversión'\n",
    "py.rename(columns={ 'E_Cadenasproductivas' :'E_Cadenas' , 'Logro: Responsable Colombia': 'Meta: Nombre del propietario'}, inplace=True)\n",
    "\n",
    "TFinal = TFinal.merge(py, how='left', left_on=['E_Cadenas' , 'Meta: Nombre del propietario' , 'Meta: Tipo de meta'], right_on=['E_Cadenas' ,'Meta: Nombre del propietario' , 'Meta: Tipo de meta']).fillna(0)\n"
   ]
  },
  {
   "cell_type": "code",
   "execution_count": 110,
   "id": "c4546466",
   "metadata": {},
   "outputs": [],
   "source": [
    "#list(dict.fromkeys(TFinal['Meta: Nombre del propietario']))\n"
   ]
  },
  {
   "cell_type": "code",
   "execution_count": 111,
   "id": "79ce6449",
   "metadata": {},
   "outputs": [],
   "source": [
    "TFinal['Logro: Valor'] = TFinal['Logro: Valor'] + TFinal['E_ConteoProyectosInversión']\n",
    "TFinal = TFinal.drop(columns=['E_ConteoProyectosInversión'])"
   ]
  },
  {
   "cell_type": "code",
   "execution_count": 112,
   "id": "948b4b0f",
   "metadata": {},
   "outputs": [],
   "source": [
    "writer = pd.ExcelWriter('Insumos Tablero Como Vamos Inversión.xlsx')\n",
    "TFinal.to_excel(writer , 'Asesores por Cadena')\n",
    "writer.save()"
   ]
  },
  {
   "cell_type": "markdown",
   "id": "a4cee3d0",
   "metadata": {},
   "source": [
    "## Asesores Exterior"
   ]
  },
  {
   "cell_type": "markdown",
   "id": "2d325306",
   "metadata": {},
   "source": [
    "## Metas"
   ]
  },
  {
   "cell_type": "code",
   "execution_count": 113,
   "id": "6b4c5c9f",
   "metadata": {},
   "outputs": [],
   "source": [
    "a_Ext = Metas1.groupby(['Meta: Nombre del propietario' , 'Meta: Tipo de meta' , 'E_Localización_TurqenEsp' ])['Meta: Valor meta'].sum().reset_index()\n",
    "a2_Ext = MetasQ.groupby(['Meta: Nombre del propietario' , 'Meta: Tipo de meta' , 'E_Localización_TurqenEsp' ])['Meta: Valor meta'].sum().reset_index()\n",
    "\n",
    "Metasdf_Ext = a_Ext.merge(a2_Ext, how='outer', left_on=['Meta: Nombre del propietario' , 'Meta: Tipo de meta' , 'E_Localización_TurqenEsp'], right_on=['Meta: Nombre del propietario' , 'Meta: Tipo de meta' , 'E_Localización_TurqenEsp']).fillna(0)\n",
    "Metasdf_Ext.rename(columns={'Meta: Valor meta_x': 'Valor Meta', 'Meta: Valor meta_y': 'Valor Meta Q'}, inplace=True)\n"
   ]
  },
  {
   "cell_type": "markdown",
   "id": "e71ad5d4",
   "metadata": {},
   "source": [
    "## Monto de Inversión (Exterior)"
   ]
  },
  {
   "cell_type": "code",
   "execution_count": 114,
   "id": "f3d568d5",
   "metadata": {},
   "outputs": [],
   "source": [
    "Negocios1 = Negocios.drop(Negocios[Negocios['Meta 1 responsable Colombia: Año'] !=  añoactual].index)\n",
    "Negocios1 = Negocios1.drop(Negocios1[Negocios1['Logro: Tipo de registro'] !=  'Monto de Inversión'].index)\n",
    "\n",
    "b_Ext = Negocios1.groupby(['Logro: Responsable en el Exterior 1' , 'Logro: Oficina Comercial'])['Logro: Valor'].sum().reset_index()\n",
    "b_Ext['Meta: Tipo de meta']= 'Monto de Inversión'\n",
    "Metasdf_Ext.rename(columns={ 'E_Localización_TurqenEsp': 'Logro: Oficina Comercial'}, inplace=True)\n",
    "b_Ext.rename(columns={ 'Logro: Responsable en el Exterior 1': 'Meta: Nombre del propietario'}, inplace=True)\n",
    "                      \n",
    "TFinal_Ext = Metasdf_Ext.merge(b_Ext, how='left', left_on=['Logro: Oficina Comercial' , 'Meta: Nombre del propietario' , 'Meta: Tipo de meta'], right_on=['Logro: Oficina Comercial' ,'Meta: Nombre del propietario' , 'Meta: Tipo de meta']).fillna(0)"
   ]
  },
  {
   "cell_type": "code",
   "execution_count": 115,
   "id": "4357fada",
   "metadata": {},
   "outputs": [],
   "source": [
    "py_Ext = Negocios1.groupby(['Logro: Responsable en el Exterior 1' , 'Logro: Oficina Comercial'])['E_ConteoProyectosInversión'].sum().reset_index()\n",
    "py_Ext['Meta: Tipo de meta']= 'Proyectos Inversión'\n",
    "py_Ext.rename(columns={'Logro: Responsable en el Exterior 1': 'Meta: Nombre del propietario'}, inplace=True)\n",
    "\n",
    "TFinal_Ext = TFinal_Ext.merge(py_Ext, how='left', left_on=['Logro: Oficina Comercial' , 'Meta: Nombre del propietario' , 'Meta: Tipo de meta'],\n",
    "                      right_on=['Logro: Oficina Comercial' ,'Meta: Nombre del propietario' , 'Meta: Tipo de meta']).fillna(0)\n",
    "\n",
    "\n",
    "TFinal_Ext['Logro: Valor'] = TFinal_Ext['Logro: Valor'] + TFinal_Ext['E_ConteoProyectosInversión']\n",
    "TFinal_Ext = TFinal_Ext.drop(columns=['E_ConteoProyectosInversión'])"
   ]
  },
  {
   "cell_type": "code",
   "execution_count": 116,
   "id": "3c19ccbd",
   "metadata": {},
   "outputs": [
    {
     "data": {
      "text/html": [
       "<div>\n",
       "<style scoped>\n",
       "    .dataframe tbody tr th:only-of-type {\n",
       "        vertical-align: middle;\n",
       "    }\n",
       "\n",
       "    .dataframe tbody tr th {\n",
       "        vertical-align: top;\n",
       "    }\n",
       "\n",
       "    .dataframe thead th {\n",
       "        text-align: right;\n",
       "    }\n",
       "</style>\n",
       "<table border=\"1\" class=\"dataframe\">\n",
       "  <thead>\n",
       "    <tr style=\"text-align: right;\">\n",
       "      <th></th>\n",
       "      <th>Meta: Nombre del propietario</th>\n",
       "      <th>Meta: Tipo de meta</th>\n",
       "      <th>Logro: Oficina Comercial</th>\n",
       "      <th>Valor Meta</th>\n",
       "      <th>Valor Meta Q</th>\n",
       "      <th>Logro: Valor</th>\n",
       "    </tr>\n",
       "  </thead>\n",
       "  <tbody>\n",
       "    <tr>\n",
       "      <th>343</th>\n",
       "      <td>Toko Tamaki (Inv)</td>\n",
       "      <td>Monto de Inversión</td>\n",
       "      <td>Japón</td>\n",
       "      <td>190000000.0</td>\n",
       "      <td>142500000.0</td>\n",
       "      <td>108719283.0</td>\n",
       "    </tr>\n",
       "    <tr>\n",
       "      <th>344</th>\n",
       "      <td>Toko Tamaki (Inv)</td>\n",
       "      <td>Número de oportunidades de Inversión a etapa 1</td>\n",
       "      <td>Japón</td>\n",
       "      <td>22.0</td>\n",
       "      <td>13.0</td>\n",
       "      <td>0.0</td>\n",
       "    </tr>\n",
       "    <tr>\n",
       "      <th>345</th>\n",
       "      <td>Toko Tamaki (Inv)</td>\n",
       "      <td>Número de oportunidades de Inversión a etapa 2</td>\n",
       "      <td>Japón</td>\n",
       "      <td>12.0</td>\n",
       "      <td>7.0</td>\n",
       "      <td>0.0</td>\n",
       "    </tr>\n",
       "    <tr>\n",
       "      <th>346</th>\n",
       "      <td>Toko Tamaki (Inv)</td>\n",
       "      <td>Número de oportunidades de Inversión a etapa 3</td>\n",
       "      <td>Japón</td>\n",
       "      <td>6.0</td>\n",
       "      <td>4.0</td>\n",
       "      <td>0.0</td>\n",
       "    </tr>\n",
       "    <tr>\n",
       "      <th>347</th>\n",
       "      <td>Toko Tamaki (Inv)</td>\n",
       "      <td>Proyectos Inversión</td>\n",
       "      <td>Japón</td>\n",
       "      <td>5.0</td>\n",
       "      <td>3.0</td>\n",
       "      <td>4.0</td>\n",
       "    </tr>\n",
       "  </tbody>\n",
       "</table>\n",
       "</div>"
      ],
      "text/plain": [
       "    Meta: Nombre del propietario  \\\n",
       "343            Toko Tamaki (Inv)   \n",
       "344            Toko Tamaki (Inv)   \n",
       "345            Toko Tamaki (Inv)   \n",
       "346            Toko Tamaki (Inv)   \n",
       "347            Toko Tamaki (Inv)   \n",
       "\n",
       "                                 Meta: Tipo de meta Logro: Oficina Comercial  \\\n",
       "343                              Monto de Inversión                    Japón   \n",
       "344  Número de oportunidades de Inversión a etapa 1                    Japón   \n",
       "345  Número de oportunidades de Inversión a etapa 2                    Japón   \n",
       "346  Número de oportunidades de Inversión a etapa 3                    Japón   \n",
       "347                             Proyectos Inversión                    Japón   \n",
       "\n",
       "      Valor Meta  Valor Meta Q  Logro: Valor  \n",
       "343  190000000.0   142500000.0   108719283.0  \n",
       "344         22.0          13.0           0.0  \n",
       "345         12.0           7.0           0.0  \n",
       "346          6.0           4.0           0.0  \n",
       "347          5.0           3.0           4.0  "
      ]
     },
     "execution_count": 116,
     "metadata": {},
     "output_type": "execute_result"
    }
   ],
   "source": [
    "TFinal_Ext[TFinal_Ext['Meta: Nombre del propietario'] == 'Toko Tamaki (Inv)']\n"
   ]
  },
  {
   "cell_type": "code",
   "execution_count": 117,
   "id": "0bce4a60",
   "metadata": {},
   "outputs": [
    {
     "name": "stderr",
     "output_type": "stream",
     "text": [
      "C:\\Users\\user\\anaconda3\\lib\\site-packages\\xlsxwriter\\workbook.py:336: UserWarning: Calling close() on already closed file.\n",
      "  warn(\"Calling close() on already closed file.\")\n"
     ]
    }
   ],
   "source": [
    "TFinal_Ext.to_excel(writer , 'Asesores por OfiCOm')\n",
    "writer.save()"
   ]
  },
  {
   "cell_type": "code",
   "execution_count": 118,
   "id": "73d10cc6",
   "metadata": {},
   "outputs": [
    {
     "data": {
      "text/html": [
       "<a href='Insumos Tablero Como Vamos Inversión.xlsx' target='_blank'>Insumos Tablero Como Vamos Inversión.xlsx</a><br>"
      ],
      "text/plain": [
       "C:\\Users\\user\\Documents\\Codigos Python\\Tablero Como Vamos\\Insumos Tablero Como Vamos Inversión.xlsx"
      ]
     },
     "execution_count": 118,
     "metadata": {},
     "output_type": "execute_result"
    }
   ],
   "source": [
    "from IPython.display import FileLink\n",
    "FileLink('Insumos Tablero Como Vamos Inversión.xlsx')"
   ]
  },
  {
   "cell_type": "code",
   "execution_count": 119,
   "id": "50108d96",
   "metadata": {},
   "outputs": [],
   "source": [
    "FuncionarioHub.rename(columns={'Meta: Nombre del propietario':'Proyecto: Propietario'}, inplace=True)\n",
    "Servicios['Cadena_Est'] = 'Multisectorial'\n",
    "Servicios.loc[Servicios['Proyecto: Cadena productiva'] == 'Agroalimentos', 'Cadena_Est'] = 'Agroalimentos'\n",
    "Servicios.loc[Servicios['Proyecto: Cadena productiva'] == 'Industrias 4.0', 'Cadena_Est'] = 'Industrias 4.0'\n",
    "Servicios.loc[Servicios['Proyecto: Cadena productiva'] == 'Competitividad', 'Cadena_Est'] = 'Competitividad'\n",
    "Servicios.loc[Servicios['Proyecto: Cadena productiva'] == 'Metalmecánica y otras industrias', 'Cadena_Est'] = 'Metalmecánica y otras industrias'\n",
    "Servicios.loc[Servicios['Proyecto: Cadena productiva'] == 'Sistema Moda', 'Cadena_Est'] = 'Metalmecánica y otras industrias'\n",
    "Servicios.loc[Servicios['Proyecto: Cadena productiva'] == 'Turismo', 'Cadena_Est'] = 'Turismo y Otros'\n",
    "Servicios.loc[Servicios['Proyecto: Cadena productiva'] == 'Otros', 'Cadena_Est'] = 'Turismo y Otros'\n",
    "Servicios.loc[Servicios['Proyecto: Cadena productiva'] == 'Químicos y ciencias de la vida', 'Cadena_Est'] = 'Químicos y ciencias de la vida'\n",
    "\n",
    "Servicios.loc[Servicios['Proyecto: Cadena productiva'] == 'Químicos y ciencias de la vida', 'Cadena_Est'] = 'Químicos y ciencias de la vida'\n",
    "\n",
    "Servicios = Servicios.merge(FuncionarioHub, how='left', left_on=['Proyecto: Propietario'],\n",
    "                               right_on=['Proyecto: Propietario']).fillna(0)\n",
    "\n",
    "Servicios.loc[Servicios['Proyecto: Propietario'] == propietario_emiratos, 'Proyecto: Área que lidera'] = 'Émiratos Árabes Unidos'\n",
    "Servicios.loc[Servicios['Proyecto: Propietario'] == propietario_italia, 'Proyecto: Área que lidera'] = 'Italia'\n",
    "Servicios.loc[Servicios['Proyecto: Propietario'] == propietario_italia2, 'Proyecto: Área que lidera'] = 'Italia'\n",
    "Servicios.loc[Servicios['Proyecto: Propietario'] == propietario_PaísesBajos, 'Proyecto: Área que lidera'] = 'Países Bajos'\n",
    "Servicios.loc[Servicios['Proyecto: Propietario'] == propietario_PaísesNordicos, 'Proyecto: Área que lidera'] = 'Países Nordicos'\n",
    "\n"
   ]
  },
  {
   "cell_type": "code",
   "execution_count": 120,
   "id": "14130745",
   "metadata": {},
   "outputs": [
    {
     "data": {
      "text/plain": [
       "['Margarita Quan',\n",
       " 'Ji In Teresa Ro (Vacante)',\n",
       " 'Camilo Alejandro Martinez Gómez',\n",
       " 'Gustavo Andres Moreno Sierra',\n",
       " 'German Orlando Rios Guerrero',\n",
       " 'Toko Tamaki (Inv)',\n",
       " 'Paula Andrea Ospina Reyes',\n",
       " 'Carlos Andres Alvarez Awakon',\n",
       " 'Laura Veloza Blanco (vacante)',\n",
       " 'Manuela Valencia Jaramillo',\n",
       " 'Alejandro Echeverri',\n",
       " 'Santiago Viera Ochoa',\n",
       " 'Juan Esteban Sanchez Sanchez',\n",
       " 'Beatriz Angel',\n",
       " 'Angela Jeaneth Ospina Enciso',\n",
       " 'Lina María Patarroyo Castillo',\n",
       " 'Katherine Caicedo Tapasco',\n",
       " 'Javier Antonio Urrutia escobar',\n",
       " 'Norma Elizabeth Rodriguez Carreño',\n",
       " 'Homero Ronchaquira',\n",
       " 'Diego Javier Penagos Forero',\n",
       " 'Cristian Alberto Duque Giraldo (VACANTE)',\n",
       " 'Gloria Shuang Zhu',\n",
       " 'Amanda Shi',\n",
       " 'Beatriz Eugenia Barreto Escobar',\n",
       " 'Asesor Inversión (Temporal)',\n",
       " 'Pascual Martinez Munarriz',\n",
       " 'Soulange Cordoba Ramirez',\n",
       " 'Director Oficina Bucaramanga (temporal)',\n",
       " 'Natalia Saade Ortega',\n",
       " 'Maria Alejandra Vasquez Fernandez',\n",
       " 'Iván Delgado',\n",
       " 'Laura Uribe Velasquez',\n",
       " 'Sohee Ahn',\n",
       " 'Marcela Monroy Hernandez',\n",
       " 'Eduardo Andres Sanchez',\n",
       " 'Maria Del Pilar Lozano Ramirez']"
      ]
     },
     "execution_count": 120,
     "metadata": {},
     "output_type": "execute_result"
    }
   ],
   "source": [
    "\n",
    "list(dict.fromkeys(Servicios['Proyecto: Propietario']))\n"
   ]
  },
  {
   "cell_type": "markdown",
   "id": "e5a81a24",
   "metadata": {},
   "source": [
    "# Servicios"
   ]
  },
  {
   "cell_type": "markdown",
   "id": "0a535aed",
   "metadata": {},
   "source": [
    "### HUB"
   ]
  },
  {
   "cell_type": "code",
   "execution_count": 121,
   "id": "740d6095",
   "metadata": {},
   "outputs": [],
   "source": [
    "#ServiciosAsia1 = Servicios.drop(Servicios[(Servicios['Proyecto: Área que lidera'] !=  'Gerencia inversión asia') & \n",
    " #                                    (Servicios['Proyecto: Área que lidera'] !=  'Oficina comercial China') & \n",
    "  #                                   (Servicios['Proyecto: Área que lidera'] !=  'Oficina comercial India') & \n",
    "   #                                  (Servicios['Proyecto: Área que lidera'] !=  'Oficina comercial Corea del Sur') & \n",
    "    #                                 (Servicios['Proyecto: Área que lidera'] !=  'Oficina comercial Japón') & \n",
    "     #                                (Servicios['Proyecto: Área que lidera'] !=  'Oficina comercial Indonesia')].index)\n",
    "#ServiciosAsia2 = ServiciosAsia1.drop(ServiciosAsia1[ServiciosAsia1['Proyecto: Etapa'] == 'Cierre'].index)\n",
    "#ServiciosAsia1 = ServiciosAsia1.drop(ServiciosAsia1[ServiciosAsia1['Proyecto: Etapa'] != 'Cierre'].index)\n"
   ]
  },
  {
   "cell_type": "code",
   "execution_count": 122,
   "id": "a9a7a951",
   "metadata": {},
   "outputs": [],
   "source": [
    "Servicios1 = Servicios.drop(Servicios[Servicios['Proyecto: Etapa'] == 'Cierre'].index)\n",
    "Servicios2 = Servicios.drop(Servicios[Servicios['Proyecto: Etapa'] != 'Cierre'].index)\n"
   ]
  },
  {
   "cell_type": "code",
   "execution_count": 123,
   "id": "524067ca",
   "metadata": {},
   "outputs": [],
   "source": [
    "EporCerrar = Servicios1.groupby(['Proyecto: Área que lidera'])['Proyecto: Nombre'].nunique().reset_index()\n",
    "ECerrados = Servicios2.groupby(['Proyecto: Área que lidera'])['Proyecto: Nombre'].nunique().reset_index()\n",
    "EporCerrar.rename(columns={'Proyecto: Nombre':'Eventos realizados por Cerrar'}, inplace=True)\n",
    "ECerrados.rename(columns={'Proyecto: Nombre':'Eventos liderados Cerrados'}, inplace=True)"
   ]
  },
  {
   "cell_type": "code",
   "execution_count": 124,
   "id": "c02fa47d",
   "metadata": {},
   "outputs": [],
   "source": [
    "Serv = ECerrados.merge(EporCerrar, how='outer', left_on=['Proyecto: Área que lidera'], right_on=['Proyecto: Área que lidera']).fillna(0)"
   ]
  },
  {
   "cell_type": "markdown",
   "id": "71893feb",
   "metadata": {},
   "source": [
    "# PRUEBA"
   ]
  },
  {
   "cell_type": "code",
   "execution_count": null,
   "id": "8ef45214",
   "metadata": {},
   "outputs": [],
   "source": []
  },
  {
   "cell_type": "code",
   "execution_count": null,
   "id": "4c40101b",
   "metadata": {},
   "outputs": [],
   "source": []
  },
  {
   "cell_type": "code",
   "execution_count": null,
   "id": "705e7954",
   "metadata": {},
   "outputs": [],
   "source": []
  },
  {
   "cell_type": "code",
   "execution_count": null,
   "id": "c06710fd",
   "metadata": {},
   "outputs": [],
   "source": []
  },
  {
   "cell_type": "code",
   "execution_count": null,
   "id": "4b336a52",
   "metadata": {},
   "outputs": [],
   "source": []
  },
  {
   "cell_type": "markdown",
   "id": "ce1d9648",
   "metadata": {},
   "source": [
    "# PRUEBA"
   ]
  },
  {
   "cell_type": "markdown",
   "id": "df544693",
   "metadata": {},
   "source": [
    "### Cadena"
   ]
  },
  {
   "cell_type": "code",
   "execution_count": null,
   "id": "437b4442",
   "metadata": {},
   "outputs": [],
   "source": [
    "EporCerrar_Cad = Servicios1.groupby(['Proyecto: Área que lidera'])['Proyecto: Nombre'].nunique().reset_index()\n",
    "ECerrados_Cad = Servicios2.groupby(['Proyecto: Área que lidera'])['Proyecto: Nombre'].nunique().reset_index()\n",
    "#EporCerrar_Cad.rename(columns={'Proyecto: Nombre':'Eventos realizados por Cerrar'}, inplace=True)\n",
    "#ECerrados_Cad.rename(columns={'Proyecto: Nombre':'Eventos liderados Cerrados'}, inplace=True)"
   ]
  },
  {
   "cell_type": "markdown",
   "id": "c8234add",
   "metadata": {},
   "source": [
    "##### Cadena Estandarizado\n",
    "\n",
    "Hay que ver que otros remplazos hay que hacer. Por ejemplo, sistema moda, agroalimentos (en minuscula), etc"
   ]
  },
  {
   "cell_type": "code",
   "execution_count": null,
   "id": "2b2c60de",
   "metadata": {},
   "outputs": [],
   "source": []
  },
  {
   "cell_type": "markdown",
   "id": "960dbe8a",
   "metadata": {},
   "source": [
    "### Asia"
   ]
  },
  {
   "cell_type": "code",
   "execution_count": null,
   "id": "6caf8513",
   "metadata": {},
   "outputs": [],
   "source": [
    "ServiciosAsia1 = Servicios.drop(Servicios[(Servicios['Proyecto: Área que lidera'] !=  'Gerencia inversión asia') & \n",
    "                                     (Servicios['Proyecto: Área que lidera'] !=  'Oficina comercial China') & \n",
    "                                     (Servicios['Proyecto: Área que lidera'] !=  'Oficina comercial India') & \n",
    "                                     (Servicios['Proyecto: Área que lidera'] !=  'Oficina comercial Corea del Sur') & \n",
    "                                     (Servicios['Proyecto: Área que lidera'] !=  'Oficina comercial Japón') & \n",
    "                                     (Servicios['Proyecto: Área que lidera'] !=  'Oficina comercial Indonesia')].index)\n",
    "ServiciosAsia2 = ServiciosAsia1.drop(ServiciosAsia1[ServiciosAsia1['Proyecto: Etapa'] == 'Cierre'].index)\n",
    "ServiciosAsia1 = ServiciosAsia1.drop(ServiciosAsia1[ServiciosAsia1['Proyecto: Etapa'] != 'Cierre'].index)\n"
   ]
  },
  {
   "cell_type": "code",
   "execution_count": null,
   "id": "242fe53d",
   "metadata": {},
   "outputs": [],
   "source": [
    "EporCerrarAsia = ServiciosAsia2.groupby(['Cadena_Est'])['Proyecto: Nombre'].nunique().reset_index()\n",
    "ECerradosAsia = ServiciosAsia1.groupby(['Cadena_Est'])['Proyecto: Nombre'].nunique().reset_index()\n",
    "EporCerrarAsia.rename(columns={'Proyecto: Nombre':'Eventos realizados por Cerrar'}, inplace=True)\n",
    "ECerradosAsia.rename(columns={'Proyecto: Nombre':'Eventos liderados Cerrados'}, inplace=True)\n",
    "ServAsia = ECerradosAsia.merge(EporCerrarAsia, how='outer', left_on=['Cadena_Est'],\n",
    "                               right_on=['Cadena_Est']).fillna(0)"
   ]
  },
  {
   "cell_type": "code",
   "execution_count": null,
   "id": "0c6dcce4",
   "metadata": {},
   "outputs": [],
   "source": [
    "ServAsia"
   ]
  },
  {
   "cell_type": "code",
   "execution_count": null,
   "id": "1fcac6a8",
   "metadata": {},
   "outputs": [],
   "source": [
    "list(dict.fromkeys(Servicios['Proyecto: Área que lidera']))"
   ]
  },
  {
   "cell_type": "markdown",
   "id": "3086b03a",
   "metadata": {},
   "source": [
    "### Europa"
   ]
  },
  {
   "cell_type": "code",
   "execution_count": null,
   "id": "82285070",
   "metadata": {},
   "outputs": [],
   "source": [
    "ServiciosEuropa1 = Servicios.drop(Servicios[(Servicios['Proyecto: Área que lidera'] !=  'Gerencia inversión europa') & \n",
    "                                     (Servicios['Proyecto: Área que lidera'] !=  'Oficina comercial Francia') & \n",
    "                                     (Servicios['Proyecto: Área que lidera'] !=  'Oficina comercial Reino Unido') & \n",
    "                                     (Servicios['Proyecto: Área que lidera'] !=  'Oficina comercial Alemania') &  \n",
    "                                     (Servicios['Proyecto: Área que lidera'] !=  'Oficina comercial Turquía')].index)\n",
    "ServiciosEuropa2 = ServiciosEuropa1.drop(ServiciosEuropa1[ServiciosEuropa1['Proyecto: Etapa'] == 'Cierre'].index)\n",
    "ServiciosEuropa1 = ServiciosEuropa1.drop(ServiciosEuropa1[ServiciosEuropa1['Proyecto: Etapa'] != 'Cierre'].index)\n",
    "\n",
    "EporCerrarEuropa = ServiciosEuropa2.groupby(['Cadena_Est'])['Proyecto: Nombre'].nunique().reset_index()\n",
    "ECerradosEuropa = ServiciosEuropa1.groupby(['Cadena_Est'])['Proyecto: Nombre'].nunique().reset_index()\n",
    "EporCerrarEuropa.rename(columns={'Proyecto: Nombre':'Eventos realizados por Cerrar'}, inplace=True)\n",
    "ECerradosEuropa.rename(columns={'Proyecto: Nombre':'Eventos liderados Cerrados'}, inplace=True)\n",
    "ServEuropa = ECerradosEuropa.merge(EporCerrarEuropa, how='outer', left_on=['Cadena_Est'],\n",
    "                               right_on=['Cadena_Est']).fillna(0)\n",
    "ServEuropa"
   ]
  },
  {
   "cell_type": "code",
   "execution_count": null,
   "id": "74c07643",
   "metadata": {},
   "outputs": [],
   "source": []
  },
  {
   "cell_type": "code",
   "execution_count": null,
   "id": "4217914c",
   "metadata": {},
   "outputs": [],
   "source": []
  },
  {
   "cell_type": "code",
   "execution_count": null,
   "id": "283b34aa",
   "metadata": {},
   "outputs": [],
   "source": [
    "Servicios['Proyecto: Área que lidera']"
   ]
  }
 ],
 "metadata": {
  "kernelspec": {
   "display_name": "Python 3",
   "language": "python",
   "name": "python3"
  },
  "language_info": {
   "codemirror_mode": {
    "name": "ipython",
    "version": 3
   },
   "file_extension": ".py",
   "mimetype": "text/x-python",
   "name": "python",
   "nbconvert_exporter": "python",
   "pygments_lexer": "ipython3",
   "version": "3.8.8"
  },
  "nbTranslate": {
   "displayLangs": [
    "*"
   ],
   "hotkey": "alt-t",
   "langInMainMenu": true,
   "sourceLang": "en",
   "targetLang": "fr",
   "useGoogleTranslate": true
  }
 },
 "nbformat": 4,
 "nbformat_minor": 5
}

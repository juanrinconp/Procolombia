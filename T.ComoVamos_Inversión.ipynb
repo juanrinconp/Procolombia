{
 "cells": [
  {
   "cell_type": "markdown",
   "id": "aac879d5",
   "metadata": {},
   "source": [
    "# Tablero Como vamos\n",
    "## Vicepresidencia de Planeación - Inversión"
   ]
  },
  {
   "cell_type": "code",
   "execution_count": 1,
   "id": "ef33cf0f",
   "metadata": {},
   "outputs": [],
   "source": [
    "import pandas as pd \n",
    "import numpy as np \n",
    "import matplotlib.pyplot as plt \n",
    "import matplotlib as mpl \n",
    "import six\n",
    "import os \n",
    "\n",
    "pathout = './data/'\n",
    "if not os.path.exists(pathout):\n",
    "    os.mkdir(pathout) \n",
    "    pathgraphs = './graphs/'\n",
    "    if not os.path.exists(pathgraphs): \n",
    "        os.mkdir(pathgraphs)"
   ]
  },
  {
   "cell_type": "code",
   "execution_count": 32,
   "id": "7d4025a8",
   "metadata": {},
   "outputs": [],
   "source": [
    "Metas = pd.read_excel(pathout + 'Metas.xlsx')"
   ]
  },
  {
   "cell_type": "code",
   "execution_count": 3,
   "id": "a8b48f0c",
   "metadata": {},
   "outputs": [],
   "source": [
    "Negocios = pd.read_excel(pathout + 'Negocios.xlsx')"
   ]
  },
  {
   "cell_type": "code",
   "execution_count": 4,
   "id": "82605f22",
   "metadata": {},
   "outputs": [],
   "source": [
    "Oportunidades = pd.read_excel(pathout + 'Oportunidades.xlsx')"
   ]
  },
  {
   "cell_type": "code",
   "execution_count": 5,
   "id": "ccc69bb0",
   "metadata": {},
   "outputs": [],
   "source": [
    "ENacionales = pd.read_excel(pathout + 'Empresas_nacionales.xlsx')"
   ]
  },
  {
   "cell_type": "code",
   "execution_count": 125,
   "id": "ded1abc3",
   "metadata": {},
   "outputs": [],
   "source": [
    "añoactual = 2021\n",
    "añoanterior = 2020\n",
    "trimestre = 3\n",
    "\n",
    "#Fecha en Formato aaaa/mm/dd para la base de Tableau 12a\n",
    "negociosañoactual = '2021-01-01'\n",
    "fechaactual  = '2021-11-01'\n",
    "fechaactual2  = '1/01/2021'\n",
    "fechaanterior2 = '1/01/2020'\n",
    "eneroañoanterior = '2020-01-01'\n",
    "fechaactual_añoanterior = '2020-11-01'\n",
    "diciembreañoanterior = '2020-12-31'"
   ]
  },
  {
   "cell_type": "markdown",
   "id": "9ca375c4",
   "metadata": {},
   "source": [
    "# Asesores Nacional"
   ]
  },
  {
   "cell_type": "markdown",
   "id": "766c0efc",
   "metadata": {},
   "source": [
    "## Metas"
   ]
  },
  {
   "cell_type": "code",
   "execution_count": 155,
   "id": "7dd4133a",
   "metadata": {},
   "outputs": [],
   "source": [
    "Metas1 = Metas.drop(Metas[Metas['Meta: Eje'] != 'Inversión'].index)\n",
    "Metas1 = Metas1.drop(Metas1[Metas1['Meta: Año'] !=  añoactual].index)\n",
    "#list(dict.fromkeys(Metas['Meta: Tipo de meta']))\n",
    "#Metas1 = Metas1.drop(Metas1[Metas1['Meta: Tipo de meta'] ==  'Monto de Expansión internacional'].index)\n",
    "#Metas1 = Metas1.drop(Metas1[Metas1['Meta: Tipo de meta'] ==  'Proyectos de Expansión Internacional'].index)\n",
    "#Metas2 = Metas1\n",
    "MetasQ = Metas1.drop(Metas1[Metas1['Meta: Período'] > trimestre].index)"
   ]
  },
  {
   "cell_type": "code",
   "execution_count": 156,
   "id": "c94504c5",
   "metadata": {},
   "outputs": [],
   "source": [
    "a = Metas1.groupby(['Meta: Nombre del propietario' , 'Meta: Tipo de meta' , 'E_Cadenas' ])['Meta: Valor meta'].sum().reset_index()"
   ]
  },
  {
   "cell_type": "code",
   "execution_count": 157,
   "id": "8fcc258f",
   "metadata": {},
   "outputs": [],
   "source": [
    "a2 = MetasQ.groupby(['Meta: Nombre del propietario' , 'Meta: Tipo de meta' , 'E_Cadenas' ])['Meta: Valor meta'].sum().reset_index()\n"
   ]
  },
  {
   "cell_type": "code",
   "execution_count": 158,
   "id": "12ef42dc",
   "metadata": {},
   "outputs": [],
   "source": [
    "Metasdf = a.merge(a2, how='outer', left_on=['Meta: Nombre del propietario' , 'Meta: Tipo de meta' , 'E_Cadenas'], right_on=['Meta: Nombre del propietario' , 'Meta: Tipo de meta' , 'E_Cadenas']).fillna(0)\n",
    "Metasdf.rename(columns={'Meta: Valor meta_x': 'Valor Meta', 'Meta: Valor meta_y': 'Valor Meta Q'}, inplace=True)\n"
   ]
  },
  {
   "cell_type": "markdown",
   "id": "ab510cb4",
   "metadata": {},
   "source": [
    "## Monto de Inversión"
   ]
  },
  {
   "cell_type": "code",
   "execution_count": 159,
   "id": "72ef115a",
   "metadata": {},
   "outputs": [],
   "source": [
    "Negocios1 = Negocios.drop(Negocios[Negocios['Logro: Eje'] != 'Inversión'].index)\n",
    "Negocios1 = Negocios1.drop(Negocios1[Negocios1['Meta 1 responsable Colombia: Año'] !=  añoactual].index)\n",
    "Negocios1 = Negocios1.drop(Negocios1[Negocios1['Logro: Tipo de registro'] !=  'Monto de Inversión'].index)\n",
    "\n"
   ]
  },
  {
   "cell_type": "code",
   "execution_count": 160,
   "id": "17819c3c",
   "metadata": {},
   "outputs": [],
   "source": [
    "b = Negocios1.groupby(['Logro: Responsable Colombia' , 'E_Cadenasproductivas'])['Logro: Valor'].sum().reset_index()\n",
    "b['Meta: Tipo de meta']= 'Monto de Inversión'\n",
    "b.rename(columns={ 'E_Cadenasproductivas' :'E_Cadenas' , 'Logro: Responsable Colombia': 'Meta: Nombre del propietario'}, inplace=True)\n",
    "\n",
    "TFinal = Metasdf.merge(b, how='left', left_on=['E_Cadenas' , 'Meta: Nombre del propietario' , 'Meta: Tipo de meta'], right_on=['E_Cadenas' ,'Meta: Nombre del propietario' , 'Meta: Tipo de meta']).fillna(0)\n"
   ]
  },
  {
   "cell_type": "markdown",
   "id": "740b26bc",
   "metadata": {},
   "source": [
    "## Proyectos de Inversión"
   ]
  },
  {
   "cell_type": "code",
   "execution_count": 161,
   "id": "e69bd8cc",
   "metadata": {},
   "outputs": [],
   "source": [
    "py = Negocios1.groupby(['Logro: Responsable Colombia' , 'E_Cadenasproductivas'])['E_ConteoProyectosInversión'].sum().reset_index()\n",
    "py['Meta: Tipo de meta']= 'Proyectos Inversión'\n",
    "py.rename(columns={ 'E_Cadenasproductivas' :'E_Cadenas' , 'Logro: Responsable Colombia': 'Meta: Nombre del propietario'}, inplace=True)\n",
    "\n",
    "TFinal = TFinal.merge(py, how='left', left_on=['E_Cadenas' , 'Meta: Nombre del propietario' , 'Meta: Tipo de meta'], right_on=['E_Cadenas' ,'Meta: Nombre del propietario' , 'Meta: Tipo de meta']).fillna(0)\n"
   ]
  },
  {
   "cell_type": "code",
   "execution_count": 162,
   "id": "c4546466",
   "metadata": {},
   "outputs": [],
   "source": [
    "#list(dict.fromkeys(TFinal['Meta: Nombre del propietario']))\n"
   ]
  },
  {
   "cell_type": "code",
   "execution_count": 163,
   "id": "79ce6449",
   "metadata": {},
   "outputs": [],
   "source": [
    "TFinal['Logro: Valor'] = TFinal['Logro: Valor'] + TFinal['E_ConteoProyectosInversión']\n",
    "TFinal = TFinal.drop(columns=['E_ConteoProyectosInversión'])"
   ]
  },
  {
   "cell_type": "code",
   "execution_count": 176,
   "id": "948b4b0f",
   "metadata": {},
   "outputs": [],
   "source": [
    "writer = pd.ExcelWriter('Insumos Tablero Como Vamos Inversión.xlsx')\n",
    "TFinal.to_excel(writer , 'Asesores por Cadena')\n",
    "writer.save()"
   ]
  },
  {
   "cell_type": "markdown",
   "id": "a4cee3d0",
   "metadata": {},
   "source": [
    "## Asesores Exterior"
   ]
  },
  {
   "cell_type": "markdown",
   "id": "2d325306",
   "metadata": {},
   "source": [
    "## Metas"
   ]
  },
  {
   "cell_type": "code",
   "execution_count": 164,
   "id": "6b4c5c9f",
   "metadata": {},
   "outputs": [],
   "source": [
    "a_Ext = Metas1.groupby(['Meta: Nombre del propietario' , 'Meta: Tipo de meta' , 'E_Localización_TurqenEsp' ])['Meta: Valor meta'].sum().reset_index()\n",
    "a2_Ext = MetasQ.groupby(['Meta: Nombre del propietario' , 'Meta: Tipo de meta' , 'E_Localización_TurqenEsp' ])['Meta: Valor meta'].sum().reset_index()\n",
    "\n",
    "Metasdf_Ext = a_Ext.merge(a2_Ext, how='outer', left_on=['Meta: Nombre del propietario' , 'Meta: Tipo de meta' , 'E_Localización_TurqenEsp'], right_on=['Meta: Nombre del propietario' , 'Meta: Tipo de meta' , 'E_Localización_TurqenEsp']).fillna(0)\n",
    "Metasdf_Ext.rename(columns={'Meta: Valor meta_x': 'Valor Meta', 'Meta: Valor meta_y': 'Valor Meta Q'}, inplace=True)\n"
   ]
  },
  {
   "cell_type": "markdown",
   "id": "e71ad5d4",
   "metadata": {},
   "source": [
    "## Monto de Inversión (Exterior)"
   ]
  },
  {
   "cell_type": "code",
   "execution_count": 165,
   "id": "f3d568d5",
   "metadata": {},
   "outputs": [],
   "source": [
    "Negocios1 = Negocios.drop(Negocios[Negocios['Meta 1 responsable Colombia: Año'] !=  añoactual].index)\n",
    "Negocios1 = Negocios1.drop(Negocios1[Negocios1['Logro: Tipo de registro'] !=  'Monto de Inversión'].index)\n",
    "\n",
    "b_Ext = Negocios1.groupby(['Logro: Responsable en el Exterior 1' , 'Logro: Oficina Comercial'])['Logro: Valor'].sum().reset_index()\n",
    "b_Ext['Meta: Tipo de meta']= 'Monto de Inversión'\n",
    "Metasdf_Ext.rename(columns={ 'E_Localización_TurqenEsp': 'Logro: Oficina Comercial'}, inplace=True)\n",
    "b_Ext.rename(columns={ 'Logro: Responsable en el Exterior 1': 'Meta: Nombre del propietario'}, inplace=True)\n",
    "                      \n",
    "TFinal_Ext = Metasdf_Ext.merge(b_Ext, how='left', left_on=['Logro: Oficina Comercial' , 'Meta: Nombre del propietario' , 'Meta: Tipo de meta'], right_on=['Logro: Oficina Comercial' ,'Meta: Nombre del propietario' , 'Meta: Tipo de meta']).fillna(0)"
   ]
  },
  {
   "cell_type": "code",
   "execution_count": 166,
   "id": "4357fada",
   "metadata": {},
   "outputs": [],
   "source": [
    "py_Ext = Negocios1.groupby(['Logro: Responsable en el Exterior 1' , 'Logro: Oficina Comercial'])['E_ConteoProyectosInversión'].sum().reset_index()\n",
    "py_Ext['Meta: Tipo de meta']= 'Proyectos Inversión'\n",
    "py_Ext.rename(columns={'Logro: Responsable en el Exterior 1': 'Meta: Nombre del propietario'}, inplace=True)\n",
    "\n",
    "TFinal_Ext = TFinal_Ext.merge(py_Ext, how='left', left_on=['Logro: Oficina Comercial' , 'Meta: Nombre del propietario' , 'Meta: Tipo de meta'],\n",
    "                      right_on=['Logro: Oficina Comercial' ,'Meta: Nombre del propietario' , 'Meta: Tipo de meta']).fillna(0)\n",
    "\n",
    "\n",
    "TFinal_Ext['Logro: Valor'] = TFinal_Ext['Logro: Valor'] + TFinal_Ext['E_ConteoProyectosInversión']\n",
    "TFinal_Ext = TFinal_Ext.drop(columns=['E_ConteoProyectosInversión'])"
   ]
  },
  {
   "cell_type": "code",
   "execution_count": 167,
   "id": "3c19ccbd",
   "metadata": {},
   "outputs": [
    {
     "data": {
      "text/html": [
       "<div>\n",
       "<style scoped>\n",
       "    .dataframe tbody tr th:only-of-type {\n",
       "        vertical-align: middle;\n",
       "    }\n",
       "\n",
       "    .dataframe tbody tr th {\n",
       "        vertical-align: top;\n",
       "    }\n",
       "\n",
       "    .dataframe thead th {\n",
       "        text-align: right;\n",
       "    }\n",
       "</style>\n",
       "<table border=\"1\" class=\"dataframe\">\n",
       "  <thead>\n",
       "    <tr style=\"text-align: right;\">\n",
       "      <th></th>\n",
       "      <th>Meta: Nombre del propietario</th>\n",
       "      <th>Meta: Tipo de meta</th>\n",
       "      <th>Logro: Oficina Comercial</th>\n",
       "      <th>Valor Meta</th>\n",
       "      <th>Valor Meta Q</th>\n",
       "      <th>Logro: Valor</th>\n",
       "    </tr>\n",
       "  </thead>\n",
       "  <tbody>\n",
       "    <tr>\n",
       "      <th>343</th>\n",
       "      <td>Toko Tamaki (Inv)</td>\n",
       "      <td>Monto de Inversión</td>\n",
       "      <td>Japón</td>\n",
       "      <td>190000000.0</td>\n",
       "      <td>142500000.0</td>\n",
       "      <td>108719283.0</td>\n",
       "    </tr>\n",
       "    <tr>\n",
       "      <th>344</th>\n",
       "      <td>Toko Tamaki (Inv)</td>\n",
       "      <td>Número de oportunidades de Inversión a etapa 1</td>\n",
       "      <td>Japón</td>\n",
       "      <td>22.0</td>\n",
       "      <td>13.0</td>\n",
       "      <td>0.0</td>\n",
       "    </tr>\n",
       "    <tr>\n",
       "      <th>345</th>\n",
       "      <td>Toko Tamaki (Inv)</td>\n",
       "      <td>Número de oportunidades de Inversión a etapa 2</td>\n",
       "      <td>Japón</td>\n",
       "      <td>12.0</td>\n",
       "      <td>7.0</td>\n",
       "      <td>0.0</td>\n",
       "    </tr>\n",
       "    <tr>\n",
       "      <th>346</th>\n",
       "      <td>Toko Tamaki (Inv)</td>\n",
       "      <td>Número de oportunidades de Inversión a etapa 3</td>\n",
       "      <td>Japón</td>\n",
       "      <td>6.0</td>\n",
       "      <td>4.0</td>\n",
       "      <td>0.0</td>\n",
       "    </tr>\n",
       "    <tr>\n",
       "      <th>347</th>\n",
       "      <td>Toko Tamaki (Inv)</td>\n",
       "      <td>Proyectos Inversión</td>\n",
       "      <td>Japón</td>\n",
       "      <td>5.0</td>\n",
       "      <td>3.0</td>\n",
       "      <td>4.0</td>\n",
       "    </tr>\n",
       "  </tbody>\n",
       "</table>\n",
       "</div>"
      ],
      "text/plain": [
       "    Meta: Nombre del propietario  \\\n",
       "343            Toko Tamaki (Inv)   \n",
       "344            Toko Tamaki (Inv)   \n",
       "345            Toko Tamaki (Inv)   \n",
       "346            Toko Tamaki (Inv)   \n",
       "347            Toko Tamaki (Inv)   \n",
       "\n",
       "                                 Meta: Tipo de meta Logro: Oficina Comercial  \\\n",
       "343                              Monto de Inversión                    Japón   \n",
       "344  Número de oportunidades de Inversión a etapa 1                    Japón   \n",
       "345  Número de oportunidades de Inversión a etapa 2                    Japón   \n",
       "346  Número de oportunidades de Inversión a etapa 3                    Japón   \n",
       "347                             Proyectos Inversión                    Japón   \n",
       "\n",
       "      Valor Meta  Valor Meta Q  Logro: Valor  \n",
       "343  190000000.0   142500000.0   108719283.0  \n",
       "344         22.0          13.0           0.0  \n",
       "345         12.0           7.0           0.0  \n",
       "346          6.0           4.0           0.0  \n",
       "347          5.0           3.0           4.0  "
      ]
     },
     "execution_count": 167,
     "metadata": {},
     "output_type": "execute_result"
    }
   ],
   "source": [
    "TFinal_Ext[TFinal_Ext['Meta: Nombre del propietario'] == 'Toko Tamaki (Inv)']\n"
   ]
  },
  {
   "cell_type": "code",
   "execution_count": 177,
   "id": "0bce4a60",
   "metadata": {},
   "outputs": [],
   "source": [
    "TFinal_Ext.to_excel(writer , 'Asesores por OfiCOm')\n",
    "writer.save()"
   ]
  },
  {
   "cell_type": "code",
   "execution_count": 178,
   "id": "73d10cc6",
   "metadata": {},
   "outputs": [
    {
     "data": {
      "text/html": [
       "<a href='Insumos Tablero Como Vamos Inversión.xlsx' target='_blank'>Insumos Tablero Como Vamos Inversión.xlsx</a><br>"
      ],
      "text/plain": [
       "C:\\Users\\user\\Documents\\Codigos Python\\Tablero Como Vamos\\Insumos Tablero Como Vamos Inversión.xlsx"
      ]
     },
     "execution_count": 178,
     "metadata": {},
     "output_type": "execute_result"
    }
   ],
   "source": [
    "from IPython.display import FileLink\n",
    "FileLink('Insumos Tablero Como Vamos Inversión.xlsx')"
   ]
  }
 ],
 "metadata": {
  "kernelspec": {
   "display_name": "Python 3",
   "language": "python",
   "name": "python3"
  },
  "language_info": {
   "codemirror_mode": {
    "name": "ipython",
    "version": 3
   },
   "file_extension": ".py",
   "mimetype": "text/x-python",
   "name": "python",
   "nbconvert_exporter": "python",
   "pygments_lexer": "ipython3",
   "version": "3.8.8"
  },
  "nbTranslate": {
   "displayLangs": [
    "*"
   ],
   "hotkey": "alt-t",
   "langInMainMenu": true,
   "sourceLang": "en",
   "targetLang": "fr",
   "useGoogleTranslate": true
  }
 },
 "nbformat": 4,
 "nbformat_minor": 5
}
